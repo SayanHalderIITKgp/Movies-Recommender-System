{
  "nbformat": 4,
  "nbformat_minor": 0,
  "metadata": {
    "colab": {
      "provenance": []
    },
    "kernelspec": {
      "name": "python3",
      "display_name": "Python 3"
    },
    "language_info": {
      "name": "python"
    }
  },
  "cells": [
    {
      "cell_type": "markdown",
      "source": [
        "# **Importing the Dependinces**"
      ],
      "metadata": {
        "id": "APZU3mABmMws"
      }
    },
    {
      "cell_type": "code",
      "execution_count": 1,
      "metadata": {
        "id": "KZJ_3X7Yl6zP"
      },
      "outputs": [],
      "source": [
        "import numpy as np\n",
        "import pandas as pd\n",
        "import difflib\n",
        "from sklearn.feature_extraction.text import TfidfVectorizer\n",
        "from sklearn.metrics.pairwise import cosine_similarity"
      ]
    },
    {
      "cell_type": "code",
      "source": [
        "\n",
        "\n",
        "from google.colab import files\n",
        "uploaded = files.upload()"
      ],
      "metadata": {
        "colab": {
          "base_uri": "https://localhost:8080/",
          "height": 73
        },
        "id": "B2Ir53HBmZpK",
        "outputId": "fdfd4f8d-3fa0-46a8-d875-72e4d0aad5b7"
      },
      "execution_count": 2,
      "outputs": [
        {
          "output_type": "display_data",
          "data": {
            "text/plain": [
              "<IPython.core.display.HTML object>"
            ],
            "text/html": [
              "\n",
              "     <input type=\"file\" id=\"files-e9fcf808-eecf-4c01-9d07-da2303ea9030\" name=\"files[]\" multiple disabled\n",
              "        style=\"border:none\" />\n",
              "     <output id=\"result-e9fcf808-eecf-4c01-9d07-da2303ea9030\">\n",
              "      Upload widget is only available when the cell has been executed in the\n",
              "      current browser session. Please rerun this cell to enable.\n",
              "      </output>\n",
              "      <script>// Copyright 2017 Google LLC\n",
              "//\n",
              "// Licensed under the Apache License, Version 2.0 (the \"License\");\n",
              "// you may not use this file except in compliance with the License.\n",
              "// You may obtain a copy of the License at\n",
              "//\n",
              "//      http://www.apache.org/licenses/LICENSE-2.0\n",
              "//\n",
              "// Unless required by applicable law or agreed to in writing, software\n",
              "// distributed under the License is distributed on an \"AS IS\" BASIS,\n",
              "// WITHOUT WARRANTIES OR CONDITIONS OF ANY KIND, either express or implied.\n",
              "// See the License for the specific language governing permissions and\n",
              "// limitations under the License.\n",
              "\n",
              "/**\n",
              " * @fileoverview Helpers for google.colab Python module.\n",
              " */\n",
              "(function(scope) {\n",
              "function span(text, styleAttributes = {}) {\n",
              "  const element = document.createElement('span');\n",
              "  element.textContent = text;\n",
              "  for (const key of Object.keys(styleAttributes)) {\n",
              "    element.style[key] = styleAttributes[key];\n",
              "  }\n",
              "  return element;\n",
              "}\n",
              "\n",
              "// Max number of bytes which will be uploaded at a time.\n",
              "const MAX_PAYLOAD_SIZE = 100 * 1024;\n",
              "\n",
              "function _uploadFiles(inputId, outputId) {\n",
              "  const steps = uploadFilesStep(inputId, outputId);\n",
              "  const outputElement = document.getElementById(outputId);\n",
              "  // Cache steps on the outputElement to make it available for the next call\n",
              "  // to uploadFilesContinue from Python.\n",
              "  outputElement.steps = steps;\n",
              "\n",
              "  return _uploadFilesContinue(outputId);\n",
              "}\n",
              "\n",
              "// This is roughly an async generator (not supported in the browser yet),\n",
              "// where there are multiple asynchronous steps and the Python side is going\n",
              "// to poll for completion of each step.\n",
              "// This uses a Promise to block the python side on completion of each step,\n",
              "// then passes the result of the previous step as the input to the next step.\n",
              "function _uploadFilesContinue(outputId) {\n",
              "  const outputElement = document.getElementById(outputId);\n",
              "  const steps = outputElement.steps;\n",
              "\n",
              "  const next = steps.next(outputElement.lastPromiseValue);\n",
              "  return Promise.resolve(next.value.promise).then((value) => {\n",
              "    // Cache the last promise value to make it available to the next\n",
              "    // step of the generator.\n",
              "    outputElement.lastPromiseValue = value;\n",
              "    return next.value.response;\n",
              "  });\n",
              "}\n",
              "\n",
              "/**\n",
              " * Generator function which is called between each async step of the upload\n",
              " * process.\n",
              " * @param {string} inputId Element ID of the input file picker element.\n",
              " * @param {string} outputId Element ID of the output display.\n",
              " * @return {!Iterable<!Object>} Iterable of next steps.\n",
              " */\n",
              "function* uploadFilesStep(inputId, outputId) {\n",
              "  const inputElement = document.getElementById(inputId);\n",
              "  inputElement.disabled = false;\n",
              "\n",
              "  const outputElement = document.getElementById(outputId);\n",
              "  outputElement.innerHTML = '';\n",
              "\n",
              "  const pickedPromise = new Promise((resolve) => {\n",
              "    inputElement.addEventListener('change', (e) => {\n",
              "      resolve(e.target.files);\n",
              "    });\n",
              "  });\n",
              "\n",
              "  const cancel = document.createElement('button');\n",
              "  inputElement.parentElement.appendChild(cancel);\n",
              "  cancel.textContent = 'Cancel upload';\n",
              "  const cancelPromise = new Promise((resolve) => {\n",
              "    cancel.onclick = () => {\n",
              "      resolve(null);\n",
              "    };\n",
              "  });\n",
              "\n",
              "  // Wait for the user to pick the files.\n",
              "  const files = yield {\n",
              "    promise: Promise.race([pickedPromise, cancelPromise]),\n",
              "    response: {\n",
              "      action: 'starting',\n",
              "    }\n",
              "  };\n",
              "\n",
              "  cancel.remove();\n",
              "\n",
              "  // Disable the input element since further picks are not allowed.\n",
              "  inputElement.disabled = true;\n",
              "\n",
              "  if (!files) {\n",
              "    return {\n",
              "      response: {\n",
              "        action: 'complete',\n",
              "      }\n",
              "    };\n",
              "  }\n",
              "\n",
              "  for (const file of files) {\n",
              "    const li = document.createElement('li');\n",
              "    li.append(span(file.name, {fontWeight: 'bold'}));\n",
              "    li.append(span(\n",
              "        `(${file.type || 'n/a'}) - ${file.size} bytes, ` +\n",
              "        `last modified: ${\n",
              "            file.lastModifiedDate ? file.lastModifiedDate.toLocaleDateString() :\n",
              "                                    'n/a'} - `));\n",
              "    const percent = span('0% done');\n",
              "    li.appendChild(percent);\n",
              "\n",
              "    outputElement.appendChild(li);\n",
              "\n",
              "    const fileDataPromise = new Promise((resolve) => {\n",
              "      const reader = new FileReader();\n",
              "      reader.onload = (e) => {\n",
              "        resolve(e.target.result);\n",
              "      };\n",
              "      reader.readAsArrayBuffer(file);\n",
              "    });\n",
              "    // Wait for the data to be ready.\n",
              "    let fileData = yield {\n",
              "      promise: fileDataPromise,\n",
              "      response: {\n",
              "        action: 'continue',\n",
              "      }\n",
              "    };\n",
              "\n",
              "    // Use a chunked sending to avoid message size limits. See b/62115660.\n",
              "    let position = 0;\n",
              "    do {\n",
              "      const length = Math.min(fileData.byteLength - position, MAX_PAYLOAD_SIZE);\n",
              "      const chunk = new Uint8Array(fileData, position, length);\n",
              "      position += length;\n",
              "\n",
              "      const base64 = btoa(String.fromCharCode.apply(null, chunk));\n",
              "      yield {\n",
              "        response: {\n",
              "          action: 'append',\n",
              "          file: file.name,\n",
              "          data: base64,\n",
              "        },\n",
              "      };\n",
              "\n",
              "      let percentDone = fileData.byteLength === 0 ?\n",
              "          100 :\n",
              "          Math.round((position / fileData.byteLength) * 100);\n",
              "      percent.textContent = `${percentDone}% done`;\n",
              "\n",
              "    } while (position < fileData.byteLength);\n",
              "  }\n",
              "\n",
              "  // All done.\n",
              "  yield {\n",
              "    response: {\n",
              "      action: 'complete',\n",
              "    }\n",
              "  };\n",
              "}\n",
              "\n",
              "scope.google = scope.google || {};\n",
              "scope.google.colab = scope.google.colab || {};\n",
              "scope.google.colab._files = {\n",
              "  _uploadFiles,\n",
              "  _uploadFilesContinue,\n",
              "};\n",
              "})(self);\n",
              "</script> "
            ]
          },
          "metadata": {}
        },
        {
          "output_type": "stream",
          "name": "stdout",
          "text": [
            "Saving movies.csv to movies.csv\n"
          ]
        }
      ]
    },
    {
      "cell_type": "code",
      "execution_count": 3,
      "metadata": {
        "id": "jMgHaHx26aTZ"
      },
      "outputs": [],
      "source": [
        "#dataset is now stored in a Pandas Dataframe\n",
        "import io\n",
        "movie_data=pd.read_csv(io.BytesIO(uploaded['movies.csv']))"
      ]
    },
    {
      "cell_type": "code",
      "execution_count": 4,
      "metadata": {
        "colab": {
          "base_uri": "https://localhost:8080/",
          "height": 1000
        },
        "id": "Vi-1_F085cDq",
        "outputId": "49606f35-e568-4857-aed3-ed3ab68de792"
      },
      "outputs": [
        {
          "output_type": "execute_result",
          "data": {
            "text/plain": [
              "      index     budget                                    genres  \\\n",
              "0         0  237000000  Action Adventure Fantasy Science Fiction   \n",
              "1         1  300000000                  Adventure Fantasy Action   \n",
              "2         2  245000000                    Action Adventure Crime   \n",
              "3         3  250000000               Action Crime Drama Thriller   \n",
              "4         4  260000000          Action Adventure Science Fiction   \n",
              "...     ...        ...                                       ...   \n",
              "4798   4798     220000                     Action Crime Thriller   \n",
              "4799   4799       9000                            Comedy Romance   \n",
              "4800   4800          0             Comedy Drama Romance TV Movie   \n",
              "4801   4801          0                                       NaN   \n",
              "4802   4802          0                               Documentary   \n",
              "\n",
              "                                               homepage      id  \\\n",
              "0                           http://www.avatarmovie.com/   19995   \n",
              "1          http://disney.go.com/disneypictures/pirates/     285   \n",
              "2           http://www.sonypictures.com/movies/spectre/  206647   \n",
              "3                    http://www.thedarkknightrises.com/   49026   \n",
              "4                  http://movies.disney.com/john-carter   49529   \n",
              "...                                                 ...     ...   \n",
              "4798                                                NaN    9367   \n",
              "4799                                                NaN   72766   \n",
              "4800  http://www.hallmarkchannel.com/signedsealeddel...  231617   \n",
              "4801                        http://shanghaicalling.com/  126186   \n",
              "4802                                                NaN   25975   \n",
              "\n",
              "                                               keywords original_language  \\\n",
              "0     culture clash future space war space colony so...                en   \n",
              "1     ocean drug abuse exotic island east india trad...                en   \n",
              "2            spy based on novel secret agent sequel mi6                en   \n",
              "3     dc comics crime fighter terrorist secret ident...                en   \n",
              "4     based on novel mars medallion space travel pri...                en   \n",
              "...                                                 ...               ...   \n",
              "4798  united states\\u2013mexico barrier legs arms pa...                es   \n",
              "4799                                                NaN                en   \n",
              "4800  date love at first sight narration investigati...                en   \n",
              "4801                                                NaN                en   \n",
              "4802               obsession camcorder crush dream girl                en   \n",
              "\n",
              "                                original_title  \\\n",
              "0                                       Avatar   \n",
              "1     Pirates of the Caribbean: At World's End   \n",
              "2                                      Spectre   \n",
              "3                        The Dark Knight Rises   \n",
              "4                                  John Carter   \n",
              "...                                        ...   \n",
              "4798                               El Mariachi   \n",
              "4799                                 Newlyweds   \n",
              "4800                 Signed, Sealed, Delivered   \n",
              "4801                          Shanghai Calling   \n",
              "4802                         My Date with Drew   \n",
              "\n",
              "                                               overview  popularity  ...  \\\n",
              "0     In the 22nd century, a paraplegic Marine is di...  150.437577  ...   \n",
              "1     Captain Barbossa, long believed to be dead, ha...  139.082615  ...   \n",
              "2     A cryptic message from Bond’s past sends him o...  107.376788  ...   \n",
              "3     Following the death of District Attorney Harve...  112.312950  ...   \n",
              "4     John Carter is a war-weary, former military ca...   43.926995  ...   \n",
              "...                                                 ...         ...  ...   \n",
              "4798  El Mariachi just wants to play his guitar and ...   14.269792  ...   \n",
              "4799  A newlywed couple's honeymoon is upended by th...    0.642552  ...   \n",
              "4800  \"Signed, Sealed, Delivered\" introduces a dedic...    1.444476  ...   \n",
              "4801  When ambitious New York attorney Sam is sent t...    0.857008  ...   \n",
              "4802  Ever since the second grade when he first saw ...    1.929883  ...   \n",
              "\n",
              "     runtime                                   spoken_languages    status  \\\n",
              "0      162.0  [{\"iso_639_1\": \"en\", \"name\": \"English\"}, {\"iso...  Released   \n",
              "1      169.0           [{\"iso_639_1\": \"en\", \"name\": \"English\"}]  Released   \n",
              "2      148.0  [{\"iso_639_1\": \"fr\", \"name\": \"Fran\\u00e7ais\"},...  Released   \n",
              "3      165.0           [{\"iso_639_1\": \"en\", \"name\": \"English\"}]  Released   \n",
              "4      132.0           [{\"iso_639_1\": \"en\", \"name\": \"English\"}]  Released   \n",
              "...      ...                                                ...       ...   \n",
              "4798    81.0      [{\"iso_639_1\": \"es\", \"name\": \"Espa\\u00f1ol\"}]  Released   \n",
              "4799    85.0                                                 []  Released   \n",
              "4800   120.0           [{\"iso_639_1\": \"en\", \"name\": \"English\"}]  Released   \n",
              "4801    98.0           [{\"iso_639_1\": \"en\", \"name\": \"English\"}]  Released   \n",
              "4802    90.0           [{\"iso_639_1\": \"en\", \"name\": \"English\"}]  Released   \n",
              "\n",
              "                                                tagline  \\\n",
              "0                           Enter the World of Pandora.   \n",
              "1        At the end of the world, the adventure begins.   \n",
              "2                                 A Plan No One Escapes   \n",
              "3                                       The Legend Ends   \n",
              "4                  Lost in our world, found in another.   \n",
              "...                                                 ...   \n",
              "4798  He didn't come looking for trouble, but troubl...   \n",
              "4799  A newlywed couple's honeymoon is upended by th...   \n",
              "4800                                                NaN   \n",
              "4801                           A New Yorker in Shanghai   \n",
              "4802                                                NaN   \n",
              "\n",
              "                                         title vote_average vote_count  \\\n",
              "0                                       Avatar          7.2      11800   \n",
              "1     Pirates of the Caribbean: At World's End          6.9       4500   \n",
              "2                                      Spectre          6.3       4466   \n",
              "3                        The Dark Knight Rises          7.6       9106   \n",
              "4                                  John Carter          6.1       2124   \n",
              "...                                        ...          ...        ...   \n",
              "4798                               El Mariachi          6.6        238   \n",
              "4799                                 Newlyweds          5.9          5   \n",
              "4800                 Signed, Sealed, Delivered          7.0          6   \n",
              "4801                          Shanghai Calling          5.7          7   \n",
              "4802                         My Date with Drew          6.3         16   \n",
              "\n",
              "                                                   cast  \\\n",
              "0     Sam Worthington Zoe Saldana Sigourney Weaver S...   \n",
              "1     Johnny Depp Orlando Bloom Keira Knightley Stel...   \n",
              "2     Daniel Craig Christoph Waltz L\\u00e9a Seydoux ...   \n",
              "3     Christian Bale Michael Caine Gary Oldman Anne ...   \n",
              "4     Taylor Kitsch Lynn Collins Samantha Morton Wil...   \n",
              "...                                                 ...   \n",
              "4798  Carlos Gallardo Jaime de Hoyos Peter Marquardt...   \n",
              "4799  Edward Burns Kerry Bish\\u00e9 Marsha Dietlein ...   \n",
              "4800  Eric Mabius Kristin Booth Crystal Lowe Geoff G...   \n",
              "4801  Daniel Henney Eliza Coupe Bill Paxton Alan Ruc...   \n",
              "4802  Drew Barrymore Brian Herzlinger Corey Feldman ...   \n",
              "\n",
              "                                                   crew           director  \n",
              "0     [{'name': 'Stephen E. Rivkin', 'gender': 0, 'd...      James Cameron  \n",
              "1     [{'name': 'Dariusz Wolski', 'gender': 2, 'depa...     Gore Verbinski  \n",
              "2     [{'name': 'Thomas Newman', 'gender': 2, 'depar...         Sam Mendes  \n",
              "3     [{'name': 'Hans Zimmer', 'gender': 2, 'departm...  Christopher Nolan  \n",
              "4     [{'name': 'Andrew Stanton', 'gender': 2, 'depa...     Andrew Stanton  \n",
              "...                                                 ...                ...  \n",
              "4798  [{'name': 'Robert Rodriguez', 'gender': 0, 'de...   Robert Rodriguez  \n",
              "4799  [{'name': 'Edward Burns', 'gender': 2, 'depart...       Edward Burns  \n",
              "4800  [{'name': 'Carla Hetland', 'gender': 0, 'depar...        Scott Smith  \n",
              "4801  [{'name': 'Daniel Hsia', 'gender': 2, 'departm...        Daniel Hsia  \n",
              "4802  [{'name': 'Clark Peterson', 'gender': 2, 'depa...   Brian Herzlinger  \n",
              "\n",
              "[4803 rows x 24 columns]"
            ],
            "text/html": [
              "\n",
              "  <div id=\"df-c506d404-e462-45f0-a0f5-adf971fecfb5\">\n",
              "    <div class=\"colab-df-container\">\n",
              "      <div>\n",
              "<style scoped>\n",
              "    .dataframe tbody tr th:only-of-type {\n",
              "        vertical-align: middle;\n",
              "    }\n",
              "\n",
              "    .dataframe tbody tr th {\n",
              "        vertical-align: top;\n",
              "    }\n",
              "\n",
              "    .dataframe thead th {\n",
              "        text-align: right;\n",
              "    }\n",
              "</style>\n",
              "<table border=\"1\" class=\"dataframe\">\n",
              "  <thead>\n",
              "    <tr style=\"text-align: right;\">\n",
              "      <th></th>\n",
              "      <th>index</th>\n",
              "      <th>budget</th>\n",
              "      <th>genres</th>\n",
              "      <th>homepage</th>\n",
              "      <th>id</th>\n",
              "      <th>keywords</th>\n",
              "      <th>original_language</th>\n",
              "      <th>original_title</th>\n",
              "      <th>overview</th>\n",
              "      <th>popularity</th>\n",
              "      <th>...</th>\n",
              "      <th>runtime</th>\n",
              "      <th>spoken_languages</th>\n",
              "      <th>status</th>\n",
              "      <th>tagline</th>\n",
              "      <th>title</th>\n",
              "      <th>vote_average</th>\n",
              "      <th>vote_count</th>\n",
              "      <th>cast</th>\n",
              "      <th>crew</th>\n",
              "      <th>director</th>\n",
              "    </tr>\n",
              "  </thead>\n",
              "  <tbody>\n",
              "    <tr>\n",
              "      <th>0</th>\n",
              "      <td>0</td>\n",
              "      <td>237000000</td>\n",
              "      <td>Action Adventure Fantasy Science Fiction</td>\n",
              "      <td>http://www.avatarmovie.com/</td>\n",
              "      <td>19995</td>\n",
              "      <td>culture clash future space war space colony so...</td>\n",
              "      <td>en</td>\n",
              "      <td>Avatar</td>\n",
              "      <td>In the 22nd century, a paraplegic Marine is di...</td>\n",
              "      <td>150.437577</td>\n",
              "      <td>...</td>\n",
              "      <td>162.0</td>\n",
              "      <td>[{\"iso_639_1\": \"en\", \"name\": \"English\"}, {\"iso...</td>\n",
              "      <td>Released</td>\n",
              "      <td>Enter the World of Pandora.</td>\n",
              "      <td>Avatar</td>\n",
              "      <td>7.2</td>\n",
              "      <td>11800</td>\n",
              "      <td>Sam Worthington Zoe Saldana Sigourney Weaver S...</td>\n",
              "      <td>[{'name': 'Stephen E. Rivkin', 'gender': 0, 'd...</td>\n",
              "      <td>James Cameron</td>\n",
              "    </tr>\n",
              "    <tr>\n",
              "      <th>1</th>\n",
              "      <td>1</td>\n",
              "      <td>300000000</td>\n",
              "      <td>Adventure Fantasy Action</td>\n",
              "      <td>http://disney.go.com/disneypictures/pirates/</td>\n",
              "      <td>285</td>\n",
              "      <td>ocean drug abuse exotic island east india trad...</td>\n",
              "      <td>en</td>\n",
              "      <td>Pirates of the Caribbean: At World's End</td>\n",
              "      <td>Captain Barbossa, long believed to be dead, ha...</td>\n",
              "      <td>139.082615</td>\n",
              "      <td>...</td>\n",
              "      <td>169.0</td>\n",
              "      <td>[{\"iso_639_1\": \"en\", \"name\": \"English\"}]</td>\n",
              "      <td>Released</td>\n",
              "      <td>At the end of the world, the adventure begins.</td>\n",
              "      <td>Pirates of the Caribbean: At World's End</td>\n",
              "      <td>6.9</td>\n",
              "      <td>4500</td>\n",
              "      <td>Johnny Depp Orlando Bloom Keira Knightley Stel...</td>\n",
              "      <td>[{'name': 'Dariusz Wolski', 'gender': 2, 'depa...</td>\n",
              "      <td>Gore Verbinski</td>\n",
              "    </tr>\n",
              "    <tr>\n",
              "      <th>2</th>\n",
              "      <td>2</td>\n",
              "      <td>245000000</td>\n",
              "      <td>Action Adventure Crime</td>\n",
              "      <td>http://www.sonypictures.com/movies/spectre/</td>\n",
              "      <td>206647</td>\n",
              "      <td>spy based on novel secret agent sequel mi6</td>\n",
              "      <td>en</td>\n",
              "      <td>Spectre</td>\n",
              "      <td>A cryptic message from Bond’s past sends him o...</td>\n",
              "      <td>107.376788</td>\n",
              "      <td>...</td>\n",
              "      <td>148.0</td>\n",
              "      <td>[{\"iso_639_1\": \"fr\", \"name\": \"Fran\\u00e7ais\"},...</td>\n",
              "      <td>Released</td>\n",
              "      <td>A Plan No One Escapes</td>\n",
              "      <td>Spectre</td>\n",
              "      <td>6.3</td>\n",
              "      <td>4466</td>\n",
              "      <td>Daniel Craig Christoph Waltz L\\u00e9a Seydoux ...</td>\n",
              "      <td>[{'name': 'Thomas Newman', 'gender': 2, 'depar...</td>\n",
              "      <td>Sam Mendes</td>\n",
              "    </tr>\n",
              "    <tr>\n",
              "      <th>3</th>\n",
              "      <td>3</td>\n",
              "      <td>250000000</td>\n",
              "      <td>Action Crime Drama Thriller</td>\n",
              "      <td>http://www.thedarkknightrises.com/</td>\n",
              "      <td>49026</td>\n",
              "      <td>dc comics crime fighter terrorist secret ident...</td>\n",
              "      <td>en</td>\n",
              "      <td>The Dark Knight Rises</td>\n",
              "      <td>Following the death of District Attorney Harve...</td>\n",
              "      <td>112.312950</td>\n",
              "      <td>...</td>\n",
              "      <td>165.0</td>\n",
              "      <td>[{\"iso_639_1\": \"en\", \"name\": \"English\"}]</td>\n",
              "      <td>Released</td>\n",
              "      <td>The Legend Ends</td>\n",
              "      <td>The Dark Knight Rises</td>\n",
              "      <td>7.6</td>\n",
              "      <td>9106</td>\n",
              "      <td>Christian Bale Michael Caine Gary Oldman Anne ...</td>\n",
              "      <td>[{'name': 'Hans Zimmer', 'gender': 2, 'departm...</td>\n",
              "      <td>Christopher Nolan</td>\n",
              "    </tr>\n",
              "    <tr>\n",
              "      <th>4</th>\n",
              "      <td>4</td>\n",
              "      <td>260000000</td>\n",
              "      <td>Action Adventure Science Fiction</td>\n",
              "      <td>http://movies.disney.com/john-carter</td>\n",
              "      <td>49529</td>\n",
              "      <td>based on novel mars medallion space travel pri...</td>\n",
              "      <td>en</td>\n",
              "      <td>John Carter</td>\n",
              "      <td>John Carter is a war-weary, former military ca...</td>\n",
              "      <td>43.926995</td>\n",
              "      <td>...</td>\n",
              "      <td>132.0</td>\n",
              "      <td>[{\"iso_639_1\": \"en\", \"name\": \"English\"}]</td>\n",
              "      <td>Released</td>\n",
              "      <td>Lost in our world, found in another.</td>\n",
              "      <td>John Carter</td>\n",
              "      <td>6.1</td>\n",
              "      <td>2124</td>\n",
              "      <td>Taylor Kitsch Lynn Collins Samantha Morton Wil...</td>\n",
              "      <td>[{'name': 'Andrew Stanton', 'gender': 2, 'depa...</td>\n",
              "      <td>Andrew Stanton</td>\n",
              "    </tr>\n",
              "    <tr>\n",
              "      <th>...</th>\n",
              "      <td>...</td>\n",
              "      <td>...</td>\n",
              "      <td>...</td>\n",
              "      <td>...</td>\n",
              "      <td>...</td>\n",
              "      <td>...</td>\n",
              "      <td>...</td>\n",
              "      <td>...</td>\n",
              "      <td>...</td>\n",
              "      <td>...</td>\n",
              "      <td>...</td>\n",
              "      <td>...</td>\n",
              "      <td>...</td>\n",
              "      <td>...</td>\n",
              "      <td>...</td>\n",
              "      <td>...</td>\n",
              "      <td>...</td>\n",
              "      <td>...</td>\n",
              "      <td>...</td>\n",
              "      <td>...</td>\n",
              "      <td>...</td>\n",
              "    </tr>\n",
              "    <tr>\n",
              "      <th>4798</th>\n",
              "      <td>4798</td>\n",
              "      <td>220000</td>\n",
              "      <td>Action Crime Thriller</td>\n",
              "      <td>NaN</td>\n",
              "      <td>9367</td>\n",
              "      <td>united states\\u2013mexico barrier legs arms pa...</td>\n",
              "      <td>es</td>\n",
              "      <td>El Mariachi</td>\n",
              "      <td>El Mariachi just wants to play his guitar and ...</td>\n",
              "      <td>14.269792</td>\n",
              "      <td>...</td>\n",
              "      <td>81.0</td>\n",
              "      <td>[{\"iso_639_1\": \"es\", \"name\": \"Espa\\u00f1ol\"}]</td>\n",
              "      <td>Released</td>\n",
              "      <td>He didn't come looking for trouble, but troubl...</td>\n",
              "      <td>El Mariachi</td>\n",
              "      <td>6.6</td>\n",
              "      <td>238</td>\n",
              "      <td>Carlos Gallardo Jaime de Hoyos Peter Marquardt...</td>\n",
              "      <td>[{'name': 'Robert Rodriguez', 'gender': 0, 'de...</td>\n",
              "      <td>Robert Rodriguez</td>\n",
              "    </tr>\n",
              "    <tr>\n",
              "      <th>4799</th>\n",
              "      <td>4799</td>\n",
              "      <td>9000</td>\n",
              "      <td>Comedy Romance</td>\n",
              "      <td>NaN</td>\n",
              "      <td>72766</td>\n",
              "      <td>NaN</td>\n",
              "      <td>en</td>\n",
              "      <td>Newlyweds</td>\n",
              "      <td>A newlywed couple's honeymoon is upended by th...</td>\n",
              "      <td>0.642552</td>\n",
              "      <td>...</td>\n",
              "      <td>85.0</td>\n",
              "      <td>[]</td>\n",
              "      <td>Released</td>\n",
              "      <td>A newlywed couple's honeymoon is upended by th...</td>\n",
              "      <td>Newlyweds</td>\n",
              "      <td>5.9</td>\n",
              "      <td>5</td>\n",
              "      <td>Edward Burns Kerry Bish\\u00e9 Marsha Dietlein ...</td>\n",
              "      <td>[{'name': 'Edward Burns', 'gender': 2, 'depart...</td>\n",
              "      <td>Edward Burns</td>\n",
              "    </tr>\n",
              "    <tr>\n",
              "      <th>4800</th>\n",
              "      <td>4800</td>\n",
              "      <td>0</td>\n",
              "      <td>Comedy Drama Romance TV Movie</td>\n",
              "      <td>http://www.hallmarkchannel.com/signedsealeddel...</td>\n",
              "      <td>231617</td>\n",
              "      <td>date love at first sight narration investigati...</td>\n",
              "      <td>en</td>\n",
              "      <td>Signed, Sealed, Delivered</td>\n",
              "      <td>\"Signed, Sealed, Delivered\" introduces a dedic...</td>\n",
              "      <td>1.444476</td>\n",
              "      <td>...</td>\n",
              "      <td>120.0</td>\n",
              "      <td>[{\"iso_639_1\": \"en\", \"name\": \"English\"}]</td>\n",
              "      <td>Released</td>\n",
              "      <td>NaN</td>\n",
              "      <td>Signed, Sealed, Delivered</td>\n",
              "      <td>7.0</td>\n",
              "      <td>6</td>\n",
              "      <td>Eric Mabius Kristin Booth Crystal Lowe Geoff G...</td>\n",
              "      <td>[{'name': 'Carla Hetland', 'gender': 0, 'depar...</td>\n",
              "      <td>Scott Smith</td>\n",
              "    </tr>\n",
              "    <tr>\n",
              "      <th>4801</th>\n",
              "      <td>4801</td>\n",
              "      <td>0</td>\n",
              "      <td>NaN</td>\n",
              "      <td>http://shanghaicalling.com/</td>\n",
              "      <td>126186</td>\n",
              "      <td>NaN</td>\n",
              "      <td>en</td>\n",
              "      <td>Shanghai Calling</td>\n",
              "      <td>When ambitious New York attorney Sam is sent t...</td>\n",
              "      <td>0.857008</td>\n",
              "      <td>...</td>\n",
              "      <td>98.0</td>\n",
              "      <td>[{\"iso_639_1\": \"en\", \"name\": \"English\"}]</td>\n",
              "      <td>Released</td>\n",
              "      <td>A New Yorker in Shanghai</td>\n",
              "      <td>Shanghai Calling</td>\n",
              "      <td>5.7</td>\n",
              "      <td>7</td>\n",
              "      <td>Daniel Henney Eliza Coupe Bill Paxton Alan Ruc...</td>\n",
              "      <td>[{'name': 'Daniel Hsia', 'gender': 2, 'departm...</td>\n",
              "      <td>Daniel Hsia</td>\n",
              "    </tr>\n",
              "    <tr>\n",
              "      <th>4802</th>\n",
              "      <td>4802</td>\n",
              "      <td>0</td>\n",
              "      <td>Documentary</td>\n",
              "      <td>NaN</td>\n",
              "      <td>25975</td>\n",
              "      <td>obsession camcorder crush dream girl</td>\n",
              "      <td>en</td>\n",
              "      <td>My Date with Drew</td>\n",
              "      <td>Ever since the second grade when he first saw ...</td>\n",
              "      <td>1.929883</td>\n",
              "      <td>...</td>\n",
              "      <td>90.0</td>\n",
              "      <td>[{\"iso_639_1\": \"en\", \"name\": \"English\"}]</td>\n",
              "      <td>Released</td>\n",
              "      <td>NaN</td>\n",
              "      <td>My Date with Drew</td>\n",
              "      <td>6.3</td>\n",
              "      <td>16</td>\n",
              "      <td>Drew Barrymore Brian Herzlinger Corey Feldman ...</td>\n",
              "      <td>[{'name': 'Clark Peterson', 'gender': 2, 'depa...</td>\n",
              "      <td>Brian Herzlinger</td>\n",
              "    </tr>\n",
              "  </tbody>\n",
              "</table>\n",
              "<p>4803 rows × 24 columns</p>\n",
              "</div>\n",
              "      <button class=\"colab-df-convert\" onclick=\"convertToInteractive('df-c506d404-e462-45f0-a0f5-adf971fecfb5')\"\n",
              "              title=\"Convert this dataframe to an interactive table.\"\n",
              "              style=\"display:none;\">\n",
              "        \n",
              "  <svg xmlns=\"http://www.w3.org/2000/svg\" height=\"24px\"viewBox=\"0 0 24 24\"\n",
              "       width=\"24px\">\n",
              "    <path d=\"M0 0h24v24H0V0z\" fill=\"none\"/>\n",
              "    <path d=\"M18.56 5.44l.94 2.06.94-2.06 2.06-.94-2.06-.94-.94-2.06-.94 2.06-2.06.94zm-11 1L8.5 8.5l.94-2.06 2.06-.94-2.06-.94L8.5 2.5l-.94 2.06-2.06.94zm10 10l.94 2.06.94-2.06 2.06-.94-2.06-.94-.94-2.06-.94 2.06-2.06.94z\"/><path d=\"M17.41 7.96l-1.37-1.37c-.4-.4-.92-.59-1.43-.59-.52 0-1.04.2-1.43.59L10.3 9.45l-7.72 7.72c-.78.78-.78 2.05 0 2.83L4 21.41c.39.39.9.59 1.41.59.51 0 1.02-.2 1.41-.59l7.78-7.78 2.81-2.81c.8-.78.8-2.07 0-2.86zM5.41 20L4 18.59l7.72-7.72 1.47 1.35L5.41 20z\"/>\n",
              "  </svg>\n",
              "      </button>\n",
              "      \n",
              "  <style>\n",
              "    .colab-df-container {\n",
              "      display:flex;\n",
              "      flex-wrap:wrap;\n",
              "      gap: 12px;\n",
              "    }\n",
              "\n",
              "    .colab-df-convert {\n",
              "      background-color: #E8F0FE;\n",
              "      border: none;\n",
              "      border-radius: 50%;\n",
              "      cursor: pointer;\n",
              "      display: none;\n",
              "      fill: #1967D2;\n",
              "      height: 32px;\n",
              "      padding: 0 0 0 0;\n",
              "      width: 32px;\n",
              "    }\n",
              "\n",
              "    .colab-df-convert:hover {\n",
              "      background-color: #E2EBFA;\n",
              "      box-shadow: 0px 1px 2px rgba(60, 64, 67, 0.3), 0px 1px 3px 1px rgba(60, 64, 67, 0.15);\n",
              "      fill: #174EA6;\n",
              "    }\n",
              "\n",
              "    [theme=dark] .colab-df-convert {\n",
              "      background-color: #3B4455;\n",
              "      fill: #D2E3FC;\n",
              "    }\n",
              "\n",
              "    [theme=dark] .colab-df-convert:hover {\n",
              "      background-color: #434B5C;\n",
              "      box-shadow: 0px 1px 3px 1px rgba(0, 0, 0, 0.15);\n",
              "      filter: drop-shadow(0px 1px 2px rgba(0, 0, 0, 0.3));\n",
              "      fill: #FFFFFF;\n",
              "    }\n",
              "  </style>\n",
              "\n",
              "      <script>\n",
              "        const buttonEl =\n",
              "          document.querySelector('#df-c506d404-e462-45f0-a0f5-adf971fecfb5 button.colab-df-convert');\n",
              "        buttonEl.style.display =\n",
              "          google.colab.kernel.accessAllowed ? 'block' : 'none';\n",
              "\n",
              "        async function convertToInteractive(key) {\n",
              "          const element = document.querySelector('#df-c506d404-e462-45f0-a0f5-adf971fecfb5');\n",
              "          const dataTable =\n",
              "            await google.colab.kernel.invokeFunction('convertToInteractive',\n",
              "                                                     [key], {});\n",
              "          if (!dataTable) return;\n",
              "\n",
              "          const docLinkHtml = 'Like what you see? Visit the ' +\n",
              "            '<a target=\"_blank\" href=https://colab.research.google.com/notebooks/data_table.ipynb>data table notebook</a>'\n",
              "            + ' to learn more about interactive tables.';\n",
              "          element.innerHTML = '';\n",
              "          dataTable['output_type'] = 'display_data';\n",
              "          await google.colab.output.renderOutput(dataTable, element);\n",
              "          const docLink = document.createElement('div');\n",
              "          docLink.innerHTML = docLinkHtml;\n",
              "          element.appendChild(docLink);\n",
              "        }\n",
              "      </script>\n",
              "    </div>\n",
              "  </div>\n",
              "  "
            ]
          },
          "metadata": {},
          "execution_count": 4
        }
      ],
      "source": [
        "#printing the data set\n",
        "movie_data"
      ]
    },
    {
      "cell_type": "code",
      "execution_count": 5,
      "metadata": {
        "colab": {
          "base_uri": "https://localhost:8080/",
          "height": 786
        },
        "id": "8iWIXCot8DaX",
        "outputId": "b019ace0-953b-4f48-de2e-c7095c304bc3"
      },
      "outputs": [
        {
          "output_type": "execute_result",
          "data": {
            "text/plain": [
              "   index     budget                                    genres  \\\n",
              "0      0  237000000  Action Adventure Fantasy Science Fiction   \n",
              "1      1  300000000                  Adventure Fantasy Action   \n",
              "2      2  245000000                    Action Adventure Crime   \n",
              "3      3  250000000               Action Crime Drama Thriller   \n",
              "4      4  260000000          Action Adventure Science Fiction   \n",
              "\n",
              "                                       homepage      id  \\\n",
              "0                   http://www.avatarmovie.com/   19995   \n",
              "1  http://disney.go.com/disneypictures/pirates/     285   \n",
              "2   http://www.sonypictures.com/movies/spectre/  206647   \n",
              "3            http://www.thedarkknightrises.com/   49026   \n",
              "4          http://movies.disney.com/john-carter   49529   \n",
              "\n",
              "                                            keywords original_language  \\\n",
              "0  culture clash future space war space colony so...                en   \n",
              "1  ocean drug abuse exotic island east india trad...                en   \n",
              "2         spy based on novel secret agent sequel mi6                en   \n",
              "3  dc comics crime fighter terrorist secret ident...                en   \n",
              "4  based on novel mars medallion space travel pri...                en   \n",
              "\n",
              "                             original_title  \\\n",
              "0                                    Avatar   \n",
              "1  Pirates of the Caribbean: At World's End   \n",
              "2                                   Spectre   \n",
              "3                     The Dark Knight Rises   \n",
              "4                               John Carter   \n",
              "\n",
              "                                            overview  popularity  ... runtime  \\\n",
              "0  In the 22nd century, a paraplegic Marine is di...  150.437577  ...   162.0   \n",
              "1  Captain Barbossa, long believed to be dead, ha...  139.082615  ...   169.0   \n",
              "2  A cryptic message from Bond’s past sends him o...  107.376788  ...   148.0   \n",
              "3  Following the death of District Attorney Harve...  112.312950  ...   165.0   \n",
              "4  John Carter is a war-weary, former military ca...   43.926995  ...   132.0   \n",
              "\n",
              "                                    spoken_languages    status  \\\n",
              "0  [{\"iso_639_1\": \"en\", \"name\": \"English\"}, {\"iso...  Released   \n",
              "1           [{\"iso_639_1\": \"en\", \"name\": \"English\"}]  Released   \n",
              "2  [{\"iso_639_1\": \"fr\", \"name\": \"Fran\\u00e7ais\"},...  Released   \n",
              "3           [{\"iso_639_1\": \"en\", \"name\": \"English\"}]  Released   \n",
              "4           [{\"iso_639_1\": \"en\", \"name\": \"English\"}]  Released   \n",
              "\n",
              "                                          tagline  \\\n",
              "0                     Enter the World of Pandora.   \n",
              "1  At the end of the world, the adventure begins.   \n",
              "2                           A Plan No One Escapes   \n",
              "3                                 The Legend Ends   \n",
              "4            Lost in our world, found in another.   \n",
              "\n",
              "                                      title vote_average vote_count  \\\n",
              "0                                    Avatar          7.2      11800   \n",
              "1  Pirates of the Caribbean: At World's End          6.9       4500   \n",
              "2                                   Spectre          6.3       4466   \n",
              "3                     The Dark Knight Rises          7.6       9106   \n",
              "4                               John Carter          6.1       2124   \n",
              "\n",
              "                                                cast  \\\n",
              "0  Sam Worthington Zoe Saldana Sigourney Weaver S...   \n",
              "1  Johnny Depp Orlando Bloom Keira Knightley Stel...   \n",
              "2  Daniel Craig Christoph Waltz L\\u00e9a Seydoux ...   \n",
              "3  Christian Bale Michael Caine Gary Oldman Anne ...   \n",
              "4  Taylor Kitsch Lynn Collins Samantha Morton Wil...   \n",
              "\n",
              "                                                crew           director  \n",
              "0  [{'name': 'Stephen E. Rivkin', 'gender': 0, 'd...      James Cameron  \n",
              "1  [{'name': 'Dariusz Wolski', 'gender': 2, 'depa...     Gore Verbinski  \n",
              "2  [{'name': 'Thomas Newman', 'gender': 2, 'depar...         Sam Mendes  \n",
              "3  [{'name': 'Hans Zimmer', 'gender': 2, 'departm...  Christopher Nolan  \n",
              "4  [{'name': 'Andrew Stanton', 'gender': 2, 'depa...     Andrew Stanton  \n",
              "\n",
              "[5 rows x 24 columns]"
            ],
            "text/html": [
              "\n",
              "  <div id=\"df-5e3bed9b-bb5b-49c1-b9ce-b90518fbda5f\">\n",
              "    <div class=\"colab-df-container\">\n",
              "      <div>\n",
              "<style scoped>\n",
              "    .dataframe tbody tr th:only-of-type {\n",
              "        vertical-align: middle;\n",
              "    }\n",
              "\n",
              "    .dataframe tbody tr th {\n",
              "        vertical-align: top;\n",
              "    }\n",
              "\n",
              "    .dataframe thead th {\n",
              "        text-align: right;\n",
              "    }\n",
              "</style>\n",
              "<table border=\"1\" class=\"dataframe\">\n",
              "  <thead>\n",
              "    <tr style=\"text-align: right;\">\n",
              "      <th></th>\n",
              "      <th>index</th>\n",
              "      <th>budget</th>\n",
              "      <th>genres</th>\n",
              "      <th>homepage</th>\n",
              "      <th>id</th>\n",
              "      <th>keywords</th>\n",
              "      <th>original_language</th>\n",
              "      <th>original_title</th>\n",
              "      <th>overview</th>\n",
              "      <th>popularity</th>\n",
              "      <th>...</th>\n",
              "      <th>runtime</th>\n",
              "      <th>spoken_languages</th>\n",
              "      <th>status</th>\n",
              "      <th>tagline</th>\n",
              "      <th>title</th>\n",
              "      <th>vote_average</th>\n",
              "      <th>vote_count</th>\n",
              "      <th>cast</th>\n",
              "      <th>crew</th>\n",
              "      <th>director</th>\n",
              "    </tr>\n",
              "  </thead>\n",
              "  <tbody>\n",
              "    <tr>\n",
              "      <th>0</th>\n",
              "      <td>0</td>\n",
              "      <td>237000000</td>\n",
              "      <td>Action Adventure Fantasy Science Fiction</td>\n",
              "      <td>http://www.avatarmovie.com/</td>\n",
              "      <td>19995</td>\n",
              "      <td>culture clash future space war space colony so...</td>\n",
              "      <td>en</td>\n",
              "      <td>Avatar</td>\n",
              "      <td>In the 22nd century, a paraplegic Marine is di...</td>\n",
              "      <td>150.437577</td>\n",
              "      <td>...</td>\n",
              "      <td>162.0</td>\n",
              "      <td>[{\"iso_639_1\": \"en\", \"name\": \"English\"}, {\"iso...</td>\n",
              "      <td>Released</td>\n",
              "      <td>Enter the World of Pandora.</td>\n",
              "      <td>Avatar</td>\n",
              "      <td>7.2</td>\n",
              "      <td>11800</td>\n",
              "      <td>Sam Worthington Zoe Saldana Sigourney Weaver S...</td>\n",
              "      <td>[{'name': 'Stephen E. Rivkin', 'gender': 0, 'd...</td>\n",
              "      <td>James Cameron</td>\n",
              "    </tr>\n",
              "    <tr>\n",
              "      <th>1</th>\n",
              "      <td>1</td>\n",
              "      <td>300000000</td>\n",
              "      <td>Adventure Fantasy Action</td>\n",
              "      <td>http://disney.go.com/disneypictures/pirates/</td>\n",
              "      <td>285</td>\n",
              "      <td>ocean drug abuse exotic island east india trad...</td>\n",
              "      <td>en</td>\n",
              "      <td>Pirates of the Caribbean: At World's End</td>\n",
              "      <td>Captain Barbossa, long believed to be dead, ha...</td>\n",
              "      <td>139.082615</td>\n",
              "      <td>...</td>\n",
              "      <td>169.0</td>\n",
              "      <td>[{\"iso_639_1\": \"en\", \"name\": \"English\"}]</td>\n",
              "      <td>Released</td>\n",
              "      <td>At the end of the world, the adventure begins.</td>\n",
              "      <td>Pirates of the Caribbean: At World's End</td>\n",
              "      <td>6.9</td>\n",
              "      <td>4500</td>\n",
              "      <td>Johnny Depp Orlando Bloom Keira Knightley Stel...</td>\n",
              "      <td>[{'name': 'Dariusz Wolski', 'gender': 2, 'depa...</td>\n",
              "      <td>Gore Verbinski</td>\n",
              "    </tr>\n",
              "    <tr>\n",
              "      <th>2</th>\n",
              "      <td>2</td>\n",
              "      <td>245000000</td>\n",
              "      <td>Action Adventure Crime</td>\n",
              "      <td>http://www.sonypictures.com/movies/spectre/</td>\n",
              "      <td>206647</td>\n",
              "      <td>spy based on novel secret agent sequel mi6</td>\n",
              "      <td>en</td>\n",
              "      <td>Spectre</td>\n",
              "      <td>A cryptic message from Bond’s past sends him o...</td>\n",
              "      <td>107.376788</td>\n",
              "      <td>...</td>\n",
              "      <td>148.0</td>\n",
              "      <td>[{\"iso_639_1\": \"fr\", \"name\": \"Fran\\u00e7ais\"},...</td>\n",
              "      <td>Released</td>\n",
              "      <td>A Plan No One Escapes</td>\n",
              "      <td>Spectre</td>\n",
              "      <td>6.3</td>\n",
              "      <td>4466</td>\n",
              "      <td>Daniel Craig Christoph Waltz L\\u00e9a Seydoux ...</td>\n",
              "      <td>[{'name': 'Thomas Newman', 'gender': 2, 'depar...</td>\n",
              "      <td>Sam Mendes</td>\n",
              "    </tr>\n",
              "    <tr>\n",
              "      <th>3</th>\n",
              "      <td>3</td>\n",
              "      <td>250000000</td>\n",
              "      <td>Action Crime Drama Thriller</td>\n",
              "      <td>http://www.thedarkknightrises.com/</td>\n",
              "      <td>49026</td>\n",
              "      <td>dc comics crime fighter terrorist secret ident...</td>\n",
              "      <td>en</td>\n",
              "      <td>The Dark Knight Rises</td>\n",
              "      <td>Following the death of District Attorney Harve...</td>\n",
              "      <td>112.312950</td>\n",
              "      <td>...</td>\n",
              "      <td>165.0</td>\n",
              "      <td>[{\"iso_639_1\": \"en\", \"name\": \"English\"}]</td>\n",
              "      <td>Released</td>\n",
              "      <td>The Legend Ends</td>\n",
              "      <td>The Dark Knight Rises</td>\n",
              "      <td>7.6</td>\n",
              "      <td>9106</td>\n",
              "      <td>Christian Bale Michael Caine Gary Oldman Anne ...</td>\n",
              "      <td>[{'name': 'Hans Zimmer', 'gender': 2, 'departm...</td>\n",
              "      <td>Christopher Nolan</td>\n",
              "    </tr>\n",
              "    <tr>\n",
              "      <th>4</th>\n",
              "      <td>4</td>\n",
              "      <td>260000000</td>\n",
              "      <td>Action Adventure Science Fiction</td>\n",
              "      <td>http://movies.disney.com/john-carter</td>\n",
              "      <td>49529</td>\n",
              "      <td>based on novel mars medallion space travel pri...</td>\n",
              "      <td>en</td>\n",
              "      <td>John Carter</td>\n",
              "      <td>John Carter is a war-weary, former military ca...</td>\n",
              "      <td>43.926995</td>\n",
              "      <td>...</td>\n",
              "      <td>132.0</td>\n",
              "      <td>[{\"iso_639_1\": \"en\", \"name\": \"English\"}]</td>\n",
              "      <td>Released</td>\n",
              "      <td>Lost in our world, found in another.</td>\n",
              "      <td>John Carter</td>\n",
              "      <td>6.1</td>\n",
              "      <td>2124</td>\n",
              "      <td>Taylor Kitsch Lynn Collins Samantha Morton Wil...</td>\n",
              "      <td>[{'name': 'Andrew Stanton', 'gender': 2, 'depa...</td>\n",
              "      <td>Andrew Stanton</td>\n",
              "    </tr>\n",
              "  </tbody>\n",
              "</table>\n",
              "<p>5 rows × 24 columns</p>\n",
              "</div>\n",
              "      <button class=\"colab-df-convert\" onclick=\"convertToInteractive('df-5e3bed9b-bb5b-49c1-b9ce-b90518fbda5f')\"\n",
              "              title=\"Convert this dataframe to an interactive table.\"\n",
              "              style=\"display:none;\">\n",
              "        \n",
              "  <svg xmlns=\"http://www.w3.org/2000/svg\" height=\"24px\"viewBox=\"0 0 24 24\"\n",
              "       width=\"24px\">\n",
              "    <path d=\"M0 0h24v24H0V0z\" fill=\"none\"/>\n",
              "    <path d=\"M18.56 5.44l.94 2.06.94-2.06 2.06-.94-2.06-.94-.94-2.06-.94 2.06-2.06.94zm-11 1L8.5 8.5l.94-2.06 2.06-.94-2.06-.94L8.5 2.5l-.94 2.06-2.06.94zm10 10l.94 2.06.94-2.06 2.06-.94-2.06-.94-.94-2.06-.94 2.06-2.06.94z\"/><path d=\"M17.41 7.96l-1.37-1.37c-.4-.4-.92-.59-1.43-.59-.52 0-1.04.2-1.43.59L10.3 9.45l-7.72 7.72c-.78.78-.78 2.05 0 2.83L4 21.41c.39.39.9.59 1.41.59.51 0 1.02-.2 1.41-.59l7.78-7.78 2.81-2.81c.8-.78.8-2.07 0-2.86zM5.41 20L4 18.59l7.72-7.72 1.47 1.35L5.41 20z\"/>\n",
              "  </svg>\n",
              "      </button>\n",
              "      \n",
              "  <style>\n",
              "    .colab-df-container {\n",
              "      display:flex;\n",
              "      flex-wrap:wrap;\n",
              "      gap: 12px;\n",
              "    }\n",
              "\n",
              "    .colab-df-convert {\n",
              "      background-color: #E8F0FE;\n",
              "      border: none;\n",
              "      border-radius: 50%;\n",
              "      cursor: pointer;\n",
              "      display: none;\n",
              "      fill: #1967D2;\n",
              "      height: 32px;\n",
              "      padding: 0 0 0 0;\n",
              "      width: 32px;\n",
              "    }\n",
              "\n",
              "    .colab-df-convert:hover {\n",
              "      background-color: #E2EBFA;\n",
              "      box-shadow: 0px 1px 2px rgba(60, 64, 67, 0.3), 0px 1px 3px 1px rgba(60, 64, 67, 0.15);\n",
              "      fill: #174EA6;\n",
              "    }\n",
              "\n",
              "    [theme=dark] .colab-df-convert {\n",
              "      background-color: #3B4455;\n",
              "      fill: #D2E3FC;\n",
              "    }\n",
              "\n",
              "    [theme=dark] .colab-df-convert:hover {\n",
              "      background-color: #434B5C;\n",
              "      box-shadow: 0px 1px 3px 1px rgba(0, 0, 0, 0.15);\n",
              "      filter: drop-shadow(0px 1px 2px rgba(0, 0, 0, 0.3));\n",
              "      fill: #FFFFFF;\n",
              "    }\n",
              "  </style>\n",
              "\n",
              "      <script>\n",
              "        const buttonEl =\n",
              "          document.querySelector('#df-5e3bed9b-bb5b-49c1-b9ce-b90518fbda5f button.colab-df-convert');\n",
              "        buttonEl.style.display =\n",
              "          google.colab.kernel.accessAllowed ? 'block' : 'none';\n",
              "\n",
              "        async function convertToInteractive(key) {\n",
              "          const element = document.querySelector('#df-5e3bed9b-bb5b-49c1-b9ce-b90518fbda5f');\n",
              "          const dataTable =\n",
              "            await google.colab.kernel.invokeFunction('convertToInteractive',\n",
              "                                                     [key], {});\n",
              "          if (!dataTable) return;\n",
              "\n",
              "          const docLinkHtml = 'Like what you see? Visit the ' +\n",
              "            '<a target=\"_blank\" href=https://colab.research.google.com/notebooks/data_table.ipynb>data table notebook</a>'\n",
              "            + ' to learn more about interactive tables.';\n",
              "          element.innerHTML = '';\n",
              "          dataTable['output_type'] = 'display_data';\n",
              "          await google.colab.output.renderOutput(dataTable, element);\n",
              "          const docLink = document.createElement('div');\n",
              "          docLink.innerHTML = docLinkHtml;\n",
              "          element.appendChild(docLink);\n",
              "        }\n",
              "      </script>\n",
              "    </div>\n",
              "  </div>\n",
              "  "
            ]
          },
          "metadata": {},
          "execution_count": 5
        }
      ],
      "source": [
        "#printig the frist 5 rows of the dataset\n",
        "movie_data.head()"
      ]
    },
    {
      "cell_type": "code",
      "execution_count": 6,
      "metadata": {
        "colab": {
          "base_uri": "https://localhost:8080/",
          "height": 734
        },
        "id": "ODJGZyHE8I19",
        "outputId": "6d84d192-2ed0-4ac7-ebcb-40907c60aa69"
      },
      "outputs": [
        {
          "output_type": "execute_result",
          "data": {
            "text/plain": [
              "      index  budget                         genres  \\\n",
              "4798   4798  220000          Action Crime Thriller   \n",
              "4799   4799    9000                 Comedy Romance   \n",
              "4800   4800       0  Comedy Drama Romance TV Movie   \n",
              "4801   4801       0                            NaN   \n",
              "4802   4802       0                    Documentary   \n",
              "\n",
              "                                               homepage      id  \\\n",
              "4798                                                NaN    9367   \n",
              "4799                                                NaN   72766   \n",
              "4800  http://www.hallmarkchannel.com/signedsealeddel...  231617   \n",
              "4801                        http://shanghaicalling.com/  126186   \n",
              "4802                                                NaN   25975   \n",
              "\n",
              "                                               keywords original_language  \\\n",
              "4798  united states\\u2013mexico barrier legs arms pa...                es   \n",
              "4799                                                NaN                en   \n",
              "4800  date love at first sight narration investigati...                en   \n",
              "4801                                                NaN                en   \n",
              "4802               obsession camcorder crush dream girl                en   \n",
              "\n",
              "                 original_title  \\\n",
              "4798                El Mariachi   \n",
              "4799                  Newlyweds   \n",
              "4800  Signed, Sealed, Delivered   \n",
              "4801           Shanghai Calling   \n",
              "4802          My Date with Drew   \n",
              "\n",
              "                                               overview  popularity  ...  \\\n",
              "4798  El Mariachi just wants to play his guitar and ...   14.269792  ...   \n",
              "4799  A newlywed couple's honeymoon is upended by th...    0.642552  ...   \n",
              "4800  \"Signed, Sealed, Delivered\" introduces a dedic...    1.444476  ...   \n",
              "4801  When ambitious New York attorney Sam is sent t...    0.857008  ...   \n",
              "4802  Ever since the second grade when he first saw ...    1.929883  ...   \n",
              "\n",
              "     runtime                               spoken_languages    status  \\\n",
              "4798    81.0  [{\"iso_639_1\": \"es\", \"name\": \"Espa\\u00f1ol\"}]  Released   \n",
              "4799    85.0                                             []  Released   \n",
              "4800   120.0       [{\"iso_639_1\": \"en\", \"name\": \"English\"}]  Released   \n",
              "4801    98.0       [{\"iso_639_1\": \"en\", \"name\": \"English\"}]  Released   \n",
              "4802    90.0       [{\"iso_639_1\": \"en\", \"name\": \"English\"}]  Released   \n",
              "\n",
              "                                                tagline  \\\n",
              "4798  He didn't come looking for trouble, but troubl...   \n",
              "4799  A newlywed couple's honeymoon is upended by th...   \n",
              "4800                                                NaN   \n",
              "4801                           A New Yorker in Shanghai   \n",
              "4802                                                NaN   \n",
              "\n",
              "                          title vote_average vote_count  \\\n",
              "4798                El Mariachi          6.6        238   \n",
              "4799                  Newlyweds          5.9          5   \n",
              "4800  Signed, Sealed, Delivered          7.0          6   \n",
              "4801           Shanghai Calling          5.7          7   \n",
              "4802          My Date with Drew          6.3         16   \n",
              "\n",
              "                                                   cast  \\\n",
              "4798  Carlos Gallardo Jaime de Hoyos Peter Marquardt...   \n",
              "4799  Edward Burns Kerry Bish\\u00e9 Marsha Dietlein ...   \n",
              "4800  Eric Mabius Kristin Booth Crystal Lowe Geoff G...   \n",
              "4801  Daniel Henney Eliza Coupe Bill Paxton Alan Ruc...   \n",
              "4802  Drew Barrymore Brian Herzlinger Corey Feldman ...   \n",
              "\n",
              "                                                   crew          director  \n",
              "4798  [{'name': 'Robert Rodriguez', 'gender': 0, 'de...  Robert Rodriguez  \n",
              "4799  [{'name': 'Edward Burns', 'gender': 2, 'depart...      Edward Burns  \n",
              "4800  [{'name': 'Carla Hetland', 'gender': 0, 'depar...       Scott Smith  \n",
              "4801  [{'name': 'Daniel Hsia', 'gender': 2, 'departm...       Daniel Hsia  \n",
              "4802  [{'name': 'Clark Peterson', 'gender': 2, 'depa...  Brian Herzlinger  \n",
              "\n",
              "[5 rows x 24 columns]"
            ],
            "text/html": [
              "\n",
              "  <div id=\"df-a1f0e757-61bb-4321-bf0e-29a0c431245e\">\n",
              "    <div class=\"colab-df-container\">\n",
              "      <div>\n",
              "<style scoped>\n",
              "    .dataframe tbody tr th:only-of-type {\n",
              "        vertical-align: middle;\n",
              "    }\n",
              "\n",
              "    .dataframe tbody tr th {\n",
              "        vertical-align: top;\n",
              "    }\n",
              "\n",
              "    .dataframe thead th {\n",
              "        text-align: right;\n",
              "    }\n",
              "</style>\n",
              "<table border=\"1\" class=\"dataframe\">\n",
              "  <thead>\n",
              "    <tr style=\"text-align: right;\">\n",
              "      <th></th>\n",
              "      <th>index</th>\n",
              "      <th>budget</th>\n",
              "      <th>genres</th>\n",
              "      <th>homepage</th>\n",
              "      <th>id</th>\n",
              "      <th>keywords</th>\n",
              "      <th>original_language</th>\n",
              "      <th>original_title</th>\n",
              "      <th>overview</th>\n",
              "      <th>popularity</th>\n",
              "      <th>...</th>\n",
              "      <th>runtime</th>\n",
              "      <th>spoken_languages</th>\n",
              "      <th>status</th>\n",
              "      <th>tagline</th>\n",
              "      <th>title</th>\n",
              "      <th>vote_average</th>\n",
              "      <th>vote_count</th>\n",
              "      <th>cast</th>\n",
              "      <th>crew</th>\n",
              "      <th>director</th>\n",
              "    </tr>\n",
              "  </thead>\n",
              "  <tbody>\n",
              "    <tr>\n",
              "      <th>4798</th>\n",
              "      <td>4798</td>\n",
              "      <td>220000</td>\n",
              "      <td>Action Crime Thriller</td>\n",
              "      <td>NaN</td>\n",
              "      <td>9367</td>\n",
              "      <td>united states\\u2013mexico barrier legs arms pa...</td>\n",
              "      <td>es</td>\n",
              "      <td>El Mariachi</td>\n",
              "      <td>El Mariachi just wants to play his guitar and ...</td>\n",
              "      <td>14.269792</td>\n",
              "      <td>...</td>\n",
              "      <td>81.0</td>\n",
              "      <td>[{\"iso_639_1\": \"es\", \"name\": \"Espa\\u00f1ol\"}]</td>\n",
              "      <td>Released</td>\n",
              "      <td>He didn't come looking for trouble, but troubl...</td>\n",
              "      <td>El Mariachi</td>\n",
              "      <td>6.6</td>\n",
              "      <td>238</td>\n",
              "      <td>Carlos Gallardo Jaime de Hoyos Peter Marquardt...</td>\n",
              "      <td>[{'name': 'Robert Rodriguez', 'gender': 0, 'de...</td>\n",
              "      <td>Robert Rodriguez</td>\n",
              "    </tr>\n",
              "    <tr>\n",
              "      <th>4799</th>\n",
              "      <td>4799</td>\n",
              "      <td>9000</td>\n",
              "      <td>Comedy Romance</td>\n",
              "      <td>NaN</td>\n",
              "      <td>72766</td>\n",
              "      <td>NaN</td>\n",
              "      <td>en</td>\n",
              "      <td>Newlyweds</td>\n",
              "      <td>A newlywed couple's honeymoon is upended by th...</td>\n",
              "      <td>0.642552</td>\n",
              "      <td>...</td>\n",
              "      <td>85.0</td>\n",
              "      <td>[]</td>\n",
              "      <td>Released</td>\n",
              "      <td>A newlywed couple's honeymoon is upended by th...</td>\n",
              "      <td>Newlyweds</td>\n",
              "      <td>5.9</td>\n",
              "      <td>5</td>\n",
              "      <td>Edward Burns Kerry Bish\\u00e9 Marsha Dietlein ...</td>\n",
              "      <td>[{'name': 'Edward Burns', 'gender': 2, 'depart...</td>\n",
              "      <td>Edward Burns</td>\n",
              "    </tr>\n",
              "    <tr>\n",
              "      <th>4800</th>\n",
              "      <td>4800</td>\n",
              "      <td>0</td>\n",
              "      <td>Comedy Drama Romance TV Movie</td>\n",
              "      <td>http://www.hallmarkchannel.com/signedsealeddel...</td>\n",
              "      <td>231617</td>\n",
              "      <td>date love at first sight narration investigati...</td>\n",
              "      <td>en</td>\n",
              "      <td>Signed, Sealed, Delivered</td>\n",
              "      <td>\"Signed, Sealed, Delivered\" introduces a dedic...</td>\n",
              "      <td>1.444476</td>\n",
              "      <td>...</td>\n",
              "      <td>120.0</td>\n",
              "      <td>[{\"iso_639_1\": \"en\", \"name\": \"English\"}]</td>\n",
              "      <td>Released</td>\n",
              "      <td>NaN</td>\n",
              "      <td>Signed, Sealed, Delivered</td>\n",
              "      <td>7.0</td>\n",
              "      <td>6</td>\n",
              "      <td>Eric Mabius Kristin Booth Crystal Lowe Geoff G...</td>\n",
              "      <td>[{'name': 'Carla Hetland', 'gender': 0, 'depar...</td>\n",
              "      <td>Scott Smith</td>\n",
              "    </tr>\n",
              "    <tr>\n",
              "      <th>4801</th>\n",
              "      <td>4801</td>\n",
              "      <td>0</td>\n",
              "      <td>NaN</td>\n",
              "      <td>http://shanghaicalling.com/</td>\n",
              "      <td>126186</td>\n",
              "      <td>NaN</td>\n",
              "      <td>en</td>\n",
              "      <td>Shanghai Calling</td>\n",
              "      <td>When ambitious New York attorney Sam is sent t...</td>\n",
              "      <td>0.857008</td>\n",
              "      <td>...</td>\n",
              "      <td>98.0</td>\n",
              "      <td>[{\"iso_639_1\": \"en\", \"name\": \"English\"}]</td>\n",
              "      <td>Released</td>\n",
              "      <td>A New Yorker in Shanghai</td>\n",
              "      <td>Shanghai Calling</td>\n",
              "      <td>5.7</td>\n",
              "      <td>7</td>\n",
              "      <td>Daniel Henney Eliza Coupe Bill Paxton Alan Ruc...</td>\n",
              "      <td>[{'name': 'Daniel Hsia', 'gender': 2, 'departm...</td>\n",
              "      <td>Daniel Hsia</td>\n",
              "    </tr>\n",
              "    <tr>\n",
              "      <th>4802</th>\n",
              "      <td>4802</td>\n",
              "      <td>0</td>\n",
              "      <td>Documentary</td>\n",
              "      <td>NaN</td>\n",
              "      <td>25975</td>\n",
              "      <td>obsession camcorder crush dream girl</td>\n",
              "      <td>en</td>\n",
              "      <td>My Date with Drew</td>\n",
              "      <td>Ever since the second grade when he first saw ...</td>\n",
              "      <td>1.929883</td>\n",
              "      <td>...</td>\n",
              "      <td>90.0</td>\n",
              "      <td>[{\"iso_639_1\": \"en\", \"name\": \"English\"}]</td>\n",
              "      <td>Released</td>\n",
              "      <td>NaN</td>\n",
              "      <td>My Date with Drew</td>\n",
              "      <td>6.3</td>\n",
              "      <td>16</td>\n",
              "      <td>Drew Barrymore Brian Herzlinger Corey Feldman ...</td>\n",
              "      <td>[{'name': 'Clark Peterson', 'gender': 2, 'depa...</td>\n",
              "      <td>Brian Herzlinger</td>\n",
              "    </tr>\n",
              "  </tbody>\n",
              "</table>\n",
              "<p>5 rows × 24 columns</p>\n",
              "</div>\n",
              "      <button class=\"colab-df-convert\" onclick=\"convertToInteractive('df-a1f0e757-61bb-4321-bf0e-29a0c431245e')\"\n",
              "              title=\"Convert this dataframe to an interactive table.\"\n",
              "              style=\"display:none;\">\n",
              "        \n",
              "  <svg xmlns=\"http://www.w3.org/2000/svg\" height=\"24px\"viewBox=\"0 0 24 24\"\n",
              "       width=\"24px\">\n",
              "    <path d=\"M0 0h24v24H0V0z\" fill=\"none\"/>\n",
              "    <path d=\"M18.56 5.44l.94 2.06.94-2.06 2.06-.94-2.06-.94-.94-2.06-.94 2.06-2.06.94zm-11 1L8.5 8.5l.94-2.06 2.06-.94-2.06-.94L8.5 2.5l-.94 2.06-2.06.94zm10 10l.94 2.06.94-2.06 2.06-.94-2.06-.94-.94-2.06-.94 2.06-2.06.94z\"/><path d=\"M17.41 7.96l-1.37-1.37c-.4-.4-.92-.59-1.43-.59-.52 0-1.04.2-1.43.59L10.3 9.45l-7.72 7.72c-.78.78-.78 2.05 0 2.83L4 21.41c.39.39.9.59 1.41.59.51 0 1.02-.2 1.41-.59l7.78-7.78 2.81-2.81c.8-.78.8-2.07 0-2.86zM5.41 20L4 18.59l7.72-7.72 1.47 1.35L5.41 20z\"/>\n",
              "  </svg>\n",
              "      </button>\n",
              "      \n",
              "  <style>\n",
              "    .colab-df-container {\n",
              "      display:flex;\n",
              "      flex-wrap:wrap;\n",
              "      gap: 12px;\n",
              "    }\n",
              "\n",
              "    .colab-df-convert {\n",
              "      background-color: #E8F0FE;\n",
              "      border: none;\n",
              "      border-radius: 50%;\n",
              "      cursor: pointer;\n",
              "      display: none;\n",
              "      fill: #1967D2;\n",
              "      height: 32px;\n",
              "      padding: 0 0 0 0;\n",
              "      width: 32px;\n",
              "    }\n",
              "\n",
              "    .colab-df-convert:hover {\n",
              "      background-color: #E2EBFA;\n",
              "      box-shadow: 0px 1px 2px rgba(60, 64, 67, 0.3), 0px 1px 3px 1px rgba(60, 64, 67, 0.15);\n",
              "      fill: #174EA6;\n",
              "    }\n",
              "\n",
              "    [theme=dark] .colab-df-convert {\n",
              "      background-color: #3B4455;\n",
              "      fill: #D2E3FC;\n",
              "    }\n",
              "\n",
              "    [theme=dark] .colab-df-convert:hover {\n",
              "      background-color: #434B5C;\n",
              "      box-shadow: 0px 1px 3px 1px rgba(0, 0, 0, 0.15);\n",
              "      filter: drop-shadow(0px 1px 2px rgba(0, 0, 0, 0.3));\n",
              "      fill: #FFFFFF;\n",
              "    }\n",
              "  </style>\n",
              "\n",
              "      <script>\n",
              "        const buttonEl =\n",
              "          document.querySelector('#df-a1f0e757-61bb-4321-bf0e-29a0c431245e button.colab-df-convert');\n",
              "        buttonEl.style.display =\n",
              "          google.colab.kernel.accessAllowed ? 'block' : 'none';\n",
              "\n",
              "        async function convertToInteractive(key) {\n",
              "          const element = document.querySelector('#df-a1f0e757-61bb-4321-bf0e-29a0c431245e');\n",
              "          const dataTable =\n",
              "            await google.colab.kernel.invokeFunction('convertToInteractive',\n",
              "                                                     [key], {});\n",
              "          if (!dataTable) return;\n",
              "\n",
              "          const docLinkHtml = 'Like what you see? Visit the ' +\n",
              "            '<a target=\"_blank\" href=https://colab.research.google.com/notebooks/data_table.ipynb>data table notebook</a>'\n",
              "            + ' to learn more about interactive tables.';\n",
              "          element.innerHTML = '';\n",
              "          dataTable['output_type'] = 'display_data';\n",
              "          await google.colab.output.renderOutput(dataTable, element);\n",
              "          const docLink = document.createElement('div');\n",
              "          docLink.innerHTML = docLinkHtml;\n",
              "          element.appendChild(docLink);\n",
              "        }\n",
              "      </script>\n",
              "    </div>\n",
              "  </div>\n",
              "  "
            ]
          },
          "metadata": {},
          "execution_count": 6
        }
      ],
      "source": [
        "#printing the last 5 rows of the dataset\n",
        "movie_data.tail()"
      ]
    },
    {
      "cell_type": "code",
      "execution_count": 7,
      "metadata": {
        "colab": {
          "base_uri": "https://localhost:8080/"
        },
        "id": "-py-obm78NuH",
        "outputId": "9ce06eac-718c-4c8a-c200-c8cd37022551"
      },
      "outputs": [
        {
          "output_type": "execute_result",
          "data": {
            "text/plain": [
              "(4803, 24)"
            ]
          },
          "metadata": {},
          "execution_count": 7
        }
      ],
      "source": [
        "#check the shape of the dataset\n",
        "movie_data.shape"
      ]
    },
    {
      "cell_type": "code",
      "source": [
        "#getting the more infomation of the dataset\n",
        "movie_data.info()"
      ],
      "metadata": {
        "colab": {
          "base_uri": "https://localhost:8080/"
        },
        "id": "RVqn55AapXyC",
        "outputId": "5cb78340-6ee7-48fd-f3bc-8b58749d73c1"
      },
      "execution_count": 8,
      "outputs": [
        {
          "output_type": "stream",
          "name": "stdout",
          "text": [
            "<class 'pandas.core.frame.DataFrame'>\n",
            "RangeIndex: 4803 entries, 0 to 4802\n",
            "Data columns (total 24 columns):\n",
            " #   Column                Non-Null Count  Dtype  \n",
            "---  ------                --------------  -----  \n",
            " 0   index                 4803 non-null   int64  \n",
            " 1   budget                4803 non-null   int64  \n",
            " 2   genres                4775 non-null   object \n",
            " 3   homepage              1712 non-null   object \n",
            " 4   id                    4803 non-null   int64  \n",
            " 5   keywords              4391 non-null   object \n",
            " 6   original_language     4803 non-null   object \n",
            " 7   original_title        4803 non-null   object \n",
            " 8   overview              4800 non-null   object \n",
            " 9   popularity            4803 non-null   float64\n",
            " 10  production_companies  4803 non-null   object \n",
            " 11  production_countries  4803 non-null   object \n",
            " 12  release_date          4802 non-null   object \n",
            " 13  revenue               4803 non-null   int64  \n",
            " 14  runtime               4801 non-null   float64\n",
            " 15  spoken_languages      4803 non-null   object \n",
            " 16  status                4803 non-null   object \n",
            " 17  tagline               3959 non-null   object \n",
            " 18  title                 4803 non-null   object \n",
            " 19  vote_average          4803 non-null   float64\n",
            " 20  vote_count            4803 non-null   int64  \n",
            " 21  cast                  4760 non-null   object \n",
            " 22  crew                  4803 non-null   object \n",
            " 23  director              4773 non-null   object \n",
            "dtypes: float64(3), int64(5), object(16)\n",
            "memory usage: 900.7+ KB\n"
          ]
        }
      ]
    },
    {
      "cell_type": "code",
      "source": [
        "#selecting the feature of relevent feature of recommendation \n",
        "seleted_features=['genres','keywords','tagline','title','director']"
      ],
      "metadata": {
        "id": "lDP5S2zjpcyy"
      },
      "execution_count": 9,
      "outputs": []
    },
    {
      "cell_type": "code",
      "source": [
        "print(seleted_features)"
      ],
      "metadata": {
        "colab": {
          "base_uri": "https://localhost:8080/"
        },
        "id": "ziRTZng4pgu6",
        "outputId": "673c261f-d101-43b8-ed22-90db8bdc1dd7"
      },
      "execution_count": 10,
      "outputs": [
        {
          "output_type": "stream",
          "name": "stdout",
          "text": [
            "['genres', 'keywords', 'tagline', 'title', 'director']\n"
          ]
        }
      ]
    },
    {
      "cell_type": "code",
      "source": [
        "#replacing the null values with null string\n",
        "for feature in seleted_features:\n",
        "    movie_data[feature]=movie_data[feature].fillna(' ')"
      ],
      "metadata": {
        "id": "EiJcndgjpkwj"
      },
      "execution_count": 11,
      "outputs": []
    },
    {
      "cell_type": "code",
      "source": [
        "#combing all the 5 selected features\n",
        "combined_feature = movie_data['genres']+' '+movie_data['keywords']+' '+movie_data['tagline']+' '+movie_data['title']+' '+movie_data['director']"
      ],
      "metadata": {
        "id": "u0QDGYy0pomG"
      },
      "execution_count": 12,
      "outputs": []
    },
    {
      "cell_type": "code",
      "source": [
        "print(combined_feature)"
      ],
      "metadata": {
        "colab": {
          "base_uri": "https://localhost:8080/"
        },
        "id": "K6317DQwpuUy",
        "outputId": "127b4bda-44a3-4024-a3a6-ce43d7d74a18"
      },
      "execution_count": 13,
      "outputs": [
        {
          "output_type": "stream",
          "name": "stdout",
          "text": [
            "0       Action Adventure Fantasy Science Fiction cultu...\n",
            "1       Adventure Fantasy Action ocean drug abuse exot...\n",
            "2       Action Adventure Crime spy based on novel secr...\n",
            "3       Action Crime Drama Thriller dc comics crime fi...\n",
            "4       Action Adventure Science Fiction based on nove...\n",
            "                              ...                        \n",
            "4798    Action Crime Thriller united states\\u2013mexic...\n",
            "4799    Comedy Romance   A newlywed couple's honeymoon...\n",
            "4800    Comedy Drama Romance TV Movie date love at fir...\n",
            "4801        A New Yorker in Shanghai Shanghai Calling ...\n",
            "4802    Documentary obsession camcorder crush dream gi...\n",
            "Length: 4803, dtype: object\n"
          ]
        }
      ]
    },
    {
      "cell_type": "code",
      "source": [
        "#converting the text value in numerical values\n",
        "vectorizer = TfidfVectorizer()"
      ],
      "metadata": {
        "id": "ymyjW-Wupyr6"
      },
      "execution_count": 14,
      "outputs": []
    },
    {
      "cell_type": "code",
      "source": [
        "#fitting the TfidfVectorizer\n",
        "feature_vectors=vectorizer.fit_transform(combined_feature)"
      ],
      "metadata": {
        "id": "zeG8C_znp3S9"
      },
      "execution_count": 15,
      "outputs": []
    },
    {
      "cell_type": "code",
      "source": [
        "print(feature_vectors)"
      ],
      "metadata": {
        "colab": {
          "base_uri": "https://localhost:8080/"
        },
        "id": "xWq7ftsUp7Pu",
        "outputId": "7ccdf715-014c-483a-958b-c6700d570741"
      },
      "execution_count": 16,
      "outputs": [
        {
          "output_type": "stream",
          "name": "stdout",
          "text": [
            "  (0, 1653)\t0.25515628427085985\n",
            "  (0, 5446)\t0.18834412689114394\n",
            "  (0, 774)\t0.34027089212212464\n",
            "  (0, 7636)\t0.3134202228436597\n",
            "  (0, 7418)\t0.09299090556617665\n",
            "  (0, 11596)\t0.149542860388702\n",
            "  (0, 10385)\t0.06605852917576412\n",
            "  (0, 3442)\t0.27086291891802733\n",
            "  (0, 9602)\t0.2510748994794632\n",
            "  (0, 2192)\t0.2977135881964922\n",
            "  (0, 11292)\t0.14815923732839528\n",
            "  (0, 9680)\t0.399747221493128\n",
            "  (0, 4156)\t0.1950251250979658\n",
            "  (0, 2071)\t0.26776227834388727\n",
            "  (0, 2583)\t0.25515628427085985\n",
            "  (0, 3814)\t0.12347478999821664\n",
            "  (0, 9095)\t0.12361879509867715\n",
            "  (0, 3706)\t0.13249793601280604\n",
            "  (0, 255)\t0.10745796874979083\n",
            "  (0, 206)\t0.09368413572017883\n",
            "  (1, 11105)\t0.22604756970601722\n",
            "  (1, 4417)\t0.19123077940933303\n",
            "  (1, 1733)\t0.234838042782395\n",
            "  (1, 7907)\t0.22604756970601722\n",
            "  (1, 1054)\t0.1732702481588429\n",
            "  :\t:\n",
            "  (4800, 8782)\t0.10744300189533075\n",
            "  (4800, 9111)\t0.21309451195619789\n",
            "  (4800, 2212)\t0.08127383950727655\n",
            "  (4800, 3151)\t0.06967842343525474\n",
            "  (4800, 709)\t0.19420734394168798\n",
            "  (4800, 6279)\t0.1386925559276337\n",
            "  (4801, 5059)\t0.3885259511767753\n",
            "  (4801, 11680)\t0.3885259511767753\n",
            "  (4801, 1642)\t0.34799767044625657\n",
            "  (4801, 9284)\t0.6662304621494574\n",
            "  (4801, 2661)\t0.2913409296540346\n",
            "  (4801, 7230)\t0.1718905324385439\n",
            "  (4801, 5205)\t0.1367620954752449\n",
            "  (4802, 4862)\t0.4016467183218459\n",
            "  (4802, 1647)\t0.3382590854086549\n",
            "  (4802, 3171)\t0.35974977191366886\n",
            "  (4802, 2562)\t0.35974977191366886\n",
            "  (4802, 3061)\t0.21678017280140002\n",
            "  (4802, 1454)\t0.254465192592301\n",
            "  (4802, 7095)\t0.24612862841203506\n",
            "  (4802, 4320)\t0.23716137131077109\n",
            "  (4802, 3158)\t0.23184544843081523\n",
            "  (4802, 11540)\t0.20185584830650075\n",
            "  (4802, 7392)\t0.25180087521353645\n",
            "  (4802, 2689)\t0.2809771102370368\n"
          ]
        }
      ]
    },
    {
      "cell_type": "markdown",
      "source": [
        "# **COSINE SIMILARITY**"
      ],
      "metadata": {
        "id": "OplLTm6CqDei"
      }
    },
    {
      "cell_type": "code",
      "source": [
        "#getting the similaity score using consine\n",
        "similarity = cosine_similarity(feature_vectors)"
      ],
      "metadata": {
        "id": "ot7PpF2Yp_XC"
      },
      "execution_count": 17,
      "outputs": []
    },
    {
      "cell_type": "code",
      "source": [
        "print(similarity)"
      ],
      "metadata": {
        "colab": {
          "base_uri": "https://localhost:8080/"
        },
        "id": "ZCjBlyjXqLuM",
        "outputId": "c70b821c-5979-4274-e0b5-f12692992b72"
      },
      "execution_count": 18,
      "outputs": [
        {
          "output_type": "stream",
          "name": "stdout",
          "text": [
            "[[1.         0.10850003 0.02226615 ... 0.         0.         0.        ]\n",
            " [0.10850003 1.         0.04466461 ... 0.07198464 0.         0.        ]\n",
            " [0.02226615 0.04466461 1.         ... 0.         0.         0.        ]\n",
            " ...\n",
            " [0.         0.07198464 0.         ... 1.         0.         0.06938386]\n",
            " [0.         0.         0.         ... 0.         1.         0.        ]\n",
            " [0.         0.         0.         ... 0.06938386 0.         1.        ]]\n"
          ]
        }
      ]
    },
    {
      "cell_type": "code",
      "source": [
        "print(similarity.shape)"
      ],
      "metadata": {
        "id": "1YzpkTBQqQfq",
        "colab": {
          "base_uri": "https://localhost:8080/"
        },
        "outputId": "cb13a64f-9d6b-4c58-d6d1-af40481f9105"
      },
      "execution_count": 19,
      "outputs": [
        {
          "output_type": "stream",
          "name": "stdout",
          "text": [
            "(4803, 4803)\n"
          ]
        }
      ]
    },
    {
      "cell_type": "code",
      "source": [
        "#getting the movie name from the error\n",
        "movie_name = input(\"Enter your feature movie name: \")"
      ],
      "metadata": {
        "id": "KrdOGrnFqUei",
        "colab": {
          "base_uri": "https://localhost:8080/"
        },
        "outputId": "ff6e5899-9efb-4f2d-e606-516cfffc8799"
      },
      "execution_count": 20,
      "outputs": [
        {
          "name": "stdout",
          "output_type": "stream",
          "text": [
            "Enter your feature movie name: Avatar\n"
          ]
        }
      ]
    },
    {
      "cell_type": "code",
      "source": [
        "#getting a list movie all movies names given in the dataset\n",
        "list_of_all_title = movie_data['title'].tolist()"
      ],
      "metadata": {
        "id": "pJBFtheAqqgU"
      },
      "execution_count": 21,
      "outputs": []
    },
    {
      "cell_type": "code",
      "source": [
        "print(list_of_all_title)"
      ],
      "metadata": {
        "colab": {
          "base_uri": "https://localhost:8080/"
        },
        "id": "5W2g2qN1Pyva",
        "outputId": "0fe6636f-18b9-407f-e682-7cf503279f10"
      },
      "execution_count": 22,
      "outputs": [
        {
          "output_type": "stream",
          "name": "stdout",
          "text": [
            "['Avatar', \"Pirates of the Caribbean: At World's End\", 'Spectre', 'The Dark Knight Rises', 'John Carter', 'Spider-Man 3', 'Tangled', 'Avengers: Age of Ultron', 'Harry Potter and the Half-Blood Prince', 'Batman v Superman: Dawn of Justice', 'Superman Returns', 'Quantum of Solace', \"Pirates of the Caribbean: Dead Man's Chest\", 'The Lone Ranger', 'Man of Steel', 'The Chronicles of Narnia: Prince Caspian', 'The Avengers', 'Pirates of the Caribbean: On Stranger Tides', 'Men in Black 3', 'The Hobbit: The Battle of the Five Armies', 'The Amazing Spider-Man', 'Robin Hood', 'The Hobbit: The Desolation of Smaug', 'The Golden Compass', 'King Kong', 'Titanic', 'Captain America: Civil War', 'Battleship', 'Jurassic World', 'Skyfall', 'Spider-Man 2', 'Iron Man 3', 'Alice in Wonderland', 'X-Men: The Last Stand', 'Monsters University', 'Transformers: Revenge of the Fallen', 'Transformers: Age of Extinction', 'Oz: The Great and Powerful', 'The Amazing Spider-Man 2', 'TRON: Legacy', 'Cars 2', 'Green Lantern', 'Toy Story 3', 'Terminator Salvation', 'Furious 7', 'World War Z', 'X-Men: Days of Future Past', 'Star Trek Into Darkness', 'Jack the Giant Slayer', 'The Great Gatsby', 'Prince of Persia: The Sands of Time', 'Pacific Rim', 'Transformers: Dark of the Moon', 'Indiana Jones and the Kingdom of the Crystal Skull', 'The Good Dinosaur', 'Brave', 'Star Trek Beyond', 'WALL·E', 'Rush Hour 3', '2012', 'A Christmas Carol', 'Jupiter Ascending', 'The Legend of Tarzan', 'The Chronicles of Narnia: The Lion, the Witch and the Wardrobe', 'X-Men: Apocalypse', 'The Dark Knight', 'Up', 'Monsters vs Aliens', 'Iron Man', 'Hugo', 'Wild Wild West', 'The Mummy: Tomb of the Dragon Emperor', 'Suicide Squad', 'Evan Almighty', 'Edge of Tomorrow', 'Waterworld', 'G.I. Joe: The Rise of Cobra', 'Inside Out', 'The Jungle Book', 'Iron Man 2', 'Snow White and the Huntsman', 'Maleficent', 'Dawn of the Planet of the Apes', 'The Lovers', '47 Ronin', 'Captain America: The Winter Soldier', 'Shrek Forever After', 'Tomorrowland', 'Big Hero 6', 'Wreck-It Ralph', 'The Polar Express', 'Independence Day: Resurgence', 'How to Train Your Dragon', 'Terminator 3: Rise of the Machines', 'Guardians of the Galaxy', 'Interstellar', 'Inception', 'Shin Godzilla', 'The Hobbit: An Unexpected Journey', 'The Fast and the Furious', 'The Curious Case of Benjamin Button', 'X-Men: First Class', 'The Hunger Games: Mockingjay - Part 2', \"The Sorcerer's Apprentice\", 'Poseidon', 'Alice Through the Looking Glass', 'Shrek the Third', 'Warcraft', 'Terminator Genisys', 'The Chronicles of Narnia: The Voyage of the Dawn Treader', 'Pearl Harbor', 'Transformers', 'Alexander', 'Harry Potter and the Order of the Phoenix', 'Harry Potter and the Goblet of Fire', 'Hancock', 'I Am Legend', 'Charlie and the Chocolate Factory', 'Ratatouille', 'Batman Begins', 'Madagascar: Escape 2 Africa', 'Night at the Museum: Battle of the Smithsonian', 'X-Men Origins: Wolverine', 'The Matrix Revolutions', 'Frozen', 'The Matrix Reloaded', 'Thor: The Dark World', 'Mad Max: Fury Road', 'Angels & Demons', 'Thor', 'Bolt', 'G-Force', 'Wrath of the Titans', 'Dark Shadows', 'Mission: Impossible - Rogue Nation', 'The Wolfman', 'Bee Movie', 'Kung Fu Panda 2', 'The Last Airbender', 'Mission: Impossible III', 'White House Down', 'Mars Needs Moms', 'Flushed Away', 'Pan', 'Mr. Peabody & Sherman', 'Troy', \"Madagascar 3: Europe's Most Wanted\", 'Die Another Day', 'Ghostbusters', 'Armageddon', 'Men in Black II', 'Beowulf', 'Kung Fu Panda 3', 'Mission: Impossible - Ghost Protocol', 'Rise of the Guardians', 'Fun with Dick and Jane', 'The Last Samurai', 'Exodus: Gods and Kings', 'Star Trek', 'Spider-Man', 'How to Train Your Dragon 2', 'Gods of Egypt', 'Stealth', 'Watchmen', 'Lethal Weapon 4', 'Hulk', 'G.I. Joe: Retaliation', 'Sahara', 'Final Fantasy: The Spirits Within', 'Captain America: The First Avenger', 'The World Is Not Enough', 'Master and Commander: The Far Side of the World', 'The Twilight Saga: Breaking Dawn - Part 2', 'Happy Feet Two', 'The Incredible Hulk', 'The BFG', 'The Revenant', 'Turbo', 'Rango', 'Penguins of Madagascar', 'The Bourne Ultimatum', 'Kung Fu Panda', 'Ant-Man', 'The Hunger Games: Catching Fire', 'Home', 'War of the Worlds', 'Bad Boys II', 'Puss in Boots', 'Salt', 'Noah', 'The Adventures of Tintin', 'Harry Potter and the Prisoner of Azkaban', 'Australia', 'After Earth', 'Dinosaur', 'Night at the Museum: Secret of the Tomb', 'Megamind', \"Harry Potter and the Philosopher's Stone\", 'R.I.P.D.', 'Pirates of the Caribbean: The Curse of the Black Pearl', 'The Hunger Games: Mockingjay - Part 1', 'The Da Vinci Code', 'Rio 2', 'X2', 'Fast Five', 'Sherlock Holmes: A Game of Shadows', 'Clash of the Titans', 'Total Recall', 'The 13th Warrior', 'The Bourne Legacy', 'Batman & Robin', 'How the Grinch Stole Christmas', 'The Day After Tomorrow', 'Mission: Impossible II', 'The Perfect Storm', 'Fantastic 4: Rise of the Silver Surfer', 'Life of Pi', 'Ghost Rider', 'Jason Bourne', \"Charlie's Angels: Full Throttle\", 'Prometheus', 'Stuart Little 2', 'Elysium', 'The Chronicles of Riddick', 'RoboCop', 'Speed Racer', 'How Do You Know', 'Knight and Day', 'Oblivion', 'Star Wars: Episode III - Revenge of the Sith', 'Star Wars: Episode II - Attack of the Clones', 'Monsters, Inc.', 'The Wolverine', 'Star Wars: Episode I - The Phantom Menace', 'The Croods', 'Asterix at the Olympic Games', 'Windtalkers', \"The Huntsman: Winter's War\", 'Teenage Mutant Ninja Turtles', 'Gravity', \"Dante's Peak\", 'Teenage Mutant Ninja Turtles: Out of the Shadows', 'Fantastic Four', 'Night at the Museum', 'San Andreas', 'Tomorrow Never Dies', 'The Patriot', \"Ocean's Twelve\", 'Mr. & Mrs. Smith', 'Insurgent', 'The Aviator', \"Gulliver's Travels\", 'The Green Hornet', '300: Rise of an Empire', 'The Smurfs', 'Home on the Range', 'Allegiant', 'Real Steel', 'The Smurfs 2', 'Speed 2: Cruise Control', \"Ender's Game\", 'Live Free or Die Hard', 'The Lord of the Rings: The Fellowship of the Ring', 'Around the World in 80 Days', 'Ali', 'The Cat in the Hat', 'I, Robot', 'Kingdom of Heaven', 'Stuart Little', 'The Princess and the Frog', 'The Martian', 'The Island', 'Town & Country', 'Gone in Sixty Seconds', 'Gladiator', 'Minority Report', 'Harry Potter and the Chamber of Secrets', 'Casino Royale', 'Planet of the Apes', 'Terminator 2: Judgment Day', 'Public Enemies', 'American Gangster', 'True Lies', 'The Taking of Pelham 1 2 3', 'Little Fockers', 'The Other Guys', 'Eraser', 'Django Unchained', 'The Hunchback of Notre Dame', \"The Emperor's New Groove\", 'The Expendables 2', 'National Treasure', 'Eragon', 'Where the Wild Things Are', 'Epic', 'The Tourist', 'End of Days', 'Blood Diamond', 'The Wolf of Wall Street', 'Batman Forever', 'Starship Troopers', 'Cloud Atlas', \"Legend of the Guardians: The Owls of Ga'Hoole\", 'Catwoman', 'Hercules', 'Treasure Planet', 'Land of the Lost', 'The Expendables 3', 'Point Break', 'Son of the Mask', 'In the Heart of the Sea', 'The Adventures of Pluto Nash', 'Green Zone', 'The Peanuts Movie', 'The Spanish Prisoner', 'The Mummy Returns', 'Gangs of New York', 'The Flowers of War', \"Surf's Up\", 'The Stepford Wives', 'Black Hawk Down', 'The Campaign', 'The Fifth Element', 'Sex and the City 2', 'The Road to El Dorado', 'Ice Age: Continental Drift', 'Cinderella', 'The Lovely Bones', 'Finding Nemo', 'The Lord of the Rings: The Return of the King', 'The Lord of the Rings: The Two Towers', 'Seventh Son', 'Lara Croft: Tomb Raider', 'Transcendence', 'Jurassic Park III', 'Rise of the Planet of the Apes', 'The Spiderwick Chronicles', 'A Good Day to Die Hard', 'The Alamo', 'The Incredibles', 'Cutthroat Island', 'Percy Jackson & the Olympians: The Lightning Thief', 'Men in Black', 'Toy Story 2', 'Unstoppable', 'Rush Hour 2', 'What Lies Beneath', 'Cloudy with a Chance of Meatballs', 'Ice Age: Dawn of the Dinosaurs', 'The Secret Life of Walter Mitty', \"Charlie's Angels\", 'The Departed', 'Mulan', 'Tropic Thunder', 'The Girl with the Dragon Tattoo', 'Die Hard: With a Vengeance', 'Sherlock Holmes', 'Ben-Hur', 'Atlantis: The Lost Empire', 'Alvin and the Chipmunks: The Road Chip', 'Valkyrie', \"You Don't Mess with the Zohan\", 'Pixels', 'A.I. Artificial Intelligence', 'The Haunted Mansion', 'Contact', 'Hollow Man', 'The Interpreter', 'Percy Jackson: Sea of Monsters', 'Lara Croft Tomb Raider: The Cradle of Life', 'Now You See Me 2', 'The Saint', 'Spy Game', 'Mission to Mars', 'Rio', 'Bicentennial Man', 'Volcano', \"The Devil's Own\", 'K-19: The Widowmaker', 'Conan the Barbarian', 'Cinderella Man', 'The Nutcracker: The Untold Story', 'Seabiscuit', 'Twister', 'Cast Away', 'Happy Feet', 'The Bourne Supremacy', 'Air Force One', \"Ocean's Eleven\", 'The Three Musketeers', 'Hotel Transylvania', 'Enchanted', 'Safe House', '102 Dalmatians', 'Tower Heist', 'The Holiday', 'Enemy of the State', \"It's Complicated\", \"Ocean's Thirteen\", 'Open Season', 'Divergent', 'Enemy at the Gates', 'The Rundown', 'Last Action Hero', 'Memoirs of a Geisha', 'The Fast and the Furious: Tokyo Drift', 'Arthur Christmas', 'Meet Joe Black', 'Collateral Damage', 'All That Jazz', 'Mirror Mirror', 'Scott Pilgrim vs. the World', 'The Core', 'Nutty Professor II: The Klumps', 'Scooby-Doo', 'Dredd', 'Click', 'Creepshow', 'Cats & Dogs 2 : The Revenge of Kitty Galore', 'Jumper', 'Hellboy II: The Golden Army', 'Zodiac', 'The 6th Day', 'Bruce Almighty', 'The Expendables', 'Mission: Impossible', 'The Hunger Games', 'The Hangover Part II', 'Batman Returns', 'Over the Hedge', 'Lilo & Stitch', \"Charlotte's Web\", 'Deep Impact', 'RED 2', 'The Longest Yard', 'Alvin and the Chipmunks: Chipwrecked', 'Grown Ups 2', 'Get Smart', \"Something's Gotta Give\", 'Shutter Island', 'Four Christmases', 'Robots', 'Face/Off', 'Bedtime Stories', 'Road to Perdition', 'Just Go with It', 'Con Air', 'Eagle Eye', 'Cold Mountain', 'The Book of Eli', 'Flubber', 'The Haunting', 'Space Jam', 'The Pink Panther', 'The Day the Earth Stood Still', 'Conspiracy Theory', 'Fury', 'Six Days Seven Nights', 'Yogi Bear', 'Spirit: Stallion of the Cimarron', 'Zookeeper', 'Lost in Space', 'The Manchurian Candidate', 'Déjà Vu', 'Hotel Transylvania 2', 'Fantasia 2000', 'The Time Machine', 'Mighty Joe Young', 'Swordfish', 'The Legend of Zorro', 'What Dreams May Come', 'Little Nicky', 'The Brothers Grimm', 'Mars Attacks!', 'Evolution', 'The Edge', 'Surrogates', 'Thirteen Days', 'Daylight', 'Walking With Dinosaurs', 'Battlefield Earth', 'Looney Tunes: Back in Action', 'Nine', 'Timeline', 'The Postman', 'Babe: Pig in the City', 'The Last Witch Hunter', 'Red Planet', 'Arthur and the Invisibles', 'Oceans', 'A Sound of Thunder', 'Pompeii', 'Top Cat Begins', 'A Beautiful Mind', 'The Lion King', 'Journey 2: The Mysterious Island', 'Cloudy with a Chance of Meatballs 2', 'Red Dragon', 'Hidalgo', 'Jack and Jill', '2 Fast 2 Furious', 'The Little Prince', 'The Invasion', 'The Adventures of Rocky & Bullwinkle', 'The Secret Life of Pets', 'The League of Extraordinary Gentlemen', 'Despicable Me 2', 'Independence Day', 'The Lost World: Jurassic Park', 'Madagascar', 'Children of Men', 'X-Men', 'Wanted', 'The Rock', 'Ice Age: The Meltdown', '50 First Dates', 'Hairspray', 'Exorcist: The Beginning', 'Inspector Gadget', 'Now You See Me', 'Grown Ups', 'The Terminal', 'Hotel for Dogs', 'Vertical Limit', \"Charlie Wilson's War\", 'Shark Tale', 'Dreamgirls', 'Be Cool', 'Munich', 'Tears of the Sun', 'Killers', 'The Man from U.N.C.L.E.', 'Spanglish', 'Monster House', 'Bandits', 'First Knight', 'Anna and the King', 'Immortals', 'Hostage', 'Titan A.E.', 'Hollywood Homicide', 'Soldier', 'Carriers', 'Monkeybone', 'Flight of the Phoenix', 'Unbreakable', 'Minions', 'Sucker Punch', 'Snake Eyes', 'Sphere', 'The Angry Birds Movie', \"Fool's Gold\", 'Funny People', 'The Kingdom', 'Talladega Nights: The Ballad of Ricky Bobby', 'Dr. Dolittle 2', 'Braveheart', 'Jarhead', 'The Simpsons Movie', 'The Majestic', 'Driven', 'Two Brothers', 'The Village', 'Doctor Dolittle', 'Signs', 'Shrek 2', 'Cars', 'Runaway Bride', 'xXx', 'The SpongeBob Movie: Sponge Out of Water', 'Ransom', 'Inglourious Basterds', 'Hook', 'Die Hard 2', 'S.W.A.T.', 'Vanilla Sky', 'Lady in the Water', 'AVP: Alien vs. Predator', 'Alvin and the Chipmunks: The Squeakquel', 'We Were Soldiers', 'Olympus Has Fallen', 'Star Trek: Insurrection', 'Battle: Los Angeles', 'Big Fish', 'Wolf', 'War Horse', 'The Monuments Men', 'The Abyss', 'Wall Street: Money Never Sleeps', 'Dracula Untold', 'The Siege', 'Stardust', 'Seven Years in Tibet', 'The Dilemma', 'Bad Company', 'Doom', 'I Spy', 'Underworld: Awakening', 'Rock of Ages', \"Hart's War\", 'Killer Elite', 'Rollerball', 'Ballistic: Ecks vs. Sever', 'Hard Rain', 'Osmosis Jones', \"Legends of Oz: Dorothy's Return\", 'Blackhat', 'Sky Captain and the World of Tomorrow', 'Basic Instinct 2', 'Escape Plan', 'The Legend of Hercules', 'The Sum of All Fears', 'The Twilight Saga: Eclipse', 'The Score', 'Despicable Me', 'Money Train', 'Ted 2', 'Agora', 'Mystery Men', 'Hall Pass', 'The Insider', 'The Finest Hours', 'Body of Lies', 'Dinner for Schmucks', 'Abraham Lincoln: Vampire Hunter', 'Entrapment', 'The X Files', 'The Last Legion', 'Saving Private Ryan', 'Need for Speed', 'What Women Want', 'Ice Age', 'Dreamcatcher', 'Lincoln', 'The Matrix', 'Apollo 13', 'The Santa Clause 2', 'Les Misérables', \"You've Got Mail\", 'Step Brothers', 'The Mask of Zorro', 'Due Date', 'Unbroken', 'Space Cowboys', 'Cliffhanger', 'Broken Arrow', 'The Kid', 'World Trade Center', 'Mona Lisa Smile', 'The Dictator', 'Eyes Wide Shut', 'Annie', 'Focus', 'This Means War', 'Blade: Trinity', 'Red Dawn', 'Primary Colors', 'Resident Evil: Retribution', 'Death Race', 'The Long Kiss Goodnight', 'Proof of Life', 'Zathura: A Space Adventure', 'Fight Club', 'We Are Marshall', 'Hudson Hawk', 'Lucky Numbers', 'I, Frankenstein', 'Oliver Twist', 'Elektra', 'Sin City: A Dame to Kill For', 'Random Hearts', 'Everest', 'Perfume: The Story of a Murderer', 'Austin Powers in Goldmember', 'Astro Boy', 'Jurassic Park', 'Wyatt Earp', 'Clear and Present Danger', 'Dragon Blade', 'Little Man', 'U-571', 'The American President', 'The Love Guru', '3000 Miles to Graceland', 'The Hateful Eight', 'Blades of Glory', 'Hop', '300', 'Meet the Fockers', 'Marley & Me', 'The Green Mile', 'Wild Hogs', 'Chicken Little', 'Gone Girl', 'The Bourne Identity', 'GoldenEye', \"The General's Daughter\", 'The Truman Show', 'The Prince of Egypt', 'Daddy Day Care', '2 Guns', 'Cats & Dogs', 'The Italian Job', 'Two Weeks Notice', 'Antz', 'Couples Retreat', 'Days of Thunder', 'Cheaper by the Dozen 2', 'Maze Runner: The Scorch Trials', 'Eat Pray Love', 'The Family Man', 'RED', 'Any Given Sunday', 'The Horse Whisperer', 'Collateral', 'The Scorpion King', 'Ladder 49', 'Jack Reacher', 'Deep Blue Sea', 'This Is It', 'Contagion', 'Kangaroo Jack', 'Coraline', 'The Happening', 'Man on Fire', 'The Shaggy Dog', 'Starsky & Hutch', 'Jingle All the Way', 'Hellboy', 'A Civil Action', 'ParaNorman', 'The Jackal', 'Paycheck', 'Up Close & Personal', 'The Tale of Despereaux', 'The Tuxedo', 'Under Siege 2: Dark Territory', 'Jack Ryan: Shadow Recruit', 'Joy', 'London Has Fallen', 'Alien: Resurrection', 'Shooter', 'The Boxtrolls', 'Practical Magic', 'The Lego Movie', 'Miss Congeniality 2: Armed and Fabulous', 'Reign of Fire', 'Gangster Squad', 'Year One', 'Invictus', 'State of Play', 'Duplicity', 'My Favorite Martian', 'The Sentinel', 'Planet 51', 'Star Trek: Nemesis', 'Intolerable Cruelty', 'Trouble with the Curve', 'Edge of Darkness', 'The Relic', 'Analyze That', 'Righteous Kill', 'Mercury Rising', 'The Soloist', 'The Legend of Bagger Vance', 'Almost Famous', 'Garfield: A Tail of Two Kitties', 'xXx: State of the Union', 'Priest', 'Sinbad: Legend of the Seven Seas', 'Event Horizon', 'Dragonfly', 'The Black Dahlia', 'Flyboys', 'The Last Castle', 'Supernova', \"Winter's Tale\", 'The Mortal Instruments: City of Bones', 'Meet Dave', 'Dark Water', 'Edtv', 'Inkheart', 'The Spirit', 'Mortdecai', 'In the Name of the King: A Dungeon Siege Tale', 'Beyond Borders', 'The Monkey King 2', 'The Great Raid', 'Deadpool', 'Holy Man', 'American Sniper', 'Goosebumps', 'Just Like Heaven', 'The Flintstones in Viva Rock Vegas', 'Rambo III', 'Leatherheads', 'The Ridiculous 6', 'Did You Hear About the Morgans?', 'The Internship', 'Resident Evil: Afterlife', 'Red Tails', \"The Devil's Advocate\", \"That's My Boy\", 'DragonHeart', 'After the Sunset', 'Ghost Rider: Spirit of Vengeance', \"Captain Corelli's Mandolin\", 'The Pacifier', 'Walking Tall', 'Forrest Gump', 'Alvin and the Chipmunks', 'Meet the Parents', 'Pocahontas', 'Superman', 'The Nutty Professor', 'Hitch', 'George of the Jungle', 'American Wedding', 'Captain Phillips', 'Date Night', 'Casper', 'The Equalizer', 'Maid in Manhattan', 'Crimson Tide', 'The Pursuit of Happyness', 'Flightplan', 'Disclosure', 'City of Angels', 'Kill Bill: Vol. 1', 'Bowfinger', 'Kill Bill: Vol. 2', 'Tango & Cash', 'Death Becomes Her', 'Shanghai Noon', 'Executive Decision', \"Mr. Popper's Penguins\", 'The Forbidden Kingdom', 'Free Birds', 'Alien³', 'Evita', 'Ronin', 'The Ghost and the Darkness', 'Paddington', 'The Watch', 'The Hunted', 'Instinct', 'Stuck on You', 'Semi-Pro', 'The Pirates! In an Adventure with Scientists!', 'Changeling', 'Chain Reaction', 'The Fan', 'The Phantom of the Opera', 'Elizabeth: The Golden Age', 'Æon Flux', 'Gods and Generals', 'Turbulence', 'Imagine That', 'Muppets Most Wanted', 'Thunderbirds', 'Burlesque', 'A Very Long Engagement', 'Lolita', 'D-Tox', 'Blade II', 'Seven Pounds', 'Bullet to the Head', 'The Godfather: Part III', 'Elizabethtown', 'You, Me and Dupree', 'Superman II', 'Gigli', \"All the King's Men\", 'Shaft', 'Anastasia', 'Moulin Rouge!', 'Domestic Disturbance', 'Black Mass', 'Flags of Our Fathers', 'Law Abiding Citizen', 'Grindhouse', 'Beloved', 'Lucky You', 'Catch Me If You Can', 'Zero Dark Thirty', 'The Break-Up', 'Mamma Mia!', \"Valentine's Day\", 'The Dukes of Hazzard', 'The Thin Red Line', 'The Change-Up', 'Man on the Moon', 'Casino', 'From Paris with Love', 'Bulletproof Monk', 'Me, Myself & Irene', 'Barnyard', 'Deck the Halls', 'The Twilight Saga: New Moon', 'Shrek', 'The Adjustment Bureau', 'Robin Hood: Prince of Thieves', 'Jerry Maguire', 'Ted', 'As Good as It Gets', 'Patch Adams', 'Anchorman 2: The Legend Continues', 'Mr. Deeds', 'Super 8', 'Erin Brockovich', 'How to Lose a Guy in 10 Days', '22 Jump Street', 'Interview with the Vampire', 'Yes Man', 'Central Intelligence', 'Stepmom', \"Daddy's Home\", 'Into the Woods', 'Inside Man', 'Payback', 'Congo', 'We Bought a Zoo', 'Knowing', 'Failure to Launch', 'The Ring Two', 'Crazy, Stupid, Love.', 'Garfield', 'Christmas with the Kranks', 'Moneyball', 'Outbreak', 'Non-Stop', 'Race to Witch Mountain', 'V for Vendetta', 'Shanghai Knights', 'Curious George', 'Herbie Fully Loaded', \"Don't Say a Word\", 'Hansel & Gretel: Witch Hunters', 'Unfaithful', 'I Am Number Four', 'Syriana', '13 Hours: The Secret Soldiers of Benghazi', 'The Book of Life', 'Firewall', 'Absolute Power', 'G.I. Jane', 'The Game', 'Silent Hill', 'The Replacements', 'American Reunion', 'The Negotiator', 'Into the Storm', 'Beverly Hills Cop III', 'Gremlins 2: The New Batch', 'The Judge', 'The Peacemaker', 'Resident Evil: Apocalypse', 'Bridget Jones: The Edge of Reason', 'Out of Time', 'On Deadly Ground', 'The Adventures of Sharkboy and Lavagirl', 'The Beach', 'Raising Helen', 'Ninja Assassin', 'For Love of the Game', 'Striptease', 'Marmaduke', 'Hereafter', 'Murder by Numbers', 'Assassins', 'Hannibal Rising', 'The Story of Us', 'The Host', 'Basic', 'Blood Work', 'The International', 'Escape from L.A.', 'The Iron Giant', 'The Life Aquatic with Steve Zissou', 'Free State of Jones', 'The Life of David Gale', 'Man of the House', 'Run All Night', 'Eastern Promises', 'Into the Blue', 'The Messenger: The Story of Joan of Arc', 'Your Highness', 'Dream House', 'Mad City', \"Baby's Day Out\", 'The Scarlet Letter', 'Fair Game', 'Domino', 'Jade', 'Gamer', 'Beautiful Creatures', 'Death to Smoochy', 'Zoolander 2', 'The Big Bounce', 'What Planet Are You From?', 'Drive Angry', 'Street Fighter: The Legend of Chun-Li', 'The One', 'The Adventures of Ford Fairlane', 'The Boat That Rocked', 'Traffic', 'Indiana Jones and the Last Crusade', 'Anna Karenina', 'Chappie', 'The Bone Collector', 'Panic Room', 'The Tooth Fairy', 'Three Kings', 'Child 44', 'Rat Race', 'K-PAX', 'Kate & Leopold', 'Bedazzled', 'The Cotton Club', '3:10 to Yuma', 'Taken 3', 'Out of Sight', 'The Cable Guy', 'Earth', 'Dick Tracy', 'The Thomas Crown Affair', 'Riding in Cars with Boys', 'First Blood', 'Solaris', \"Happily N'Ever After\", 'Mary Reilly', \"My Best Friend's Wedding\", \"America's Sweethearts\", 'Insomnia', 'Star Trek: First Contact', 'Jonah Hex', 'Courage Under Fire', 'Liar Liar', 'The Infiltrator', 'Inchon', 'The Flintstones', 'Taken 2', 'Scary Movie 3', 'Miss Congeniality', 'Journey to the Center of the Earth', 'The Princess Diaries 2: Royal Engagement', 'The Pelican Brief', 'The Client', 'The Bucket List', 'Patriot Games', 'Monster-in-Law', 'Prisoners', 'Training Day', 'Galaxy Quest', 'Scary Movie 2', 'The Muppets', 'Blade', 'Coach Carter', 'Changing Lanes', 'Anaconda', 'Coyote Ugly', 'Love Actually', \"A Bug's Life\", 'From Hell', 'The Specialist', 'Tin Cup', 'Yours, Mine and Ours', 'Kicking & Screaming', \"The Hitchhiker's Guide to the Galaxy\", 'Fat Albert', 'Resident Evil: Extinction', 'Blended', 'Last Holiday', 'The River Wild', 'The Indian in the Cupboard', 'Savages', 'Cellular', 'Johnny English', 'The Ant Bully', 'Dune', 'Across the Universe', 'Revolutionary Road', '16 Blocks', 'Babylon A.D.', 'The Glimmer Man', 'Multiplicity', 'Aliens in the Attic', 'The Pledge', 'The Producers', 'The Phantom', 'All the Pretty Horses', 'Nixon', 'The Ghost Writer', 'Deep Rising', 'Miracle at St. Anna', 'Curse of the Golden Flower', 'Bangkok Dangerous', 'Big Trouble', 'Love in the Time of Cholera', 'Shadow Conspiracy', 'Johnny English Reborn', 'Foodfight!', 'Argo', 'The Fugitive', 'The Bounty Hunter', 'Sleepers', 'Rambo: First Blood Part II', 'The Juror', 'Pinocchio', \"Heaven's Gate\", 'Underworld: Evolution', 'Victor Frankenstein', 'Finding Forrester', '28 Days', 'Unleashed', 'The Sweetest Thing', 'The Firm', 'Charlie St. Cloud', 'The Mechanic', '21 Jump Street', 'Notting Hill', 'Chicken Run', 'Along Came Polly', 'Boomerang', 'The Heat', 'Cleopatra', 'Here Comes the Boom', 'High Crimes', 'The Mirror Has Two Faces', 'The Mothman Prophecies', 'Brüno', 'Licence to Kill', 'Red Riding Hood', '15 Minutes', 'Super Mario Bros.', 'Lord of War', 'Hero', 'One for the Money', 'The Interview', \"The Warrior's Way\", 'Micmacs', '8 Mile', 'Why I Did (Not) Eat My Father', \"A Knight's Tale\", 'The Medallion', 'The Sixth Sense', 'Man on a Ledge', 'The Big Year', 'The Karate Kid', 'American Hustle', 'The Proposal', 'Double Jeopardy', 'Back to the Future Part II', 'Lucy', 'Fifty Shades of Grey', 'Spy Kids 3-D: Game Over', 'A Time to Kill', 'Cheaper by the Dozen', 'Lone Survivor', 'A League of Their Own', 'The Conjuring 2', 'The Social Network', \"He's Just Not That Into You\", 'Scary Movie 4', 'Scream 3', 'Back to the Future Part III', 'Get Hard', 'Dracula', 'Julie & Julia', '42', 'The Talented Mr. Ripley', 'Dumb and Dumber To', 'Eight Below', 'The Intern', 'Ride Along 2', 'The Last of the Mohicans', 'Ray', 'Sin City', 'Vantage Point', 'I Love You, Man', 'Shallow Hal', 'JFK', \"Big Momma's House 2\", 'The Mexican', '17 Again', 'The Other Woman', 'The Final Destination', 'Bridge of Spies', 'Behind Enemy Lines', 'Get Him to the Greek', 'Shall We Dance?', 'Small Soldiers', 'Spawn', 'The Count of Monte Cristo', 'The Lincoln Lawyer', 'Unknown', 'The Prestige', 'Horrible Bosses 2', 'Escape from Planet Earth', 'Apocalypto', 'The Living Daylights', 'Predators', 'Legal Eagles', 'Secret Window', 'The Lake House', 'The Skeleton Key', 'The Odd Life of Timothy Green', 'Made of Honor', 'Jersey Boys', 'The Rainmaker', 'Gothika', 'Amistad', 'Medicine Man', 'Aliens vs Predator: Requiem', 'Ri¢hie Ri¢h', 'Autumn in New York', 'Music and Lyrics', 'Paul', 'The Guilt Trip', 'Scream 4', '8MM', 'The Doors', 'Sex Tape', 'Hanging Up', 'Final Destination 5', 'Mickey Blue Eyes', 'Pay It Forward', 'Fever Pitch', 'Drillbit Taylor', 'A Million Ways to Die in the West', 'The Shadow', 'Extremely Loud & Incredibly Close', 'Morning Glory', \"Get Rich or Die Tryin'\", 'The Art of War', 'Rent', 'Bless the Child', 'The Out-of-Towners', 'The Island of Dr. Moreau', 'The Musketeer', 'The Other Boleyn Girl', 'Sweet November', 'The Reaping', 'Mean Streets', 'Renaissance Man', 'Colombiana', 'Quest for Camelot', 'City By The Sea', 'At First Sight', 'Torque', 'City Hall', 'Showgirls', 'Marie Antoinette', 'Kiss of Death', 'Get Carter', 'The Impossible', 'Ishtar', 'Fantastic Mr. Fox', 'Life or Something Like It', 'Memoirs of an Invisible Man', 'Amélie', 'New York Minute', 'Alfie', 'Big Miracle', 'The Deep End of the Ocean', 'FearDotCom', \"Cirque du Freak: The Vampire's Assistant\", 'Duplex', 'Soul Men', 'Raise the Titanic', 'Universal Soldier: The Return', 'Pandorum', 'Impostor', 'Extreme Ops', 'Just Visiting', 'Sunshine', 'A Thousand Words', 'Delgo', 'The Gunman', 'Stormbreaker', 'Disturbia', 'Hackers', 'The Hunting Party', 'The Hudsucker Proxy', 'The Warlords', 'Nomad: The Warrior', 'Snowpiercer', 'A Monster in Paris', 'The Last Shot', 'The Crow', 'Baahubali: The Beginning', \"The Time Traveler's Wife\", 'Because I Said So', 'Frankenweenie', 'Serenity', 'Against the Ropes', 'Superman III', 'Grudge Match', 'Red Cliff', 'Sweet Home Alabama', 'The Ugly Truth', 'Sgt. Bilko', 'Spy Kids 2: The Island of Lost Dreams', 'Star Trek: Generations', 'The Grandmaster', 'Water for Elephants', \"Dragon Nest: Warriors' Dawn\", 'The Hurricane', 'Enough', 'Heartbreakers', 'Paul Blart: Mall Cop 2', 'Angel Eyes', 'Joe Somebody', 'The Ninth Gate', 'Extreme Measures', 'Rock Star', 'Precious', 'White Squall', 'The Thing', 'Riddick', 'Switchback', 'Texas Rangers', 'City of Ember', 'The Master', 'Virgin Territory', 'The Express', 'The 5th Wave', 'Creed', 'The Town', \"What to Expect When You're Expecting\", 'Burn After Reading', \"Nim's Island\", 'Rush', 'Magnolia', 'Cop Out', 'How to Be Single', 'Dolphin Tale', 'Twilight', 'John Q', 'Blue Streak', \"We're the Millers\", 'The Inhabited Island', 'Breakdown', 'Never Say Never Again', 'Hot Tub Time Machine', 'Dolphin Tale 2', 'Reindeer Games', 'A Man Apart', 'Aloha', 'Ghosts of Mississippi', 'Snow Falling on Cedars', 'The Rite', 'Gattaca', \"Isn't She Great\", 'Space Chimps', 'Head of State', 'The Hangover', 'Ip Man 3', 'Austin Powers: The Spy Who Shagged Me', 'Batman', 'There Be Dragons', 'Lethal Weapon 3', 'The Blind Side', 'Spy Kids', 'Horrible Bosses', 'True Grit', 'The Devil Wears Prada', 'Star Trek: The Motion Picture', 'Identity Thief', 'Cape Fear', '21', 'Trainwreck', 'Guess Who', 'The English Patient', 'L.A. Confidential', 'Sky High', 'In & Out', 'Species', 'A Nightmare on Elm Street', 'The Cell', 'The Man in the Iron Mask', 'Secretariat', 'TMNT', 'Radio', 'Friends with Benefits', 'Neighbors 2: Sorority Rising', 'Saving Mr. Banks', 'Malcolm X', 'This Is 40', 'Old Dogs', 'Underworld: Rise of the Lycans', 'License to Wed', 'The Benchwarmers', 'Must Love Dogs', 'Donnie Brasco', 'Resident Evil', 'Poltergeist', 'The Ladykillers', 'Max Payne', 'In Time', 'The Back-Up Plan', 'Something Borrowed', 'Black Knight', 'The Bad News Bears', 'Street Fighter', 'The Pianist', 'The Nativity Story', 'House of Wax', 'Closer', 'J. Edgar', 'Mirrors', 'Queen of the Damned', 'Predator 2', 'Untraceable', 'Blast from the Past', 'Flash Gordon', 'Jersey Girl', 'Alex Cross', 'Midnight in the Garden of Good and Evil', 'Heist', 'Nanny McPhee and the Big Bang', 'Hoffa', 'The X Files: I Want to Believe', 'Ella Enchanted', 'Concussion', 'Abduction', 'Valiant', 'Wonder Boys', 'Superhero Movie', 'Broken City', 'Cursed', 'Premium Rush', 'Hot Pursuit', 'The Four Feathers', 'Parker', 'Wimbledon', 'Furry Vengeance', 'Bait', 'Krull', 'Lions for Lambs', 'Flight of the Intruder', 'Walk Hard: The Dewey Cox Story', 'The Shipping News', 'American Outlaws', 'The Young Victoria', 'Whiteout', 'The Tree of Life', 'Knock Off', 'Sabotage', 'The Order', 'Punisher: War Zone', 'Zoom', 'The Walk', 'Warriors of Virtue', 'A Good Year', 'Radio Flyer', 'Bound by Honor', \"Smilla's Sense of Snow\", 'Femme Fatale', 'Lion of the Desert', 'The Horseman on the Roof', 'Ride with the Devil', 'Biutiful', 'Bandidas', 'Black Water Transit', 'The Maze Runner', 'Unfinished Business', 'The Age of Innocence', 'The Fountain', 'Chill Factor', 'Stolen', 'Ponyo', 'The Longest Ride', \"The Astronaut's Wife\", 'I Dreamed of Africa', 'Playing for Keeps', 'Mandela: Long Walk to Freedom', 'Reds', 'A Few Good Men', 'Exit Wounds', \"Big Momma's House\", 'Thunder and the House of Magic', 'The Darkest Hour', 'Step Up Revolution', 'Snakes on a Plane', 'The Watcher', 'The Punisher', 'Goal!: The Dream Begins', 'Safe', 'Pushing Tin', 'Return of the Jedi', 'Doomsday', 'The Reader', 'Wanderlust', 'Elf', 'Phenomenon', 'Snow Dogs', 'Scrooged', 'Nacho Libre', 'Bridesmaids', 'This Is the End', 'Stigmata', 'Men of Honor', 'Takers', 'The Big Wedding', 'Big Mommas: Like Father, Like Son', 'Source Code', 'Alive', 'The Number 23', 'The Young and Prodigious T.S. Spivet', '1941', 'Dreamer: Inspired By a True Story', 'A History of Violence', 'Transporter 2', 'The Quick and the Dead', 'Laws of Attraction', 'Bringing Out the Dead', 'Repo Men', 'Dragon Wars: D-War', 'Bogus', 'The Incredible Burt Wonderstone', \"Cats Don't Dance\", 'Cradle Will Rock', 'The Good German', 'George and the Dragon', 'Apocalypse Now', 'Going the Distance', \"Mr. Holland's Opus\", 'Criminal', 'Out of Africa', 'Flight', 'Moonraker', 'The Grand Budapest Hotel', 'Hearts in Atlantis', 'Arachnophobia', 'Frequency', 'Vacation', 'Get Shorty', 'Chicago', 'Big Daddy', 'American Pie 2', 'Toy Story', 'Speed', 'The Vow', 'Extraordinary Measures', 'Remember the Titans', 'The Hunt for Red October', 'The Butler', 'DodgeBall: A True Underdog Story', 'The Addams Family', 'Ace Ventura: When Nature Calls', 'The Princess Diaries', 'The First Wives Club', 'Se7en', 'District 9', 'The SpongeBob SquarePants Movie', 'Mystic River', 'Million Dollar Baby', 'Analyze This', 'The Notebook', '27 Dresses', 'Hannah Montana: The Movie', 'Rugrats in Paris: The Movie', 'The Prince of Tides', 'Legends of the Fall', 'Up in the Air', 'About Schmidt', 'Warm Bodies', 'Looper', 'Down to Earth', 'Babe', 'Hope Springs', 'Forgetting Sarah Marshall', 'Four Brothers', 'Baby Mama', 'Hope Floats', 'Bride Wars', 'Without a Paddle', '13 Going on 30', 'Midnight in Paris', 'The Nut Job', 'Blow', 'Message in a Bottle', 'Star Trek V: The Final Frontier', 'Like Mike', 'The Naked Gun 33⅓: The Final Insult', 'A View to a Kill', 'The Curse of the Were-Rabbit', 'P.S. I Love You', 'Racing Stripes', 'Atonement', 'Letters to Juliet', 'Black Rain', 'The Three Stooges', 'Corpse Bride', 'Glory Road', 'Sicario', 'Southpaw', 'Drag Me to Hell', 'The Age of Adaline', 'Secondhand Lions', 'Step Up 3D', 'Blue Crush', 'Stranger Than Fiction', '30 Days of Night', 'The Cabin in the Woods', 'Meet the Spartans', 'Midnight Run', 'The Running Man', 'Little Shop of Horrors', 'Hanna', 'Mortal Kombat: Annihilation', 'Larry Crowne', 'Carrie', 'Take the Lead', 'Gridiron Gang', \"What's the Worst That Could Happen?\", '9', 'Side Effects', 'The Prince & Me', 'Winnie the Pooh', 'Dumb and Dumberer: When Harry Met Lloyd', 'Bulworth', 'Get on Up', 'One True Thing', 'Virtuosity', 'My Super Ex-Girlfriend', 'Deliver Us from Evil', 'Sanctum', 'Little Black Book', 'The Five-Year Engagement', 'Mr. 3000', 'The Next Three Days', 'Ultraviolet', 'Assault on Precinct 13', 'The Replacement Killers', 'Fled', 'Eight Legged Freaks', 'Love & Other Drugs', '88 Minutes', 'North Country', 'The Whole Ten Yards', 'Splice', 'Howard the Duck', 'Pride and Glory', 'The Cave', 'Alex & Emma', 'Wicker Park', 'Fright Night', 'The New World', 'Wing Commander', 'In Dreams', 'Dragonball Evolution', 'The Last Stand', 'Godsend', 'Chasing Liberty', 'Hoodwinked Too! Hood VS. Evil', 'An Unfinished Life', 'The Imaginarium of Doctor Parnassus', \"Barney's Version\", 'Runner Runner', 'Antitrust', 'Glory', 'Once Upon a Time in America', 'Dead Man Down', 'The Merchant of Venice', 'The Good Thief', 'Supercross', 'Miss Potter', 'The Promise', 'DOA: Dead or Alive', 'The Assassination of Jesse James by the Coward Robert Ford', '1911', 'Little Nicholas', 'Wild Card', 'Machine Gun Preacher', 'Animals United', 'Goodbye Bafana', 'United Passions', 'Grace of Monaco', 'Savva. Heart of the Warrior', \"Ripley's Game\", 'Sausage Party', 'Pitch Perfect 2', 'Walk the Line', 'Keeping the Faith', 'The Borrowers', 'Frost/Nixon', 'Confessions of a Dangerous Mind', 'Serving Sara', 'The Boss', 'Cry Freedom', 'Mumford', 'Seed of Chucky', 'The Jacket', 'Aladdin', 'Straight Outta Compton', 'Indiana Jones and the Temple of Doom', 'The Rugrats Movie', 'Along Came a Spider', 'Florence Foster Jenkins', 'Once Upon a Time in Mexico', 'Die Hard', 'Role Models', 'The Big Short', 'Taking Woodstock', 'Miracle', 'Dawn of the Dead', 'The Wedding Planner', 'Space Pirate Captain Harlock', 'The Royal Tenenbaums', 'Identity', 'Last Vegas', 'For Your Eyes Only', 'Serendipity', 'Timecop', 'Zoolander', 'Safe Haven', 'Hocus Pocus', 'No Reservations', 'Kick-Ass', '30 Minutes or Less', 'Dracula 2000', 'Alexander and the Terrible, Horrible, No Good, Very Bad Day', 'Pride & Prejudice', 'Blade Runner', 'Rob Roy', '3 Days to Kill', 'We Own the Night', 'Lost Souls', 'Winged Migration', 'Just My Luck', 'Mystery, Alaska', 'The Spy Next Door', 'A Simple Wish', 'Ghosts of Mars', 'Our Brand Is Crisis', 'Pride and Prejudice and Zombies', 'Kundun', 'How to Lose Friends & Alienate People', 'Kick-Ass 2', 'Alatriste', 'Brick Mansions', 'Octopussy', 'Knocked Up', \"My Sister's Keeper\", 'Welcome Home Roscoe Jenkins', 'A Passage to India', 'Notes on a Scandal', 'Rendition', 'Star Trek VI: The Undiscovered Country', 'Divine Secrets of the Ya-Ya Sisterhood', 'Kiss the Girls', 'The Blues Brothers', 'The Sisterhood of the Traveling Pants 2', 'Joyful Noise', 'About a Boy', 'Lake Placid', 'Lucky Number Slevin', 'The Right Stuff', 'Anonymous', 'The NeverEnding Story', 'Dark City', 'The Duchess', 'Return to Oz', 'The Newton Boys', 'Case 39', 'Suspect Zero', 'Martian Child', 'Spy Kids: All the Time in the World', 'Money Monster', 'The 51st State', 'Flawless', 'Mindhunters', 'What Just Happened', 'The Statement', 'The Magic Flute', 'Paul Blart: Mall Cop', 'Freaky Friday', 'The 40 Year Old Virgin', 'Shakespeare in Love', 'A Walk Among the Tombstones', 'Kindergarten Cop', 'Pineapple Express', 'Ever After: A Cinderella Story', 'Open Range', 'Flatliners', 'A Bridge Too Far', 'Red Eye', 'Final Destination 2', 'O Brother, Where Art Thou?', 'Legion', 'Pain & Gain', 'In Good Company', 'Clockstoppers', 'Silverado', 'Brothers', 'Agent Cody Banks 2: Destination London', \"New Year's Eve\", 'Original Sin', 'The Raven', 'Welcome to Mooseport', 'Highlander: The Final Dimension', 'Blood and Wine', 'Snow White: A Tale of Terror', 'The Curse of the Jade Scorpion', 'Accidental Love', 'Flipper', 'Self/less', 'The Constant Gardener', 'The Passion of the Christ', 'Mrs. Doubtfire', 'Rain Man', 'Gran Torino', 'W.', 'Taken', 'The Best of Me', 'The Bodyguard', \"Schindler's List\", 'The Help', 'The Fifth Estate', 'Scooby-Doo 2: Monsters Unleashed', 'Forbidden Kingdom', 'Freddy vs. Jason', 'The Face of an Angel', 'Jimmy Neutron: Boy Genius', 'Cloverfield', 'Teenage Mutant Ninja Turtles II: The Secret of the Ooze', 'The Untouchables', 'No Country for Old Men', 'Ride Along', \"Bridget Jones's Diary\", 'Chocolat', 'Legally Blonde 2: Red, White & Blonde', 'Parental Guidance', 'No Strings Attached', 'Tombstone', 'Romeo Must Die', 'The Omen', 'Final Destination 3', 'The Lucky One', 'Bridge to Terabithia', 'Finding Neverland', 'A Madea Christmas', 'The Grey', 'Hide and Seek', 'Anchorman: The Legend of Ron Burgundy', 'GoodFellas', 'Agent Cody Banks', 'Nanny McPhee', 'Scarface', 'Nothing to Lose', 'The Last Emperor', 'Contraband', 'Money Talks', 'There Will Be Blood', 'The Wild Thornberrys Movie', 'Rugrats Go Wild', 'Undercover Brother', 'The Sisterhood of the Traveling Pants', 'Kiss of the Dragon', 'The House Bunny', 'Beauty Shop', 'Million Dollar Arm', 'The Giver', 'What a Girl Wants', 'Jeepers Creepers 2', 'Good Luck Chuck', 'Cradle 2 the Grave', 'The Hours', \"She's the Man\", \"Mr. Bean's Holiday\", 'Anacondas: The Hunt for the Blood Orchid', 'Blood Ties', 'August Rush', 'Elizabeth', 'Bride of Chucky', 'Tora! Tora! Tora!', 'Spice World', 'The Sitter', 'Dance Flick', 'The Shawshank Redemption', 'Crocodile Dundee in Los Angeles', 'Kingpin', 'The Gambler', 'August: Osage County', 'Ice Princess', 'A Lot Like Love', 'Eddie the Eagle', 'He Got Game', 'Don Juan DeMarco', 'Dear John', 'The Losers', \"Don't Be Afraid of the Dark\", 'War', 'Punch-Drunk Love', 'EuroTrip', 'Half Past Dead', 'Unaccompanied Minors', 'Bright Lights, Big City', 'The Adventures of Pinocchio', 'The Greatest Game Ever Played', 'The Box', 'The Ruins', 'The Next Best Thing', 'My Soul to Take', 'The Girl Next Door', 'Maximum Risk', 'Stealing Harvard', 'Legend', 'Hot Rod', 'Shark Night', \"Angela's Ashes\", 'Draft Day', 'Lifeforce', 'The Conspirator', 'Lords of Dogtown', 'The 33', 'Big Trouble in Little China', 'Fly Me to the Moon', 'Warrior', 'Michael Collins', 'Gettysburg', 'Stop-Loss', 'Abandon', 'Brokedown Palace', 'The Possession', 'Mrs. Winterbourne', 'Straw Dogs', 'The Hoax', 'Stone Cold', 'The Road', 'Sheena', 'Underclassman', \"Say It Isn't So\", \"The World's Fastest Indian\", 'Tank Girl', \"King's Ransom\", 'Blindness', 'BloodRayne', 'Carnage', 'Where the Truth Lies', 'Cirque du Soleil: Worlds Away', 'Without Limits', 'Me and Orson Welles', 'The Best Offer', 'The Bad Lieutenant: Port of Call - New Orleans', \"A Turtle's Tale: Sammy's Adventures\", 'Little White Lies', 'Love Ranch', \"The True Story of Puss 'n Boots\", 'Space Dogs', 'The Counselor', 'Ironclad', 'Waterloo', 'Kung Fu Jungle', 'Red Sky', 'Dangerous Liaisons', 'On the Road', 'Star Trek IV: The Voyage Home', 'Rocky Balboa', 'Scream 2', 'Jane Got a Gun', 'Think Like a Man Too', 'The Whole Nine Yards', 'Footloose', 'Old School', 'The Fisher King', 'I Still Know What You Did Last Summer', 'Return to Me', 'Zack and Miri Make a Porno', 'Nurse Betty', 'The Men Who Stare at Goats', 'Double Take', 'Girl, Interrupted', 'Win a Date with Tad Hamilton!', 'Muppets from Space', 'The Wiz', 'Ready to Rumble', 'Play It to the Bone', \"I Don't Know How She Does It\", 'Piranha 3D', 'Beyond the Sea', 'Meet the Deedles', 'The Thief and the Cobbler', 'The Bridge of San Luis Rey', 'Faster', \"Howl's Moving Castle\", 'Zombieland', 'The Waterboy', 'The Empire Strikes Back', 'Bad Boys', 'The Naked Gun 2½: The Smell of Fear', 'Final Destination', 'The Ides of March', 'Pitch Black', 'Someone Like You...', 'Her', 'Joy Ride', 'The Adventurer: The Curse of the Midas Box', 'Anywhere But Here', 'The Crew', 'Haywire', 'Jaws: The Revenge', \"Marvin's Room\", 'The Longshots', 'The End of the Affair', 'Harley Davidson and the Marlboro Man', 'In the Valley of Elah', 'Coco Before Chanel', 'Forsaken', 'Cheri', 'Vanity Fair', 'Bodyguards and Assassins', '1408', 'Spaceballs', 'The Water Diviner', 'Ghost', \"There's Something About Mary\", 'The Santa Clause', 'The Rookie', 'The Game Plan', 'The Bridges of Madison County', 'The Animal', 'Gandhi', 'The Hundred-Foot Journey', 'The Net', 'I Am Sam', 'Son of God', 'Underworld', 'Derailed', 'The Informant!', 'Shadowlands', 'Deuce Bigalow: European Gigolo', 'Delivery Man', 'Our Kind of Traitor', 'Saving Silverman', 'Diary of a Wimpy Kid: Dog Days', 'Summer of Sam', 'Jay and Silent Bob Strike Back', 'The Glass House', 'Hail, Caesar!', 'Josie and the Pussycats', 'Homefront', 'The Little Vampire', 'I Heart Huckabees', 'RoboCop 3', 'Megiddo: The Omega Code 2', 'Darling Lili', 'Dudley Do-Right', 'The Transporter Refueled', 'The Libertine', 'Black Book', 'Joyeux Noël', 'Hit & Run', 'Mad Money', 'Before I Go to Sleep', 'Sorcerer', 'Stone', 'Moliere', 'Out of the Furnace', 'Michael Clayton', 'My Fellow Americans', 'Arlington Road', 'Underdogs', 'To Rome with Love', 'Firefox', 'South Park: Bigger, Longer & Uncut', 'Death at a Funeral', 'Teenage Mutant Ninja Turtles III', 'Hardball', 'Silver Linings Playbook', 'Freedom Writers', 'For Colored Girls', 'The Transporter', 'Never Back Down', 'The Rage: Carrie 2', 'Away We Go', 'Swing Vote', 'Moonlight Mile', 'Tinker Tailor Soldier Spy', 'Molly', 'The Beaver', 'The Best Little Whorehouse in Texas', 'eXistenZ', 'Raiders of the Lost Ark', 'Home Alone 2: Lost in New York', 'Close Encounters of the Third Kind', 'Pulse', 'Beverly Hills Cop II', 'Bringing Down the House', 'The Silence of the Lambs', \"Wayne's World\", 'Jackass 3D', 'Jaws 2', 'Beverly Hills Chihuahua', 'The Conjuring', 'Are We There Yet?', 'Tammy', 'School of Rock', 'Mortal Kombat', 'White Chicks', 'The Descendants', 'Holes', 'The Last Song', '12 Years a Slave', 'Drumline', 'Why Did I Get Married Too?', 'Edward Scissorhands', 'Me Before You', \"Madea's Witness Protection\", 'The French Connection', 'Bad Moms', 'Date Movie', 'Return to Never Land', 'Selma', 'The Jungle Book 2', 'Boogeyman', 'Premonition', 'The Tigger Movie', 'Orphan', 'Max', 'Epic Movie', 'Spotlight', 'Lakeview Terrace', 'The Grudge 2', 'How Stella Got Her Groove Back', \"Bill & Ted's Bogus Journey\", 'Man of the Year', 'The Black Hole', 'The American', 'Selena', 'Vampires Suck', 'Babel', 'This Is Where I Leave You', 'Doubt', 'Team America: World Police', 'Texas Chainsaw 3D', 'Copycat', 'Scary Movie 5', 'Paint Your Wagon', 'Milk', 'Risen', 'Ghost Ship', 'A Very Harold & Kumar Christmas', 'Wild Things', 'The Stepfather', 'The Debt', 'High Fidelity', 'One Missed Call', 'Eye for an Eye', 'The Bank Job', 'Eternal Sunshine of the Spotless Mind', 'You Again', 'Street Kings', \"The World's End\", 'Nancy Drew', 'Daybreakers', \"She's Out of My League\", 'Monte Carlo', 'Stay Alive', 'Quigley Down Under', 'Alpha and Omega', 'The Covenant', 'Stick It', 'Shorts', 'To Die For', 'Nerve', 'Appaloosa', 'Vampires', 'Psycho', \"My Best Friend's Girl\", 'Endless Love', 'Georgia Rule', 'Under the Rainbow', 'Ladyhawke', 'Simon Birch', 'Reign Over Me', 'Into the Wild', 'School for Scoundrels', 'Silent Hill: Revelation 3D', 'From Dusk Till Dawn', \"Pooh's Heffalump Movie\", 'Home for the Holidays', 'Kung Fu Hustle', 'The Country Bears', 'The Kite Runner', '21 Grams', 'Paparazzi', 'A Guy Thing', 'Loser', 'Capitalism: A Love Story', 'The Greatest Story Ever Told', 'Secret in Their Eyes', 'Disaster Movie', 'Armored', 'The Man Who Knew Too Little', \"What's Your Number?\", 'Lockout', 'Envy', 'Crank: High Voltage', 'Bullets Over Broadway', 'One Night with the King', 'The Quiet American', 'The Weather Man', 'Undisputed', 'Ghost Town', '12 Rounds', 'Let Me In', '3 Ninjas Kick Back', 'Be Kind Rewind', 'Mrs Henderson Presents', 'Triple 9', 'Deconstructing Harry', 'Three to Tango', 'Burnt', \"We're No Angels\", 'Everyone Says I Love You', 'Death Sentence', \"Everybody's Fine\", 'Superbabies: Baby Geniuses 2', 'The Man', 'Code Name: The Cleaner', 'Connie and Carla', 'Sweet Charity', 'Inherent Vice', 'Doogal', 'Battle of the Year', 'An American Carol', 'Machete Kills', 'Willard', 'Strange Wilderness', 'Topsy-Turvy', 'Little Boy', 'A Dangerous Method', 'A Scanner Darkly', 'Chasing Mavericks', 'Alone in the Dark', 'Bandslam', 'Birth', 'A Most Violent Year', 'Passchendaele', 'Flash of Genius', \"I'm Not There.\", 'The Cold Light of Day', 'The Brothers Bloom', 'Synecdoche, New York', 'Princess Mononoke', 'Bon voyage', \"Can't Stop the Music\", 'The Proposition', 'My All American', 'Marci X', 'Equilibrium', 'The Children of Huang Shi', 'The Yards', 'The Oogieloves in the Big Balloon Adventure', 'By the Sea', 'Steamboy', 'The Game of Their Lives', 'All Good Things', 'Rapa Nui', 'CJ7', 'The Visitors II: The Corridors of Time', 'Dylan Dog: Dead of Night', 'People I Know', 'The Tempest', 'Regression', 'Three Kingdoms: Resurrection of the Dragon', 'Butterfly on a Wheel', 'Zambezia', 'Ramanujan', 'Dwegons', 'Hands of Stone', 'Survivor', 'The Frozen Ground', 'The Painted Veil', 'The Baader Meinhof Complex', 'Dances with Wolves', 'Bad Teacher', 'Sea of Love', 'A Cinderella Story', 'Scream', 'Thir13en Ghosts', 'The Shining', 'Back to the Future', 'House on Haunted Hill', 'I Can Do Bad All By Myself', 'Fight Valley', 'The Switch', 'Just Married', \"The Devil's Double\", 'Thomas and the Magic Railroad', 'The Crazies', 'Spirited Away', 'Firestorm', 'The Bounty', 'The Book Thief', 'Sex Drive', 'Leap Year', 'The Fall of the Roman Empire', 'Take Me Home Tonight', \"Won't Back Down\", 'The Nutcracker', 'Kansas City', 'Indignation', 'The Amityville Horror', 'Adaptation.', 'Land of the Dead', 'Out of Inferno', 'Fear and Loathing in Las Vegas', 'The Invention of Lying', 'Neighbors', 'The Mask', 'Big', 'Borat: Cultural Learnings of America for Make Benefit Glorious Nation of Kazakhstan', 'Legally Blonde', 'Star Trek III: The Search for Spock', 'The Exorcism of Emily Rose', 'Deuce Bigalow: Male Gigolo', 'Left Behind', 'The Family Stone', 'Barbershop 2:  Back in Business', 'Bad Santa', 'Austin Powers: International Man of Mystery', 'My Big Fat Greek Wedding 2', 'Diary of a Wimpy Kid: Rodrick Rules', 'Predator', 'Amadeus', 'Prom Night', 'Mean Girls', 'Under the Tuscan Sun', 'Gosford Park', 'Peggy Sue Got Married', 'Birdman', 'Blue Jasmine', 'United 93', 'Honey', 'Spy Hard', 'The Fog', 'Soul Surfer', 'Catch-22', 'Observe and Report', 'Conan the Destroyer', 'Raging Bull', 'Love Happens', 'Young Sherlock Holmes', 'Fame', '127 Hours', 'Small Time Crooks', 'Center Stage', 'Love the Coopers', 'Catch That Kid', 'Life as a House', 'Steve Jobs', 'I Love You, Beth Cooper', 'Youth in Revolt', 'The Legend of the Lone Ranger', 'The Tailor of Panama', 'Blow Out', 'Getaway', 'The Ice Storm', 'And So It Goes', 'Troop Beverly Hills', 'Being Julia', 'Nine 1/2 Weeks', 'Dragonslayer', 'The Last Station', 'Ed Wood', 'Labor Day', 'Mongol: The Rise of Genghis Khan', 'RockNRolla', 'Megaforce', 'Hamlet', \"Mao's Last Dancer\", 'Midnight Special', 'Anything Else', 'The Railway Man', 'The White Ribbon', 'Restoration', 'The Wraith', 'Salton Sea', 'Metallica: Through the Never', 'The Informers', 'Carlos', 'I Come with the Rain', \"One Man's Hero\", 'Day of the Dead', 'I Am Wrath', 'Renaissance', 'Red Sonja', 'Red Lights', 'Superbad', 'Madea Goes to Jail', 'Wolves', 'Step Up 2: The Streets', 'Hoodwinked!', 'Hotel Rwanda', 'Hitman', 'Black Nativity', 'The Prince', 'City of Ghosts', 'The Others', 'Aliens', 'My Fair Lady', 'I Know What You Did Last Summer', \"Let's Be Cops\", 'Sideways', 'Beerfest', 'Halloween', 'Good Boy!', 'The Best Man Holiday', \"Smokin' Aces\", 'Saw: The Final Chapter', '40 Days and 40 Nights', 'A Night at the Roxbury', 'Beastly', 'The Hills Have Eyes', 'Dickie Roberts: Former Child Star', 'McFarland, USA', 'Lottery Ticket', 'ATL', 'Pitch Perfect', 'Summer Catch', 'A Simple Plan', 'They', 'Larry the Cable Guy: Health Inspector', 'The Adventures of Elmo in Grouchland', \"Brooklyn's Finest\", '55 Days at Peking', 'Evil Dead', 'My Life in Ruins', 'American Dreamz', 'Superman IV: The Quest for Peace', 'How She Move', 'Running Scared', 'Bobby Jones: Stroke of Genius', 'Shanghai Surprise', 'The Illusionist', 'Roar', 'Veronica Guerin', 'Escobar: Paradise Lost', 'Southland Tales', 'Dragon Hunters', 'Damnation Alley', 'The Apparition', 'My Girl', 'Fur: An Imaginary Portrait of Diane Arbus', 'Wall Street', 'Sense and Sensibility', 'Becoming Jane', 'Sydney White', 'House of Sand and Fog', 'Dead Poets Society', 'Dumb and Dumber', 'When Harry Met Sally...', 'The Verdict', 'Road Trip', 'Varsity Blues', 'The Artist', 'The Unborn', 'Moonrise Kingdom', 'The Texas Chainsaw Massacre: The Beginning', 'The Young Messiah', 'The Master of Disguise', \"Pan's Labyrinth\", 'See Spot Run', 'Baby Boy', 'The Roommate', 'Joe Dirt', 'Double Impact', 'Hot Fuzz', 'The Women', 'Vicky Cristina Barcelona', 'Arn: The Knight Templar', 'Boys and Girls', 'White Oleander', \"Jennifer's Body\", 'Drowning Mona', 'Radio Days', 'Remember Me', 'How to Deal', 'My Stepmother is an Alien', 'Philadelphia', 'The Thirteenth Floor', 'The Cookout', 'Meteor', 'Duets', 'Hollywood Ending', 'Detroit Rock City', 'Highlander', 'Things We Lost in the Fire', 'Steel', 'The Immigrant', 'The White Countess', 'Trance', 'Soul Plane', 'Welcome to the Sticks', 'Good', 'Enter the Void', 'Vamps', \"Hachi: A Dog's Tale\", 'Zulu', 'The Homesman', 'Juwanna Mann', 'Ararat', 'Madison', 'Slow Burn', 'Wasabi', 'Slither', 'Beverly Hills Cop', 'Home Alone', 'Three Men and a Baby', 'Tootsie', 'Top Gun', 'Crouching Tiger, Hidden Dragon', 'American Beauty', \"The King's Speech\", 'Twins', 'The Yellow Handkerchief', 'The Color Purple', 'Tidal Wave', 'The Imitation Game', 'Private Benjamin', \"Coal Miner's Daughter\", 'Diary of a Wimpy Kid', 'Mama', \"National Lampoon's Vacation\", 'Bad Grandpa', 'The Queen', 'Beetlejuice', 'Why Did I Get Married?', 'Little Women', 'The Woman in Black', 'When a Stranger Calls', 'Big Fat Liar', 'The Deer Hunter', 'Wag the Dog', 'The Lizzie McGuire Movie', 'Snitch', 'Krampus', 'The Faculty', \"What's Love Got to Do with It\", 'Cop Land', 'Not Another Teen Movie', 'End of Watch', 'The Skulls', 'The Theory of Everything', \"Malibu's Most Wanted\", 'Where the Heart Is', 'Lawrence of Arabia', 'Halloween II', 'Wild', 'The Last House on the Left', 'The Wedding Date', 'Halloween: Resurrection', 'The Princess Bride', 'The Great Debaters', 'Drive', 'Confessions of a Teenage Drama Queen', 'The Object of My Affection', '28 Weeks Later', 'When the Game Stands Tall', 'Because of Winn-Dixie', 'Love & Basketball', 'Grosse Pointe Blank', 'All About Steve', 'Book of Shadows: Blair Witch 2', 'The Craft', 'Match Point', 'Ramona and Beezus', 'The Remains of the Day', 'Boogie Nights', 'Nowhere to Run', 'Flicka', 'The Hills Have Eyes 2', 'Urban Legends: Final Cut', 'Tuck Everlasting', 'The Marine', 'Keanu', 'Country Strong', 'Disturbing Behavior', 'The Place Beyond the Pines', 'The November Man', 'Eye of the Beholder', 'The Hurt Locker', 'Firestarter', 'Killing Them Softly', 'A Most Wanted Man', 'Freddy Got Fingered', \"VeggieTales: The Pirates Who Don't Do Anything\", 'U2 3D', 'Highlander: Endgame', 'Idlewild', 'One Day', 'Whip It', 'Knockaround Guys', 'Confidence', 'The Muse', 'De-Lovely', 'New York Stories', \"Barney's Great Adventure\", 'The Man with the Iron Fists', 'Home Fries', 'Here On Earth', 'Brazil', 'Raise Your Voice', 'The Big Lebowski', 'Black Snake Moan', 'Dark Blue', 'A Mighty Heart', 'Whatever It Takes', 'Boat Trip', 'The Importance of Being Earnest', 'The Love Letter', 'Hoot', 'In Bruges', 'Peeples', 'The Rocker', 'Post Grad', 'Promised Land', 'Whatever Works', 'The In Crowd', 'The Three Burials of Melquiades Estrada', 'Jakob the Liar', 'Kiss Kiss Bang Bang', 'Idle Hands', 'Mulholland Drive', 'Blood and Chocolate', 'You Will Meet a Tall Dark Stranger', 'Never Let Me Go', 'The Company', 'Transsiberian', 'The Clan of the Cave Bear', 'Crazy in Alabama', 'Funny Games', 'Listening', \"Felicia's Journey\", 'Metropolis', 'District B13', \"Things to Do in Denver When You're Dead\", 'The Assassin', 'Buffalo Soldiers', 'The Return', 'Ong Bak 2', 'Centurion', 'Silent Trigger', 'The Midnight Meat Train', 'Winnie Mandela', 'The Son of No One', \"All The Queen's Men\", 'The Good Night', 'Bathory: Countess of Blood', 'Khumba', 'Automata', 'Dungeons & Dragons: Wrath of the Dragon God', 'Chiamatemi Francesco - Il Papa della gente', 'Shinjuku Incident', 'Pandaemonium', 'Groundhog Day', 'Magic Mike XXL', 'Romeo + Juliet', \"Sarah's Key\", 'Freedom', 'Unforgiven', 'Manderlay', 'Slumdog Millionaire', 'Fatal Attraction', 'Pretty Woman', 'Crocodile Dundee II', 'Broken Horses', 'Born on the Fourth of July', 'Cool Runnings', 'My Bloody Valentine', 'Stomp the Yard', 'The Spy Who Loved Me', 'Urban Legend', 'Good Deeds', 'White Fang', 'Superstar', 'The Iron Lady', 'Jonah: A VeggieTales Movie', 'Poetic Justice', 'All About the Benjamins', 'Vampire in Brooklyn', 'Exorcist II: The Heretic', 'An American Haunting', \"My Boss's Daughter\", 'A Perfect Getaway', 'Our Family Wedding', 'Dead Man on Campus', 'Tea with Mussolini', 'Thinner', 'New York, New York', 'Crooklyn', 'I Think I Love My Wife', 'Jason X', 'Bobby', 'Head Over Heels', 'Fun Size', 'The Diving Bell and the Butterfly', 'Little Children', 'Gossip', 'A Walk on the Moon', 'Catch a Fire', 'Soul Survivors', 'Jefferson in Paris', 'Easy Virtue', 'Caravans', 'Mr. Turner', 'Wild Grass', 'Amen.', 'Reign of Assassins', 'The Lucky Ones', 'Margaret', 'Stan Helsing', 'Flipped', 'Brokeback Mountain', 'Clueless', 'Far from Heaven', 'Hot Tub Time Machine 2', 'Quills', 'Seven Psychopaths', \"The Caveman's Valentine\", 'Downfall', 'The Sea Inside', 'Under the Skin', 'Good Morning, Vietnam', 'The Last Godfather', 'Justin Bieber: Never Say Never', 'Black Swan', 'The Godfather: Part II', 'Save the Last Dance', 'A Nightmare on Elm Street 4: The Dream Master', 'Miracles from Heaven', 'Dude, Where’s My Car?', 'Young Guns', 'St. Vincent', 'About Last Night', '10 Things I Hate About You', 'The New Guy', \"National Lampoon's Loaded Weapon 1\", 'The Shallows', 'The Butterfly Effect', 'Snow Day', 'This Christmas', 'Baby Geniuses', 'The Big Hit', 'Harriet the Spy', \"Child's Play 2\", 'No Good Deed', 'The Mist', 'Ex Machina', 'Being John Malkovich', 'Two Can Play That Game', 'Earth to Echo', 'Crazy/Beautiful', 'Letters from Iwo Jima', 'The Astronaut Farmer', 'Woo', 'Room', 'Dirty Work', 'Serial Mom', 'Dick', 'Light It Up', '54', 'Bubble Boy', 'Birthday Girl', '21 & Over', \"Paris, je t'aime\", 'Resurrecting the Champ', 'Admission', 'The Widow of Saint-Pierre', 'Chloe', 'Faithful', 'Find Me Guilty', 'The Perks of Being a Wallflower', 'Excessive Force', 'Infamous', 'The Claim', 'The Vatican Tapes', 'Attack the Block', 'In the Land of Blood and Honey', 'The Call', 'Operation Chromite', 'The Crocodile Hunter: Collision Course', 'I Love You Phillip Morris', 'Quest for Fire', 'Antwone Fisher', \"The Emperor's Club\", 'True Romance', 'Womb', 'Glengarry Glen Ross', 'The Killer Inside Me', 'Cat People', 'Sorority Row', 'The Prisoner of Zenda', 'Lars and the Real Girl', 'The Boy in the Striped Pyjamas', 'Dancer in the Dark', 'Oscar and Lucinda', 'The Funeral', 'Solitary Man', 'Machete', 'Casino Jack', 'The Land Before Time', 'Tae Guk Gi: The Brotherhood of War', 'The Perfect Game', 'The Exorcist', 'Jaws', 'American Pie', 'Ernest & Celestine', 'The Golden Child', 'Think Like a Man', 'Barbershop', 'Star Trek II: The Wrath of Khan', 'Ace Ventura: Pet Detective', 'WarGames', 'Witness', 'Act of Valor', 'Step Up', 'Beavis and Butt-Head Do America', 'Jackie Brown', 'Harold & Kumar Escape from Guantanamo Bay', 'Chronicle', 'Yentl', 'Time Bandits', 'Crossroads', 'Project X', 'Patton', 'One Hour Photo', 'Quarantine', 'The Eye', 'Johnson Family Vacation', 'How High', 'The Muppet Christmas Carol', 'Frida', 'Katy Perry: Part of Me', 'The Fault in Our Stars', 'Rounders', 'Top Five', 'Prophecy', 'Stir of Echoes', 'Philomena', 'The Upside of Anger', 'The Boys from Brazil', 'Aquamarine', 'Paper Towns', \"My Baby's Daddy\", 'Nebraska', 'Tales from the Crypt: Demon Knight', \"Max Keeble's Big Move\", 'Young Adult', 'Crank', \"Def Jam's How to Be a Player\", 'Living Out Loud', 'Just Wright', 'Rachel Getting Married', 'The Postman Always Rings Twice', 'Girl with a Pearl Earring', 'Das Boot', 'Sorority Boys', 'About Time', 'House of Flying Daggers', 'Arbitrage', 'Project Almanac', 'Cadillac Records', 'Screwed', 'Fortress', 'For Your Consideration', 'Celebrity', 'Running with Scissors', 'From Justin to Kelly', 'Girl 6', 'In the Cut', 'Two Lovers', 'Last Orders', 'The Host', 'The Pursuit of D.B. Cooper', 'Ravenous', 'Charlie Bartlett', 'The Great Beauty', 'The Dangerous Lives of Altar Boys', 'Stoker', '2046', 'Married Life', 'Duma', 'Ondine', 'Brother', 'Welcome to Collinwood', 'Critical Care', 'The Life Before Her Eyes', 'Darling Companion', 'Trade', 'Fateless', 'Breakfast of Champions', 'A Woman, a Gun and a Noodle Shop', 'Cypher', 'City of Life and Death', 'Legend of a Rabbit', 'Space Battleship Yamato', '5 Days of War', 'Triangle', '10 Days in a Madhouse', 'Heaven is for Real', 'Snatch', \"Dancin' It's On\", 'Pet Sematary', 'Madadayo', 'The Cry of the Owl', 'A Tale of Three Cities', 'Gremlins', 'Star Wars', 'Dirty Grandpa', 'Doctor Zhivago', 'Trash', 'High School Musical 3: Senior Year', 'The Fighter', 'Jackass Number Two', 'My Cousin Vinny', 'If I Stay', 'Drive Hard', 'Major League', \"St. Trinian's\", 'Phone Booth', 'A Walk to Remember', 'Dead Man Walking', 'Cruel Intentions', 'Saw VI', 'History of the World: Part I', 'The Secret Life of Bees', 'Corky Romano', 'Raising Cain', 'F.I.S.T.', 'Invaders from Mars', 'Brooklyn', 'Barry Lyndon', 'Out Cold', 'The Ladies Man', 'Quartet', 'Tomcats', 'Frailty', 'Woman in Gold', 'Kinsey', 'Army of Darkness', 'Slackers', \"What's Eating Gilbert Grape\", 'The Visual Bible: The Gospel of John', 'Vera Drake', 'The Guru', 'The Perez Family', 'Inside Llewyn Davis', 'O', 'Return to the Blue Lagoon', 'The Molly Maguires', 'Romance & Cigarettes', 'Copying Beethoven', 'Brighton Rock', 'Saw V', 'Machine Gun McCain', 'LOL', 'Jindabyne', 'Kabhi Alvida Naa Kehna', 'An Ideal Husband', 'The Last Days on Mars', 'Darkness', '2001: A Space Odyssey', 'E.T. the Extra-Terrestrial', 'In the Land of Women', 'The Blue Butterfly', 'There Goes My Baby', 'Housefull', 'September Dawn', 'For Greater Glory - The True Story of Cristiada', 'The Bélier Family', 'Good Will Hunting', 'Misconduct', 'Saw III', 'Stripes', 'Bring It On', 'The Purge: Election Year', \"She's All That\", 'Saw IV', 'White Noise', \"Madea's Family Reunion\", 'The Color of Money', 'The Longest Day', 'The Mighty Ducks', 'The Grudge', 'Happy Gilmore', 'Jeepers Creepers', \"Bill & Ted's Excellent Adventure\", 'Oliver!', 'The Best Exotic Marigold Hotel', \"Recess: School's Out\", 'Mad Max Beyond Thunderdome', 'Commando', 'The Boy', 'Devil', 'Friday After Next', 'Insidious: Chapter 3', 'The Last Dragon', 'The Lawnmower Man', \"Nick and Norah's Infinite Playlist\", 'Dogma', 'The Banger Sisters', 'Twilight Zone: The Movie', 'Road House', 'A Low Down Dirty Shame', 'Swimfan', 'Employee of the Month', \"Can't Hardly Wait\", 'The Outsiders', \"Pete's Dragon\", 'The Dead Zone', 'Sinister 2', 'Sparkle', 'Valentine', 'The Fourth Kind', 'A Prairie Home Companion', 'Sugar Hill', 'Invasion U.S.A.', 'Roll Bounce', 'Rushmore', 'Skyline', 'The Second Best Exotic Marigold Hotel', 'Kit Kittredge: An American Girl', 'The Perfect Man', \"Mo' Better Blues\", 'Kung Pow: Enter the Fist', 'Tremors', 'Wrong Turn', 'The Long Riders', 'The Corruptor', 'Mud', 'Reno 911!: Miami', 'One Direction: This Is Us', 'The Goods: Live Hard, Sell Hard', 'Hey Arnold! The Movie', 'My Week with Marilyn', 'The Matador', 'Love Jones', 'The Gift', 'End of the Spear', 'Get Over It', 'Office Space', 'Drop Dead Gorgeous', 'Big Eyes', 'Very Bad Things', 'Sleepover', 'Body Double', 'MacGruber', 'Dirty Pretty Things', 'Movie 43', 'Over Her Dead Body', 'Seeking a Friend for the End of the World', 'Cedar Rapids', 'American History X', 'The Collection', \"Teacher's Pet\", 'The Red Violin', 'The Straight Story', 'Deuces Wild', 'Bad Words', 'Run, Fatboy, Run', 'Heartbeeps', 'Black or White', 'On the Line', 'Rescue Dawn', 'Danny Collins', 'Jeff, Who Lives at Home', 'I Am Love', 'Atlas Shrugged Part II', 'Romeo Is Bleeding', 'The Limey', 'Crash', 'The House of Mirth', 'Malone', 'Peaceful Warrior', 'Bucky Larson: Born to Be a Star', 'Bamboozled', 'The Forest', 'Sphinx', \"While We're Young\", 'A Better Life', 'Spider', 'Gun Shy', 'Nicholas Nickleby', 'The Iceman', 'Krrish', 'Cecil B. Demented', 'Killer Joe', 'The Joneses', 'Owning Mahowny', 'The Brothers Solomon', 'My Blueberry Nights', 'Illuminata', 'Swept Away', 'War, Inc.', 'Shaolin Soccer', 'The Brown Bunny', 'The Swindle', 'Rosewater', 'The Chambermaid on the Titanic', 'Coriolanus', 'Imaginary Heroes', 'High Heels and Low Lifes', \"World's Greatest Dad\", 'Severance', 'Edmond', 'Welcome to the Rileys', 'Police Academy: Mission to Moscow', 'Blood Done Sign My Name', 'Cinco de Mayo: La Batalla', 'Elsa & Fred', 'An Alan Smithee Film: Burn, Hollywood, Burn', 'The Open Road', 'The Good Guy', 'Motherhood', 'Free Style', 'Strangerland', 'Janky Promoters', 'Blonde Ambition', 'The Oxford Murders', 'The Reef', 'Eulogy', 'White Noise 2: The Light', 'Beat the World', 'Fifty Dead Men Walking', 'Jungle Shuffle', 'Adam Resurrected', 'Of Horses and Men', \"It's a Wonderful Afterlife\", \"The Devil's Tomb\", 'Partition', 'Good Intentions', 'The Good, The Bad, The Weird', 'Nurse 3-D', 'Gunless', 'Adventureland', 'The Lost City', 'Next Friday', 'American Heist', 'You Only Live Twice', 'Plastic', 'Amour', 'Poltergeist III', 'Re-Kill', \"It's a Mad, Mad, Mad, Mad World\", 'Volver', 'Heavy Metal', 'Gentlemen Broncos', 'Richard III', 'Into the Grizzly Maze', 'Kites', 'Melancholia', 'Red Dog', 'Jab Tak Hai Jaan', 'Alien', 'The Texas Chain Saw Massacre', 'The Runaways', 'Fiddler on the Roof', 'Thunderball', 'Detention', 'Loose Cannons', 'Set It Off', 'The Best Man', \"Child's Play\", 'Sicko', 'The Purge: Anarchy', 'Down to You', 'Harold & Kumar Go to White Castle', 'The Contender', 'Boiler Room', 'Trading Places', 'Black Christmas', \"Breakin' All the Rules\", 'Henry V', 'The Savages', 'Chasing Papi', 'The Way of the Gun', 'Igby Goes Down', 'PCU', 'The Ultimate Gift', 'The Ice Pirates', 'Gracie', 'Trust the Man', 'Hamlet 2', 'Velvet Goldmine', 'The Wailing', 'Glee: The Concert Movie', 'The Legend of Suriyothai', 'Two Evil Eyes', 'Barbecue', 'All or Nothing', 'Princess Kaiulani', 'Opal Dream', 'Flame & Citron', 'Undiscovered', 'Red Riding: In the Year of Our Lord 1974', 'The Girl on the Train', 'Veronika Decides to Die', 'Crocodile Dundee', 'Ultramarines: A Warhammer 40,000 Movie', 'The I Inside', 'Beneath Hill 60', 'Polisse', 'Awake', 'Star Wars: Clone Wars: Volume 1', 'Skin Trade', 'The Lost Boys', 'Crazy Heart', 'The Rose', 'Baggage Claim', 'Barbarella', 'Shipwrecked', 'Election', 'The Namesake', 'The DUFF', 'Glitter', 'The Haunting in Connecticut 2: Ghosts of Georgia', 'Silmido', 'Bright Star', 'My Name Is Khan', 'All Is Lost', 'Limbo', 'Namastey London', 'The Wind That Shakes the Barley', 'Yeh Jawaani Hai Deewani', 'Quo Vadis', 'Repo! The Genetic Opera', 'Valley of the Wolves: Iraq', 'Pulp Fiction', 'The Muppet Movie', 'Nightcrawler', 'Club Dread', 'The Sound of Music', 'Splash', 'Little Miss Sunshine', 'Stand by Me', '28 Days Later', 'You Got Served', 'Escape from Alcatraz', 'Brown Sugar', 'A Thin Line Between Love and Hate', '50/50', 'Shutter', 'That Awkward Moment', 'Modern Problems', 'Kicks', 'Much Ado About Nothing', \"On Her Majesty's Secret Service\", 'New Nightmare', 'Drive Me Crazy', 'Akeelah and the Bee', 'Half Baked', 'New in Town', 'American Psycho', 'The Good Girl', 'Bon Cop Bad Cop', 'The Boondock Saints II: All Saints Day', 'The City of Your Final Destination', 'Enough Said', 'Easy A', 'The Inkwell', 'Shadow of the Vampire', 'Prom', 'The Pallbearer', 'Held Up', 'Woman on Top', 'Howards End', 'Anomalisa', 'Another Year', '8 Women', 'Showdown in Little Tokyo', 'Clay Pigeons', \"It's Kind of a Funny Story\", 'Made in Dagenham', 'When Did You Last See Your Father?', 'Prefontaine', 'The Wicked Lady', 'The Secret of Kells', 'Begin Again', 'Down in the Valley', 'Brooklyn Rules', 'Restless', 'The Singing Detective', 'The Land Girls', 'Fido', 'The Wendell Baker Story', 'Wild Target', 'Pathology', 'Wuthering Heights', '10th & Wolf', 'Dear Wendy', 'Aloft', 'Akira', 'The Death and Life of Bobby Z', 'The Rocket: The Legend of Rocket Richard', 'Swelter', 'My Lucky Star', 'Imagine Me & You', 'Mr. Church', 'Swimming Pool', 'Green Street Hooligans: Underground', 'The Blood of Heroes', 'Code of Honor', 'Driving Miss Daisy', 'Soul Food', 'Rumble in the Bronx', 'Far from Men', 'Thank You for Smoking', 'Hostel: Part II', 'An Education', 'Shopgirl', 'The Hotel New Hampshire', 'Narc', 'Men with Brooms', 'Witless Protection', 'The Work and the Glory', 'Extract', 'Masked and Anonymous', 'Betty Fisher and Other Stories', 'Code 46', 'Outside Bet', 'Albert Nobbs', 'Black November', 'Ta Ra Rum Pum', 'Persepolis', 'The Hole', 'The Wave', 'The Neon Demon', 'Harry Brown', 'The Omega Code', 'Juno', 'Pound of Flesh', 'Diamonds Are Forever', 'The Godfather', 'Flashdance', '(500) Days of Summer', 'The Piano', 'Magic Mike', 'Darkness Falls', 'Live and Let Die', 'My Dog Skip', 'Definitely, Maybe', 'Jumping the Broom', 'Good Night, and Good Luck.', 'Capote', 'Desperado', \"Logan's Run\", 'The Man with the Golden Gun', 'Action Jackson', 'The Descent', 'Michael Jordan to the Max', \"Devil's Due\", 'Flirting with Disaster', \"The Devil's Rejects\", 'Dope', 'In Too Deep', 'House of 1000 Corpses', 'Alien Zone', 'A Serious Man', 'Get Low', 'Warlock', 'Beyond the Lights', 'A Single Man', 'The Last Temptation of Christ', 'Outside Providence', 'Bride & Prejudice', 'Rabbit-Proof Fence', \"Who's Your Caddy?\", 'Split Second', 'The Other Side of Heaven', 'Veer-Zaara', 'Redbelt', 'Cyrus', 'A Dog Of Flanders', 'Auto Focus', 'Factory Girl', 'We Need to Talk About Kevin', 'The Christmas Candle', 'The Mighty Macs', \"Losin' It\", 'Mother and Child', 'March or Die', 'The Visitors', 'Somewhere', 'I Hope They Serve Beer in Hell', 'Chairman of the Board', 'Hesher', 'Dom Hemingway', 'Gerry', 'The Heart of Me', 'Freeheld', 'The Extra Man', 'Hard to Be a God', 'Ca$h', 'Wah-Wah', 'The Boondock Saints', 'Z Storm', 'Twixt', 'The Snow Queen', 'Alpha and Omega: The Legend of the Saw Tooth Cave', 'Pale Rider', 'Stargate: The Ark of Truth', 'Dazed and Confused', 'High School Musical 2', 'Two Lovers and a Bear', 'Criminal Activities', 'Aimee & Jaguar', 'The Chumscrubber', 'Shade', 'House at the End of the Street', 'Incendies', 'Remember Me, My Love', 'Perrier’s Bounty', 'Elite Squad', 'Annabelle', 'Bran Nue Dae', 'Boyz n the Hood', 'La Bamba', 'The Four Seasons', 'Dressed to Kill', 'The Adventures of Huck Finn', 'Go', 'Friends with Money', 'The Andromeda Strain', 'Bats', 'Nowhere in Africa', 'Shame', 'Layer Cake', 'The Work and the Glory II: American Zion', 'The East', 'A Home at the End of the World', 'Aberdeen', 'The Messenger', 'Tracker', 'Control', 'The Terminator', 'Good bye, Lenin!', 'The Damned United', 'The Return of the Living Dead', 'Mallrats', 'Grease', 'Platoon', 'Fahrenheit 9/11', 'Butch Cassidy and the Sundance Kid', 'Mary Poppins', 'Ordinary People', 'West Side Story', 'Caddyshack', 'The Brothers', 'The Wood', 'The Usual Suspects', 'A Nightmare on Elm Street 5: The Dream Child', 'National Lampoon’s Van Wilder', 'The Wrestler', 'Duel in the Sun', 'Best in Show', 'Escape from New York', 'School Daze', 'Daddy Day Camp', 'Mr. Nice Guy', 'A Mighty Wind', 'Mystic Pizza', 'Sliding Doors', 'Tales from the Hood', 'The Last King of Scotland', 'Halloween 5: The Revenge of Michael Myers', 'Bernie', 'Dolphins and Whales: Tribes of the Ocean', 'Pollock', '200 Cigarettes', 'The Words', 'Casa De Mi Padre', 'City Island', 'The Guard', 'College', 'The Virgin Suicides', 'Little Voice', 'Miss March', 'Wish I Was Here', 'Simply Irresistible', 'Hedwig and the Angry Inch', 'Only the Strong', 'Goddess of Love', 'Shattered Glass', 'Novocaine', 'The Business of Strangers', 'The Wild Bunch', 'The Wackness', 'The First Great Train Robbery', 'Morvern Callar', 'Beastmaster 2: Through the Portal of Time', 'The 5th Quarter', 'The Flower of Evil', 'The Greatest', 'Snow Flower and the Secret Fan', 'Come Early Morning', 'Lucky Break', 'Julia', 'Surfer, Dude', 'Lake of Fire', '11:14', 'Men of War', 'Don McKay', 'Deadfall', 'A Shine of Rainbows', 'The Hit List', 'Emma', 'Videodrome', 'The Spanish Apartment', 'Song One', 'Winter in Wartime', 'Freaky Deaky', 'The Train', 'Trade Of Innocents', 'The Protector', 'Stiff Upper Lips', 'Bend It Like Beckham', 'Sunshine State', 'Crossover', 'Khiladi 786', '[REC]²', 'Standing Ovation', 'The Sting', 'Chariots of Fire', 'Diary of a Mad Black Woman', 'Shine', 'Don Jon', 'High Plains Drifter', 'Ghost World', 'Iris', 'Galaxina', 'The Chorus', 'Mambo Italiano', 'Wonderland', 'Do the Right Thing', 'Harvard Man', 'Le Havre', 'Irreversible', 'R100', 'Rang De Basanti', 'Animals', 'Salvation Boulevard', 'The Ten', 'A Room for Romeo Brass', 'Headhunters', 'Grabbers', 'Saint Ralph', 'Miss Julie', 'Somewhere in Time', 'Dum Maaro Dum', 'Insidious: Chapter 2', 'Saw II', '10 Cloverfield Lane', 'Jackass: The Movie', 'Lights Out', 'Paranormal Activity 3', 'Ouija', 'A Nightmare on Elm Street 3: Dream Warriors', 'Instructions Not Included', 'Paranormal Activity 4', 'The Robe', 'The Return of the Pink Panther', \"Freddy's Dead: The Final Nightmare\", 'Monster', '20,000 Leagues Under the Sea', 'Paranormal Activity: The Marked Ones', 'The Elephant Man', 'Dallas Buyers Club', 'The Lazarus Effect', 'Memento', 'Oculus', 'Clerks II', 'Billy Elliot', 'The Way Way Back', 'House Party 2', 'The Man from Snowy River', \"Doug's 1st Movie\", 'The Apostle', 'Mommie Dearest', 'Our Idiot Brother', 'Race', 'The Players Club', 'As Above, So Below', 'Addicted', \"Eve's Bayou\", 'Still Alice', 'The Egyptian', 'Nighthawks', 'Friday the 13th Part VIII: Jason Takes Manhattan', 'My Big Fat Greek Wedding', 'Spring Breakers', 'Halloween: The Curse of Michael Myers', 'Y Tu Mamá También', 'Shaun of the Dead', 'The Haunting of Molly Hartley', 'Lone Star', 'Halloween 4: The Return of Michael Myers', \"April Fool's Day\", 'Diner', 'Lone Wolf McQuade', 'Apollo 18', 'Sunshine Cleaning', 'No Escape', 'The Beastmaster', 'Solomon and Sheba', 'Fifty Shades of Black', 'Not Easily Broken', 'A Farewell to Arms', 'The Perfect Match', 'Digimon: The Movie', 'Saved!', 'The Barbarian Invasions', 'Robin and Marian', 'The Forsaken', 'Force 10 from Navarone', 'UHF', \"Grandma's Boy\", 'Slums of Beverly Hills', 'Once Upon a Time in the West', 'Made', 'Moon', 'Keeping Up with the Steins', 'Sea Rex 3D: Journey to a Prehistoric World', 'The Sweet Hereafter', 'Of Gods and Men', 'Bottle Shock', 'Jekyll and Hyde ... Together Again', 'Heavenly Creatures', '90 Minutes in Heaven', 'Everything Must Go', 'Zero Effect', 'The Machinist', 'Light Sleeper', 'Kill the Messenger', 'Rabbit Hole', 'Party Monster', 'Green Room', 'The Oh in Ohio', 'Atlas Shrugged Part III: Who is John Galt?', 'Bottle Rocket', 'Albino Alligator', 'Gandhi, My Father', 'Standard Operating Procedure', 'Out of the Blue', 'Tucker and Dale vs Evil', 'Lovely, Still', 'Tycoon', 'Desert Blue', 'Decoys', 'The Visit', 'Redacted', 'Fascination', 'Area 51', 'Sleep Tight', 'The Cottage', 'Dead Like Me: Life After Death', 'Farce of the Penguins', 'Flying By', 'Rudderless', 'Henry & Me', 'Christmas Eve', 'We Have Your Husband', 'Dying of the Light', 'Born Of War', 'Capricorn One', \"Should've Been Romeo\", 'Running Forever', 'Yoga Hosers', 'Navy Seals vs. Zombies', 'I Served the King of England', 'Soul Kitchen', 'Sling Blade', 'The Awakening', 'Hostel', 'A Cock and Bull Story', 'Take Shelter', 'Lady in White', 'Driving Lessons', \"Let's Kill Ward's Wife\", 'The Texas Chainsaw Massacre 2', 'Pat Garrett & Billy the Kid', 'Only God Forgives', 'Camping Sauvage', 'Without Men', 'Dear Frankie', 'All Hat', 'The Names of Love', 'Treading Water', 'Savage Grace', 'Out of the Blue', 'Police Academy', 'The Blue Lagoon', 'Four Weddings and a Funeral', 'Fast Times at Ridgemont High', 'Moby Dick', '25th Hour', 'Bound', 'Requiem for a Dream', 'State Fair', 'Tango', 'Salvador', \"Moms' Night Out\", 'Donnie Darko', 'Saving Private Perez', 'Character', 'Spun', 'Life During Wartime', 'Sympathy for Lady Vengeance', \"Mozart's Sister\", 'Mean Machine', 'Exiled', 'Blackthorn', 'Lilya 4-ever', 'After.Life', 'Fugly', \"One Flew Over the Cuckoo's Nest\", \"R.L. Stine's Monsterville: The Cabinet of Souls\", 'Silent Movie', 'Airlift', 'Anne of Green Gables', 'Falcon Rising', 'The Sweeney', 'Sexy Beast', 'Easy Money', 'Whale Rider', 'Paa', 'Cargo', 'High School Musical', 'Love and Death on Long Island', 'Night Watch', 'The Crying Game', \"Porky's\", 'Survival of the Dead', 'Night of the Living Dead', 'Lost in Translation', 'Annie Hall', 'The Greatest Show on Earth', \"Monster's Ball\", 'Maggie', 'Leaving Las Vegas', 'Hansel and Gretel Get Baked', 'The Front Page', 'The Boy Next Door', 'Trapeze', 'The Kids Are All Right', 'They Live', 'The Great Escape', 'What the #$*! Do We (K)now!?', 'The Last Exorcism Part II', 'Boyhood', 'Scoop', 'The Wash', '3 Strikes', 'The Cooler', 'The Misfits', 'The Night Listener', 'The Jerky Boys', 'The Orphanage', 'A Haunted House 2', 'The Rules of Attraction', 'Topaz', \"Let's Go to Prison\", 'Four Rooms', 'Secretary', 'The Real Cancun', 'Talk Radio', 'Waiting for Guffman', 'Love Stinks', 'You Kill Me', 'Thumbsucker', 'Red State', 'Mirrormask', 'Samsara', 'The Barbarians', 'The Art of Getting By', 'Zipper', 'Poolhall Junkies', 'The Loss of Sexual Innocence', 'Holy Motors', 'Joe', 'Shooting Fish', 'Prison', 'Psycho Beach Party', 'The Big Tease', 'Guten Tag, Ramón', 'Trust', 'An Everlasting Piece', 'Among Giants', 'Adore', 'The Velocity of Gary', 'Mondays in the Sun', 'Stake Land', 'The Last Time I Committed Suicide', 'Futuro Beach', 'Another Happy Day', 'A Lonely Place to Die', 'Nothing', 'The Geographer Drank His Globe Away', '1776', 'Inescapable', \"Hell's Angels\", 'Purple Violets', 'The Veil', 'The Loved Ones', 'The Helpers', 'How to Fall in Love', 'The Perfect Wave', 'A Man for All Seasons', 'Network', 'Gone with the Wind', 'Desert Dancer', 'Major Dundee', 'Annie Get Your Gun', 'Four Lions', 'The House of Sand', 'Defendor', 'The Pirate', 'The Good Heart', 'The History Boys', 'Midnight Cowboy', 'The Full Monty', 'Airplane!', 'Chain of Command', 'Friday', 'Menace II Society', 'Creepshow 2', 'The Ballad of Cable Hogue', 'In Cold Blood', \"The Nun's Story\", 'Harper', 'Frenzy', 'The Witch', 'I Got the Hook Up', \"She's the One\", 'Gods and Monsters', 'The Secret in Their Eyes', 'Train', 'Evil Dead II', 'Pootie Tang', 'Sharknado', 'The Other Conquest', 'Troll Hunter', 'Ira & Abby', 'Winter Passing', 'D.E.B.S.', 'The Masked Saint', 'The Betrayed', 'Taxman', 'The Secret', '2:13', 'Batman: The Dark Knight Returns, Part 2', 'Time to Choose', 'In the Name of the King III', 'Wicked Blood', 'Stranded', 'Lords of London', 'High Anxiety', 'March of the Penguins', 'Margin Call', 'August', 'Choke', 'Whiplash', 'City of God', 'Human Traffic', 'To Write Love on Her Arms', 'The Dead Girl', 'The Hunt', 'A Christmas Story', 'Bella', 'Class of 1984', 'The Opposite Sex', 'Dreaming of Joseph Lees', 'The Class', \"Rosemary's Baby\", 'The Man Who Shot Liberty Valance', 'Adam', 'Maria Full of Grace', 'Beginners', 'Feast', 'Animal House', 'Goldfinger', 'Antiviral', \"It's a Wonderful Life\", 'Trainspotting', 'The Original Kings of Comedy', 'Paranormal Activity 2', 'Waking Ned', 'Bowling for Columbine', 'Coming Home', \"A Nightmare on Elm Street Part 2: Freddy's Revenge\", 'A Room with a View', 'The Purge', 'Sinister', 'Martin Lawrence Live: Runteldat', 'Cat on a Hot Tin Roof', 'Beneath the Planet of the Apes', 'Air Bud', 'Pokémon: Spell of the Unknown', 'Friday the 13th Part VI: Jason Lives', 'The Bridge on the River Kwai', 'Spaced Invaders', 'Family Plot', 'The Apartment', 'Jason Goes to Hell: The Final Friday', 'Torn Curtain', \"Dave Chappelle's Block Party\", 'Slow West', 'Krush Groove', 'Next Day Air', 'Elmer Gantry', 'Judgment at Nuremberg', \"Trippin'\", 'Red River', 'Phat Girlz', 'Before Midnight', 'Teen Wolf Too', 'Phantasm II', 'Woman Thou Art Loosed', 'Real Women Have Curves', 'Water', 'East Is East', 'Whipped', 'Kama Sutra - A Tale of Love', 'Please Give', 'Willy Wonka & the Chocolate Factory', 'Warlock: The Armageddon', '8 Heads in a Duffel Bag', 'Days of Heaven', 'Thirteen Conversations About One Thing', 'Jawbreaker', 'Basquiat', 'Frances Ha', 'Tsotsi', 'Happiness', 'DysFunktional Family', 'Tusk', 'Oldboy', 'Letters to God', 'Hobo with a Shotgun', 'Compadres', 'Freeway', \"Love's Abiding Joy\", 'Fish Tank', 'Damsels in Distress', 'Creature', 'Bachelorette', 'Brave New Girl', \"Tim and Eric's Billion Dollar Movie\", 'Summer Storm', 'Fort McCoy', 'Chain Letter', 'Just Looking', 'The Divide', 'The Eclipse', 'Demonic', 'My Big Fat Independent Movie', 'The Deported', 'Tanner Hall', 'Open Road', 'They Came Together', '30 Nights of Paranormal Activity With the Devil Inside the Girl With the Dragon Tattoo', 'Never Back Down 2: The Beatdown', 'Point Blank', 'Four Single Fathers', 'Enter the Dangerous Mind', 'Something Wicked', 'AWOL-72', 'Iguana', 'Chicago Overcoat', 'Barry Munday', 'Central Station', 'Pocketful of Miracles', 'Close Range', 'Boynton Beach Club', 'Amnesiac', 'Freakonomics', 'High Tension', 'Griff the Invisible', 'Unnatural', 'Hustle & Flow', 'Some Like It Hot', 'Friday the 13th Part VII: The New Blood', 'The Wizard of Oz', 'Young Frankenstein', 'Diary of the Dead', 'Lage Raho Munna Bhai', \"Ulee's Gold\", 'The Black Stallion', 'Sardaarji', 'Journey to Saturn', \"Donovan's Reef\", 'The Dress', 'A Guy Named Joe', 'Blazing Saddles', 'Friday the 13th: The Final Chapter', 'Ida', 'Maurice', 'Beer League', 'Riding Giants', 'Timecrimes', 'Silver Medalist', 'Timber Falls', \"Singin' in the Rain\", 'Fat, Sick & Nearly Dead', 'A Haunted House', \"2016: Obama's America\", 'That Thing You Do!', 'Halloween III: Season of the Witch', 'Escape from the Planet of the Apes', 'Hud', 'Kevin Hart: Let Me Explain', 'My Own Private Idaho', 'Garden State', 'Before Sunrise', 'Evil Words', \"Jesus' Son\", 'Saving Face', 'Brick Lane', 'Robot & Frank', 'My Life Without Me', 'The Spectacular Now', 'Religulous', 'Fuel', \"Valley of the Heart's Delight\", 'Eye of the Dolphin', '8: The Mormon Proposition', 'The Other End of the Line', 'Anatomy', 'Sleep Dealer', 'Super', 'Christmas Mail', 'Stung', 'Antibirth', 'Get on the Bus', 'Thr3e', 'Idiocracy', 'The Rise of the Krays', 'This Is England', 'U.F.O.', 'Bathing Beauty', 'Go for It!', 'Dancer, Texas Pop. 81', 'Show Boat', 'Redemption Road', 'The Calling', 'The Brave Little Toaster', 'Fantasia', '8 Days', 'Friday the 13th Part III', 'Friday the 13th: A New Beginning', 'The Last Sin Eater', 'Do You Believe?', 'Impact Point', 'The Valley of Decision', 'Eden', 'Chicken Tikka Masala', \"There's Always Woodstock\", 'Jack Brooks: Monster Slayer', 'The Best Years of Our Lives', 'Bully', 'Elling', 'Mi America', '[REC]', 'Lies in Plain Sight', 'Sharkskin', 'Containment', 'The Timber', 'From Russia with Love', 'The Toxic Avenger Part II', 'Sleeper', 'It Follows', 'Everything You Always Wanted to Know About Sex *But Were Afraid to Ask', 'To Kill a Mockingbird', 'Mad Max 2: The Road Warrior', 'The Legend of Drunken Master', \"Boys Don't Cry\", 'Silent House', 'The Lives of Others', 'Courageous', 'The Hustler', 'Boom Town', 'The Triplets of Belleville', 'Smoke Signals', 'American Splendor', 'Before Sunset', 'Amores perros', 'Thirteen', \"Gentleman's Agreement\", \"Winter's Bone\", 'Touching the Void', \"Alexander's Ragtime Band\", 'Me and You and Everyone We Know', 'Inside Job', 'We Are Your Friends', 'Ghost Dog: The Way of the Samurai', 'Harsh Times', 'Captive', 'Full Frontal', 'Witchboard', 'Shortbus', 'Waltz with Bashir', 'The Book of Mormon Movie, Volume 1: The Journey', 'No End in Sight', 'The Diary of a Teenage Girl', 'In the Shadow of the Moon', \"Meek's Cutoff\", 'Inside Deep Throat', 'Dinner Rush', 'Clockwatchers', 'The Virginity Hit', 'Subway', 'House of D', 'Teeth', 'Six-String Samurai', 'Hum To Mohabbat Karega', \"It's All Gone Pete Tong\", 'Saint John of Las Vegas', '24 7: Twenty Four Seven', 'Stonewall', 'Roadside Romeo', 'This Thing of Ours', 'The Lost Medallion: The Adventures of Billy Stone', 'The Last Five Years', 'The Missing Person', 'Return of the Living Dead 3', 'London', 'Sherrybaby', 'Circle', 'Eden Lake', 'Plush', 'Lesbian Vampire Killers', \"Gangster's Paradise: Jerusalema\", 'Freeze Frame', 'Grave Encounters', 'Stitches', 'Nine Dead', 'To Be Frank, Sinatra at 100', 'Bananas', 'Supercapitalist', 'Rockaway', 'The Lady from Shanghai', \"No Man's Land: The Rise of Reeker\", 'Highway', 'Small Apartments', 'Coffee Town', 'The Ghastly Love of Johnny X', 'All Is Bright', 'The Torture Chamber of Dr. Sadism', \"Straight A's\", 'A Funny Thing Happened on the Way to the Forum', 'Slacker Uprising', \"The Legend of Hell's Gate: An American Conspiracy\", 'The Walking Deceased', 'The Curse of Downers Grove', 'Shark Lake', \"River's Edge\", 'Northfork', 'The Marine 4: Moving Target', 'Buried', 'Submarine', 'The Square', 'One to Another', 'ABCD (Any Body Can Dance)', 'Man on Wire', 'Abandoned', 'Brotherly Love', 'The Last Exorcism', 'Nowhere Boy', 'A Streetcar Named Desire', 'Dr. Strangelove or: How I Learned to Stop Worrying and Love the Bomb', 'The Crime of Padre Amaro', 'Beasts of the Southern Wild', 'Battle for the Planet of the Apes', 'Songcatcher', 'Higher Ground', 'Vaalu', 'The Greatest Movie Ever Sold', 'Ed and His Dead Mother', 'Travellers and Magicians', \"Hang 'em High\", 'Deadline - U.S.A.', 'Sublime', \"A Beginner's Guide to Snuff\", 'Independence Daysaster', 'Dysfunctional Friends', 'Run Lola Run', 'May', 'Against the Wild', 'Under the Same Moon', 'Conquest of the Planet of the Apes', 'In the Bedroom', 'I Spit on Your Grave', 'Happy, Texas', 'My Summer of Love', 'The Lunchbox', 'Yes', \"You Can't Take It With You\", 'From Here to Eternity', 'She Wore a Yellow Ribbon', 'Grace Unplugged', 'Foolish', 'N-Secure', 'Caramel', 'Out of the Dark', 'The Bubble', 'The Conversation', 'Dil Jo Bhi Kahey...', 'Mississippi Mermaid', 'I Love Your Work', 'Cabin Fever', 'Waitress', 'Bloodsport', 'Mr. Smith Goes to Washington', 'Kids', 'The Squid and the Whale', 'Kissing Jessica Stein', 'Kickboxer: Vengeance', 'Spellbound', 'Exotica', \"Buffalo '66\", 'Insidious', 'Repo Man', 'Nine Queens', 'The Gatekeepers', 'The Ballad of Jack and Rose', 'The To Do List', 'Killing Zoe', 'The Believer', 'Snow Angels', 'Unsullied', 'Session 9', 'I Want Someone to Eat Cheese With', 'Mooz-lum', 'Hatchet', 'Modern Times', 'Stolen Summer', 'My Name Is Bruce', 'The Salon', 'Road Hard', 'Forty Shades of Blue', 'Amigo', 'Pontypool', 'Trucker', 'Me You and Five Bucks', 'The Lords of Salem', 'Housebound', 'Wal-Mart: The High Cost of Low Price', 'Fetching Cody', 'Last I Heard', 'Closer to the Moon', 'Mutant World', 'Growing Up Smith', 'Checkmate', '#Horror', 'Wind Walkers', 'Snow White and the Seven Dwarfs', 'The Holy Girl', 'Shalako', 'Incident at Loch Ness', 'The Dog Lover', 'GirlHouse', 'The Blue Room', 'House at the End of the Drive', 'Batman', 'Lock, Stock and Two Smoking Barrels', 'The Ballad of Gregorio Cortez', 'The Celebration', 'Trees Lounge', 'Journey from the Fall', 'The Basket', 'Eddie: The Sleepwalking Cannibal', 'Queen of the Mountains', 'Def-Con 4', 'The Hebrew Hammer', \"Neal 'n' Nikki\", 'The 41–Year–Old Virgin Who Knocked Up Sarah Marshall and Felt Superbad About It', 'Forget Me Not', 'Rebecca', 'Friday the 13th Part 2', 'The Lost Weekend', 'C.H.U.D.', 'Filly Brown', 'The Lion of Judah', 'Niagara', 'How Green Was My Valley', 'Da Sweet Blood of Jesus', 'Sex, Lies, and Videotape', 'Saw', 'Super Troopers', 'The Algerian', 'The Amazing Catfish', 'Monsoon Wedding', 'You Can Count on Me', 'The Trouble with Harry', \"But I'm a Cheerleader\", 'Home Run', 'Reservoir Dogs', 'The Blue Bird', 'The Good, the Bad and the Ugly', 'The Second Mother', 'Blue Like Jazz', 'Down & Out With The Dolls', 'Pink Ribbons, Inc.', 'Certifiably Jonathan', 'Desire', 'The Blade of Don Juan', 'Grand Theft Parsons', 'Extreme Movie', 'The Charge of the Light Brigade', 'Below Zero', 'Crowsnest', 'Airborne', 'Cotton Comes to Harlem', 'The Wicked Within', 'Bleeding Hearts', 'Waiting...', \"Dead Man's Shoes\", 'From a Whisper to a Scream', 'Sex With Strangers', \"Dracula: Pages from a Virgin's Diary\", 'Faith Like Potatoes', 'Beyond the Black Rainbow', 'The Raid', 'The Dead Undead', 'The Vatican Exorcisms', 'Casablanca', 'Lake Mungo', 'Rocket Singh: Salesman of the Year', 'Silent Running', 'Rocky', 'The Sleepwalker', 'Tom Jones', 'Unfriended', 'Taxi Driver', 'The Howling', 'Dr. No', 'Chernobyl Diaries', 'Hellraiser', \"God's Not Dead 2\", 'Cry_Wolf', 'Godzilla 2000', 'Blue Valentine', 'Transamerica', 'The Devil Inside', 'Beyond the Valley of the Dolls', 'Love Me Tender', 'An Inconvenient Truth', 'Sands of Iwo Jima', 'Shine a Light', 'The Green Inferno', 'Departure', 'The Sessions', 'Food, Inc.', 'October Baby', 'Next Stop Wonderland', 'The Skeleton Twins', 'Martha Marcy May Marlene', 'Obvious Child', 'Frozen River', '20 Feet from Stardom', 'Two Girls and a Guy', 'Walking and Talking', 'Who Killed the Electric Car?', 'The Broken Hearts Club: A Romantic Comedy', 'Bubba Ho-tep', 'Slam', 'Brigham City', 'Fiza', 'Orgazmo', 'All the Real Girls', 'Dream with the Fishes', 'Blue Car', 'Palo Alto', 'Ajami', 'Wristcutters: A Love Story', 'I Origins', 'The Battle of Shaker Heights', 'The Act of Killing', 'Taxi to the Dark Side', 'Once in a Lifetime: The Extraordinary Story of the New York Cosmos', 'Guiana 1838', 'Lisa Picard Is Famous', 'Antarctica: A Year on Ice', 'A LEGO Brickumentary', 'Hardflip', 'Chocolate: Deep Dark Secrets', 'The House of the Devil', 'The Perfect Host', 'Safe Men', 'Speedway Junky', 'The Last Big Thing', 'The Specials', '16 to Life', 'Alone With Her', 'Creative Control', 'Special', 'Sparkler', 'The Helix... Loaded', 'In Her Line of Fire', 'The Jimmy Show', 'Heli', 'Karachi se Lahore', 'Loving Annabelle', 'Hits', 'Jimmy and Judy', 'Frat Party', \"The Party's Over\", 'Proud', 'The Poker House', 'Childless', 'ZMD: Zombies of Mass Destruction', 'Snow White: A Deadly Summer', 'Hidden Away', 'My Last Day Without You', 'Steppin: The Movie', \"Doc Holliday's Revenge\", 'Black Rock', 'Truth or Dare', 'The Pet', 'Bang Bang Baby', 'Fear Clinic', 'Zombie Hunter', 'A Fine Step', 'Charly', 'Banshee Chapter', 'Ask Me Anything', 'And Then Came Love', 'Food Chains', 'On the Waterfront', 'L!fe Happens', '4 Months, 3 Weeks and 2 Days', 'The Horror Network Vol. 1', 'Hard Candy', 'The Quiet', 'Circumstance', 'Fruitvale Station', 'The Brass Teapot', 'Bambi', 'The Hammer', 'Latter Days', 'Elza', '1982', 'For a Good Time, Call...', 'Celeste & Jesse Forever', 'Time Changer', 'London to Brighton', 'American Hero', 'Windsor Drive', 'A Separation', 'Crying with Laughter', 'Welcome to the Dollhouse', 'Ruby in Paradise', 'Raising Victor Vargas', \"Pandora's Box\", 'Harrison Montgomery', 'Live-In Maid', 'Deterrence', 'The Mudge Boy', 'The Young Unknowns', 'Not Cool', 'Dead Snow', 'Saints and Soldiers', 'Vessel', 'American Graffiti', 'Iraq for Sale: The War Profiteers', 'Aqua Teen Hunger Force Colon Movie Film for Theaters', 'Safety Not Guaranteed', 'Kevin Hart: Laugh at My Pain', 'Kill List', 'The Innkeepers', 'The Conformist', 'Interview with the Assassin', 'Donkey Punch', 'All the Boys Love Mandy Lane', 'Bled', 'High Noon', 'Hoop Dreams', 'Rize', 'L.I.E.', 'The Sisterhood of Night', 'B-Girl', 'Half Nelson', 'Naturally Native', 'Hav Plenty', 'Adulterers', 'Escape from Tomorrow', 'Starsuckers', 'The Hadza:  Last of the First', 'After', 'Treachery', 'Walter', 'Top Hat', 'The Blair Witch Project', 'Woodstock', 'The Kentucky Fried Movie', 'Mercy Streets', 'Carousel of Revenge', 'Broken Vessels', 'Water & Power', 'They Will Have to Kill Us First', 'Light from the Darkroom', 'The Country Doctor', \"The Maid's Room\", \"A Hard Day's Night\", 'The Harvest (La Cosecha)', 'Love Letters', 'Juliet and Alfa Romeo', 'Fireproof', 'Faith Connections', 'Benji', 'Open Water', 'High Road', 'Kingdom of the Spiders', 'Mad Hot Ballroom', 'The Station Agent', 'To Save A Life', 'Wordplay', 'Beyond the Mat', 'The Singles Ward', 'Osama', 'Sholem Aleichem: Laughing In The Darkness', 'Groove', 'The R.M.', 'Twin Falls Idaho', 'Mean Creek', 'Hurricane Streets', 'Never Again', 'Civil Brand', 'Lonesome Jim', 'Drinking Buddies', 'Deceptive Practice: The Mysteries and Mentors of Ricky Jay', 'Seven Samurai', 'The Other Dream Team', 'Johnny Suede', 'Finishing The Game', 'Rubber', 'Kiss the Bride', 'The Slaughter Rule', 'Monsters', 'The Californians', 'The Living Wake', 'Detention of the Dead', 'Crazy Stone', 'Scott Walker: 30 Century Man', 'Everything Put Together', 'Good Kill', 'The Outrageous Sophie Tucker', 'Now Is Good', 'Girls Gone Dead', 'America Is Still the Place', 'Subconscious', 'Enter Nowhere', 'El Rey de Najayo', 'Fight to the Finish', \"Alleluia! The Devil's Carnival\", 'The Sound and the Shadow', 'Rodeo Girl', 'Born to Fly: Elizabeth Streb vs. Gravity', 'The Little Ponderosa Zoo', 'The Toxic Avenger', 'Straight Out of Brooklyn', 'Bloody Sunday', 'Diamond Ruff', 'Conversations with Other Women', 'Poultrygeist: Night of the Chicken Dead', 'Mutual Friends', '42nd Street', 'Rise of the Entrepreneur: The Search for a Better Way', 'Metropolitan', 'As It Is in Heaven', 'Roadside', 'Napoleon Dynamite', 'Blue Ruin', 'Paranormal Activity', 'Dogtown and Z-Boys', 'Monty Python and the Holy Grail', 'Quinceañera', 'Gory Gory Hallelujah', 'Tarnation', 'I Want Your Money', 'Love in the Time of Monsters', 'The Beyond', 'What Happens in Vegas', 'The Dark Hours', 'My Beautiful Laundrette', 'Fabled', 'Show Me', 'Cries and Whispers', 'Intolerance', 'Trekkies', 'The Broadway Melody', 'The Evil Dead', 'Maniac', 'Censored Voices', 'Murderball', 'American Ninja 2: The Confrontation', '51 Birch Street', 'Rotor DR1', '12 Angry Men', 'My Dog Tulip', 'It Happened One Night', 'Dogtooth', 'Tupac: Resurrection', 'Tumbleweeds', 'The Prophecy', \"When the Cat's Away\", 'Pieces of April', 'The Big Swap', 'Old Joy', 'Wendy and Lucy', '3 Backyards', 'Pierrot le Fou', 'Sisters in Law', 'Ayurveda: Art of Being', 'Nothing But a Man', 'First Love, Last Rites', 'Fighting Tommy Riley', 'Royal Kill', 'The Looking Glass', 'Death Race 2000', 'Locker 13', 'Midnight Cabaret', \"Anderson's Cross\", 'Bizarre', 'Graduation Day', 'Some Guy Who Kills People', 'Compliance', 'Chasing Amy', 'Lovely & Amazing', 'Death Calls', 'Better Luck Tomorrow', 'The Incredibly True Adventure of Two Girls In Love', 'Chuck & Buck', 'American Desi', \"Amidst the Devil's Wings\", 'Cube', 'Love and Other Catastrophes', 'I Married a Strange Person!', 'November', 'Like Crazy', 'Teeth and Blood', 'Sugar Town', 'The Motel', 'The Canyons', 'On the Outs', 'Shotgun Stories', 'Exam', 'The Sticky Fingers of Time', 'Sunday School Musical', 'Rust', 'Ink', 'The Christmas Bunny', 'Butterfly', 'UnDivided', 'The Frozen', 'Horse Camp', 'Give Me Shelter', 'The Big Parade', 'Little Big Top', 'Along the Roadside', 'Bronson', 'Western Religion', 'Burn', 'Urbania', 'The Stewardesses', 'The Beast from 20,000 Fathoms', 'Mad Max', 'Swingers', 'A Fistful of Dollars', 'She Done Him Wrong', 'Short Cut to Nirvana: Kumbh Mela', 'The Grace Card', 'Middle of Nowhere', 'Three', 'The Business of Fancydancing', 'Call + Response', 'Malevolence', 'Reality Show', 'Super Hybrid', 'Baghead', 'American Beast', 'The Case of the Grinning Cat', 'Ordet', 'Good Dick', 'The Man from Earth', 'The Trials Of Darryl Hunt', 'Samantha: An American Girl Holiday', 'Yesterday Was a Lie', 'Theresa Is a Mother', 'H.', 'Archaeology of a Woman', 'Children of Heaven', 'Weekend', \"She's Gotta Have It\", 'Butterfly Girl', 'The World Is Mine', 'Another Earth', \"Sweet Sweetback's Baadasssss Song\", 'Perfect Cowboy', 'Tadpole', 'Once', 'The Woman Chaser', 'The Horse Boy', 'When the Lights Went Out', 'Heroes of Dirt', 'A Charlie Brown Christmas', 'Antarctic Edge: 70° South', 'Aroused', 'Top Spin', 'Roger & Me', 'An American in Hollywood', 'Sound of My Voice', 'The Blood of My Brother: A Story of Death in Iraq', \"Your Sister's Sister\", \"A Dog's Breakfast\", 'The Married Woman', 'The Birth of a Nation', 'The Work and The Story', 'Facing the Giants', 'The Gallows', 'Eraserhead', 'Hollywood Shuffle', 'The Mighty', 'Penitentiary', 'The Lost Skeleton of Cadavra', \"Dude Where's My Dog?\", 'Cheap Thrills', 'Indie Game: The Movie', 'Straightheads', 'Open Secret', 'Echo Dr.', 'The Night Visitor', 'The Past Is a Grotesque Animal', 'Peace, Propaganda & the Promised Land', 'Pi', \"I Love You, Don't Touch Me!\", '20 Dates', 'Queen Crab', 'Super Size Me', 'The FP', 'Happy Christmas', \"The Brain That Wouldn't Die\", 'Tiger Orange', 'Supporting Characters', 'Absentia', 'The Brothers McMullen', 'The Dirties', 'Gabriela', 'Tiny Furniture', 'Hayride', 'The Naked Ape', 'Counting', 'The Call of Cthulhu', 'Bending Steel', 'The Signal', 'The Image Revolution', 'This Is Martin Bonner', 'A True Story', 'George Washington', 'Smiling Fish & Goat On Fire', 'Dawn of the Crescent Moon', 'Raymond Did It', 'The Last Waltz', 'Run, Hide, Die', 'The Exploding Girl', \"The Legend of God's Gun\", 'Mutual Appreciation', 'Her Cry: La Llorona Investigation', 'Down Terrace', 'Clerks', 'Pink Narcissus', 'Funny Ha Ha', 'In the Company of Men', 'Manito', 'Rampage', 'Slacker', 'Dutch Kills', 'Dry Spell', 'Flywheel', 'Backmask', 'The Puffy Chair', 'Stories of Our Lives', 'Breaking Upwards', 'All Superheroes Must Die', 'Pink Flamingos', 'Clean', 'The Circle', 'Tin Can Man', 'Cure', 'On The Downlow', 'Sanctuary: Quite a Conundrum', 'Bang', 'Primer', 'Cavite', 'El Mariachi', 'Newlyweds', 'Signed, Sealed, Delivered', 'Shanghai Calling', 'My Date with Drew']\n"
          ]
        }
      ]
    },
    {
      "cell_type": "code",
      "source": [
        "#finding the close match for the movie name given by the user\n",
        "find_close_match = difflib.get_close_matches(movie_name,list_of_all_title)"
      ],
      "metadata": {
        "id": "sUU1OXUnQF3x"
      },
      "execution_count": 23,
      "outputs": []
    },
    {
      "cell_type": "code",
      "source": [
        "\n",
        "print(find_close_match)"
      ],
      "metadata": {
        "colab": {
          "base_uri": "https://localhost:8080/"
        },
        "id": "bpIowTJzQRMS",
        "outputId": "ce85049a-28c4-4dbd-c4a1-958cfac0878c"
      },
      "execution_count": 24,
      "outputs": [
        {
          "output_type": "stream",
          "name": "stdout",
          "text": [
            "['Avatar']\n"
          ]
        }
      ]
    },
    {
      "cell_type": "code",
      "source": [
        "close_match=find_close_match[0]"
      ],
      "metadata": {
        "id": "7JY8T8KcQWO5"
      },
      "execution_count": 25,
      "outputs": []
    },
    {
      "cell_type": "code",
      "source": [
        "print(close_match)"
      ],
      "metadata": {
        "colab": {
          "base_uri": "https://localhost:8080/"
        },
        "id": "IPKUeVxTQdlK",
        "outputId": "2061b2a4-53b7-4e8f-a777-10f80b5d9b99"
      },
      "execution_count": 26,
      "outputs": [
        {
          "output_type": "stream",
          "name": "stdout",
          "text": [
            "Avatar\n"
          ]
        }
      ]
    },
    {
      "cell_type": "code",
      "source": [
        "index_of_the_movie = movie_data[movie_data.title == close_match]['index'].values[0]"
      ],
      "metadata": {
        "id": "iYlqCvpSQj3D"
      },
      "execution_count": 27,
      "outputs": []
    },
    {
      "cell_type": "code",
      "source": [
        "print(index_of_the_movie)"
      ],
      "metadata": {
        "colab": {
          "base_uri": "https://localhost:8080/"
        },
        "id": "vdwCfCipQnfr",
        "outputId": "984df549-2060-4e9e-9491-6e43c5602a08"
      },
      "execution_count": 28,
      "outputs": [
        {
          "output_type": "stream",
          "name": "stdout",
          "text": [
            "0\n"
          ]
        }
      ]
    },
    {
      "cell_type": "code",
      "source": [
        "#getting a list of similar movies\n",
        "similarity_score = list(enumerate(similarity[index_of_the_movie]))"
      ],
      "metadata": {
        "id": "A6nxTQmXQq8j"
      },
      "execution_count": 29,
      "outputs": []
    },
    {
      "cell_type": "code",
      "source": [
        "print(similarity_score)"
      ],
      "metadata": {
        "colab": {
          "base_uri": "https://localhost:8080/"
        },
        "id": "gOr_2p9BQwtj",
        "outputId": "08c0320f-e4b1-4d90-e78b-b052e007b1cf"
      },
      "execution_count": 30,
      "outputs": [
        {
          "output_type": "stream",
          "name": "stdout",
          "text": [
            "[(0, 1.0), (1, 0.1085000265471684), (2, 0.02226614741545797), (3, 0.018085063202458097), (4, 0.15632652954430734), (5, 0.05660437046722024), (6, 0.012099419030122223), (7, 0.05356659330096678), (8, 0.03972562728680751), (9, 0.04191753525799219), (10, 0.10888512849011502), (11, 0.025251606325208915), (12, 0.048026770882992204), (13, 0.02570308207162187), (14, 0.09848367647656367), (15, 0.03880798105115206), (16, 0.051635832721232046), (17, 0.04585471644324074), (18, 0.07436890330731215), (19, 0.058727353191406734), (20, 0.05340090417747348), (21, 0.014647941436467518), (22, 0.042935491586396125), (23, 0.029935833195598106), (24, 0.054146443509279815), (25, 0.09431708557220145), (26, 0.10905819848123746), (27, 0.053794769693932314), (28, 0.07947159811973056), (29, 0.021793139353712538), (30, 0.057920361308512726), (31, 0.08094762977641425), (32, 0.036351564766937516), (33, 0.05278876009587921), (34, 0.0), (35, 0.06432785434396435), (36, 0.06617424813902026), (37, 0.031438265906034005), (38, 0.041986453412857054), (39, 0.05214816865588341), (40, 0.01284986807113249), (41, 0.04575361558705259), (42, 0.0), (43, 0.07612092037317278), (44, 0.049715579346156884), (45, 0.0852134571954385), (46, 0.1352906602188816), (47, 0.1490295810888229), (48, 0.03807309344722659), (49, 0.013970334850877205), (50, 0.08475762575856653), (51, 0.04076556212347482), (52, 0.056356922998884756), (53, 0.07442534802229071), (54, 0.014653814137784707), (55, 0.021486799185721443), (56, 0.15534059426709235), (57, 0.02219157454303704), (58, 0.015598351325229824), (59, 0.08135244257036453), (60, 0.0), (61, 0.13296055269645327), (62, 0.031070836187528754), (63, 0.06544879372150132), (64, 0.03444200711404886), (65, 0.013336573308551161), (66, 0.016306083856330422), (67, 0.03635763793274288), (68, 0.047773498472533385), (69, 0.04056694667941827), (70, 0.0436837152332719), (71, 0.06747257320460498), (72, 0.06624602800814165), (73, 0.024696612264755967), (74, 0.06869024680700878), (75, 0.030756364725837756), (76, 0.06266202345732819), (77, 0.004091773992685654), (78, 0.042024423802643485), (79, 0.056260654512158365), (80, 0.038466961629090024), (81, 0.04496135365125213), (82, 0.1497905682294248), (83, 0.07506265974697598), (84, 0.03175483507264381), (85, 0.09482681026360731), (86, 0.02226055005134648), (87, 0.0656546616261065), (88, 0.030922847606933715), (89, 0.018588790417351377), (90, 0.03249812435707936), (91, 0.04843299427693085), (92, 0.04167094484101482), (93, 0.06829728368170557), (94, 0.24645152180674346), (95, 0.059848803973242576), (96, 0.08039285379051193), (97, 0.04010198974922176), (98, 0.04375113167124292), (99, 0.016597868297563382), (100, 0.026838154738776782), (101, 0.0780282191542281), (102, 0.06749554818247683), (103, 0.049031201597477134), (104, 0.0319068294238374), (105, 0.050443834401567314), (106, 0.04180727144940052), (107, 0.041915690654103215), (108, 0.1561452814602582), (109, 0.036605084209668765), (110, 0.054390602124130244), (111, 0.09732700904239124), (112, 0.05801181085288488), (113, 0.05331897118399599), (114, 0.040967527633544026), (115, 0.03410918456818937), (116, 0.07635968119312704), (117, 0.025350315529009355), (118, 0.016474421254855764), (119, 0.013483756934983718), (120, 0.0), (121, 0.04561322765676179), (122, 0.05677420348847399), (123, 0.07402470088292758), (124, 0.022019606352323737), (125, 0.07670706501488217), (126, 0.05939409640154355), (127, 0.09388164387031278), (128, 0.0), (129, 0.03932996682539416), (130, 0.010477148428652867), (131, 0.07609795537348664), (132, 0.02475675698977233), (133, 0.027704956851162636), (134, 0.017776861775804405), (135, 0.012373993858169108), (136, 0.00967242664464103), (137, 0.011133078280345179), (138, 0.06916860379543849), (139, 0.020838132508426813), (140, 0.01244589518414746), (141, 0.08260412973495253), (142, 0.012539343335294297), (143, 0.029173927134221553), (144, 0.011429605688919856), (145, 0.04344857753386111), (146, 0.0), (147, 0.09134861690792737), (148, 0.026887515827132093), (149, 0.08029184362632126), (150, 0.15600453345091755), (151, 0.018906513492427827), (152, 0.01793269360309242), (153, 0.01707054393964034), (154, 0.029315553618193158), (155, 0.0), (156, 0.08521336785675104), (157, 0.019210517125953692), (158, 0.19591287932395185), (159, 0.031123761937237975), (160, 0.041256181137099925), (161, 0.03003047853525431), (162, 0.017086403365976104), (163, 0.04318702120587372), (164, 0.039194666820189836), (165, 0.04863830312179773), (166, 0.06489977184132448), (167, 0.03165375517780475), (168, 0.08298243846540693), (169, 0.0962660828216963), (170, 0.0439086743874423), (171, 0.058567139753621905), (172, 0.03243722831058432), (173, 0.0), (174, 0.04753276730937395), (175, 0.06129916976763324), (176, 0.018053880203755042), (177, 0.0), (178, 0.009881966067327327), (179, 0.022666129441984165), (180, 0.013646478266324747), (181, 0.009914882256606902), (182, 0.05016469654324597), (183, 0.0539661099268367), (184, 0.14472566583608418), (185, 0.07908456301154543), (186, 0.028010223763318257), (187, 0.045752890312106845), (188, 0.03116222173933493), (189, 0.05777944278823732), (190, 0.031708589696013874), (191, 0.03992203905365781), (192, 0.04071541520507972), (193, 0.06575305498506062), (194, 0.0), (195, 0.040257778156895664), (196, 0.07417018607261794), (197, 0.03837758803992901), (198, 0.03471094793381693), (199, 0.06331877901728501), (200, 0.06991558819672515), (201, 0.008818099212684335), (202, 0.01109945028204305), (203, 0.04831496104467818), (204, 0.013292232196070276), (205, 0.031039548215965072), (206, 0.15257978241621953), (207, 0.045171650781299824), (208, 0.04873718217544923), (209, 0.013154174685771191), (210, 0.02455074372812779), (211, 0.023649103903939456), (212, 0.0782700229859466), (213, 0.025908823306767487), (214, 0.008082753979046904), (215, 0.061979186632996654), (216, 0.037317215264016615), (217, 0.04442207211397976), (218, 0.011107916552586809), (219, 0.02357670238542084), (220, 0.042431158761450705), (221, 0.012185224983715298), (222, 0.13235656584209526), (223, 0.13578759233400667), (224, 0.11844489130026237), (225, 0.05449268378056248), (226, 0.03543327671504486), (227, 0.04529262051067522), (228, 0.1316268674786136), (229, 0.05852971235754019), (230, 0.0426351431748659), (231, 0.0), (232, 0.14549087376949832), (233, 0.03928844103752349), (234, 0.06361758959376711), (235, 0.030340191024749844), (236, 0.07467993549154753), (237, 0.04086760581486203), (238, 0.05868799376542742), (239, 0.2507515256221266), (240, 0.025042904507707874), (241, 0.041707874333212075), (242, 0.05231651251523733), (243, 0.037396710448460366), (244, 0.007306520491223779), (245, 0.026358851062488982), (246, 0.043593990207176025), (247, 0.0036882464021279525), (248, 0.008727289300112056), (249, 0.08774659370927652), (250, 0.015392711927559671), (251, 0.0), (252, 0.0179317836281015), (253, 0.03147201998701665), (254, 0.034310161890848345), (255, 0.004970128218650478), (256, 0.12765149875030493), (257, 0.03900461741773526), (258, 0.022801649645762), (259, 0.023032260779328295), (260, 0.050380599670378744), (261, 0.013752651865990664), (262, 0.057397952119180806), (263, 0.04361407002905352), (264, 0.0), (265, 0.02573518409323606), (266, 0.041208571059622306), (267, 0.06412068264563994), (268, 0.021610631757445098), (269, 0.007863176027471292), (270, 0.052319975042735445), (271, 0.0766797700191101), (272, 0.0), (273, 0.007534171927164249), (274, 0.020068316199764985), (275, 0.07379852881079708), (276, 0.04211062019865715), (277, 0.018832034196391456), (278, 0.19503883714659864), (279, 0.13825043383714028), (280, 0.0), (281, 0.06506840709606215), (282, 0.09961717006509677), (283, 0.017141667621339174), (284, 0.0), (285, 0.018575275182523866), (286, 0.046530422190389664), (287, 0.07357855836441074), (288, 0.014362409730367554), (289, 0.030566891123652275), (290, 0.04855956823795046), (291, 0.028955337682153907), (292, 0.06699183933799115), (293, 0.027757214021298462), (294, 0.08223099954868347), (295, 0.01233265034671495), (296, 0.04186336394198137), (297, 0.019486097301457075), (298, 0.014181397703010294), (299, 0.026495258558682296), (300, 0.11148925850419451), (301, 0.07292239050319146), (302, 0.048674431768509344), (303, 0.009314016541150875), (304, 0.018113931110257633), (305, 0.15407223326512268), (306, 0.058678282755495054), (307, 0.022991457888025035), (308, 0.011507788921238405), (309, 0.0485720921152083), (310, 0.03833694520219012), (311, 0.1313670303164623), (312, 0.04073186777595381), (313, 0.01706763996446119), (314, 0.013671119590356398), (315, 0.04297940810663088), (316, 0.03542828776956854), (317, 0.0679481398436947), (318, 0.026812210867538076), (319, 0.04802156578963698), (320, 0.05902529220889438), (321, 0.007637409335377516), (322, 0.14654120971862022), (323, 0.007128328333937945), (324, 0.0318015917468837), (325, 0.01447202065975736), (326, 0.022228110106648304), (327, 0.0366843445195267), (328, 0.003444023764571431), (329, 0.07707555887060935), (330, 0.05528576623866909), (331, 0.03973496320570358), (332, 0.02956578138802756), (333, 0.024925000716944624), (334, 0.04687086380076391), (335, 0.060017608846815715), (336, 0.04934708248573496), (337, 0.007812247338889148), (338, 0.024632622392614257), (339, 0.025922215116528743), (340, 0.03555389883482937), (341, 0.030245608606906838), (342, 0.13866747896141818), (343, 0.0045226509998050396), (344, 0.007025183609479718), (345, 0.00997442789334987), (346, 0.003763413724385506), (347, 0.02602395673343187), (348, 0.019481111900587378), (349, 0.03869792083627411), (350, 0.035339832523412634), (351, 0.004574277171462769), (352, 0.02024489813798474), (353, 0.01007874146634604), (354, 0.00815607259541596), (355, 0.008234114071725236), (356, 0.020204360916857775), (357, 0.0), (358, 0.03458561793410832), (359, 0.017955301536700205), (360, 0.022351857153757634), (361, 0.03645290674862017), (362, 0.03748761500082561), (363, 0.03145452246908621), (364, 0.021720652834336808), (365, 0.1009864468666299), (366, 0.046126743080080426), (367, 0.017806406459920092), (368, 0.029166847383867257), (369, 0.09977878380108667), (370, 0.08111364527415807), (371, 0.04400062439329903), (372, 0.03390609264590609), (373, 0.11121101073489537), (374, 0.03234862266481514), (375, 0.0266557885591008), (376, 0.039003834167849374), (377, 0.027687229983995497), (378, 0.0037337061742170226), (379, 0.03378871332065694), (380, 0.02331128684794491), (381, 0.050952999764888166), (382, 0.012367907536604758), (383, 0.02900331105882725), (384, 0.05034911158693459), (385, 0.0), (386, 0.01348560433613384), (387, 0.034065737248528766), (388, 0.0), (389, 0.038836234745429084), (390, 0.017108962118410828), (391, 0.015537247380329753), (392, 0.0072241933008427685), (393, 0.055554473370003965), (394, 0.008551078878056178), (395, 0.003422054628519267), (396, 0.02187598656799247), (397, 0.0), (398, 0.012819678494106538), (399, 0.009587022664800831), (400, 0.07656082079450627), (401, 0.06763987557509496), (402, 0.028801346924587842), (403, 0.0484583357835274), (404, 0.05602401496533216), (405, 0.02029452554142222), (406, 0.0), (407, 0.015443263208350275), (408, 0.008946772662365201), (409, 0.0), (410, 0.05393533668292929), (411, 0.04190912187247946), (412, 0.06839160970879254), (413, 0.04778910594215077), (414, 0.011589834632213846), (415, 0.04400907350505513), (416, 0.015961962136018696), (417, 0.020651524572102516), (418, 0.011985823849921362), (419, 0.07615880418089789), (420, 0.08592726815041726), (421, 0.0), (422, 0.07074973014823414), (423, 0.01699494192711884), (424, 0.027052766655330646), (425, 0.026644979792550698), (426, 0.059567686868729985), (427, 0.00791602232087676), (428, 0.04092283780378375), (429, 0.007264728566085757), (430, 0.0), (431, 0.016921509869786553), (432, 0.0843404571277916), (433, 0.014974604571647978), (434, 0.004385509700303043), (435, 0.019741654510902158), (436, 0.0), (437, 0.04126786732592434), (438, 0.0), (439, 0.0), (440, 0.0), (441, 0.03803170862376133), (442, 0.03111369944634787), (443, 0.015439730749152605), (444, 0.0035620145909669096), (445, 0.0), (446, 0.012279840017141235), (447, 0.00986249129311068), (448, 0.03457413067893966), (449, 0.04462316326758422), (450, 0.030650526336167418), (451, 0.021409006725072864), (452, 0.07576449767541601), (453, 0.01345546531196257), (454, 0.03236799361356389), (455, 0.00853930442600336), (456, 0.1101328807763263), (457, 0.019019691932440595), (458, 0.009515504219988655), (459, 0.022534509580308382), (460, 0.0), (461, 0.20785806187506795), (462, 0.024539973913555245), (463, 0.04024880511085697), (464, 0.0), (465, 0.044093365599922545), (466, 0.11373114476200039), (467, 0.04373339250121808), (468, 0.008097932380114145), (469, 0.03826988640463131), (470, 0.02513142794974709), (471, 0.014319565705177652), (472, 0.04124175639477964), (473, 0.06627891150030743), (474, 0.0), (475, 0.023477772040447983), (476, 0.045918964407624815), (477, 0.0), (478, 0.02070058330038116), (479, 0.02994696849608302), (480, 0.06954696357656158), (481, 0.008048825436940913), (482, 0.0), (483, 0.1009511580197598), (484, 0.02010361203071555), (485, 0.03403810418776515), (486, 0.038960906548365426), (487, 0.07646207258487472), (488, 0.039076609376371405), (489, 0.029802929255475265), (490, 0.06317209378214567), (491, 0.0185214509547463), (492, 0.0), (493, 0.008395564745642231), (494, 0.03282007809011197), (495, 0.056848316935205125), (496, 0.07527305942741837), (497, 0.005263155989891899), (498, 0.01145029254512124), (499, 0.004631339842858071), (500, 0.007551991259850826), (501, 0.04985703195014553), (502, 0.024293540046354284), (503, 0.047117159974190484), (504, 0.01325990150393597), (505, 0.10184571434898), (506, 0.0), (507, 0.04527228576902591), (508, 0.07337250105943026), (509, 0.0), (510, 0.13817699962114785), (511, 0.05455611410650479), (512, 0.10071896024547614), (513, 0.01870593251180578), (514, 0.011607440593282049), (515, 0.010827729662776392), (516, 0.023248389959344275), (517, 0.009394441457193516), (518, 0.025156507790050256), (519, 0.0), (520, 0.0), (521, 0.005047664384608447), (522, 0.0), (523, 0.023717814312450094), (524, 0.020918670020264124), (525, 0.02541793288118176), (526, 0.0), (527, 0.003576481348835718), (528, 0.03622690558963416), (529, 0.03816153527579631), (530, 0.011089272133922912), (531, 0.0836159542632365), (532, 0.03775334297254262), (533, 0.023335760899755472), (534, 0.012429667447784645), (535, 0.027433250579130975), (536, 0.02665214486693211), (537, 0.03217505652826232), (538, 0.0), (539, 0.16013773148000335), (540, 0.029548887116221518), (541, 0.10870069225198162), (542, 0.04102414955963559), (543, 0.04431441382213641), (544, 0.04395358867478935), (545, 0.027042128951402282), (546, 0.01664822294226906), (547, 0.04657730994891179), (548, 0.007695362332308584), (549, 0.10514806146922587), (550, 0.003797447254806181), (551, 0.010952282410222457), (552, 0.0), (553, 0.013469865518692937), (554, 0.021980177495142233), (555, 0.021485994056257812), (556, 0.02756836392486777), (557, 0.04594021590071369), (558, 0.007056424615757107), (559, 0.0038465020354961606), (560, 0.02343621118831868), (561, 0.014910970279985069), (562, 0.004662088268435652), (563, 0.0216437082877992), (564, 0.03126255240872019), (565, 0.03147268600900532), (566, 0.010198067798411745), (567, 0.0), (568, 0.05238031117296754), (569, 0.0446627980430806), (570, 0.018045961328550998), (571, 0.026978180220708754), (572, 0.04279884177683731), (573, 0.009922537554078495), (574, 0.01641002561161111), (575, 0.0926214320662287), (576, 0.018707203541887762), (577, 0.1333491919485458), (578, 0.026393291727095668), (579, 0.03452639585717924), (580, 0.007768497644218922), (581, 0.12423065015156924), (582, 0.09165670219937413), (583, 0.036667806751596185), (584, 0.028853579477237594), (585, 0.0839840323211564), (586, 0.10579337512282291), (587, 0.13148712081571468), (588, 0.0), (589, 0.043692631095174586), (590, 0.013298078964500509), (591, 0.03512095195422127), (592, 0.04442109530168603), (593, 0.004252160936846285), (594, 0.01985207449385301), (595, 0.07376893078832171), (596, 0.030720556797463425), (597, 0.02588207310494889), (598, 0.008354889146635734), (599, 0.11818874547433389), (600, 0.0330018151827432), (601, 0.046126437705502954), (602, 0.030270339961813764), (603, 0.0032694121764546874), (604, 0.01958058052639601), (605, 0.00888101505836841), (606, 0.0), (607, 0.1015722897878137), (608, 0.004010351381449456), (609, 0.04252385782933785), (610, 0.04074754957053959), (611, 0.034812731220856215), (612, 0.03443164786559034), (613, 0.012470864227098106), (614, 0.0), (615, 0.010830775939682402), (616, 0.0), (617, 0.053656834153491616), (618, 0.06089109236241617), (619, 0.0), (620, 0.012387627574037583), (621, 0.011445373818621122), (622, 0.017687482739059235), (623, 0.0), (624, 0.037234131842457295), (625, 0.0044892328518683355), (626, 0.09301938630549644), (627, 0.08071814156600259), (628, 0.11845506962656867), (629, 0.006859384721625524), (630, 0.0033203563640364204), (631, 0.017050671129965275), (632, 0.0584875368304301), (633, 0.013141704931935927), (634, 0.09858105334395109), (635, 0.0), (636, 0.018625371026087596), (637, 0.0), (638, 0.01567384420507281), (639, 0.0), (640, 0.03034582401685571), (641, 0.0), (642, 0.11296495385164632), (643, 0.2557859834857088), (644, 0.04693379829433032), (645, 0.02137894583448642), (646, 0.018294893172585296), (647, 0.04128449799733931), (648, 0.01701908629321855), (649, 0.006486672002364225), (650, 0.0), (651, 0.0), (652, 0.004071446246337812), (653, 0.030659742320026467), (654, 0.05712269597119276), (655, 0.052268183207124654), (656, 0.007988282196877925), (657, 0.046347608647265226), (658, 0.04014660208958077), (659, 0.013279577076098345), (660, 0.04166180670214611), (661, 0.2508195737914337), (662, 0.0), (663, 0.004731566765862879), (664, 0.018957895964335697), (665, 0.01565193974112778), (666, 0.025020340216892097), (667, 0.0), (668, 0.02781195167025107), (669, 0.0), (670, 0.029565415204489194), (671, 0.013897565518200518), (672, 0.03658248073000102), (673, 0.03859789579606109), (674, 0.05320823774332159), (675, 0.05195683947908275), (676, 0.029704237659451987), (677, 0.07359468367482222), (678, 0.035328017975567914), (679, 0.0), (680, 0.06437953029521157), (681, 0.032607707772719485), (682, 0.004110149566633073), (683, 0.01584748462701127), (684, 0.003758618212779717), (685, 0.016616653661719286), (686, 0.0), (687, 0.03997714116752593), (688, 0.004171288394767553), (689, 0.005107885731791163), (690, 0.021768162033620864), (691, 0.020441189748591212), (692, 0.07995201366332179), (693, 0.0), (694, 0.019300523369915803), (695, 0.01686618316455333), (696, 0.009179414270980575), (697, 0.008359265520735555), (698, 0.02844747711296316), (699, 0.0), (700, 0.007832757664309837), (701, 0.0), (702, 0.012749053934024618), (703, 0.0), (704, 0.011310507005357986), (705, 0.0), (706, 0.02332578105033494), (707, 0.015038315456515627), (708, 0.01720803333513521), (709, 0.0), (710, 0.019430801950056222), (711, 0.0167595426006479), (712, 0.0), (713, 0.004817922284019444), (714, 0.0), (715, 0.048888048859343516), (716, 0.01599747745742665), (717, 0.004406105464398907), (718, 0.028185123922623765), (719, 0.0), (720, 0.056863109483243926), (721, 0.012783517412430655), (722, 0.022060338423907852), (723, 0.029393349502100756), (724, 0.008450554214257739), (725, 0.0040366125062396285), (726, 0.0044090720277444335), (727, 0.003921759812109099), (728, 0.05307883649745734), (729, 0.008892411239994335), (730, 0.014454734743940125), (731, 0.04988707209418657), (732, 0.10980672004703981), (733, 0.0), (734, 0.02204857275138551), (735, 0.0573476331785007), (736, 0.017599262736356043), (737, 0.009291739863367348), (738, 0.0), (739, 0.03020388514613258), (740, 0.039700664175716674), (741, 0.016041815820611975), (742, 0.019525656945974305), (743, 0.032918907989812875), (744, 0.05252980273926637), (745, 0.007055848326332687), (746, 0.035727456620119676), (747, 0.007994392007802248), (748, 0.012057734615695358), (749, 0.0), (750, 0.02804575540903754), (751, 0.0), (752, 0.035660929975351335), (753, 0.01719508444088238), (754, 0.03066711545515088), (755, 0.048949874984484415), (756, 0.0), (757, 0.004294473264122379), (758, 0.021350234031511928), (759, 0.017584226987337158), (760, 0.0), (761, 0.01569804791710583), (762, 0.018102969285547707), (763, 0.01369561995744503), (764, 0.07187615388459219), (765, 0.055777995703580045), (766, 0.011927993149552112), (767, 0.034788607045875525), (768, 0.055699567612723426), (769, 0.030221133055894304), (770, 0.17250369919761221), (771, 0.0), (772, 0.007660633892536751), (773, 0.0811543441339385), (774, 0.014653086516739243), (775, 0.1311142819901177), (776, 0.019285818953291418), (777, 0.030364416710207745), (778, 0.07226332347478849), (779, 0.016703901638606883), (780, 0.0), (781, 0.03699585125450493), (782, 0.052412321228503415), (783, 0.011158902138375474), (784, 0.0625321396646053), (785, 0.043514483455487835), (786, 0.04586700042734094), (787, 0.09800254817701168), (788, 0.03221811181382613), (789, 0.004049481381517062), (790, 0.031061673676952912), (791, 0.04118797585652194), (792, 0.018833562848557424), (793, 0.031241441799369496), (794, 0.04160508564737954), (795, 0.004252567355860067), (796, 0.006804965096584466), (797, 0.004571040423538242), (798, 0.01049436115090233), (799, 0.0512116940573238), (800, 0.08357336709626537), (801, 0.004353099916114727), (802, 0.011928046610174877), (803, 0.021168434746423666), (804, 0.01385350348617349), (805, 0.03272337960772152), (806, 0.0), (807, 0.018328953674604534), (808, 0.020309619320122804), (809, 0.03045588525323366), (810, 0.019654759672593253), (811, 0.00857619785848812), (812, 0.24259090619354098), (813, 0.09722855557029028), (814, 0.04594268677872397), (815, 0.00970651575428659), (816, 0.026242581929745698), (817, 0.0), (818, 0.009429764537929116), (819, 0.0), (820, 0.019053408360798774), (821, 0.013870617171258245), (822, 0.0), (823, 0.008170952647937612), (824, 0.013632033385428195), (825, 0.007810587786433966), (826, 0.0), (827, 0.021976896199468424), (828, 0.012920678280815633), (829, 0.0048363693980510575), (830, 0.015469630574384493), (831, 0.0410520060788381), (832, 0.038687894306397), (833, 0.02727066514328224), (834, 0.019530716433913388), (835, 0.0), (836, 0.07233594589018429), (837, 0.0), (838, 0.13990405774989784), (839, 0.014136433857148427), (840, 0.019273849646783005), (841, 0.025626873055796216), (842, 0.019735917951010543), (843, 0.005117921843219383), (844, 0.0365942719708239), (845, 0.0), (846, 0.0038426541713827895), (847, 0.007430311222851117), (848, 0.027800869369731262), (849, 0.0), (850, 0.03283401164867533), (851, 0.003476419538883668), (852, 0.028297037334435872), (853, 0.09789829820460785), (854, 0.061995597819138167), (855, 0.05719003066574521), (856, 0.01583409734770906), (857, 0.0050695605595580265), (858, 0.08002229963375837), (859, 0.03485630414261479), (860, 0.0), (861, 0.008442529697798002), (862, 0.017807209268668484), (863, 0.00912389960911202), (864, 0.024706064970866838), (865, 0.0), (866, 0.01834689658798196), (867, 0.008395289356257536), (868, 0.07299668437156587), (869, 0.008058411212342674), (870, 0.10700758227762355), (871, 0.013848262388977763), (872, 0.0035332010326484206), (873, 0.02549179144891323), (874, 0.02548789674665016), (875, 0.0), (876, 0.0), (877, 0.0), (878, 0.060210030061080715), (879, 0.004107731634528124), (880, 0.009229137032031792), (881, 0.018820364361986093), (882, 0.0), (883, 0.012000668206616813), (884, 0.0044752237580738), (885, 0.004808452371672707), (886, 0.0038646358949875927), (887, 0.0), (888, 0.030441464367419208), (889, 0.08243343333368733), (890, 0.0038513788406203354), (891, 0.003945078490891561), (892, 0.004440688347941213), (893, 0.008449809893273796), (894, 0.021432131800815), (895, 0.0), (896, 0.007572734528814862), (897, 0.009338189431082656), (898, 0.03474799734592153), (899, 0.03324231042186531), (900, 0.07600641820203871), (901, 0.03526028505144588), (902, 0.060403295200495324), (903, 0.016636332766778585), (904, 0.041059587022713305), (905, 0.0), (906, 0.011853687062020437), (907, 0.0), (908, 0.037001935743078265), (909, 0.0), (910, 0.011641708623536024), (911, 0.008768084966148127), (912, 0.00413512926111553), (913, 0.0), (914, 0.031091909918882717), (915, 0.006512169576177691), (916, 0.0), (917, 0.023727906354447048), (918, 0.0035184715785114055), (919, 0.009867785129363633), (920, 0.050492949572695234), (921, 0.06091693854752035), (922, 0.0831641878777992), (923, 0.0036241875113756524), (924, 0.008749193136881429), (925, 0.0), (926, 0.0), (927, 0.0044681814416430215), (928, 0.0), (929, 0.05919866586559236), (930, 0.015602347023734647), (931, 0.06424620242326075), (932, 0.052997747547001456), (933, 0.024361819890397297), (934, 0.012453171134042632), (935, 0.026053293453526243), (936, 0.0), (937, 0.022500607201472365), (938, 0.0), (939, 0.038524264522684676), (940, 0.0), (941, 0.03798657115987321), (942, 0.04367567306178709), (943, 0.0), (944, 0.0), (945, 0.009198515531887226), (946, 0.016329574071775516), (947, 0.007926267137337684), (948, 0.01217336737315158), (949, 0.00412124938176212), (950, 0.019774227068791988), (951, 0.014775764144947339), (952, 0.009720213442662167), (953, 0.021998149983999033), (954, 0.005094692312868453), (955, 0.03934887610106298), (956, 0.040912503365112915), (957, 0.009834676478253382), (958, 0.014947912339485846), (959, 0.01114183342134842), (960, 0.05437537345292071), (961, 0.014529085395917768), (962, 0.03553194702966993), (963, 0.04111187099739767), (964, 0.018577080378008363), (965, 0.0), (966, 0.0), (967, 0.021925535218589975), (968, 0.004277080512566655), (969, 0.045412282152041065), (970, 0.0), (971, 0.029262099769801143), (972, 0.06834439013569348), (973, 0.007536786989411741), (974, 0.0043636047050807794), (975, 0.006133483585258324), (976, 0.05550389776224893), (977, 0.15020423536911334), (978, 0.028386904082783236), (979, 0.0733499607647379), (980, 0.02231829209973949), (981, 0.025283774870749603), (982, 0.012615514804263275), (983, 0.0), (984, 0.026589886954706383), (985, 0.07066807712159623), (986, 0.0), (987, 0.0), (988, 0.01230591225169434), (989, 0.018099018477087565), (990, 0.019678487263458926), (991, 0.0), (992, 0.009330474323613905), (993, 0.009284290105506361), (994, 0.09300850896473982), (995, 0.03727641630501692), (996, 0.0), (997, 0.0), (998, 0.004959910337579497), (999, 0.02105421480755954), (1000, 0.03183068864939708), (1001, 0.04969056499870981), (1002, 0.10850530994777491), (1003, 0.017576860213518897), (1004, 0.011541064359252885), (1005, 0.019505148175161496), (1006, 0.049522926162163874), (1007, 0.06092615187144931), (1008, 0.05287276039111235), (1009, 0.004581742773050015), (1010, 0.0), (1011, 0.004115683326657049), (1012, 0.03885568559599506), (1013, 0.0), (1014, 0.010361693477581929), (1015, 0.0680011804073967), (1016, 0.0838806857076839), (1017, 0.03328411891221264), (1018, 0.022652080878765413), (1019, 0.047482002150194075), (1020, 0.01536919524817538), (1021, 0.008630942266609043), (1022, 0.0032491029808824506), (1023, 0.03709629032119578), (1024, 0.015555348396620627), (1025, 0.007414516526518097), (1026, 0.0), (1027, 0.04137244321364138), (1028, 0.060971264624942095), (1029, 0.04078848805024462), (1030, 0.009930780294552237), (1031, 0.018302280546490222), (1032, 0.0), (1033, 0.0), (1034, 0.04843796423454299), (1035, 0.02437599182532741), (1036, 0.036936835203894854), (1037, 0.0), (1038, 0.01980692694270554), (1039, 0.05543057733800676), (1040, 0.020987126674503448), (1041, 0.007742147232136508), (1042, 0.0), (1043, 0.008339543800939717), (1044, 0.0789212286348681), (1045, 0.003750697788079752), (1046, 0.009957207451853689), (1047, 0.00906353255811479), (1048, 0.017630106754564917), (1049, 0.0077469398373764065), (1050, 0.0), (1051, 0.0), (1052, 0.034826855694039066), (1053, 0.11830250513918397), (1054, 0.0), (1055, 0.038714499237817605), (1056, 0.008510820422541482), (1057, 0.0039418141204923055), (1058, 0.016421656339642276), (1059, 0.009599756357184743), (1060, 0.0), (1061, 0.004473134518305712), (1062, 0.01940700308133223), (1063, 0.01933567340357975), (1064, 0.01607572943064672), (1065, 0.0), (1066, 0.0), (1067, 0.0), (1068, 0.047507905797359466), (1069, 0.0), (1070, 0.04081263112948303), (1071, 0.0), (1072, 0.011367842850655481), (1073, 0.026918111835483656), (1074, 0.05714842755678499), (1075, 0.004093517256630583), (1076, 0.024280315327003945), (1077, 0.015303072477755301), (1078, 0.03330929904052486), (1079, 0.06948078784052657), (1080, 0.01590829001325788), (1081, 0.0), (1082, 0.02975539742509493), (1083, 0.09878179720196818), (1084, 0.03251288281853315), (1085, 0.05382001446802042), (1086, 0.07497760073895388), (1087, 0.004294430548770135), (1088, 0.004643795213702785), (1089, 0.023851296929553636), (1090, 0.0038214489849137064), (1091, 0.02198863989715527), (1092, 0.031415094698218335), (1093, 0.04771218665361164), (1094, 0.07316602404951783), (1095, 0.03963941742105949), (1096, 0.00915188411401883), (1097, 0.031093667614478723), (1098, 0.012587490772235609), (1099, 0.016185218955425247), (1100, 0.018012237009999054), (1101, 0.00789526720064027), (1102, 0.008285552590333178), (1103, 0.02645172766282412), (1104, 0.010976925273038075), (1105, 0.0), (1106, 0.06283912622244249), (1107, 0.0048365778365467025), (1108, 0.0), (1109, 0.010247813657817666), (1110, 0.05588772420820806), (1111, 0.033188943478058355), (1112, 0.0037071825597527674), (1113, 0.01698398352065795), (1114, 0.010675206168431213), (1115, 0.009984264392334984), (1116, 0.0038905350706410114), (1117, 0.0), (1118, 0.018880537614174908), (1119, 0.01003378285801347), (1120, 0.03503572390431476), (1121, 0.0), (1122, 0.003963732172029028), (1123, 0.008273602404390056), (1124, 0.026459487282716604), (1125, 0.02539975333776127), (1126, 0.003347850900188597), (1127, 0.0), (1128, 0.0035196298565517746), (1129, 0.0046522662105567955), (1130, 0.0), (1131, 0.02812099568775889), (1132, 0.03534933369681624), (1133, 0.009583009567574205), (1134, 0.048505861283904016), (1135, 0.05489740058262248), (1136, 0.029006308108084706), (1137, 0.011955734451702744), (1138, 0.015440313487511556), (1139, 0.04482426830406642), (1140, 0.008786267904683722), (1141, 0.0), (1142, 0.010494187469882184), (1143, 0.020718570583839212), (1144, 0.03172255919587753), (1145, 0.018651607420169282), (1146, 0.007308686727917122), (1147, 0.0048416894481136934), (1148, 0.02139539662768073), (1149, 0.0), (1150, 0.008741467257960319), (1151, 0.0), (1152, 0.06481052951742079), (1153, 0.0392650133350427), (1154, 0.008197828697138301), (1155, 0.04223636672234445), (1156, 0.0), (1157, 0.011436904730336546), (1158, 0.06126362098489553), (1159, 0.054569322717693686), (1160, 0.05100304698033862), (1161, 0.0032588964352612895), (1162, 0.009057900417469508), (1163, 0.012048629656331546), (1164, 0.007785896020870387), (1165, 0.06788935618065287), (1166, 0.0), (1167, 0.0), (1168, 0.0), (1169, 0.014883990580579513), (1170, 0.003998196579377901), (1171, 0.004444014114460175), (1172, 0.03159726810993852), (1173, 0.004716676930066305), (1174, 0.01105923483848348), (1175, 0.059329797450206015), (1176, 0.020716387378674622), (1177, 0.009416730603174302), (1178, 0.01714516094093756), (1179, 0.004816470179008082), (1180, 0.0), (1181, 0.028031474811773958), (1182, 0.011264877842936552), (1183, 0.022603286144642895), (1184, 0.0), (1185, 0.008188133850469076), (1186, 0.0036963506036700885), (1187, 0.08298969454074104), (1188, 0.04630457680115854), (1189, 0.0038030244401810786), (1190, 0.014785254581618994), (1191, 0.06780549141933523), (1192, 0.06073557878852397), (1193, 0.04038849679328379), (1194, 0.012777048661452151), (1195, 0.008767988086529763), (1196, 0.0049054208064523335), (1197, 0.0), (1198, 0.035562242567617655), (1199, 0.028197642509644058), (1200, 0.033812783898616305), (1201, 0.045619081034827286), (1202, 0.0570259298740017), (1203, 0.0182922468399614), (1204, 0.04128404342792731), (1205, 0.004758759209895481), (1206, 0.03387742598430448), (1207, 0.03131072938652139), (1208, 0.0), (1209, 0.013467516208476617), (1210, 0.0), (1211, 0.0), (1212, 0.01319632568220989), (1213, 0.051554263090241144), (1214, 0.02756158895343876), (1215, 0.009690892055610651), (1216, 0.0037656607525073265), (1217, 0.10545326274642419), (1218, 0.010097096800969912), (1219, 0.0), (1220, 0.011200803339156512), (1221, 0.015731837968686123), (1222, 0.0), (1223, 0.0), (1224, 0.0), (1225, 0.0), (1226, 0.005269511232247655), (1227, 0.014337993491357356), (1228, 0.0), (1229, 0.004087698168978022), (1230, 0.07625305421009429), (1231, 0.006752226138729619), (1232, 0.0), (1233, 0.014747316230609236), (1234, 0.06368500839992437), (1235, 0.0), (1236, 0.0039009258233668204), (1237, 0.013523996907473388), (1238, 0.06853740666370695), (1239, 0.033629020980392735), (1240, 0.015825678067263795), (1241, 0.0), (1242, 0.004453490393107315), (1243, 0.003581592317583247), (1244, 0.029125691507936063), (1245, 0.009743575350176826), (1246, 0.0174126029151554), (1247, 0.008273090946798286), (1248, 0.012730396281582575), (1249, 0.018963720223905738), (1250, 0.018379271423993447), (1251, 0.0), (1252, 0.0), (1253, 0.02618945343857505), (1254, 0.013858446570854291), (1255, 0.007723826738503024), (1256, 0.024365454447453028), (1257, 0.013201019411342461), (1258, 0.0), (1259, 0.06771069424085255), (1260, 0.0), (1261, 0.0), (1262, 0.0), (1263, 0.02246204237442307), (1264, 0.02138406406293891), (1265, 0.004333951025308221), (1266, 0.03400277832280472), (1267, 0.01606883757564106), (1268, 0.0), (1269, 0.017156065354382848), (1270, 0.03772422917524154), (1271, 0.07782071519863751), (1272, 0.09517187933796464), (1273, 0.025397232567545384), (1274, 0.04264074343159796), (1275, 0.13405274760962244), (1276, 0.003924582207022954), (1277, 0.09795844577666127), (1278, 0.023019553368497467), (1279, 0.051608620847888684), (1280, 0.019875356577616667), (1281, 0.007793231086058913), (1282, 0.08717701607285297), (1283, 0.0038277969114712323), (1284, 0.015962933898311688), (1285, 0.041271159066817935), (1286, 0.041551887000058), (1287, 0.03077437793828322), (1288, 0.024400250462529645), (1289, 0.03641207695495972), (1290, 0.06871983108946461), (1291, 0.02839185744799292), (1292, 0.0036529645586798843), (1293, 0.007807785405210128), (1294, 0.057596530939802375), (1295, 0.006563584546884299), (1296, 0.09558686723680858), (1297, 0.0), (1298, 0.05370753318669612), (1299, 0.0), (1300, 0.022023988656339435), (1301, 0.016179053358354248), (1302, 0.030460879382135424), (1303, 0.046242345252970246), (1304, 0.012750973330695428), (1305, 0.004379368949263771), (1306, 0.03873754544722327), (1307, 0.004147740507204497), (1308, 0.0), (1309, 0.0), (1310, 0.007240253451007729), (1311, 0.009162237906790357), (1312, 0.004039706859191509), (1313, 0.012230330390559058), (1314, 0.0), (1315, 0.01093439124495641), (1316, 0.0), (1317, 0.01848659469026588), (1318, 0.12013286898158827), (1319, 0.045839245286774286), (1320, 0.042352107548913734), (1321, 0.01050736602844419), (1322, 0.07764059587908621), (1323, 0.004019308792098184), (1324, 0.020316730547381576), (1325, 0.004341865754548473), (1326, 0.04705354326913278), (1327, 0.0), (1328, 0.017029465522701785), (1329, 0.0), (1330, 0.0), (1331, 0.03685517279665221), (1332, 0.028413079021593676), (1333, 0.0), (1334, 0.008246081345749888), (1335, 0.0048109151177660086), (1336, 0.012113843413217635), (1337, 0.027880441071350473), (1338, 0.0), (1339, 0.00852004615507578), (1340, 0.004237459851333563), (1341, 0.06475352921274974), (1342, 0.00879372974669291), (1343, 0.0500135117756137), (1344, 0.0351380236328762), (1345, 0.0), (1346, 0.008677626996459723), (1347, 0.01648785104943873), (1348, 0.05605547668495413), (1349, 0.01947804894553814), (1350, 0.038103780951115926), (1351, 0.004077212948393789), (1352, 0.033796228052022266), (1353, 0.0), (1354, 0.21816903062073775), (1355, 0.008782586636719693), (1356, 0.003820469431579441), (1357, 0.013654817563762021), (1358, 0.06966411224011361), (1359, 0.031235556372960917), (1360, 0.02427095160788753), (1361, 0.021046684400293246), (1362, 0.009480759225570495), (1363, 0.026504987979003795), (1364, 0.015345722494553935), (1365, 0.018981523427709722), (1366, 0.0344122007286903), (1367, 0.0563898531305282), (1368, 0.018922326623899095), (1369, 0.007752446224549954), (1370, 0.014007383791075216), (1371, 0.0), (1372, 0.0), (1373, 0.07133612701136678), (1374, 0.0), (1375, 0.036794339430814185), (1376, 0.0), (1377, 0.04301845090639646), (1378, 0.0), (1379, 0.11762301680670237), (1380, 0.049219880931000146), (1381, 0.005098648272400156), (1382, 0.013444235245229917), (1383, 0.0), (1384, 0.0), (1385, 0.0), (1386, 0.0), (1387, 0.0), (1388, 0.013694763749286638), (1389, 0.0), (1390, 0.09866685564654518), (1391, 0.0), (1392, 0.01262390481365238), (1393, 0.0), (1394, 0.0), (1395, 0.04077385766384495), (1396, 0.0), (1397, 0.015067296427069535), (1398, 0.009586525192810785), (1399, 0.07950581306463497), (1400, 0.0037621965411199403), (1401, 0.0), (1402, 0.02916459741357913), (1403, 0.013898951367325442), (1404, 0.05322764198376856), (1405, 0.052005208916625384), (1406, 0.028892261025962596), (1407, 0.008191173647573331), (1408, 0.007200255377442516), (1409, 0.03769062063443089), (1410, 0.0043982917612559545), (1411, 0.09072129723817256), (1412, 0.047239203883177136), (1413, 0.004125696169224375), (1414, 0.003366112960490934), (1415, 0.03790331732480139), (1416, 0.008331777996155563), (1417, 0.007808934098245822), (1418, 0.014774378011665397), (1419, 0.008540582562829108), (1420, 0.034512793958727105), (1421, 0.0), (1422, 0.0360402595424506), (1423, 0.0168986597060419), (1424, 0.0), (1425, 0.00988773628310727), (1426, 0.011743869575330985), (1427, 0.0), (1428, 0.044477247874781294), (1429, 0.0), (1430, 0.0), (1431, 0.012547226311745232), (1432, 0.022224874197439237), (1433, 0.031083953757647775), (1434, 0.009203495545093402), (1435, 0.006779542010330847), (1436, 0.0), (1437, 0.0083889436661961), (1438, 0.05565317885519975), (1439, 0.04124113196462756), (1440, 0.05463953109658001), (1441, 0.002740853079431396), (1442, 0.003899629791839001), (1443, 0.05913581082485242), (1444, 0.0038048991517049854), (1445, 0.009080527906020276), (1446, 0.030434843870959037), (1447, 0.019968578186751306), (1448, 0.010323423521399519), (1449, 0.023229641293320967), (1450, 0.027072144708871582), (1451, 0.04036456616343253), (1452, 0.018496340661891163), (1453, 0.054367883767531024), (1454, 0.0), (1455, 0.0), (1456, 0.011604001831056896), (1457, 0.014403982376355089), (1458, 0.0), (1459, 0.10252426130831352), (1460, 0.044527927343118015), (1461, 0.0408378532883929), (1462, 0.0), (1463, 0.007904043843823556), (1464, 0.0), (1465, 0.04239989632532033), (1466, 0.0), (1467, 0.046770839728131286), (1468, 0.060177969515435484), (1469, 0.024425495841664157), (1470, 0.036986556602552616), (1471, 0.02313769371476894), (1472, 0.0036802298700831385), (1473, 0.1801199052241842), (1474, 0.046547550100095404), (1475, 0.0), (1476, 0.0), (1477, 0.0038755711483221844), (1478, 0.010516486066559548), (1479, 0.009293905245954874), (1480, 0.0), (1481, 0.05489545237352702), (1482, 0.04338696179443334), (1483, 0.01769100611096403), (1484, 0.009730684645886967), (1485, 0.012951864772071223), (1486, 0.012656509580033958), (1487, 0.0042439637620313875), (1488, 0.020505263152844677), (1489, 0.0), (1490, 0.15466014158728195), (1491, 0.03794071713550497), (1492, 0.027974025393026465), (1493, 0.0), (1494, 0.0145611560222109), (1495, 0.044548713434086055), (1496, 0.010320246818419079), (1497, 0.019325235419199564), (1498, 0.0), (1499, 0.005132218987866557), (1500, 0.05183859082803667), (1501, 0.004356905946376928), (1502, 0.014299924533109026), (1503, 0.011859832063622774), (1504, 0.004354689435541129), (1505, 0.008821111506248838), (1506, 0.051202399599322296), (1507, 0.026859841671940714), (1508, 0.01724094297247227), (1509, 0.018795525826452792), (1510, 0.07504002984548613), (1511, 0.0), (1512, 0.012081306559507662), (1513, 0.04345835985042081), (1514, 0.015474370035997394), (1515, 0.02092446124044719), (1516, 0.005430586453554049), (1517, 0.028797955467108897), (1518, 0.05514089354444401), (1519, 0.016610409311574523), (1520, 0.005025122733704389), (1521, 0.0), (1522, 0.0), (1523, 0.05362361100869703), (1524, 0.01979258153809159), (1525, 0.028344510541985286), (1526, 0.004094237204615733), (1527, 0.01746489847246141), (1528, 0.011298129945369396), (1529, 0.00994171788709938), (1530, 0.0), (1531, 0.23615666422913598), (1532, 0.004099732233967834), (1533, 0.00710219393376906), (1534, 0.0), (1535, 0.08379996255474872), (1536, 0.0), (1537, 0.004307405042423109), (1538, 0.007431119617085385), (1539, 0.0), (1540, 0.008621996670679961), (1541, 0.0), (1542, 0.018631174203486194), (1543, 0.005143865613568344), (1544, 0.0), (1545, 0.007504201324137236), (1546, 0.045426664353028307), (1547, 0.004017889951085792), (1548, 0.003824017171048043), (1549, 0.02214900065039134), (1550, 0.01003813719213307), (1551, 0.006699111508441068), (1552, 0.004403371818610551), (1553, 0.0), (1554, 0.030549437061890804), (1555, 0.004254818823289059), (1556, 0.006805876955627015), (1557, 0.0), (1558, 0.0), (1559, 0.012963631736455004), (1560, 0.004208781260196036), (1561, 0.014170663354348304), (1562, 0.01622176326103904), (1563, 0.01638439203672166), (1564, 0.10639453128998361), (1565, 0.02173919237625829), (1566, 0.0), (1567, 0.0), (1568, 0.10532038496583578), (1569, 0.08897093661697464), (1570, 0.015866737250719496), (1571, 0.0038663167229338285), (1572, 0.0), (1573, 0.008166064665079773), (1574, 0.0), (1575, 0.0), (1576, 0.003979677174348003), (1577, 0.07847782126715491), (1578, 0.013069442508334946), (1579, 0.02082633988922893), (1580, 0.018769457758163813), (1581, 0.021005304066468174), (1582, 0.00722289516073563), (1583, 0.05599850288770702), (1584, 0.01208331164543247), (1585, 0.010630139682247986), (1586, 0.05406739602109144), (1587, 0.028444667361400257), (1588, 0.0), (1589, 0.007448250999142856), (1590, 0.023518778445536924), (1591, 0.0), (1592, 0.008358348186437185), (1593, 0.0057625645412686865), (1594, 0.01642082009957256), (1595, 0.05320044806614002), (1596, 0.013209033646947147), (1597, 0.013257494461088948), (1598, 0.02919674194942531), (1599, 0.03246381415692448), (1600, 0.0), (1601, 0.0), (1602, 0.012379411872383493), (1603, 0.032153319287455656), (1604, 0.009664461218214732), (1605, 0.0087608471332826), (1606, 0.01730782456968479), (1607, 0.01995115457730675), (1608, 0.03702621422039726), (1609, 0.01118679842494508), (1610, 0.0214091242827854), (1611, 0.06217296652576524), (1612, 0.009071015223422766), (1613, 0.0), (1614, 0.005066456552252436), (1615, 0.020164398895863783), (1616, 0.010821346418596268), (1617, 0.07364032266102208), (1618, 0.0), (1619, 0.0037755909247851075), (1620, 0.004484617137615514), (1621, 0.011650404544704503), (1622, 0.01129208791980869), (1623, 0.04813884689750454), (1624, 0.010826297319195616), (1625, 0.034510691663247564), (1626, 0.01901025247983725), (1627, 0.0), (1628, 0.029902661646286112), (1629, 0.0), (1630, 0.01473652564058582), (1631, 0.0), (1632, 0.0036489087627134295), (1633, 0.07552866577317886), (1634, 0.0), (1635, 0.012769548989350222), (1636, 0.009293401393167984), (1637, 0.005435772955473496), (1638, 0.0), (1639, 0.0), (1640, 0.0), (1641, 0.0043229599245903005), (1642, 0.039193409979220786), (1643, 0.03829270273046803), (1644, 0.0), (1645, 0.023569121737279184), (1646, 0.0), (1647, 0.008980336273666387), (1648, 0.0), (1649, 0.05081117768667039), (1650, 0.1840578583866094), (1651, 0.009070342707777016), (1652, 0.12233276540917057), (1653, 0.01206414744191583), (1654, 0.03656471508599654), (1655, 0.025125776619326363), (1656, 0.0035617614760717355), (1657, 0.015225378167572154), (1658, 0.046216591920865996), (1659, 0.009364861673737629), (1660, 0.003585823002086156), (1661, 0.008345420738626463), (1662, 0.037122112328328086), (1663, 0.006026233034831428), (1664, 0.008233930777651895), (1665, 0.01366604537263294), (1666, 0.0037663420285875995), (1667, 0.03483680553436773), (1668, 0.028830113050284364), (1669, 0.03621685808101695), (1670, 0.024951973170566667), (1671, 0.05191124306966549), (1672, 0.05841257893150358), (1673, 0.0), (1674, 0.0), (1675, 0.024470366802796805), (1676, 0.0037928029674203093), (1677, 0.0), (1678, 0.0), (1679, 0.009504050011619553), (1680, 0.04385334794687866), (1681, 0.0), (1682, 0.025153825327839385), (1683, 0.0), (1684, 0.040758717273803355), (1685, 0.003670666162327206), (1686, 0.0505851695371274), (1687, 0.0034961084217900347), (1688, 0.008202675230291459), (1689, 0.003861892492294525), (1690, 0.004794315665400724), (1691, 0.0), (1692, 0.005880947596201847), (1693, 0.013319843783435073), (1694, 0.023029040072212965), (1695, 0.03321236119411986), (1696, 0.012382201340697306), (1697, 0.03471918811386049), (1698, 0.0048273663270116726), (1699, 0.013246947839507795), (1700, 0.0), (1701, 0.01712470842873294), (1702, 0.009034242158527092), (1703, 0.0), (1704, 0.005002562118623756), (1705, 0.0), (1706, 0.0), (1707, 0.03940324329301134), (1708, 0.018276193991404312), (1709, 0.14321600038134397), (1710, 0.003943787543205492), (1711, 0.042661247315896225), (1712, 0.0), (1713, 0.056084017311629666), (1714, 0.0), (1715, 0.0553023629632575), (1716, 0.0), (1717, 0.0), (1718, 0.0191530697205908), (1719, 0.01772819941070376), (1720, 0.007467486246265504), (1721, 0.023390510271556836), (1722, 0.010792590409916817), (1723, 0.003332759220900513), (1724, 0.008183203340470955), (1725, 0.02700128238873989), (1726, 0.008193138015388143), (1727, 0.011996378181514614), (1728, 0.04789146154806949), (1729, 0.0), (1730, 0.0), (1731, 0.02641048040985821), (1732, 0.015089118862570137), (1733, 0.015005066274893316), (1734, 0.022713626458491933), (1735, 0.04039704353329619), (1736, 0.0037464176024801527), (1737, 0.0), (1738, 0.0), (1739, 0.012181289428482893), (1740, 0.02141000768847076), (1741, 0.011448667945693498), (1742, 0.008252395866318043), (1743, 0.05325410368277815), (1744, 0.004293713639393947), (1745, 0.0067746296670130515), (1746, 0.009281016848141293), (1747, 0.028038181787892087), (1748, 0.0), (1749, 0.008545189954958277), (1750, 0.04682347102086508), (1751, 0.06440055012308185), (1752, 0.0029330595151596302), (1753, 0.012023355911388953), (1754, 0.025956866759060844), (1755, 0.0), (1756, 0.0), (1757, 0.035847263131271345), (1758, 0.0), (1759, 0.1532598022901324), (1760, 0.0), (1761, 0.046213304161185166), (1762, 0.10818388150497776), (1763, 0.008684939372930684), (1764, 0.05100456228475177), (1765, 0.015478568106492282), (1766, 0.0), (1767, 0.0), (1768, 0.0), (1769, 0.047325689361515724), (1770, 0.0), (1771, 0.011299038315944174), (1772, 0.0), (1773, 0.01360369424704835), (1774, 0.0), (1775, 0.07959130586716325), (1776, 0.005699948251350894), (1777, 0.021947272872395243), (1778, 0.0), (1779, 0.012379930734264894), (1780, 0.01101030954518785), (1781, 0.016123913100332208), (1782, 0.0), (1783, 0.007997572122703715), (1784, 0.0), (1785, 0.0), (1786, 0.029263383548788303), (1787, 0.09544231254901656), (1788, 0.0), (1789, 0.0), (1790, 0.018799480950338184), (1791, 0.00808368281806446), (1792, 0.008153475337263334), (1793, 0.0), (1794, 0.06672502646380002), (1795, 0.010045435746593974), (1796, 0.044161550349973995), (1797, 0.010225053672927429), (1798, 0.003735693650337496), (1799, 0.0), (1800, 0.040655511733038725), (1801, 0.0), (1802, 0.05185294306447431), (1803, 0.0), (1804, 0.025318297906666086), (1805, 0.020306714028671638), (1806, 0.0), (1807, 0.01384969813419), (1808, 0.024431649637694997), (1809, 0.003942967598992419), (1810, 0.014742532399133519), (1811, 0.0), (1812, 0.008519210667187865), (1813, 0.01976035693262239), (1814, 0.0), (1815, 0.008673863938450179), (1816, 0.016899647820721682), (1817, 0.01512001584223053), (1818, 0.07422492209524381), (1819, 0.0043585935651548596), (1820, 0.02695071605579213), (1821, 0.024365871871677984), (1822, 0.03535953883329404), (1823, 0.0), (1824, 0.02779547344227532), (1825, 0.017052530929814874), (1826, 0.04307748651600755), (1827, 0.05360531905127503), (1828, 0.0038257326863446904), (1829, 0.0), (1830, 0.007326297516044087), (1831, 0.0), (1832, 0.026372430338737277), (1833, 0.006794448173918751), (1834, 0.01021380200587988), (1835, 0.007834180003751448), (1836, 0.019493029758863314), (1837, 0.00914350638242709), (1838, 0.015542172466765128), (1839, 0.058979837441262666), (1840, 0.004799684063585449), (1841, 0.009772233983579976), (1842, 0.017816828555618634), (1843, 0.0), (1844, 0.014623020059788114), (1845, 0.008346717649848498), (1846, 0.01429034653735448), (1847, 0.014245887835195314), (1848, 0.03502541450484746), (1849, 0.023138175775414944), (1850, 0.039350613191369205), (1851, 0.026751938405226723), (1852, 0.05766821226153042), (1853, 0.007338420242281327), (1854, 0.03396891096188456), (1855, 0.0), (1856, 0.012408664842174963), (1857, 0.004785659255227273), (1858, 0.018679302175812207), (1859, 0.02492706472470283), (1860, 0.024589891820992676), (1861, 0.014068837952939815), (1862, 0.0), (1863, 0.004440171060047701), (1864, 0.03810990078015979), (1865, 0.0), (1866, 0.0), (1867, 0.0), (1868, 0.01278670891474272), (1869, 0.014524247999900389), (1870, 0.007228729166345822), (1871, 0.0), (1872, 0.05403551164897523), (1873, 0.0059198840115629705), (1874, 0.018312757411556194), (1875, 0.0), (1876, 0.006615429564659016), (1877, 0.05628344990186899), (1878, 0.10242252624548821), (1879, 0.0048959251640342105), (1880, 0.010178572157550985), (1881, 0.003739880759275144), (1882, 0.008206669850230995), (1883, 0.0), (1884, 0.008249733380405447), (1885, 0.0), (1886, 0.0), (1887, 0.0), (1888, 0.0039100906243798314), (1889, 0.011900921738909005), (1890, 0.045381696708388604), (1891, 0.019916747736032137), (1892, 0.020577280899932583), (1893, 0.0300328035788593), (1894, 0.041713213162023435), (1895, 0.0), (1896, 0.01262934675151077), (1897, 0.011114429520259664), (1898, 0.0), (1899, 0.04206161531910962), (1900, 0.0299124516231446), (1901, 0.005902048652573313), (1902, 0.040320191564161695), (1903, 0.0037108192213118306), (1904, 0.007713566106449249), (1905, 0.004155779995718359), (1906, 0.003696192317000449), (1907, 0.03160081811650193), (1908, 0.007264028438938594), (1909, 0.0), (1910, 0.013201784132067657), (1911, 0.0), (1912, 0.0), (1913, 0.009725706813615129), (1914, 0.13696298079226285), (1915, 0.008222097286305472), (1916, 0.006682388280399996), (1917, 0.004530309218796152), (1918, 0.05121124485121526), (1919, 0.006485415837059246), (1920, 0.010010681495744038), (1921, 0.029625972034088777), (1922, 0.049479268314627345), (1923, 0.04139306517769436), (1924, 0.0), (1925, 0.0), (1926, 0.01022184111762387), (1927, 0.011852696860495397), (1928, 0.0), (1929, 0.02246571605414313), (1930, 0.015902823049738224), (1931, 0.050775120914081914), (1932, 0.09725777994439916), (1933, 0.01167227058986109), (1934, 0.0), (1935, 0.030775537289504457), (1936, 0.04281949015346725), (1937, 0.012613115365781687), (1938, 0.09218438357680314), (1939, 0.035742167572545086), (1940, 0.008568096419240336), (1941, 0.005418020795309487), (1942, 0.012015736132627795), (1943, 0.007819796376566688), (1944, 0.003924507159352112), (1945, 0.018930126318445904), (1946, 0.013835980980076983), (1947, 0.0), (1948, 0.003795673831780612), (1949, 0.0), (1950, 0.023846980428036717), (1951, 0.28729713854178696), (1952, 0.004335100670483881), (1953, 0.02116858610395183), (1954, 0.008941132427839981), (1955, 0.006356621037023713), (1956, 0.009273791821967869), (1957, 0.0038368766634681224), (1958, 0.022875080056193917), (1959, 0.09643344232198472), (1960, 0.007870468514209894), (1961, 0.008444417767834226), (1962, 0.014175755492779682), (1963, 0.0), (1964, 0.013596434936905887), (1965, 0.0), (1966, 0.02234143497185494), (1967, 0.020271863167013227), (1968, 0.0), (1969, 0.014609588185769778), (1970, 0.015236605535992485), (1971, 0.0), (1972, 0.020025732185973744), (1973, 0.024591018179051925), (1974, 0.03505578112612369), (1975, 0.0), (1976, 0.19183559810253056), (1977, 0.04404443421153521), (1978, 0.014464349279262595), (1979, 0.0072164492160007926), (1980, 0.0), (1981, 0.003569202464472421), (1982, 0.01975463820645182), (1983, 0.01477305654677366), (1984, 0.08052182693342426), (1985, 0.012166531027599441), (1986, 0.010590958579703042), (1987, 0.031183891498447483), (1988, 0.0), (1989, 0.0033335183940548063), (1990, 0.14866506353072226), (1991, 0.00924913983459456), (1992, 0.01763054457179413), (1993, 0.027051730694536487), (1994, 0.011376584510047081), (1995, 0.055443537832758676), (1996, 0.010997535681326099), (1997, 0.02835700677410264), (1998, 0.0), (1999, 0.07442446629791476), (2000, 0.008455436687262041), (2001, 0.02820840003389092), (2002, 0.009179826757265395), (2003, 0.015522770845812335), (2004, 0.006555379124397066), (2005, 0.007666348505638711), (2006, 0.0239820852492078), (2007, 0.017134098036595914), (2008, 0.034924115452924065), (2009, 0.0), (2010, 0.0), (2011, 0.0), (2012, 0.0), (2013, 0.03953422203097974), (2014, 0.003422545471298813), (2015, 0.11783091411897943), (2016, 0.06378858703250337), (2017, 0.016250503837101925), (2018, 0.004566512365386669), (2019, 0.01589384712300608), (2020, 0.004587330147057628), (2021, 0.007797004352395403), (2022, 0.0501494043385551), (2023, 0.025527498776895013), (2024, 0.06847360222498963), (2025, 0.008014077652173912), (2026, 0.008054301700740374), (2027, 0.0), (2028, 0.011322523161441972), (2029, 0.03784828288818372), (2030, 0.0), (2031, 0.005163448754981664), (2032, 0.010191701091347575), (2033, 0.019897370344569676), (2034, 0.0), (2035, 0.01565512111661422), (2036, 0.003642156058506549), (2037, 0.013571548720876438), (2038, 0.015582097996282171), (2039, 0.006109415125403047), (2040, 0.01583222664811475), (2041, 0.0), (2042, 0.01507509473167214), (2043, 0.007931160911633366), (2044, 0.003747140744839254), (2045, 0.0), (2046, 0.05671715106185382), (2047, 0.05733657517605164), (2048, 0.004163270356941994), (2049, 0.032438485599201906), (2050, 0.012974685113978243), (2051, 0.00380403903656948), (2052, 0.07327304900167927), (2053, 0.06423134954421159), (2054, 0.012629178717680498), (2055, 0.011882446398883582), (2056, 0.0), (2057, 0.024520257823003377), (2058, 0.0), (2059, 0.0), (2060, 0.012577895236071668), (2061, 0.012442567118693931), (2062, 0.010361083871332659), (2063, 0.0), (2064, 0.012909090320858572), (2065, 0.0), (2066, 0.04780760367024384), (2067, 0.0), (2068, 0.012888343605789825), (2069, 0.03557204631647785), (2070, 0.005287249018376112), (2071, 0.004456664365264885), (2072, 0.05794427663640772), (2073, 0.0), (2074, 0.013697924336609841), (2075, 0.008636816582145424), (2076, 0.032759132486719494), (2077, 0.0), (2078, 0.0037713123405226936), (2079, 0.0), (2080, 0.017063058677016588), (2081, 0.033455797563874075), (2082, 0.005347127224441459), (2083, 0.0034877884807006363), (2084, 0.03752617937724577), (2085, 0.06379045295155802), (2086, 0.012820574228719241), (2087, 0.04161453493296811), (2088, 0.00932323301446147), (2089, 0.01803133966686376), (2090, 0.003941153600066572), (2091, 0.09599810967004979), (2092, 0.017509231106023003), (2093, 0.009002048694267706), (2094, 0.0039609604385959325), (2095, 0.007353597980799798), (2096, 0.04882654637027024), (2097, 0.009046552229607218), (2098, 0.009678817077350315), (2099, 0.017448075354888768), (2100, 0.048630934031870174), (2101, 0.06545739753975585), (2102, 0.008423494891566114), (2103, 0.01000480613292988), (2104, 0.0074347750097815265), (2105, 0.011849029597600537), (2106, 0.0), (2107, 0.0), (2108, 0.016997908244290698), (2109, 0.0), (2110, 0.0), (2111, 0.010225582577709797), (2112, 0.0), (2113, 0.0), (2114, 0.04078818153039793), (2115, 0.02560175285316254), (2116, 0.019844828114492036), (2117, 0.0), (2118, 0.008234587010758453), (2119, 0.004727154429619664), (2120, 0.0), (2121, 0.03700270548358963), (2122, 0.025718362080153212), (2123, 0.008584163932590464), (2124, 0.0), (2125, 0.004611631708037647), (2126, 0.0035754464003744293), (2127, 0.08530120751617627), (2128, 0.014258476657025926), (2129, 0.11794523076384665), (2130, 0.005148603688466372), (2131, 0.01717742944373397), (2132, 0.0), (2133, 0.007495710661404611), (2134, 0.009065913503720277), (2135, 0.0), (2136, 0.05589607836780188), (2137, 0.0), (2138, 0.002989438329287198), (2139, 0.0), (2140, 0.019346638457202716), (2141, 0.0), (2142, 0.023624138637038293), (2143, 0.0), (2144, 0.0), (2145, 0.0), (2146, 0.005627164217962046), (2147, 0.004386450424168763), (2148, 0.006495978062495848), (2149, 0.007636981328949709), (2150, 0.0), (2151, 0.0052240207260073465), (2152, 0.03900648195621481), (2153, 0.0), (2154, 0.010018079783819578), (2155, 0.08870277725097311), (2156, 0.03471185642709827), (2157, 0.054854847823621086), (2158, 0.007704033449316315), (2159, 0.018673784217928497), (2160, 0.0035596535083328835), (2161, 0.0171992283440692), (2162, 0.011412732472566838), (2163, 0.08707554283372708), (2164, 0.02854797578359303), (2165, 0.016179293454261334), (2166, 0.0176386913965545), (2167, 0.011806356216448108), (2168, 0.0), (2169, 0.0478239440102452), (2170, 0.024880307068538728), (2171, 0.0), (2172, 0.0), (2173, 0.0), (2174, 0.004373566942009172), (2175, 0.024422695483659038), (2176, 0.0), (2177, 0.00451231174372347), (2178, 0.02392883496634951), (2179, 0.0), (2180, 0.0), (2181, 0.01395044656122595), (2182, 0.00466706367195807), (2183, 0.0034063844665307816), (2184, 0.021366948743264294), (2185, 0.018330012201183986), (2186, 0.022674916239129452), (2187, 0.007361977678050819), (2188, 0.011428476528253028), (2189, 0.015510785907519756), (2190, 0.0), (2191, 0.0), (2192, 0.005496029868354777), (2193, 0.009539818377938904), (2194, 0.0079239933383168), (2195, 0.011294406168838641), (2196, 0.011668306590283145), (2197, 0.012896044720240035), (2198, 0.16505840535836763), (2199, 0.0), (2200, 0.007845267144461978), (2201, 0.010043679827745436), (2202, 0.018791840515644212), (2203, 0.015306821961777479), (2204, 0.004170062392904847), (2205, 0.035966064647322486), (2206, 0.015745389377174925), (2207, 0.020009635636501318), (2208, 0.0), (2209, 0.023209273672772472), (2210, 0.0), (2211, 0.04613101753602909), (2212, 0.019881186879126274), (2213, 0.0), (2214, 0.03274399829481385), (2215, 0.0), (2216, 0.0), (2217, 0.0), (2218, 0.06222832383148153), (2219, 0.0), (2220, 0.011607372133137518), (2221, 0.018044277835481383), (2222, 0.019578103194499267), (2223, 0.0), (2224, 0.0), (2225, 0.007554488843430696), (2226, 0.0), (2227, 0.05587844548505089), (2228, 0.01722311184906641), (2229, 0.07461267665923535), (2230, 0.008393063150919837), (2231, 0.014742652532998082), (2232, 0.0), (2233, 0.08392550865415957), (2234, 0.004056842623519252), (2235, 0.0314426233903869), (2236, 0.0), (2237, 0.03870944079022666), (2238, 0.012419114414749825), (2239, 0.009430848958999113), (2240, 0.008058759345356667), (2241, 0.026245657909620128), (2242, 0.012237696060575575), (2243, 0.0), (2244, 0.022465526162869037), (2245, 0.021500629220153743), (2246, 0.0), (2247, 0.07422287318182436), (2248, 0.0), (2249, 0.021771945712008016), (2250, 0.025329132332657878), (2251, 0.0), (2252, 0.0), (2253, 0.06449938752482912), (2254, 0.050083290500251065), (2255, 0.0659181866915838), (2256, 0.03002475453892632), (2257, 0.0056588456307762785), (2258, 0.09302697674966526), (2259, 0.022784187154091463), (2260, 0.007214764188938204), (2261, 0.014258763494590406), (2262, 0.0947064535001416), (2263, 0.029227626161221903), (2264, 0.04783876838585688), (2265, 0.0), (2266, 0.026639556162229724), (2267, 0.0), (2268, 0.02551872843782565), (2269, 0.0), (2270, 0.012703936154832535), (2271, 0.0), (2272, 0.0), (2273, 0.01093778755540378), (2274, 0.03597463075617895), (2275, 0.013708547261260574), (2276, 0.011062741101258211), (2277, 0.014474771926157896), (2278, 0.13668988220411502), (2279, 0.0), (2280, 0.009415197577447337), (2281, 0.0), (2282, 0.007801247302857496), (2283, 0.009358171000831982), (2284, 0.013510135713141268), (2285, 0.07666716955979751), (2286, 0.0), (2287, 0.0), (2288, 0.00968157383012627), (2289, 0.009058583775737985), (2290, 0.0049519655597542326), (2291, 0.03590504179967511), (2292, 0.0387205521806003), (2293, 0.013241076682710582), (2294, 0.03026413694125906), (2295, 0.03821135391676336), (2296, 0.021071334226997154), (2297, 0.05125489826676284), (2298, 0.011458783073801663), (2299, 0.0), (2300, 0.02034909881829703), (2301, 0.0), (2302, 0.005061186794403589), (2303, 0.03342046353537184), (2304, 0.0), (2305, 0.03891441871380755), (2306, 0.007567765954726692), (2307, 0.02100518579423232), (2308, 0.020291556801959328), (2309, 0.030820569790677793), (2310, 0.0161527327430592), (2311, 0.05785269765310251), (2312, 0.0), (2313, 0.02427807678041284), (2314, 0.01449540156899025), (2315, 0.0129224758053234), (2316, 0.0), (2317, 0.06008557914303245), (2318, 0.011460732741917319), (2319, 0.0), (2320, 0.0535826113654147), (2321, 0.012912903599079753), (2322, 0.0), (2323, 0.0), (2324, 0.03245072844447519), (2325, 0.0), (2326, 0.013523205157954897), (2327, 0.04477872858142376), (2328, 0.0), (2329, 0.008902199535891256), (2330, 0.03438310361437341), (2331, 0.0036064647668848293), (2332, 0.0), (2333, 0.015262850755941648), (2334, 0.011307882520824496), (2335, 0.003493678480476027), (2336, 0.038724455250382935), (2337, 0.0), (2338, 0.06287577908066458), (2339, 0.007254034841593901), (2340, 0.010952633046549712), (2341, 0.07675874984000228), (2342, 0.026180699867377432), (2343, 0.06376860858041108), (2344, 0.0), (2345, 0.0), (2346, 0.047470429622637665), (2347, 0.0), (2348, 0.026045799781289302), (2349, 0.024706227683275836), (2350, 0.0), (2351, 0.0039003358298250255), (2352, 0.02269647218265631), (2353, 0.0), (2354, 0.0), (2355, 0.0), (2356, 0.009620462200546112), (2357, 0.04032982558942829), (2358, 0.017465267732185367), (2359, 0.007910824437432894), (2360, 0.010115532935470664), (2361, 0.008506945912559407), (2362, 0.0), (2363, 0.017622847143983017), (2364, 0.013035736522996529), (2365, 0.0), (2366, 0.02536497684311418), (2367, 0.005767795417903664), (2368, 0.003333618670880489), (2369, 0.0), (2370, 0.010302934487732467), (2371, 0.017317010724056663), (2372, 0.04819894389336729), (2373, 0.011206581601581847), (2374, 0.0), (2375, 0.04717288042693736), (2376, 0.003945689519886784), (2377, 0.045108328973715986), (2378, 0.005122048702253911), (2379, 0.0), (2380, 0.04516361485101078), (2381, 0.026207824168533927), (2382, 0.003677061423305386), (2383, 0.011727854693041818), (2384, 0.031669699923320305), (2385, 0.006326905519349248), (2386, 0.02869157499537197), (2387, 0.07359051441640704), (2388, 0.008576363025156797), (2389, 0.03593296952878323), (2390, 0.03866575751531301), (2391, 0.0), (2392, 0.0), (2393, 0.0), (2394, 0.017216636157109194), (2395, 0.003787566480893226), (2396, 0.0), (2397, 0.0372259309442894), (2398, 0.009014113849230931), (2399, 0.017153652853081458), (2400, 0.0177370210517764), (2401, 0.015222230647550145), (2402, 0.021074033879661898), (2403, 0.26577900763482226), (2404, 0.011916417995971255), (2405, 0.003702766799792694), (2406, 0.0), (2407, 0.018318300206360046), (2408, 0.03767630729052488), (2409, 0.004628747650738842), (2410, 0.04118116537634463), (2411, 0.005530112803331423), (2412, 0.008571354065335277), (2413, 0.007660096091954261), (2414, 0.0), (2415, 0.004154251269871809), (2416, 0.019931084773166092), (2417, 0.012387923494890048), (2418, 0.0), (2419, 0.0), (2420, 0.004934054026151994), (2421, 0.0), (2422, 0.0), (2423, 0.0), (2424, 0.0), (2425, 0.014755227771329954), (2426, 0.0038045559966748896), (2427, 0.029265739540168426), (2428, 0.01992853820797398), (2429, 0.02359205173328791), (2430, 0.00458923850526415), (2431, 0.0035990358244975366), (2432, 0.0), (2433, 0.060973226676423894), (2434, 0.00954095254815624), (2435, 0.010938466190102237), (2436, 0.01166279549221082), (2437, 0.035068443504179134), (2438, 0.022967155378235994), (2439, 0.028571786716424127), (2440, 0.0), (2441, 0.004038502797070399), (2442, 0.051414956015273204), (2443, 0.05011487462469024), (2444, 0.12718267035583103), (2445, 0.0046982288784282985), (2446, 0.0), (2447, 0.008146202994453232), (2448, 0.0), (2449, 0.0), (2450, 0.0), (2451, 0.0), (2452, 0.007694884459679243), (2453, 0.05640174512579493), (2454, 0.008189788619126104), (2455, 0.0036301609643343787), (2456, 0.0081384421319579), (2457, 0.025499781627564548), (2458, 0.0), (2459, 0.012449854046205688), (2460, 0.006057545314828143), (2461, 0.025641448666114987), (2462, 0.007314189598304267), (2463, 0.0077651102968915985), (2464, 0.011832073189859066), (2465, 0.03509382732458808), (2466, 0.014316296870641808), (2467, 0.0), (2468, 0.0038826776199608914), (2469, 0.01537241229932325), (2470, 0.0254001102964589), (2471, 0.00869923636462203), (2472, 0.005950754923701925), (2473, 0.011434466479519258), (2474, 0.0460013919099851), (2475, 0.0), (2476, 0.019806769037908966), (2477, 0.0), (2478, 0.010262965863462252), (2479, 0.04792679678831464), (2480, 0.004724924830314299), (2481, 0.0), (2482, 0.0281591662690242), (2483, 0.0037248803498356286), (2484, 0.02623805742479878), (2485, 0.0055803355913655785), (2486, 0.03129877558705144), (2487, 0.009359244384706712), (2488, 0.004416727916114748), (2489, 0.004252078583776141), (2490, 0.04063922774257998), (2491, 0.012263206263654984), (2492, 0.053500233118206814), (2493, 0.04586847148159857), (2494, 0.07177805828955686), (2495, 0.0), (2496, 0.014718597993879586), (2497, 0.004719441808854372), (2498, 0.0), (2499, 0.10658068421104881), (2500, 0.0), (2501, 0.007893258243845078), (2502, 0.0), (2503, 0.005391030540205069), (2504, 0.0), (2505, 0.0399774070105858), (2506, 0.07432311698238567), (2507, 0.016823616534029952), (2508, 0.01611996263185924), (2509, 0.07239574911162676), (2510, 0.01437643893641256), (2511, 0.00427161730476315), (2512, 0.0), (2513, 0.0), (2514, 0.05290467263984643), (2515, 0.022257605087360258), (2516, 0.0), (2517, 0.004123437861563182), (2518, 0.0), (2519, 0.0061321332011636505), (2520, 0.004027899345256994), (2521, 0.026943080195904537), (2522, 0.07464329143653795), (2523, 0.0122696126293878), (2524, 0.004945158653198784), (2525, 0.018579335592082864), (2526, 0.0), (2527, 0.008941986563483613), (2528, 0.0), (2529, 0.0127868032735696), (2530, 0.016634708111976964), (2531, 0.0), (2532, 0.010613349749697857), (2533, 0.04847573075092885), (2534, 0.012383375755614096), (2535, 0.003969832608381522), (2536, 0.04248363129508561), (2537, 0.025957410292061965), (2538, 0.020374663398587047), (2539, 0.0), (2540, 0.0168685633718288), (2541, 0.03680051957130279), (2542, 0.006405144629247861), (2543, 0.054545881933279874), (2544, 0.0), (2545, 0.02057266852211979), (2546, 0.06117436536883043), (2547, 0.05937024209577502), (2548, 0.0), (2549, 0.0067743921544748), (2550, 0.09788665095327626), (2551, 0.0), (2552, 0.01353105182925069), (2553, 0.007171590453447858), (2554, 0.004047285949474405), (2555, 0.0), (2556, 0.02928876982416148), (2557, 0.00908720217518835), (2558, 0.008268600386897747), (2559, 0.008253907440299892), (2560, 0.019052132464337904), (2561, 0.04077565567321843), (2562, 0.0038203013775739915), (2563, 0.00723380906661018), (2564, 0.0070866468882663), (2565, 0.01567123487857895), (2566, 0.0), (2567, 0.008642985172425894), (2568, 0.02644539983786652), (2569, 0.0), (2570, 0.0), (2571, 0.05947932698683123), (2572, 0.023971558900494593), (2573, 0.031213382264957457), (2574, 0.0), (2575, 0.004832610422478961), (2576, 0.0), (2577, 0.05422056028955184), (2578, 0.0953997299885125), (2579, 0.008936345142484358), (2580, 0.0), (2581, 0.02747796328558126), (2582, 0.007062980849840077), (2583, 0.03257650822161241), (2584, 0.024983919929924884), (2585, 0.026360572609654576), (2586, 0.03535922615559546), (2587, 0.0), (2588, 0.0), (2589, 0.007659219098867082), (2590, 0.04533722388615263), (2591, 0.0), (2592, 0.06965479478290577), (2593, 0.0), (2594, 0.0), (2595, 0.0), (2596, 0.010301215871943473), (2597, 0.04203181513781182), (2598, 0.022963311923596658), (2599, 0.0), (2600, 0.0), (2601, 0.019637489100622237), (2602, 0.015566154475408468), (2603, 0.020944008254564234), (2604, 0.0), (2605, 0.039266666222228755), (2606, 0.0), (2607, 0.00350864999365176), (2608, 0.0), (2609, 0.0307307283262577), (2610, 0.0), (2611, 0.015262898377508827), (2612, 0.0), (2613, 0.009840000245881686), (2614, 0.07343196585649248), (2615, 0.004240708446935702), (2616, 0.0), (2617, 0.0), (2618, 0.00478853562772969), (2619, 0.0), (2620, 0.0), (2621, 0.0), (2622, 0.005769470115548094), (2623, 0.01932666153436178), (2624, 0.003709444800368964), (2625, 0.011040407569372936), (2626, 0.009925819257882454), (2627, 0.011536413457166762), (2628, 0.01829074813290826), (2629, 0.0), (2630, 0.028773088945824872), (2631, 0.007276358552269254), (2632, 0.0), (2633, 0.04588326565690955), (2634, 0.0), (2635, 0.0044208864134585016), (2636, 0.03206673712665059), (2637, 0.011727700079827307), (2638, 0.048006777623512915), (2639, 0.06282204708606268), (2640, 0.007942325893186082), (2641, 0.01198250008668521), (2642, 0.04274035769127866), (2643, 0.004539902314233607), (2644, 0.024354562333623184), (2645, 0.04187779957045077), (2646, 0.014882759665584012), (2647, 0.006896311826678115), (2648, 0.03382855330569547), (2649, 0.017365571422659952), (2650, 0.07892704817348437), (2651, 0.020761128042449707), (2652, 0.0277374643472356), (2653, 0.030283560712369373), (2654, 0.05889510834890123), (2655, 0.048867461395692896), (2656, 0.0), (2657, 0.006223303168602165), (2658, 0.0), (2659, 0.022564346706260546), (2660, 0.003509974269716808), (2661, 0.0), (2662, 0.02995865038199016), (2663, 0.0), (2664, 0.0), (2665, 0.0), (2666, 0.0), (2667, 0.009950672866798977), (2668, 0.0), (2669, 0.03074903862403327), (2670, 0.0), (2671, 0.038193804510527354), (2672, 0.0), (2673, 0.0), (2674, 0.010071884487758165), (2675, 0.02978142900512131), (2676, 0.0), (2677, 0.0030178151996741094), (2678, 0.01937978497288083), (2679, 0.0), (2680, 0.003759820225485618), (2681, 0.02175483571904798), (2682, 0.010066609606807931), (2683, 0.022922478306453456), (2684, 0.008638372402650536), (2685, 0.0225825870097992), (2686, 0.0), (2687, 0.0), (2688, 0.08287125582318246), (2689, 0.0), (2690, 0.0), (2691, 0.07882259421254988), (2692, 0.008412510880692585), (2693, 0.0), (2694, 0.0), (2695, 0.0), (2696, 0.26129066485062685), (2697, 0.012604166371363372), (2698, 0.0), (2699, 0.0), (2700, 0.007351420595898211), (2701, 0.0), (2702, 0.0), (2703, 0.01827385988589618), (2704, 0.010764981571635215), (2705, 0.0), (2706, 0.032252749247142304), (2707, 0.0), (2708, 0.10143234491620812), (2709, 0.0), (2710, 0.0), (2711, 0.0), (2712, 0.02188317513187217), (2713, 0.033639696282893455), (2714, 0.0), (2715, 0.003917314275857862), (2716, 0.0), (2717, 0.017838644777361436), (2718, 0.0), (2719, 0.004299744938438773), (2720, 0.07350684311575777), (2721, 0.0), (2722, 0.0), (2723, 0.006258315672349541), (2724, 0.018055277548815533), (2725, 0.003764490443941188), (2726, 0.03819259903031196), (2727, 0.04405884687102785), (2728, 0.01910157025750142), (2729, 0.0), (2730, 0.013731903141754487), (2731, 0.0036074609849995037), (2732, 0.008226900463976144), (2733, 0.003983922343873201), (2734, 0.004381513969560397), (2735, 0.0), (2736, 0.02478966718451214), (2737, 0.008031534210129249), (2738, 0.0), (2739, 0.003723913561034647), (2740, 0.004664058276777901), (2741, 0.0042046803262662125), (2742, 0.011225948956169986), (2743, 0.027682926782349515), (2744, 0.0), (2745, 0.0), (2746, 0.020686414165087257), (2747, 0.02001397780756548), (2748, 0.004495781020619742), (2749, 0.0), (2750, 0.0), (2751, 0.02977805639790606), (2752, 0.03321207299143642), (2753, 0.016440262944208604), (2754, 0.0), (2755, 0.0485627161332018), (2756, 0.011326571194990014), (2757, 0.07738325863338794), (2758, 0.05679682221206331), (2759, 0.019198670726203713), (2760, 0.0), (2761, 0.0), (2762, 0.0), (2763, 0.025234692575271313), (2764, 0.0), (2765, 0.0), (2766, 0.021860519637653144), (2767, 0.0), (2768, 0.0), (2769, 0.0), (2770, 0.0065164439172505), (2771, 0.0), (2772, 0.01509685700127316), (2773, 0.013631085321021679), (2774, 0.0), (2775, 0.009136091892681206), (2776, 0.013055922770998867), (2777, 0.010337894773163424), (2778, 0.004544528382326077), (2779, 0.0068364392264157366), (2780, 0.013350672676020064), (2781, 0.11900983942031722), (2782, 0.06133295282897715), (2783, 0.004009478244729758), (2784, 0.024100576228442947), (2785, 0.0363641552509746), (2786, 0.004012406116489511), (2787, 0.018891585009733546), (2788, 0.01900277160020872), (2789, 0.01041626542403181), (2790, 0.015924635335326197), (2791, 0.0473792456482237), (2792, 0.032154958286440494), (2793, 0.005556046167512777), (2794, 0.013457838503016784), (2795, 0.011515864547585858), (2796, 0.029210103443878355), (2797, 0.011893320877638421), (2798, 0.056651350762582466), (2799, 0.004332639509964533), (2800, 0.01166416334162291), (2801, 0.004128347828834019), (2802, 0.0), (2803, 0.013715015290689258), (2804, 0.0), (2805, 0.03393249124802169), (2806, 0.07232811549711615), (2807, 0.010079696460747514), (2808, 0.00558774548293856), (2809, 0.016775112115265837), (2810, 0.00888106141270818), (2811, 0.0), (2812, 0.02870802980961022), (2813, 0.0048806490159544), (2814, 0.0), (2815, 0.0734136212225737), (2816, 0.007235686943888205), (2817, 0.05216776470301466), (2818, 0.0), (2819, 0.037268841857742), (2820, 0.0), (2821, 0.0), (2822, 0.010053522088527063), (2823, 0.01518542269919674), (2824, 0.04052482860510851), (2825, 0.0), (2826, 0.06096618007522139), (2827, 0.022452629624654146), (2828, 0.0), (2829, 0.07235488541200032), (2830, 0.007735123268631084), (2831, 0.032368239053485036), (2832, 0.003433098977503775), (2833, 0.006400486440765569), (2834, 0.0), (2835, 0.07074126440164667), (2836, 0.009709724057406789), (2837, 0.009269979556565035), (2838, 0.0041732924444233795), (2839, 0.003918813574184257), (2840, 0.0), (2841, 0.03806125559956561), (2842, 0.007942002441713851), (2843, 0.0), (2844, 0.011287173463373969), (2845, 0.032040252379965654), (2846, 0.028607408891255112), (2847, 0.0), (2848, 0.0), (2849, 0.013721859099612129), (2850, 0.003831987812873954), (2851, 0.08506453775038746), (2852, 0.0), (2853, 0.00722086906078998), (2854, 0.0), (2855, 0.0), (2856, 0.0), (2857, 0.011338609449123443), (2858, 0.008613449487456275), (2859, 0.009160373251040625), (2860, 0.04680223235485674), (2861, 0.0), (2862, 0.03206044834754397), (2863, 0.03111566025173758), (2864, 0.00475316934255882), (2865, 0.031158810021747446), (2866, 0.0), (2867, 0.017802170783208223), (2868, 0.062045008694765584), (2869, 0.0), (2870, 0.0), (2871, 0.008026678724742718), (2872, 0.016504566753888013), (2873, 0.0), (2874, 0.004894436459781483), (2875, 0.07396435416139584), (2876, 0.035406570798710735), (2877, 0.03399788028710457), (2878, 0.030049236259421866), (2879, 0.0), (2880, 0.00878497146078865), (2881, 0.005325545885799249), (2882, 0.018930462938819375), (2883, 0.0), (2884, 0.0484768777250984), (2885, 0.0), (2886, 0.018913255408007153), (2887, 0.003945230900067439), (2888, 0.15340796483317087), (2889, 0.0), (2890, 0.0), (2891, 0.003856341256341237), (2892, 0.0), (2893, 0.0), (2894, 0.053289347166597376), (2895, 0.00964251939123327), (2896, 0.0), (2897, 0.033541356606583535), (2898, 0.08629476394032619), (2899, 0.03915493807279659), (2900, 0.15529642279968542), (2901, 0.07941506089738341), (2902, 0.0), (2903, 0.0), (2904, 0.004857847900490931), (2905, 0.0), (2906, 0.0), (2907, 0.0), (2908, 0.0), (2909, 0.019197948530012124), (2910, 0.011761122428821177), (2911, 0.01849713628513272), (2912, 0.041290053531521896), (2913, 0.0), (2914, 0.06843694660306869), (2915, 0.013920171561151674), (2916, 0.008511544832633583), (2917, 0.004090127268533596), (2918, 0.0074781921299422694), (2919, 0.0038812839943033924), (2920, 0.0), (2921, 0.024837156410993672), (2922, 0.0), (2923, 0.02731675397028132), (2924, 0.0), (2925, 0.0), (2926, 0.0), (2927, 0.011696342550080265), (2928, 0.005343357133807054), (2929, 0.04216247236278246), (2930, 0.024263262381890055), (2931, 0.01768948859061399), (2932, 0.0), (2933, 0.02010582579464596), (2934, 0.09727057589780908), (2935, 0.0), (2936, 0.01722354997653618), (2937, 0.0), (2938, 0.003798548959074674), (2939, 0.0), (2940, 0.01600116612916644), (2941, 0.009761664201022622), (2942, 0.0), (2943, 0.0), (2944, 0.025136883171390213), (2945, 0.0), (2946, 0.007155499806861994), (2947, 0.03581922896505678), (2948, 0.0), (2949, 0.003899424171360278), (2950, 0.008193701094571649), (2951, 0.0), (2952, 0.0), (2953, 0.02629177603570598), (2954, 0.003030369508672512), (2955, 0.0), (2956, 0.0), (2957, 0.02403123545979241), (2958, 0.0), (2959, 0.013284202349264336), (2960, 0.008030516745651913), (2961, 0.012608596318851688), (2962, 0.0), (2963, 0.0), (2964, 0.06897429046389753), (2965, 0.07549849930017752), (2966, 0.13021329962456116), (2967, 0.05004470521131901), (2968, 0.01578309488796692), (2969, 0.016491986317748984), (2970, 0.0), (2971, 0.012193331162288455), (2972, 0.01393326076355859), (2973, 0.024194913718123184), (2974, 0.014399943446304273), (2975, 0.0), (2976, 0.0), (2977, 0.0), (2978, 0.043752478703954975), (2979, 0.004478984622830371), (2980, 0.05561438170640415), (2981, 0.0), (2982, 0.0038707159154864543), (2983, 0.011965588537534105), (2984, 0.0), (2985, 0.01746742360416629), (2986, 0.08282130381484075), (2987, 0.003255413592987654), (2988, 0.004257701398850881), (2989, 0.014721050271132161), (2990, 0.0), (2991, 0.04592598465903022), (2992, 0.0), (2993, 0.010963360597674889), (2994, 0.052091203190477414), (2995, 0.11702390705181712), (2996, 0.02025743345018443), (2997, 0.004546914745784423), (2998, 0.0), (2999, 0.009292944601006973), (3000, 0.0), (3001, 0.021711682161306735), (3002, 0.040555335717331664), (3003, 0.0), (3004, 0.02734384335549953), (3005, 0.00421813546508331), (3006, 0.0437297497343827), (3007, 0.006418630380108736), (3008, 0.007833829093488488), (3009, 0.0), (3010, 0.019526093237175336), (3011, 0.04281041777455464), (3012, 0.061627629163835414), (3013, 0.02685356204801516), (3014, 0.06916219836472319), (3015, 0.0), (3016, 0.005118825707679875), (3017, 0.0), (3018, 0.03523284328791014), (3019, 0.0), (3020, 0.008293832377870314), (3021, 0.011979589989477337), (3022, 0.0), (3023, 0.0), (3024, 0.03227572609705509), (3025, 0.005503691289136443), (3026, 0.0), (3027, 0.0041175159695504135), (3028, 0.0), (3029, 0.10209708592852355), (3030, 0.012201868332112474), (3031, 0.021832508036293642), (3032, 0.07539420410545822), (3033, 0.07313242156104408), (3034, 0.0), (3035, 0.022945949280825648), (3036, 0.0), (3037, 0.004990876002375944), (3038, 0.004677868442361465), (3039, 0.0), (3040, 0.012620338966455535), (3041, 0.0), (3042, 0.003626371678473962), (3043, 0.04024899515773647), (3044, 0.0), (3045, 0.07646695493930185), (3046, 0.013828821981155157), (3047, 0.0), (3048, 0.0), (3049, 0.008299395001182513), (3050, 0.0), (3051, 0.030380196528952727), (3052, 0.0), (3053, 0.006800774013315642), (3054, 0.007479370039055993), (3055, 0.09448071397153271), (3056, 0.023592060823517516), (3057, 0.0), (3058, 0.0046723780829986), (3059, 0.009622884992143371), (3060, 0.004525105512389581), (3061, 0.00501787855233719), (3062, 0.008864426523935213), (3063, 0.008170313628075177), (3064, 0.0), (3065, 0.03531243171584027), (3066, 0.0), (3067, 0.00825606796010026), (3068, 0.05489670091681466), (3069, 0.0), (3070, 0.003385656851950308), (3071, 0.0), (3072, 0.03164657701966486), (3073, 0.018940252349345096), (3074, 0.012571804246727335), (3075, 0.0), (3076, 0.015662338373015734), (3077, 0.00921572816310368), (3078, 0.0), (3079, 0.0), (3080, 0.0), (3081, 0.00479975958865265), (3082, 0.0194557666817606), (3083, 0.0), (3084, 0.0), (3085, 0.003965966598789319), (3086, 0.02015064110710043), (3087, 0.032528733684096006), (3088, 0.004082284136195922), (3089, 0.06320880030559328), (3090, 0.0), (3091, 0.0), (3092, 0.008698736666087227), (3093, 0.0031395206566315567), (3094, 0.003987615594623857), (3095, 0.0), (3096, 0.0), (3097, 0.0), (3098, 0.06687021084498437), (3099, 0.0074086938261911294), (3100, 0.00413459116895314), (3101, 0.0074262734058916325), (3102, 0.0), (3103, 0.012633550166676062), (3104, 0.0), (3105, 0.0), (3106, 0.007231895271940793), (3107, 0.02004137198090601), (3108, 0.007615888569108675), (3109, 0.0), (3110, 0.0055060821839111995), (3111, 0.017024947171713628), (3112, 0.030684936244420948), (3113, 0.02434587047108016), (3114, 0.0), (3115, 0.0), (3116, 0.005600020029227409), (3117, 0.006988020800304079), (3118, 0.0), (3119, 0.0), (3120, 0.003827808141546902), (3121, 0.0), (3122, 0.0), (3123, 0.0100603897437603), (3124, 0.0036899633794890956), (3125, 0.0), (3126, 0.025643516900428456), (3127, 0.0369189596205418), (3128, 0.00902133508921148), (3129, 0.013799509459945632), (3130, 0.0285068975210546), (3131, 0.01022313964183828), (3132, 0.0042116671281819075), (3133, 0.0329563581146001), (3134, 0.0), (3135, 0.0), (3136, 0.04453633344800108), (3137, 0.0), (3138, 0.011924357051033266), (3139, 0.0), (3140, 0.00456928587041513), (3141, 0.03025053059536771), (3142, 0.009936724922986865), (3143, 0.016131678915336827), (3144, 0.011543913388986825), (3145, 0.0), (3146, 0.0), (3147, 0.03334098188162851), (3148, 0.03575590082896945), (3149, 0.0), (3150, 0.04951027170107635), (3151, 0.007738304154793351), (3152, 0.01979828883310332), (3153, 0.011888675842883315), (3154, 0.01440222948084305), (3155, 0.03157420644263724), (3156, 0.0), (3157, 0.0), (3158, 0.2528527221724024), (3159, 0.011108694189238485), (3160, 0.004159199657753108), (3161, 0.0048188495582298626), (3162, 0.017244441681003995), (3163, 0.07784957908991741), (3164, 0.0), (3165, 0.007170486320547825), (3166, 0.009792273307100242), (3167, 0.0), (3168, 0.0), (3169, 0.035910881204514696), (3170, 0.007768180112605063), (3171, 0.009903839625882692), (3172, 0.00453936988074936), (3173, 0.004349447670889115), (3174, 0.0), (3175, 0.003315073373277079), (3176, 0.008445155218435566), (3177, 0.07433553398881021), (3178, 0.004727184719341043), (3179, 0.0038422348488388147), (3180, 0.031220508942389903), (3181, 0.0), (3182, 0.0), (3183, 0.004904804379844906), (3184, 0.14152586640706857), (3185, 0.0), (3186, 0.015538656742374967), (3187, 0.0), (3188, 0.0), (3189, 0.004547743595584912), (3190, 0.004722397899257472), (3191, 0.04138703791386512), (3192, 0.0), (3193, 0.0), (3194, 0.0), (3195, 0.04572813797705201), (3196, 0.0), (3197, 0.06658634287716869), (3198, 0.0), (3199, 0.022208456788786177), (3200, 0.011380463548341694), (3201, 0.0), (3202, 0.1722479115129931), (3203, 0.10312319778784843), (3204, 0.03518729676741886), (3205, 0.04637651844832366), (3206, 0.0), (3207, 0.0), (3208, 0.15119238013255326), (3209, 0.00745430139229084), (3210, 0.0034669257659520076), (3211, 0.017111451154177237), (3212, 0.003700851744406031), (3213, 0.0), (3214, 0.07279054738565091), (3215, 0.013039802377824173), (3216, 0.0), (3217, 0.005204613428886559), (3218, 0.003588938448799938), (3219, 0.0), (3220, 0.014353054429350446), (3221, 0.01119310225342476), (3222, 0.0), (3223, 0.0), (3224, 0.02103849984990345), (3225, 0.020733472352203963), (3226, 0.0), (3227, 0.05214032581060735), (3228, 0.0), (3229, 0.03771934226573282), (3230, 0.03565293989462478), (3231, 0.048703565195324976), (3232, 0.012841668630961294), (3233, 0.04912176224115882), (3234, 0.004212319913909128), (3235, 0.0), (3236, 0.07923539439330853), (3237, 0.020747278875884848), (3238, 0.011716480597803716), (3239, 0.03436258471110886), (3240, 0.020353958528295857), (3241, 0.0), (3242, 0.0), (3243, 0.0), (3244, 0.0), (3245, 0.0038449515794556867), (3246, 0.00790359372817328), (3247, 0.0), (3248, 0.0), (3249, 0.009048108027669309), (3250, 0.0), (3251, 0.043033071392225695), (3252, 0.018156634841244114), (3253, 0.008210472623637336), (3254, 0.025693695395725556), (3255, 0.0), (3256, 0.0031921732750298895), (3257, 0.007467839473277755), (3258, 0.004611088606690399), (3259, 0.007438190455448326), (3260, 0.013221218708192432), (3261, 0.06792740420264255), (3262, 0.0), (3263, 0.010503129594046088), (3264, 0.005521981120321394), (3265, 0.011987012012533674), (3266, 0.006949314467404074), (3267, 0.008836561141352058), (3268, 0.0), (3269, 0.0), (3270, 0.04914077631999003), (3271, 0.0), (3272, 0.0), (3273, 0.007210389163564323), (3274, 0.014040539977514218), (3275, 0.0), (3276, 0.015086739171624557), (3277, 0.0033295900213305084), (3278, 0.0), (3279, 0.04251920879093185), (3280, 0.016000531128393114), (3281, 0.033745186998211774), (3282, 0.0), (3283, 0.0037302197950106913), (3284, 0.012747988540364274), (3285, 0.028735144986689564), (3286, 0.008416824329639848), (3287, 0.03482454826334567), (3288, 0.0), (3289, 0.0051163924713268525), (3290, 0.013284076051165147), (3291, 0.007230680565121604), (3292, 0.0), (3293, 0.012803393618365244), (3294, 0.0622237417454846), (3295, 0.0), (3296, 0.05418172904908332), (3297, 0.031077648114851555), (3298, 0.013967386610052425), (3299, 0.011815873238646978), (3300, 0.0), (3301, 0.004541043085544742), (3302, 0.0048946191473675515), (3303, 0.004171880958630959), (3304, 0.06562451127177452), (3305, 0.05978294584243513), (3306, 0.02240167400809992), (3307, 0.010064450622892015), (3308, 0.0), (3309, 0.030489044493855668), (3310, 0.028237238937506064), (3311, 0.0), (3312, 0.0), (3313, 0.01094815122187397), (3314, 0.0), (3315, 0.02279932069301528), (3316, 0.009471839612463118), (3317, 0.0), (3318, 0.024612423151799512), (3319, 0.009509547010449357), (3320, 0.004407677299717946), (3321, 0.0), (3322, 0.009009549676610265), (3323, 0.06660115322324534), (3324, 0.0), (3325, 0.0), (3326, 0.011311999027825096), (3327, 0.0), (3328, 0.023650602163641274), (3329, 0.044479025751644814), (3330, 0.004331479860244347), (3331, 0.004961267406438341), (3332, 0.009840746117813106), (3333, 0.004560608857105652), (3334, 0.007911036309417113), (3335, 0.025134483487784756), (3336, 0.02311946525939957), (3337, 0.012470695148143727), (3338, 0.008566039662077703), (3339, 0.00900028694498393), (3340, 0.005651946591275507), (3341, 0.0), (3342, 0.009360190067563685), (3343, 0.05852967865911397), (3344, 0.0), (3345, 0.007725673227494394), (3346, 0.007270031105139563), (3347, 0.007457883515040828), (3348, 0.0), (3349, 0.012348613720315454), (3350, 0.05696493158701483), (3351, 0.05699787781657454), (3352, 0.04083209912311183), (3353, 0.016873872774102412), (3354, 0.046037512600978915), (3355, 0.00398535053157644), (3356, 0.0), (3357, 0.004130059629025663), (3358, 0.007464233770459344), (3359, 0.015972074362527313), (3360, 0.008402010435135453), (3361, 0.05164498375487939), (3362, 0.0), (3363, 0.0), (3364, 0.03080483688715239), (3365, 0.0043630285315864985), (3366, 0.010720591072924536), (3367, 0.013633876677745276), (3368, 0.036988383569775664), (3369, 0.0), (3370, 0.018499274520833726), (3371, 0.0), (3372, 0.08066432254152116), (3373, 0.041868602575600086), (3374, 0.07274287119367154), (3375, 0.0), (3376, 0.013351289691885496), (3377, 0.014477531884514018), (3378, 0.0), (3379, 0.0), (3380, 0.0), (3381, 0.008016700875116946), (3382, 0.012133083478579288), (3383, 0.00862809630368218), (3384, 0.0), (3385, 0.043735779849384065), (3386, 0.04524212390473613), (3387, 0.0), (3388, 0.0), (3389, 0.014713350772634786), (3390, 0.022144705971461287), (3391, 0.0), (3392, 0.013294353414275215), (3393, 0.02325122062298777), (3394, 0.009492339072116045), (3395, 0.0042867320841340935), (3396, 0.04869865266266241), (3397, 0.0), (3398, 0.0), (3399, 0.010281982173545305), (3400, 0.0), (3401, 0.007865865289240468), (3402, 0.023329975855920983), (3403, 0.034978152712894624), (3404, 0.0), (3405, 0.10835145219842936), (3406, 0.00942904039869614), (3407, 0.0), (3408, 0.0), (3409, 0.007794122916844768), (3410, 0.0), (3411, 0.028453142933400444), (3412, 0.010401502137127809), (3413, 0.017657145989737603), (3414, 0.03665646380417325), (3415, 0.0), (3416, 0.007411620192964059), (3417, 0.03522117181954636), (3418, 0.003129678603312674), (3419, 0.0), (3420, 0.022247500562296307), (3421, 0.0035627747578503995), (3422, 0.007164405913004871), (3423, 0.004372363639537681), (3424, 0.032163549490249535), (3425, 0.0), (3426, 0.0), (3427, 0.041524476494530234), (3428, 0.0), (3429, 0.049617955703380526), (3430, 0.0), (3431, 0.0), (3432, 0.010850979299051093), (3433, 0.0038697797937503066), (3434, 0.03936892031944123), (3435, 0.0), (3436, 0.062495621071359454), (3437, 0.033740599189272885), (3438, 0.0), (3439, 0.22878627473084276), (3440, 0.01013863058139012), (3441, 0.003486369679973287), (3442, 0.01986756101779317), (3443, 0.0), (3444, 0.004103286707956547), (3445, 0.08453638840645518), (3446, 0.01876142884537629), (3447, 0.010579109471646222), (3448, 0.0180564335988475), (3449, 0.003881782789722657), (3450, 0.02427128918203749), (3451, 0.007785280735867456), (3452, 0.005523820195028291), (3453, 0.005773400628864737), (3454, 0.003696447919143378), (3455, 0.004004257129514091), (3456, 0.0), (3457, 0.004789793790650839), (3458, 0.007881529919028924), (3459, 0.0), (3460, 0.04501427527648595), (3461, 0.0), (3462, 0.0036592906224817497), (3463, 0.008755825691652445), (3464, 0.0048093979661920526), (3465, 0.004448864733406907), (3466, 0.028297379381178454), (3467, 0.00378697410032842), (3468, 0.01325952673810247), (3469, 0.011555041540924555), (3470, 0.0), (3471, 0.011439656219964164), (3472, 0.00914255160255873), (3473, 0.0), (3474, 0.003758901873191269), (3475, 0.0), (3476, 0.0), (3477, 0.014317749103263909), (3478, 0.0), (3479, 0.004032649314139963), (3480, 0.0), (3481, 0.0), (3482, 0.0), (3483, 0.003822296893877043), (3484, 0.06166678683214732), (3485, 0.024431106418117694), (3486, 0.011265518277616583), (3487, 0.0), (3488, 0.0), (3489, 0.01584750039439831), (3490, 0.013912700808335718), (3491, 0.018473133615665237), (3492, 0.011570498298920078), (3493, 0.0), (3494, 0.07561134911515234), (3495, 0.012638756107787853), (3496, 0.01409936193004869), (3497, 0.007872013764260182), (3498, 0.0050846352757955736), (3499, 0.0), (3500, 0.01660786662166204), (3501, 0.021794019638310493), (3502, 0.0), (3503, 0.046882839997246246), (3504, 0.0), (3505, 0.031159985365788446), (3506, 0.0), (3507, 0.004652416002752703), (3508, 0.020041776408004138), (3509, 0.016706494624693934), (3510, 0.0), (3511, 0.02543756203264757), (3512, 0.006026586803780156), (3513, 0.0), (3514, 0.06153341395469719), (3515, 0.0), (3516, 0.07668518267151767), (3517, 0.0117477577405873), (3518, 0.013186995876016957), (3519, 0.0), (3520, 0.10574579559388822), (3521, 0.0), (3522, 0.02383892737226869), (3523, 0.012693886062250073), (3524, 0.0), (3525, 0.0), (3526, 0.004456512733375093), (3527, 0.03135542609455301), (3528, 0.016737234125899017), (3529, 0.03501755653774845), (3530, 0.0), (3531, 0.0), (3532, 0.024441567756108278), (3533, 0.010533481400785824), (3534, 0.09347614495613778), (3535, 0.004408473840054082), (3536, 0.0), (3537, 0.03828030040541894), (3538, 0.11544665644681155), (3539, 0.04099349146278927), (3540, 0.0), (3541, 0.0), (3542, 0.0), (3543, 0.024989482288680635), (3544, 0.0), (3545, 0.008230735006707327), (3546, 0.006727985341592219), (3547, 0.0), (3548, 0.013013753265756867), (3549, 0.033357759759166876), (3550, 0.0), (3551, 0.0), (3552, 0.050874870380645504), (3553, 0.0058157597199850345), (3554, 0.039024593615020274), (3555, 0.0), (3556, 0.02759620854445655), (3557, 0.004366542038964118), (3558, 0.015399792143045281), (3559, 0.004614075867625608), (3560, 0.006642072752045378), (3561, 0.0), (3562, 0.0), (3563, 0.0), (3564, 0.011940953489782052), (3565, 0.01569042405533351), (3566, 0.007749632009986325), (3567, 0.013542749918021488), (3568, 0.050948404809358805), (3569, 0.01343926257144024), (3570, 0.003393359671587697), (3571, 0.02378022138991158), (3572, 0.004861654784682816), (3573, 0.0), (3574, 0.0), (3575, 0.0), (3576, 0.009968063459290768), (3577, 0.004357783286107231), (3578, 0.0), (3579, 0.04363246985100078), (3580, 0.0), (3581, 0.008834688023386363), (3582, 0.013089888854302505), (3583, 0.0), (3584, 0.019435479348992132), (3585, 0.0041488208992246315), (3586, 0.004087689733301841), (3587, 0.0), (3588, 0.0034586061695841227), (3589, 0.0), (3590, 0.019872776206386555), (3591, 0.017438569373807118), (3592, 0.007454350564627484), (3593, 0.12236028373761233), (3594, 0.0), (3595, 0.009079810981328033), (3596, 0.002543007822102884), (3597, 0.012363663388397686), (3598, 0.014764156398689233), (3599, 0.014550182509801175), (3600, 0.01172632895086265), (3601, 0.0), (3602, 0.0), (3603, 0.016812238698965545), (3604, 0.02576605735977415), (3605, 0.0), (3606, 0.008310060969843713), (3607, 0.06494642694138622), (3608, 0.020335213629348127), (3609, 0.0084816008113551), (3610, 0.0), (3611, 0.02128142581298524), (3612, 0.01247844448015797), (3613, 0.06508226064458622), (3614, 0.0105549497829715), (3615, 0.0034599203639695004), (3616, 0.04225730253313616), (3617, 0.029083890028527702), (3618, 0.046665295448418506), (3619, 0.005866150258286681), (3620, 0.006924754826422296), (3621, 0.007266235932928576), (3622, 0.008662388107696827), (3623, 0.013887689365126167), (3624, 0.07075967992795444), (3625, 0.0062183485433388785), (3626, 0.029397633609597792), (3627, 0.008226450803923585), (3628, 0.02016929528414563), (3629, 0.007726307054305549), (3630, 0.025535089664953027), (3631, 0.03506261944573343), (3632, 0.0), (3633, 0.0), (3634, 0.03004797684348728), (3635, 0.0036983733440069597), (3636, 0.0), (3637, 0.005761751662912831), (3638, 0.08249010041539298), (3639, 0.0), (3640, 0.0), (3641, 0.004579497706791577), (3642, 0.052972736058465794), (3643, 0.0), (3644, 0.003778179321201655), (3645, 0.0030978907787313475), (3646, 0.0), (3647, 0.03226567591381721), (3648, 0.0034089909734069494), (3649, 0.0), (3650, 0.023282786336920755), (3651, 0.0), (3652, 0.034720463055652094), (3653, 0.003989123956244728), (3654, 0.05424667863222145), (3655, 0.0), (3656, 0.028277259947064624), (3657, 0.0), (3658, 0.0044119116326726965), (3659, 0.020380512477131633), (3660, 0.011134681030013983), (3661, 0.010195934903953074), (3662, 0.004254885322706749), (3663, 0.0), (3664, 0.0), (3665, 0.0), (3666, 0.017340788194715347), (3667, 0.06961338336250897), (3668, 0.04674099687869279), (3669, 0.0), (3670, 0.0), (3671, 0.017909637594294262), (3672, 0.00816404182617325), (3673, 0.011389791529121365), (3674, 0.0), (3675, 0.0), (3676, 0.004696074595054826), (3677, 0.0), (3678, 0.0), (3679, 0.03927975304491492), (3680, 0.016303748781060307), (3681, 0.0), (3682, 0.0044365348267989746), (3683, 0.01489150890317443), (3684, 0.020738371368302443), (3685, 0.003808032653411826), (3686, 0.0), (3687, 0.0), (3688, 0.0082667222423366), (3689, 0.009352534016804801), (3690, 0.037197672610616406), (3691, 0.006033642235074961), (3692, 0.016604098991746682), (3693, 0.02669069255046313), (3694, 0.0), (3695, 0.023714081151003284), (3696, 0.0), (3697, 0.0), (3698, 0.035497841486571896), (3699, 0.0), (3700, 0.020384484540028103), (3701, 0.0), (3702, 0.0), (3703, 0.0), (3704, 0.03626542574527507), (3705, 0.0), (3706, 0.016297578225030983), (3707, 0.01239180352902423), (3708, 0.0), (3709, 0.003397421933594449), (3710, 0.0), (3711, 0.0), (3712, 0.0), (3713, 0.0), (3714, 0.016785261106968166), (3715, 0.019876067340350342), (3716, 0.0), (3717, 0.007905126644391025), (3718, 0.0), (3719, 0.003533921479191589), (3720, 0.01645758918600847), (3721, 0.0), (3722, 0.044727019809065044), (3723, 0.010306840977658204), (3724, 0.02578806865135487), (3725, 0.013726722261382659), (3726, 0.02049382382771167), (3727, 0.0), (3728, 0.018241113510594518), (3729, 0.0), (3730, 0.28959880438336116), (3731, 0.0), (3732, 0.0), (3733, 0.026873646814352125), (3734, 0.013253951337778416), (3735, 0.00393281580666214), (3736, 0.05698244044674958), (3737, 0.019662290926158434), (3738, 0.0), (3739, 0.0), (3740, 0.014486660599100244), (3741, 0.015731608075992286), (3742, 0.0), (3743, 0.004461861869723275), (3744, 0.0), (3745, 0.005051193382154542), (3746, 0.004091080525249532), (3747, 0.0), (3748, 0.009901948765843452), (3749, 0.03601115787385388), (3750, 0.038542223479345245), (3751, 0.025720524709822508), (3752, 0.009975511918360285), (3753, 0.003798162045358554), (3754, 0.011699625630760189), (3755, 0.012999471174814297), (3756, 0.027030188289188975), (3757, 0.007477827620504929), (3758, 0.011547105247319037), (3759, 0.0037110387358299107), (3760, 0.04977999745547129), (3761, 0.02369799579350833), (3762, 0.01475654895164908), (3763, 0.013744225945591784), (3764, 0.04047835653020769), (3765, 0.012326438617559575), (3766, 0.010541036199064225), (3767, 0.004610809570104923), (3768, 0.006204742667715247), (3769, 0.0037754569266834534), (3770, 0.0038258850220498236), (3771, 0.004624688870213243), (3772, 0.0), (3773, 0.0), (3774, 0.010273975975878088), (3775, 0.05501349583628491), (3776, 0.027405811187499213), (3777, 0.037600928273544706), (3778, 0.017576818170275142), (3779, 0.0055758655585013165), (3780, 0.0), (3781, 0.022950871167011715), (3782, 0.021595222835690042), (3783, 0.0), (3784, 0.0037812946143812925), (3785, 0.0), (3786, 0.0), (3787, 0.004358450403127363), (3788, 0.0), (3789, 0.0), (3790, 0.0), (3791, 0.01856332226953239), (3792, 0.0), (3793, 0.018252475259540945), (3794, 0.0037196730408769925), (3795, 0.046985660905536034), (3796, 0.004686284573178945), (3797, 0.0), (3798, 0.005576383634958951), (3799, 0.02016858098898941), (3800, 0.05793387791974493), (3801, 0.004343218126314932), (3802, 0.009411549444026055), (3803, 0.0), (3804, 0.06409328362656094), (3805, 0.0), (3806, 0.012279068523886596), (3807, 0.004675616839627262), (3808, 0.006506094730386828), (3809, 0.0), (3810, 0.023742910196425136), (3811, 0.0), (3812, 0.011679007411808278), (3813, 0.0684620573780217), (3814, 0.0), (3815, 0.05571055214777724), (3816, 0.008902916871850169), (3817, 0.0), (3818, 0.016056252969669782), (3819, 0.010090389968936391), (3820, 0.008878671730258886), (3821, 0.028196136948901565), (3822, 0.004121030526384759), (3823, 0.0), (3824, 0.008235362063056743), (3825, 0.0), (3826, 0.027535448783999043), (3827, 0.0), (3828, 0.07259638882199748), (3829, 0.008945193894863493), (3830, 0.0216479002416388), (3831, 0.0), (3832, 0.014208120033157606), (3833, 0.009775546078662243), (3834, 0.0), (3835, 0.004625367321520546), (3836, 0.030540151550764384), (3837, 0.015248511465510305), (3838, 0.0), (3839, 0.004685250666900693), (3840, 0.012064562434096492), (3841, 0.023680861268321488), (3842, 0.008915887787784908), (3843, 0.0), (3844, 0.016623073925286738), (3845, 0.027788739008762758), (3846, 0.0), (3847, 0.0), (3848, 0.012918912348802627), (3849, 0.01576285150074149), (3850, 0.004331068698174936), (3851, 0.007950012325822067), (3852, 0.008131900190275517), (3853, 0.0), (3854, 0.035484924230236095), (3855, 0.0), (3856, 0.07376601147049718), (3857, 0.020237993556786495), (3858, 0.0), (3859, 0.009200231686185174), (3860, 0.023697428593257998), (3861, 0.015101048414096287), (3862, 0.0), (3863, 0.0), (3864, 0.013246295935461465), (3865, 0.008253704019203561), (3866, 0.006762248604757292), (3867, 0.004284094710104151), (3868, 0.0041752437618413395), (3869, 0.004509472777881949), (3870, 0.008850122932795114), (3871, 0.0), (3872, 0.0), (3873, 0.059127884641016135), (3874, 0.025373462495899522), (3875, 0.011140721323698118), (3876, 0.014121660856712214), (3877, 0.0), (3878, 0.039306179760788706), (3879, 0.003531955052642623), (3880, 0.00796065265439923), (3881, 0.01820390272622601), (3882, 0.01275400785709455), (3883, 0.012509256612419169), (3884, 0.016238717236848006), (3885, 0.06397061312326902), (3886, 0.013963179395963006), (3887, 0.0), (3888, 0.01786493130178048), (3889, 0.0), (3890, 0.0), (3891, 0.004343330707292007), (3892, 0.0), (3893, 0.0), (3894, 0.04225572642654967), (3895, 0.06526543777775493), (3896, 0.0), (3897, 0.0), (3898, 0.0), (3899, 0.059921873461915395), (3900, 0.0), (3901, 0.045955700759871196), (3902, 0.0037179839174324874), (3903, 0.08012577978000077), (3904, 0.03139203656224221), (3905, 0.0038462743473964725), (3906, 0.0027023393994964322), (3907, 0.0193084360176493), (3908, 0.02371511490393582), (3909, 0.0), (3910, 0.0), (3911, 0.0), (3912, 0.013357098926071821), (3913, 0.0), (3914, 0.06808206680303185), (3915, 0.0), (3916, 0.006749834250778211), (3917, 0.0), (3918, 0.0), (3919, 0.017849598245798792), (3920, 0.044939544341534174), (3921, 0.0), (3922, 0.0), (3923, 0.008892254315253149), (3924, 0.007276115981831565), (3925, 0.014993038929329575), (3926, 0.010026957238419709), (3927, 0.0), (3928, 0.017403942021962677), (3929, 0.05150141433980175), (3930, 0.0), (3931, 0.007387880225711344), (3932, 0.0), (3933, 0.0), (3934, 0.021113340645045366), (3935, 0.009093545851156225), (3936, 0.024460566268651954), (3937, 0.0), (3938, 0.0), (3939, 0.0), (3940, 0.021982856238691152), (3941, 0.00995651075970796), (3942, 0.0077043890566097055), (3943, 0.013549162107157984), (3944, 0.0), (3945, 0.012285752287231392), (3946, 0.0), (3947, 0.0), (3948, 0.05011795426465718), (3949, 0.0), (3950, 0.0), (3951, 0.0), (3952, 0.0), (3953, 0.03395188030854522), (3954, 0.0), (3955, 0.010366790079815282), (3956, 0.03716970200824672), (3957, 0.005586139337878276), (3958, 0.0), (3959, 0.009180317689262439), (3960, 0.00743915076187922), (3961, 0.0), (3962, 0.009705481683396765), (3963, 0.0), (3964, 0.017990658871189176), (3965, 0.01479115740064991), (3966, 0.030047514283007438), (3967, 0.0), (3968, 0.10298241804679646), (3969, 0.0), (3970, 0.003256079373625202), (3971, 0.0), (3972, 0.017712579826022597), (3973, 0.0), (3974, 0.003346463105662321), (3975, 0.008232819981275345), (3976, 0.010211387234989832), (3977, 0.0), (3978, 0.0), (3979, 0.0), (3980, 0.0), (3981, 0.03385971164556224), (3982, 0.008886958190785582), (3983, 0.006658443044900757), (3984, 0.0041184370209128435), (3985, 0.0076183905054629675), (3986, 0.04138305800801083), (3987, 0.041870837684780386), (3988, 0.06657189518061021), (3989, 0.0), (3990, 0.0), (3991, 0.016253983544089287), (3992, 0.0), (3993, 0.06596036935619476), (3994, 0.021841658583714514), (3995, 0.006462605437428027), (3996, 0.02111415909242612), (3997, 0.0), (3998, 0.01058524150875549), (3999, 0.0), (4000, 0.050998782443115835), (4001, 0.0), (4002, 0.0), (4003, 0.034824324349055566), (4004, 0.028835021794379648), (4005, 0.0), (4006, 0.004231407477374803), (4007, 0.0), (4008, 0.0), (4009, 0.0), (4010, 0.0), (4011, 0.04164923188060042), (4012, 0.050645388085552204), (4013, 0.016395097843475585), (4014, 0.011508410154859861), (4015, 0.0), (4016, 0.07751212045205653), (4017, 0.012129393325654537), (4018, 0.0), (4019, 0.0), (4020, 0.0), (4021, 0.0), (4022, 0.027024168369617473), (4023, 0.0), (4024, 0.06276638300148987), (4025, 0.0), (4026, 0.0), (4027, 0.03673815595748811), (4028, 0.01534471096368257), (4029, 0.0054673271472204885), (4030, 0.06288235238398225), (4031, 0.0), (4032, 0.03211131008745895), (4033, 0.05221600856945064), (4034, 0.0), (4035, 0.0), (4036, 0.0), (4037, 0.014989702832971175), (4038, 0.0), (4039, 0.08924172537160965), (4040, 0.020190634335467205), (4041, 0.004231623858192945), (4042, 0.053123067534769856), (4043, 0.0), (4044, 0.0), (4045, 0.012973103245573535), (4046, 0.0), (4047, 0.0), (4048, 0.022941967011794386), (4049, 0.038146067062173904), (4050, 0.004185448416995152), (4051, 0.0), (4052, 0.003930554287564664), (4053, 0.007996310278140165), (4054, 0.004909242073364647), (4055, 0.03143384829496216), (4056, 0.0), (4057, 0.02014245937991468), (4058, 0.0), (4059, 0.0), (4060, 0.0), (4061, 0.024854367305259785), (4062, 0.07706041836965463), (4063, 0.0), (4064, 0.0), (4065, 0.0), (4066, 0.0), (4067, 0.0), (4068, 0.0), (4069, 0.028996557725387707), (4070, 0.017501022861531025), (4071, 0.05170514839116158), (4072, 0.01476505960342105), (4073, 0.10009660371482762), (4074, 0.0), (4075, 0.0), (4076, 0.0), (4077, 0.04511177680112156), (4078, 0.026473300659373377), (4079, 0.004489289226560277), (4080, 0.006959038461688077), (4081, 0.020081879194533483), (4082, 0.0), (4083, 0.0032304731939783653), (4084, 0.010877553061353764), (4085, 0.023784541304810468), (4086, 0.0), (4087, 0.0), (4088, 0.0042556972211353515), (4089, 0.0), (4090, 0.0), (4091, 0.0), (4092, 0.0), (4093, 0.02693740558749652), (4094, 0.0), (4095, 0.0), (4096, 0.0030345022283379997), (4097, 0.03665166039752713), (4098, 0.02813206753400506), (4099, 0.01376636599833926), (4100, 0.0), (4101, 0.0), (4102, 0.0), (4103, 0.06429484629869883), (4104, 0.021886938717802455), (4105, 0.017857625458902654), (4106, 0.018207037840594666), (4107, 0.009771575865988799), (4108, 0.17686710329278404), (4109, 0.0038356504477902384), (4110, 0.004605283426831061), (4111, 0.014806519813121546), (4112, 0.0), (4113, 0.01129589466190454), (4114, 0.13530693157992263), (4115, 0.014037739741064835), (4116, 0.0), (4117, 0.05787823983052026), (4118, 0.0), (4119, 0.008174566197913484), (4120, 0.011179580016747211), (4121, 0.0), (4122, 0.0), (4123, 0.0), (4124, 0.022828544930419577), (4125, 0.03793827117044393), (4126, 0.0049294730120925095), (4127, 0.012962574359301097), (4128, 0.055350550056796025), (4129, 0.020563490103829615), (4130, 0.0), (4131, 0.031823917393008966), (4132, 0.03195644237571216), (4133, 0.0), (4134, 0.0036512454437611246), (4135, 0.0204359255732846), (4136, 0.01019490586961939), (4137, 0.0), (4138, 0.0), (4139, 0.0), (4140, 0.0), (4141, 0.0), (4142, 0.0), (4143, 0.03765329852207148), (4144, 0.003647532192833471), (4145, 0.013633509949375719), (4146, 0.07128806317716707), (4147, 0.0), (4148, 0.0), (4149, 0.10043543657411916), (4150, 0.0), (4151, 0.010071595039832914), (4152, 0.04789383768169406), (4153, 0.008233537899632071), (4154, 0.0), (4155, 0.03465265451115109), (4156, 0.04872142688205549), (4157, 0.011125058483662537), (4158, 0.0), (4159, 0.005152631398336182), (4160, 0.0895233407145752), (4161, 0.02156658183093251), (4162, 0.012366493933172613), (4163, 0.012407321483110596), (4164, 0.006318833695239069), (4165, 0.0), (4166, 0.0), (4167, 0.045557111676753505), (4168, 0.0), (4169, 0.0), (4170, 0.004293618225480214), (4171, 0.0), (4172, 0.013788828416014344), (4173, 0.0396321857504457), (4174, 0.011084245858349565), (4175, 0.048293514990735587), (4176, 0.055425619103087735), (4177, 0.0), (4178, 0.0), (4179, 0.0), (4180, 0.0044284631933786105), (4181, 0.0), (4182, 0.024149513063037316), (4183, 0.012431202800956312), (4184, 0.0), (4185, 0.0), (4186, 0.0), (4187, 0.049422294283797415), (4188, 0.0), (4189, 0.013911576959740175), (4190, 0.0), (4191, 0.014777303067902078), (4192, 0.009367627329865893), (4193, 0.09307874405938257), (4194, 0.003456421374795493), (4195, 0.0), (4196, 0.0), (4197, 0.011589430229337606), (4198, 0.0072036274206599095), (4199, 0.0), (4200, 0.003536779121496603), (4201, 0.0267730558093472), (4202, 0.009752918709204377), (4203, 0.0), (4204, 0.0041503655320282995), (4205, 0.0), (4206, 0.0), (4207, 0.017153029202035045), (4208, 0.0070870777211742295), (4209, 0.017653771779179497), (4210, 0.0), (4211, 0.011131907396672793), (4212, 0.0), (4213, 0.0), (4214, 0.0), (4215, 0.01982064894601465), (4216, 0.016990334646209027), (4217, 0.0), (4218, 0.008001034619693231), (4219, 0.0), (4220, 0.00805555978986909), (4221, 0.004593984847095578), (4222, 0.03424834720304246), (4223, 0.0065947133446001005), (4224, 0.04237522361569944), (4225, 0.07176600694840753), (4226, 0.0), (4227, 0.004742907084067313), (4228, 0.01425590537687266), (4229, 0.0040865519327840695), (4230, 0.010643182365494885), (4231, 0.05778715423793183), (4232, 0.0), (4233, 0.01965145172275096), (4234, 0.0), (4235, 0.0), (4236, 0.0), (4237, 0.013081183142369886), (4238, 0.02167443477820328), (4239, 0.010076129022728798), (4240, 0.021238439024418545), (4241, 0.005439393947277083), (4242, 0.0), (4243, 0.012048808620585823), (4244, 0.02739246072603801), (4245, 0.029504993803575307), (4246, 0.03800059336768948), (4247, 0.0), (4248, 0.009519547664236008), (4249, 0.0), (4250, 0.012200259367756695), (4251, 0.05862567790795961), (4252, 0.0), (4253, 0.0062258835368581705), (4254, 0.064389357271427), (4255, 0.0), (4256, 0.013592643264377986), (4257, 0.0), (4258, 0.013741358068709835), (4259, 0.0326616083563944), (4260, 0.003983451126316438), (4261, 0.011664467210731166), (4262, 0.014674718563670844), (4263, 0.014007468631593786), (4264, 0.004738580773909396), (4265, 0.0047392309875226545), (4266, 0.02172571561195381), (4267, 0.03816503067068686), (4268, 0.0), (4269, 0.01924381829438799), (4270, 0.005047913505219428), (4271, 0.0), (4272, 0.006348047446873537), (4273, 0.008085753421017852), (4274, 0.002641745604635931), (4275, 0.0297591686184051), (4276, 0.10958036182616397), (4277, 0.01983421812692297), (4278, 0.0), (4279, 0.004192055241362086), (4280, 0.0), (4281, 0.012767667856258444), (4282, 0.008931131066964425), (4283, 0.0167761466199203), (4284, 0.03134560544069912), (4285, 0.0), (4286, 0.03834826061757797), (4287, 0.007111776028178227), (4288, 0.0), (4289, 0.013242013033721118), (4290, 0.0), (4291, 0.034956411435677084), (4292, 0.0), (4293, 0.0073580271365843485), (4294, 0.005663889072025644), (4295, 0.018876997400725078), (4296, 0.0), (4297, 0.0048213513270825925), (4298, 0.008446803434325724), (4299, 0.0), (4300, 0.0), (4301, 0.029743785218438953), (4302, 0.0330550603076777), (4303, 0.004782020823221502), (4304, 0.0), (4305, 0.005989144858400296), (4306, 0.0), (4307, 0.05979639164423116), (4308, 0.0), (4309, 0.018638393664870204), (4310, 0.0104279480211872), (4311, 0.0), (4312, 0.039003516916444596), (4313, 0.0), (4314, 0.0), (4315, 0.0237154897328537), (4316, 0.017922045220985554), (4317, 0.009434753090896027), (4318, 0.0), (4319, 0.007873495249513616), (4320, 0.008781519637009155), (4321, 0.026563898180976875), (4322, 0.0), (4323, 0.0), (4324, 0.0), (4325, 0.04861026212342119), (4326, 0.016965701243388913), (4327, 0.03868463306722257), (4328, 0.009633496962665163), (4329, 0.0), (4330, 0.0), (4331, 0.0418051344179697), (4332, 0.16189143253543292), (4333, 0.0), (4334, 0.0051563849305695), (4335, 0.007699270604933678), (4336, 0.0), (4337, 0.007139820815168737), (4338, 0.004670756987702603), (4339, 0.03778398397006823), (4340, 0.0034395649550964537), (4341, 0.0), (4342, 0.0), (4343, 0.004117594486126964), (4344, 0.04422901220415556), (4345, 0.0), (4346, 0.0), (4347, 0.004389962456382976), (4348, 0.01591372033706008), (4349, 0.03612339773189909), (4350, 0.00345629261447348), (4351, 0.030232960253544137), (4352, 0.007394387983573135), (4353, 0.023799266753025836), (4354, 0.0), (4355, 0.022797919108731635), (4356, 0.0032165311229599937), (4357, 0.0), (4358, 0.0), (4359, 0.004715980129243228), (4360, 0.0), (4361, 0.0), (4362, 0.0), (4363, 0.0), (4364, 0.028116159630385627), (4365, 0.004214464097598804), (4366, 0.011486994239474836), (4367, 0.0041772479068164425), (4368, 0.03587539440034597), (4369, 0.03813184807526034), (4370, 0.0), (4371, 0.01736983654604043), (4372, 0.0), (4373, 0.008619102832133397), (4374, 0.0045345259533699535), (4375, 0.05437583342241964), (4376, 0.0), (4377, 0.0), (4378, 0.02371924226103174), (4379, 0.03851853513516369), (4380, 0.049985107208623855), (4381, 0.109609578982861), (4382, 0.002867796905321888), (4383, 0.027395082832392358), (4384, 0.0), (4385, 0.0), (4386, 0.01556086285993928), (4387, 0.126216596775536), (4388, 0.008356560814315822), (4389, 0.0), (4390, 0.01912657678720399), (4391, 0.00680287307680694), (4392, 0.03375281734125546), (4393, 0.01178520923567794), (4394, 0.11506428289143253), (4395, 0.02201642859380181), (4396, 0.0), (4397, 0.00823822189759228), (4398, 0.033256970692086225), (4399, 0.06737936997223495), (4400, 0.0), (4401, 0.08675162836542508), (4402, 0.013937722009250033), (4403, 0.006726230403547337), (4404, 0.0), (4405, 0.0), (4406, 0.0), (4407, 0.0), (4408, 0.015070622029997757), (4409, 0.0), (4410, 0.00668762247284797), (4411, 0.0), (4412, 0.0045657672848933555), (4413, 0.0), (4414, 0.008888308021055055), (4415, 0.0), (4416, 0.0), (4417, 0.0), (4418, 0.007727325576132122), (4419, 0.0), (4420, 0.0), (4421, 0.0), (4422, 0.008830939984174693), (4423, 0.026157496650651), (4424, 0.0), (4425, 0.05104442295220392), (4426, 0.0), (4427, 0.028937241137087375), (4428, 0.007699744042628862), (4429, 0.0), (4430, 0.0), (4431, 0.0), (4432, 0.0241281775983479), (4433, 0.0), (4434, 0.0), (4435, 0.006039932217487641), (4436, 0.0), (4437, 0.004050442177925552), (4438, 0.0), (4439, 0.003968985256801017), (4440, 0.036043633071927456), (4441, 0.019913359716149527), (4442, 0.008224920118238674), (4443, 0.0), (4444, 0.0), (4445, 0.0), (4446, 0.0), (4447, 0.0), (4448, 0.07102794495980264), (4449, 0.0), (4450, 0.06433341962088844), (4451, 0.0), (4452, 0.0), (4453, 0.0), (4454, 0.003789482857167977), (4455, 0.0), (4456, 0.0), (4457, 0.1245310215976151), (4458, 0.0), (4459, 0.0), (4460, 0.011537313191609838), (4461, 0.015048359577028006), (4462, 0.00675684815608846), (4463, 0.0), (4464, 0.0), (4465, 0.0953944800741325), (4466, 0.05217254336210017), (4467, 0.0), (4468, 0.03746664637662296), (4469, 0.0), (4470, 0.03565262831530979), (4471, 0.0), (4472, 0.0), (4473, 0.004160064062408257), (4474, 0.003726454004296289), (4475, 0.009002732899161649), (4476, 0.0), (4477, 0.0037554999776815245), (4478, 0.0), (4479, 0.012482479936005932), (4480, 0.03894516702277773), (4481, 0.0), (4482, 0.0029900392699869103), (4483, 0.017581366037424676), (4484, 0.0), (4485, 0.0), (4486, 0.0), (4487, 0.05561290761956213), (4488, 0.0), (4489, 0.022238270470868213), (4490, 0.0), (4491, 0.026522906732304778), (4492, 0.0), (4493, 0.0), (4494, 0.0), (4495, 0.0), (4496, 0.015865464887262988), (4497, 0.007870485761508688), (4498, 0.02325504545549551), (4499, 0.033697217464998326), (4500, 0.013907110850716735), (4501, 0.017008463776366726), (4502, 0.0), (4503, 0.0), (4504, 0.00947476907719588), (4505, 0.00583526815216828), (4506, 0.011246380041017098), (4507, 0.11770112751177314), (4508, 0.004236694942143309), (4509, 0.004603556675200307), (4510, 0.0), (4511, 0.0), (4512, 0.0), (4513, 0.014402570980837656), (4514, 0.0), (4515, 0.004458632288439499), (4516, 0.04199576710191218), (4517, 0.0), (4518, 0.0037221554474381447), (4519, 0.0), (4520, 0.0), (4521, 0.004811035409244249), (4522, 0.009477040323848678), (4523, 0.0), (4524, 0.007486131332148362), (4525, 0.0), (4526, 0.03776639961285935), (4527, 0.010862465005181865), (4528, 0.004106126926315103), (4529, 0.0), (4530, 0.0), (4531, 0.0), (4532, 0.0), (4533, 0.0), (4534, 0.013434926976677497), (4535, 0.020163243045060404), (4536, 0.004187089919926105), (4537, 0.0), (4538, 0.006124939259390865), (4539, 0.03289688362647776), (4540, 0.006661951333387193), (4541, 0.008029564492848133), (4542, 0.02614411445687586), (4543, 0.00592048112788088), (4544, 0.006581921004382703), (4545, 0.014367706858369477), (4546, 0.014803189191970104), (4547, 0.0), (4548, 0.0), (4549, 0.00980973728249252), (4550, 0.00634076288709279), (4551, 0.0), (4552, 0.0), (4553, 0.010210564341491684), (4554, 0.01273239296729333), (4555, 0.09373513499940243), (4556, 0.0), (4557, 0.016979480375548972), (4558, 0.0031688928875203137), (4559, 0.010854576302885959), (4560, 0.0), (4561, 0.0), (4562, 0.008853258824592489), (4563, 0.04117084213600698), (4564, 0.014133881480756333), (4565, 0.02443451386129508), (4566, 0.0), (4567, 0.0), (4568, 0.01732002638379072), (4569, 0.0), (4570, 0.0), (4571, 0.02786628238678781), (4572, 0.004041639481714225), (4573, 0.00932725952823198), (4574, 0.0), (4575, 0.0), (4576, 0.0), (4577, 0.0), (4578, 0.0), (4579, 0.031469684822055456), (4580, 0.00642649902791705), (4581, 0.0), (4582, 0.0), (4583, 0.022047118221287992), (4584, 0.02373670849846092), (4585, 0.021751964765381517), (4586, 0.0), (4587, 0.04184728706071679), (4588, 0.07581719542286548), (4589, 0.0), (4590, 0.0), (4591, 0.0), (4592, 0.010904321428741532), (4593, 0.24383346415242396), (4594, 0.011641856768314043), (4595, 0.007715918339826339), (4596, 0.0), (4597, 0.02944933368695175), (4598, 0.0), (4599, 0.026550591300449247), (4600, 0.0), (4601, 0.04331985777555438), (4602, 0.0), (4603, 0.0), (4604, 0.009520058164628574), (4605, 0.008231188151308608), (4606, 0.0), (4607, 0.0), (4608, 0.05058189236632897), (4609, 0.003993936188568109), (4610, 0.014912697861880247), (4611, 0.007512849274485296), (4612, 0.0), (4613, 0.004510577994041358), (4614, 0.0), (4615, 0.0), (4616, 0.0), (4617, 0.010150048376645656), (4618, 0.0), (4619, 0.0), (4620, 0.020630689049903353), (4621, 0.010082458530586683), (4622, 0.008417355026913237), (4623, 0.039749061846791583), (4624, 0.0), (4625, 0.004660971597221454), (4626, 0.014911005868598504), (4627, 0.0), (4628, 0.0), (4629, 0.0), (4630, 0.0), (4631, 0.008320762525771899), (4632, 0.0), (4633, 0.0), (4634, 0.0), (4635, 0.023471604781706054), (4636, 0.0), (4637, 0.13751229644921564), (4638, 0.027207392098199994), (4639, 0.02645625875919596), (4640, 0.0), (4641, 0.0), (4642, 0.009259761134459222), (4643, 0.0), (4644, 0.0), (4645, 0.0), (4646, 0.037039844993948814), (4647, 0.010957301750222715), (4648, 0.01504581764157149), (4649, 0.008659513537773753), (4650, 0.004248703638250601), (4651, 0.08857303955210231), (4652, 0.0), (4653, 0.0), (4654, 0.031592700228396164), (4655, 0.0050401165072028005), (4656, 0.011393056395587587), (4657, 0.0), (4658, 0.016557809503875944), (4659, 0.004803519049140309), (4660, 0.0), (4661, 0.09808419492953716), (4662, 0.0), (4663, 0.005924256655891325), (4664, 0.024757205792517466), (4665, 0.037410709637943663), (4666, 0.014534801509456137), (4667, 0.0), (4668, 0.008240698821779552), (4669, 0.039347085679698704), (4670, 0.11413117026302971), (4671, 0.0), (4672, 0.03444647162173847), (4673, 0.004123562072316138), (4674, 0.0), (4675, 0.015450725528653456), (4676, 0.01296132573301858), (4677, 0.02656311088564843), (4678, 0.028424606739853257), (4679, 0.02971036924238932), (4680, 0.0), (4681, 0.0), (4682, 0.0), (4683, 0.0), (4684, 0.0), (4685, 0.025754542120574455), (4686, 0.0), (4687, 0.0), (4688, 0.1083565612319786), (4689, 0.017026437910998983), (4690, 0.0), (4691, 0.10067375349077809), (4692, 0.0), (4693, 0.05335876219210792), (4694, 0.012531196044013754), (4695, 0.021646482794686943), (4696, 0.007004977761006522), (4697, 0.0), (4698, 0.0), (4699, 0.03914828161321013), (4700, 0.03462171565042589), (4701, 0.014330795424314802), (4702, 0.0), (4703, 0.0), (4704, 0.012410134661364699), (4705, 0.0051469808825852234), (4706, 0.006992867629949468), (4707, 0.004006973605262701), (4708, 0.025412200665091395), (4709, 0.0), (4710, 0.0), (4711, 0.0), (4712, 0.0), (4713, 0.0), (4714, 0.0), (4715, 0.04062765289958273), (4716, 0.03932821055873185), (4717, 0.007308971210076762), (4718, 0.005181793053191069), (4719, 0.0033914123956206837), (4720, 0.029919620649080835), (4721, 0.01187790172831521), (4722, 0.004222531926026859), (4723, 0.003873341507762537), (4724, 0.05127475652625438), (4725, 0.0), (4726, 0.026342661908086616), (4727, 0.012857749410994384), (4728, 0.0506049045162236), (4729, 0.0), (4730, 0.015587315578767854), (4731, 0.004878867084769944), (4732, 0.009818000141653639), (4733, 0.013082819401018358), (4734, 0.04726791406768287), (4735, 0.014368406397243964), (4736, 0.005851974830786112), (4737, 0.0055754457391722), (4738, 0.0), (4739, 0.0), (4740, 0.014721696248828086), (4741, 0.0335303564680416), (4742, 0.0031313548919475204), (4743, 0.005474939401106026), (4744, 0.004609687410217937), (4745, 0.027945219038938582), (4746, 0.0), (4747, 0.0), (4748, 0.0), (4749, 0.011073262549390608), (4750, 0.008609118491549512), (4751, 0.0), (4752, 0.0), (4753, 0.0), (4754, 0.006896155268904171), (4755, 0.0), (4756, 0.03464233786799953), (4757, 0.010365892217099491), (4758, 0.037191032914363986), (4759, 0.0033044401220946582), (4760, 0.0), (4761, 0.0), (4762, 0.0), (4763, 0.004360123367206512), (4764, 0.05889460043433893), (4765, 0.0), (4766, 0.004666779258111873), (4767, 0.004323720121178281), (4768, 0.0063429417907565466), (4769, 0.038304168779246736), (4770, 0.0), (4771, 0.0), (4772, 0.013770707935314576), (4773, 0.0), (4774, 0.058908786797221536), (4775, 0.0), (4776, 0.012092993441865487), (4777, 0.0), (4778, 0.008686738268181515), (4779, 0.0), (4780, 0.0), (4781, 0.0), (4782, 0.014245187091530342), (4783, 0.0), (4784, 0.006421192340309928), (4785, 0.014256761765474997), (4786, 0.0), (4787, 0.04228540960975505), (4788, 0.05945926856957007), (4789, 0.0), (4790, 0.007080818624690265), (4791, 0.0), (4792, 0.0), (4793, 0.003856378643330073), (4794, 0.0), (4795, 0.004163848344511257), (4796, 0.028301080671077485), (4797, 0.0), (4798, 0.006113766971872202), (4799, 0.012566198852994794), (4800, 0.0), (4801, 0.0), (4802, 0.0)]\n"
          ]
        }
      ]
    },
    {
      "cell_type": "code",
      "source": [
        "len(similarity_score)"
      ],
      "metadata": {
        "colab": {
          "base_uri": "https://localhost:8080/"
        },
        "id": "3S7T4t50Q0VR",
        "outputId": "8179c36e-248b-42e4-f327-eb4bd300624a"
      },
      "execution_count": 32,
      "outputs": [
        {
          "output_type": "execute_result",
          "data": {
            "text/plain": [
              "4803"
            ]
          },
          "metadata": {},
          "execution_count": 32
        }
      ]
    },
    {
      "cell_type": "code",
      "source": [
        "#sorting the movies based on their similaity score\n",
        "sorted_similarity_movies = sorted(similarity_score, key = lambda x:x[1], reverse=True )\n"
      ],
      "metadata": {
        "id": "F8YKn3ipQ9TS"
      },
      "execution_count": 33,
      "outputs": []
    },
    {
      "cell_type": "code",
      "source": [
        "print(sorted_similarity_movies)"
      ],
      "metadata": {
        "colab": {
          "base_uri": "https://localhost:8080/"
        },
        "id": "fTQXmU7WRBaJ",
        "outputId": "690710ea-c456-4787-b051-54a85de25331"
      },
      "execution_count": 34,
      "outputs": [
        {
          "output_type": "stream",
          "name": "stdout",
          "text": [
            "[(0, 1.0), (3730, 0.28959880438336116), (1951, 0.28729713854178696), (2403, 0.26577900763482226), (2696, 0.26129066485062685), (643, 0.2557859834857088), (3158, 0.2528527221724024), (661, 0.2508195737914337), (239, 0.2507515256221266), (94, 0.24645152180674346), (4593, 0.24383346415242396), (812, 0.24259090619354098), (1531, 0.23615666422913598), (3439, 0.22878627473084276), (1354, 0.21816903062073775), (461, 0.20785806187506795), (158, 0.19591287932395185), (278, 0.19503883714659864), (1976, 0.19183559810253056), (1650, 0.1840578583866094), (1473, 0.1801199052241842), (4108, 0.17686710329278404), (770, 0.17250369919761221), (3202, 0.1722479115129931), (2198, 0.16505840535836763), (4332, 0.16189143253543292), (539, 0.16013773148000335), (4, 0.15632652954430734), (108, 0.1561452814602582), (150, 0.15600453345091755), (56, 0.15534059426709235), (2900, 0.15529642279968542), (1490, 0.15466014158728195), (305, 0.15407223326512268), (2888, 0.15340796483317087), (1759, 0.1532598022901324), (206, 0.15257978241621953), (3208, 0.15119238013255326), (977, 0.15020423536911334), (82, 0.1497905682294248), (47, 0.1490295810888229), (1990, 0.14866506353072226), (322, 0.14654120971862022), (232, 0.14549087376949832), (184, 0.14472566583608418), (1709, 0.14321600038134397), (3184, 0.14152586640706857), (838, 0.13990405774989784), (342, 0.13866747896141818), (279, 0.13825043383714028), (510, 0.13817699962114785), (4637, 0.13751229644921564), (1914, 0.13696298079226285), (2278, 0.13668988220411502), (223, 0.13578759233400667), (4114, 0.13530693157992263), (46, 0.1352906602188816), (1275, 0.13405274760962244), (577, 0.1333491919485458), (61, 0.13296055269645327), (222, 0.13235656584209526), (228, 0.1316268674786136), (587, 0.13148712081571468), (311, 0.1313670303164623), (775, 0.1311142819901177), (2966, 0.13021329962456116), (256, 0.12765149875030493), (2444, 0.12718267035583103), (4387, 0.126216596775536), (4457, 0.1245310215976151), (581, 0.12423065015156924), (3593, 0.12236028373761233), (1652, 0.12233276540917057), (1318, 0.12013286898158827), (2781, 0.11900983942031722), (628, 0.11845506962656867), (224, 0.11844489130026237), (1053, 0.11830250513918397), (599, 0.11818874547433389), (2129, 0.11794523076384665), (2015, 0.11783091411897943), (4507, 0.11770112751177314), (1379, 0.11762301680670237), (2995, 0.11702390705181712), (3538, 0.11544665644681155), (4394, 0.11506428289143253), (4670, 0.11413117026302971), (466, 0.11373114476200039), (642, 0.11296495385164632), (300, 0.11148925850419451), (373, 0.11121101073489537), (456, 0.1101328807763263), (732, 0.10980672004703981), (4381, 0.109609578982861), (4276, 0.10958036182616397), (26, 0.10905819848123746), (10, 0.10888512849011502), (541, 0.10870069225198162), (1002, 0.10850530994777491), (1, 0.1085000265471684), (4688, 0.1083565612319786), (3405, 0.10835145219842936), (1762, 0.10818388150497776), (870, 0.10700758227762355), (2499, 0.10658068421104881), (1564, 0.10639453128998361), (586, 0.10579337512282291), (3520, 0.10574579559388822), (1217, 0.10545326274642419), (1568, 0.10532038496583578), (549, 0.10514806146922587), (3203, 0.10312319778784843), (3968, 0.10298241804679646), (1459, 0.10252426130831352), (1878, 0.10242252624548821), (3029, 0.10209708592852355), (505, 0.10184571434898), (607, 0.1015722897878137), (2708, 0.10143234491620812), (365, 0.1009864468666299), (483, 0.1009511580197598), (512, 0.10071896024547614), (4691, 0.10067375349077809), (4149, 0.10043543657411916), (4073, 0.10009660371482762), (369, 0.09977878380108667), (282, 0.09961717006509677), (1083, 0.09878179720196818), (1390, 0.09866685564654518), (634, 0.09858105334395109), (14, 0.09848367647656367), (4661, 0.09808419492953716), (787, 0.09800254817701168), (1277, 0.09795844577666127), (853, 0.09789829820460785), (2550, 0.09788665095327626), (111, 0.09732700904239124), (2934, 0.09727057589780908), (1932, 0.09725777994439916), (813, 0.09722855557029028), (1959, 0.09643344232198472), (169, 0.0962660828216963), (2091, 0.09599810967004979), (1296, 0.09558686723680858), (1787, 0.09544231254901656), (2578, 0.0953997299885125), (4465, 0.0953944800741325), (1272, 0.09517187933796464), (85, 0.09482681026360731), (2262, 0.0947064535001416), (3055, 0.09448071397153271), (25, 0.09431708557220145), (127, 0.09388164387031278), (4555, 0.09373513499940243), (3534, 0.09347614495613778), (4193, 0.09307874405938257), (2258, 0.09302697674966526), (626, 0.09301938630549644), (994, 0.09300850896473982), (575, 0.0926214320662287), (1938, 0.09218438357680314), (582, 0.09165670219937413), (147, 0.09134861690792737), (1411, 0.09072129723817256), (4160, 0.0895233407145752), (4039, 0.08924172537160965), (1569, 0.08897093661697464), (2155, 0.08870277725097311), (4651, 0.08857303955210231), (249, 0.08774659370927652), (1282, 0.08717701607285297), (2163, 0.08707554283372708), (4401, 0.08675162836542508), (2898, 0.08629476394032619), (420, 0.08592726815041726), (2127, 0.08530120751617627), (45, 0.0852134571954385), (156, 0.08521336785675104), (2851, 0.08506453775038746), (50, 0.08475762575856653), (3445, 0.08453638840645518), (432, 0.0843404571277916), (585, 0.0839840323211564), (2233, 0.08392550865415957), (1016, 0.0838806857076839), (1535, 0.08379996255474872), (531, 0.0836159542632365), (800, 0.08357336709626537), (922, 0.0831641878777992), (1187, 0.08298969454074104), (168, 0.08298243846540693), (2688, 0.08287125582318246), (2986, 0.08282130381484075), (141, 0.08260412973495253), (3638, 0.08249010041539298), (889, 0.08243343333368733), (294, 0.08223099954868347), (59, 0.08135244257036453), (773, 0.0811543441339385), (370, 0.08111364527415807), (31, 0.08094762977641425), (627, 0.08071814156600259), (3372, 0.08066432254152116), (1984, 0.08052182693342426), (96, 0.08039285379051193), (149, 0.08029184362632126), (3903, 0.08012577978000077), (858, 0.08002229963375837), (692, 0.07995201366332179), (1775, 0.07959130586716325), (1399, 0.07950581306463497), (28, 0.07947159811973056), (2901, 0.07941506089738341), (3236, 0.07923539439330853), (185, 0.07908456301154543), (2650, 0.07892704817348437), (1044, 0.0789212286348681), (2691, 0.07882259421254988), (1577, 0.07847782126715491), (212, 0.0782700229859466), (101, 0.0780282191542281), (3163, 0.07784957908991741), (1271, 0.07782071519863751), (1322, 0.07764059587908621), (4016, 0.07751212045205653), (2757, 0.07738325863338794), (329, 0.07707555887060935), (4062, 0.07706041836965463), (2341, 0.07675874984000228), (125, 0.07670706501488217), (3516, 0.07668518267151767), (271, 0.0766797700191101), (2285, 0.07666716955979751), (400, 0.07656082079450627), (3045, 0.07646695493930185), (487, 0.07646207258487472), (116, 0.07635968119312704), (1230, 0.07625305421009429), (419, 0.07615880418089789), (43, 0.07612092037317278), (131, 0.07609795537348664), (900, 0.07600641820203871), (4588, 0.07581719542286548), (452, 0.07576449767541601), (3494, 0.07561134911515234), (1633, 0.07552866577317886), (2965, 0.07549849930017752), (3032, 0.07539420410545822), (496, 0.07527305942741837), (83, 0.07506265974697598), (1510, 0.07504002984548613), (1086, 0.07497760073895388), (236, 0.07467993549154753), (2522, 0.07464329143653795), (2229, 0.07461267665923535), (53, 0.07442534802229071), (1999, 0.07442446629791476), (18, 0.07436890330731215), (3177, 0.07433553398881021), (2506, 0.07432311698238567), (1818, 0.07422492209524381), (2247, 0.07422287318182436), (196, 0.07417018607261794), (123, 0.07402470088292758), (2875, 0.07396435416139584), (275, 0.07379852881079708), (595, 0.07376893078832171), (3856, 0.07376601147049718), (1617, 0.07364032266102208), (677, 0.07359468367482222), (2387, 0.07359051441640704), (287, 0.07357855836441074), (2720, 0.07350684311575777), (2614, 0.07343196585649248), (2815, 0.0734136212225737), (508, 0.07337250105943026), (979, 0.0733499607647379), (2052, 0.07327304900167927), (1094, 0.07316602404951783), (3033, 0.07313242156104408), (868, 0.07299668437156587), (301, 0.07292239050319146), (3214, 0.07279054738565091), (3374, 0.07274287119367154), (3828, 0.07259638882199748), (2509, 0.07239574911162676), (2829, 0.07235488541200032), (836, 0.07233594589018429), (2806, 0.07232811549711615), (778, 0.07226332347478849), (764, 0.07187615388459219), (2494, 0.07177805828955686), (4225, 0.07176600694840753), (1373, 0.07133612701136678), (4146, 0.07128806317716707), (4448, 0.07102794495980264), (3624, 0.07075967992795444), (422, 0.07074973014823414), (2835, 0.07074126440164667), (985, 0.07066807712159623), (200, 0.06991558819672515), (1358, 0.06966411224011361), (2592, 0.06965479478290577), (3667, 0.06961338336250897), (480, 0.06954696357656158), (1079, 0.06948078784052657), (138, 0.06916860379543849), (3014, 0.06916219836472319), (2964, 0.06897429046389753), (1290, 0.06871983108946461), (74, 0.06869024680700878), (1238, 0.06853740666370695), (2024, 0.06847360222498963), (3813, 0.0684620573780217), (2914, 0.06843694660306869), (412, 0.06839160970879254), (972, 0.06834439013569348), (93, 0.06829728368170557), (3914, 0.06808206680303185), (1015, 0.0680011804073967), (317, 0.0679481398436947), (3261, 0.06792740420264255), (1165, 0.06788935618065287), (1191, 0.06780549141933523), (1259, 0.06771069424085255), (401, 0.06763987557509496), (102, 0.06749554818247683), (71, 0.06747257320460498), (4399, 0.06737936997223495), (292, 0.06699183933799115), (3098, 0.06687021084498437), (1794, 0.06672502646380002), (3323, 0.06660115322324534), (3197, 0.06658634287716869), (3988, 0.06657189518061021), (473, 0.06627891150030743), (72, 0.06624602800814165), (36, 0.06617424813902026), (3993, 0.06596036935619476), (2255, 0.0659181866915838), (193, 0.06575305498506062), (87, 0.0656546616261065), (3304, 0.06562451127177452), (2101, 0.06545739753975585), (63, 0.06544879372150132), (3895, 0.06526543777775493), (3613, 0.06508226064458622), (281, 0.06506840709606215), (3607, 0.06494642694138622), (166, 0.06489977184132448), (1152, 0.06481052951742079), (1341, 0.06475352921274974), (2253, 0.06449938752482912), (1751, 0.06440055012308185), (4254, 0.064389357271427), (680, 0.06437953029521157), (4450, 0.06433341962088844), (35, 0.06432785434396435), (4103, 0.06429484629869883), (931, 0.06424620242326075), (2053, 0.06423134954421159), (267, 0.06412068264563994), (3804, 0.06409328362656094), (3885, 0.06397061312326902), (2085, 0.06379045295155802), (2016, 0.06378858703250337), (2343, 0.06376860858041108), (1234, 0.06368500839992437), (234, 0.06361758959376711), (199, 0.06331877901728501), (3089, 0.06320880030559328), (490, 0.06317209378214567), (4030, 0.06288235238398225), (2338, 0.06287577908066458), (1106, 0.06283912622244249), (2639, 0.06282204708606268), (4024, 0.06276638300148987), (76, 0.06266202345732819), (784, 0.0625321396646053), (3436, 0.062495621071359454), (2218, 0.06222832383148153), (3294, 0.0622237417454846), (1611, 0.06217296652576524), (2868, 0.062045008694765584), (854, 0.061995597819138167), (215, 0.061979186632996654), (3484, 0.06166678683214732), (3012, 0.061627629163835414), (3514, 0.06153341395469719), (2782, 0.06133295282897715), (175, 0.06129916976763324), (1158, 0.06126362098489553), (2546, 0.06117436536883043), (2433, 0.060973226676423894), (1028, 0.060971264624942095), (2826, 0.06096618007522139), (1007, 0.06092615187144931), (921, 0.06091693854752035), (618, 0.06089109236241617), (1192, 0.06073557878852397), (902, 0.060403295200495324), (878, 0.060210030061080715), (1468, 0.060177969515435484), (2317, 0.06008557914303245), (335, 0.060017608846815715), (3899, 0.059921873461915395), (95, 0.059848803973242576), (4307, 0.05979639164423116), (3305, 0.05978294584243513), (426, 0.059567686868729985), (2571, 0.05947932698683123), (4788, 0.05945926856957007), (126, 0.05939409640154355), (2547, 0.05937024209577502), (1175, 0.059329797450206015), (929, 0.05919866586559236), (1443, 0.05913581082485242), (3873, 0.059127884641016135), (320, 0.05902529220889438), (1839, 0.058979837441262666), (4774, 0.058908786797221536), (2654, 0.05889510834890123), (4764, 0.05889460043433893), (19, 0.058727353191406734), (238, 0.05868799376542742), (306, 0.058678282755495054), (4251, 0.05862567790795961), (171, 0.058567139753621905), (229, 0.05852971235754019), (3343, 0.05852967865911397), (632, 0.0584875368304301), (1672, 0.05841257893150358), (112, 0.05801181085288488), (2072, 0.05794427663640772), (3800, 0.05793387791974493), (30, 0.057920361308512726), (4117, 0.05787823983052026), (2311, 0.05785269765310251), (4231, 0.05778715423793183), (189, 0.05777944278823732), (1852, 0.05766821226153042), (1294, 0.057596530939802375), (262, 0.057397952119180806), (735, 0.0573476331785007), (2047, 0.05733657517605164), (855, 0.05719003066574521), (1074, 0.05714842755678499), (654, 0.05712269597119276), (1202, 0.0570259298740017), (3351, 0.05699787781657454), (3736, 0.05698244044674958), (3350, 0.05696493158701483), (720, 0.056863109483243926), (495, 0.056848316935205125), (2758, 0.05679682221206331), (122, 0.05677420348847399), (2046, 0.05671715106185382), (2798, 0.056651350762582466), (5, 0.05660437046722024), (2453, 0.05640174512579493), (1367, 0.0563898531305282), (52, 0.056356922998884756), (1877, 0.05628344990186899), (79, 0.056260654512158365), (1713, 0.056084017311629666), (1348, 0.05605547668495413), (404, 0.05602401496533216), (1583, 0.05599850288770702), (2136, 0.05589607836780188), (1110, 0.05588772420820806), (2227, 0.05587844548505089), (765, 0.055777995703580045), (3815, 0.05571055214777724), (768, 0.055699567612723426), (1438, 0.05565317885519975), (2980, 0.05561438170640415), (4487, 0.05561290761956213), (393, 0.055554473370003965), (976, 0.05550389776224893), (1995, 0.055443537832758676), (1039, 0.05543057733800676), (4176, 0.055425619103087735), (4128, 0.055350550056796025), (1715, 0.0553023629632575), (330, 0.05528576623866909), (1518, 0.05514089354444401), (3775, 0.05501349583628491), (1135, 0.05489740058262248), (3068, 0.05489670091681466), (1481, 0.05489545237352702), (2157, 0.054854847823621086), (1440, 0.05463953109658001), (1159, 0.054569322717693686), (511, 0.05455611410650479), (2543, 0.054545881933279874), (225, 0.05449268378056248), (110, 0.054390602124130244), (4375, 0.05437583342241964), (960, 0.05437537345292071), (1453, 0.054367883767531024), (3654, 0.05424667863222145), (2577, 0.05422056028955184), (3296, 0.05418172904908332), (24, 0.054146443509279815), (1586, 0.05406739602109144), (1872, 0.05403551164897523), (183, 0.0539661099268367), (410, 0.05393533668292929), (1085, 0.05382001446802042), (27, 0.053794769693932314), (1298, 0.05370753318669612), (617, 0.053656834153491616), (1523, 0.05362361100869703), (1827, 0.05360531905127503), (2320, 0.0535826113654147), (7, 0.05356659330096678), (2492, 0.053500233118206814), (20, 0.05340090417747348), (4693, 0.05335876219210792), (113, 0.05331897118399599), (2894, 0.053289347166597376), (1743, 0.05325410368277815), (1404, 0.05322764198376856), (674, 0.05320823774332159), (1595, 0.05320044806614002), (4042, 0.053123067534769856), (728, 0.05307883649745734), (932, 0.052997747547001456), (3642, 0.052972736058465794), (2514, 0.05290467263984643), (1008, 0.05287276039111235), (33, 0.05278876009587921), (744, 0.05252980273926637), (782, 0.052412321228503415), (568, 0.05238031117296754), (270, 0.052319975042735445), (242, 0.05231651251523733), (655, 0.052268183207124654), (4033, 0.05221600856945064), (4466, 0.05217254336210017), (2817, 0.05216776470301466), (39, 0.05214816865588341), (3227, 0.05214032581060735), (2994, 0.052091203190477414), (1405, 0.052005208916625384), (675, 0.05195683947908275), (1671, 0.05191124306966549), (1802, 0.05185294306447431), (1500, 0.05183859082803667), (4071, 0.05170514839116158), (3361, 0.05164498375487939), (16, 0.051635832721232046), (1279, 0.051608620847888684), (1213, 0.051554263090241144), (3929, 0.05150141433980175), (2442, 0.051414956015273204), (4724, 0.05127475652625438), (2297, 0.05125489826676284), (799, 0.0512116940573238), (1918, 0.05121124485121526), (1506, 0.051202399599322296), (4425, 0.05104442295220392), (1764, 0.05100456228475177), (1160, 0.05100304698033862), (4000, 0.050998782443115835), (381, 0.050952999764888166), (3568, 0.050948404809358805), (3552, 0.050874870380645504), (1649, 0.05081117768667039), (1931, 0.050775120914081914), (4012, 0.050645388085552204), (4728, 0.0506049045162236), (1686, 0.0505851695371274), (4608, 0.05058189236632897), (920, 0.050492949572695234), (105, 0.050443834401567314), (260, 0.050380599670378744), (384, 0.05034911158693459), (182, 0.05016469654324597), (2022, 0.0501494043385551), (3948, 0.05011795426465718), (2443, 0.05011487462469024), (2254, 0.050083290500251065), (2967, 0.05004470521131901), (1343, 0.0500135117756137), (4380, 0.049985107208623855), (731, 0.04988707209418657), (501, 0.04985703195014553), (3760, 0.04977999745547129), (44, 0.049715579346156884), (1001, 0.04969056499870981), (3429, 0.049617955703380526), (1006, 0.049522926162163874), (3150, 0.04951027170107635), (1922, 0.049479268314627345), (4187, 0.049422294283797415), (336, 0.04934708248573496), (1380, 0.049219880931000146), (3270, 0.04914077631999003), (3233, 0.04912176224115882), (103, 0.049031201597477134), (755, 0.048949874984484415), (715, 0.048888048859343516), (2655, 0.048867461395692896), (2096, 0.04882654637027024), (208, 0.04873718217544923), (4156, 0.04872142688205549), (3231, 0.048703565195324976), (3396, 0.04869865266266241), (302, 0.048674431768509344), (165, 0.04863830312179773), (2100, 0.048630934031870174), (4325, 0.04861026212342119), (309, 0.0485720921152083), (2755, 0.0485627161332018), (290, 0.04855956823795046), (1134, 0.048505861283904016), (2884, 0.0484768777250984), (2533, 0.04847573075092885), (403, 0.0484583357835274), (1034, 0.04843796423454299), (91, 0.04843299427693085), (203, 0.04831496104467818), (4175, 0.048293514990735587), (2372, 0.04819894389336729), (1623, 0.04813884689750454), (12, 0.048026770882992204), (319, 0.04802156578963698), (2638, 0.048006777623512915), (2479, 0.04792679678831464), (4152, 0.04789383768169406), (1728, 0.04789146154806949), (2264, 0.04783876838585688), (2169, 0.0478239440102452), (2066, 0.04780760367024384), (413, 0.04778910594215077), (68, 0.047773498472533385), (1093, 0.04771218665361164), (174, 0.04753276730937395), (1068, 0.047507905797359466), (1019, 0.047482002150194075), (2346, 0.047470429622637665), (2791, 0.0473792456482237), (1769, 0.047325689361515724), (4734, 0.04726791406768287), (1412, 0.047239203883177136), (2375, 0.04717288042693736), (503, 0.047117159974190484), (1326, 0.04705354326913278), (3795, 0.046985660905536034), (644, 0.04693379829433032), (3503, 0.046882839997246246), (334, 0.04687086380076391), (1750, 0.04682347102086508), (2860, 0.04680223235485674), (1467, 0.046770839728131286), (3668, 0.04674099687869279), (3618, 0.046665295448418506), (547, 0.04657730994891179), (1474, 0.046547550100095404), (286, 0.046530422190389664), (3205, 0.04637651844832366), (657, 0.046347608647265226), (1188, 0.04630457680115854), (1303, 0.046242345252970246), (1658, 0.046216591920865996), (1761, 0.046213304161185166), (2211, 0.04613101753602909), (366, 0.046126743080080426), (601, 0.046126437705502954), (3354, 0.046037512600978915), (2474, 0.0460013919099851), (3901, 0.045955700759871196), (814, 0.04594268677872397), (557, 0.04594021590071369), (2991, 0.04592598465903022), (476, 0.045918964407624815), (2633, 0.04588326565690955), (2493, 0.04586847148159857), (786, 0.04586700042734094), (17, 0.04585471644324074), (1319, 0.045839245286774286), (41, 0.04575361558705259), (187, 0.045752890312106845), (3195, 0.04572813797705201), (1201, 0.045619081034827286), (121, 0.04561322765676179), (4167, 0.045557111676753505), (1546, 0.045426664353028307), (969, 0.045412282152041065), (1890, 0.045381696708388604), (2590, 0.04533722388615263), (227, 0.04529262051067522), (507, 0.04527228576902591), (3386, 0.04524212390473613), (207, 0.045171650781299824), (2380, 0.04516361485101078), (4077, 0.04511177680112156), (2377, 0.045108328973715986), (3460, 0.04501427527648595), (81, 0.04496135365125213), (3920, 0.044939544341534174), (1139, 0.04482426830406642), (2327, 0.04477872858142376), (3722, 0.044727019809065044), (569, 0.0446627980430806), (449, 0.04462316326758422), (1495, 0.044548713434086055), (3136, 0.04453633344800108), (1460, 0.044527927343118015), (3329, 0.044479025751644814), (1428, 0.044477247874781294), (217, 0.04442207211397976), (592, 0.04442109530168603), (543, 0.04431441382213641), (4344, 0.04422901220415556), (1796, 0.044161550349973995), (465, 0.044093365599922545), (2727, 0.04405884687102785), (1977, 0.04404443421153521), (415, 0.04400907350505513), (371, 0.04400062439329903), (544, 0.04395358867478935), (170, 0.0439086743874423), (1680, 0.04385334794687866), (2978, 0.043752478703954975), (98, 0.04375113167124292), (3385, 0.043735779849384065), (467, 0.04373339250121808), (3006, 0.0437297497343827), (589, 0.043692631095174586), (70, 0.0436837152332719), (942, 0.04367567306178709), (3579, 0.04363246985100078), (263, 0.04361407002905352), (246, 0.043593990207176025), (785, 0.043514483455487835), (1513, 0.04345835985042081), (145, 0.04344857753386111), (1482, 0.04338696179443334), (4601, 0.04331985777555438), (163, 0.04318702120587372), (1826, 0.04307748651600755), (3251, 0.043033071392225695), (1377, 0.04301845090639646), (315, 0.04297940810663088), (22, 0.042935491586396125), (1936, 0.04281949015346725), (3011, 0.04281041777455464), (572, 0.04279884177683731), (2642, 0.04274035769127866), (1711, 0.042661247315896225), (1274, 0.04264074343159796), (230, 0.0426351431748659), (609, 0.04252385782933785), (3279, 0.04251920879093185), (2536, 0.04248363129508561), (220, 0.042431158761450705), (1465, 0.04239989632532033), (4224, 0.04237522361569944), (1320, 0.042352107548913734), (4787, 0.04228540960975505), (3616, 0.04225730253313616), (3894, 0.04225572642654967), (1155, 0.04223636672234445), (2929, 0.04216247236278246), (276, 0.04211062019865715), (1899, 0.04206161531910962), (2597, 0.04203181513781182), (78, 0.042024423802643485), (4516, 0.04199576710191218), (38, 0.041986453412857054), (9, 0.04191753525799219), (107, 0.041915690654103215), (411, 0.04190912187247946), (2645, 0.04187779957045077), (3987, 0.041870837684780386), (3373, 0.041868602575600086), (296, 0.04186336394198137), (4587, 0.04184728706071679), (106, 0.04180727144940052), (4331, 0.0418051344179697), (1894, 0.041713213162023435), (241, 0.041707874333212075), (92, 0.04167094484101482), (660, 0.04166180670214611), (4011, 0.04164923188060042), (2087, 0.04161453493296811), (794, 0.04160508564737954), (1286, 0.041551887000058), (3427, 0.041524476494530234), (1923, 0.04139306517769436), (3191, 0.04138703791386512), (3986, 0.04138305800801083), (1027, 0.04137244321364138), (2912, 0.041290053531521896), (647, 0.04128449799733931), (1204, 0.04128404342792731), (1285, 0.041271159066817935), (437, 0.04126786732592434), (160, 0.041256181137099925), (472, 0.04124175639477964), (1439, 0.04124113196462756), (266, 0.041208571059622306), (791, 0.04118797585652194), (2410, 0.04118116537634463), (4563, 0.04117084213600698), (963, 0.04111187099739767), (904, 0.041059587022713305), (831, 0.0410520060788381), (542, 0.04102414955963559), (3539, 0.04099349146278927), (114, 0.040967527633544026), (428, 0.04092283780378375), (956, 0.040912503365112915), (237, 0.04086760581486203), (1461, 0.0408378532883929), (3352, 0.04083209912311183), (1070, 0.04081263112948303), (1029, 0.04078848805024462), (2114, 0.04078818153039793), (2561, 0.04077565567321843), (1395, 0.04077385766384495), (51, 0.04076556212347482), (1684, 0.040758717273803355), (610, 0.04074754957053959), (312, 0.04073186777595381), (192, 0.04071541520507972), (1800, 0.040655511733038725), (2490, 0.04063922774257998), (4715, 0.04062765289958273), (69, 0.04056694667941827), (3002, 0.040555335717331664), (2824, 0.04052482860510851), (3764, 0.04047835653020769), (1735, 0.04039704353329619), (1193, 0.04038849679328379), (1451, 0.04036456616343253), (2357, 0.04032982558942829), (1902, 0.040320191564161695), (195, 0.040257778156895664), (3043, 0.04024899515773647), (463, 0.04024880511085697), (658, 0.04014660208958077), (97, 0.04010198974922176), (2505, 0.0399774070105858), (687, 0.03997714116752593), (191, 0.03992203905365781), (4623, 0.039749061846791583), (331, 0.03973496320570358), (8, 0.03972562728680751), (740, 0.039700664175716674), (1095, 0.03963941742105949), (4173, 0.0396321857504457), (2013, 0.03953422203097974), (1707, 0.03940324329301134), (3434, 0.03936892031944123), (1850, 0.039350613191369205), (955, 0.03934887610106298), (4669, 0.039347085679698704), (129, 0.03932996682539416), (4716, 0.03932821055873185), (3878, 0.039306179760788706), (233, 0.03928844103752349), (3679, 0.03927975304491492), (2605, 0.039266666222228755), (1153, 0.0392650133350427), (164, 0.039194666820189836), (1642, 0.039193409979220786), (2899, 0.03915493807279659), (4699, 0.03914828161321013), (488, 0.039076609376371405), (3554, 0.039024593615020274), (2152, 0.03900648195621481), (257, 0.03900461741773526), (376, 0.039003834167849374), (4312, 0.039003516916444596), (486, 0.038960906548365426), (4480, 0.03894516702277773), (2305, 0.03891441871380755), (1012, 0.03885568559599506), (389, 0.038836234745429084), (15, 0.03880798105115206), (1306, 0.03873754544722327), (2336, 0.038724455250382935), (2292, 0.0387205521806003), (1055, 0.038714499237817605), (2237, 0.03870944079022666), (349, 0.03869792083627411), (832, 0.038687894306397), (4327, 0.03868463306722257), (2390, 0.03866575751531301), (673, 0.03859789579606109), (3750, 0.038542223479345245), (939, 0.038524264522684676), (4379, 0.03851853513516369), (80, 0.038466961629090024), (197, 0.03837758803992901), (4286, 0.03834826061757797), (310, 0.03833694520219012), (4769, 0.038304168779246736), (1643, 0.03829270273046803), (3537, 0.03828030040541894), (469, 0.03826988640463131), (2295, 0.03821135391676336), (2671, 0.038193804510527354), (2726, 0.03819259903031196), (4267, 0.03816503067068686), (529, 0.03816153527579631), (4049, 0.038146067062173904), (4369, 0.03813184807526034), (1864, 0.03810990078015979), (1350, 0.038103780951115926), (48, 0.03807309344722659), (2841, 0.03806125559956561), (441, 0.03803170862376133), (4246, 0.03800059336768948), (941, 0.03798657115987321), (1491, 0.03794071713550497), (4125, 0.03793827117044393), (1415, 0.03790331732480139), (2029, 0.03784828288818372), (4339, 0.03778398397006823), (4526, 0.03776639961285935), (532, 0.03775334297254262), (1270, 0.03772422917524154), (3229, 0.03771934226573282), (1409, 0.03769062063443089), (2408, 0.03767630729052488), (4143, 0.03765329852207148), (3777, 0.037600928273544706), (2084, 0.03752617937724577), (362, 0.03748761500082561), (4468, 0.03746664637662296), (4665, 0.037410709637943663), (243, 0.037396710448460366), (216, 0.037317215264016615), (995, 0.03727641630501692), (2819, 0.037268841857742), (624, 0.037234131842457295), (2397, 0.0372259309442894), (3690, 0.037197672610616406), (4758, 0.037191032914363986), (3956, 0.03716970200824672), (1662, 0.037122112328328086), (1023, 0.03709629032119578), (4646, 0.037039844993948814), (1608, 0.03702621422039726), (2121, 0.03700270548358963), (908, 0.037001935743078265), (781, 0.03699585125450493), (3368, 0.036988383569775664), (1470, 0.036986556602552616), (1036, 0.036936835203894854), (3127, 0.0369189596205418), (1331, 0.03685517279665221), (2541, 0.03680051957130279), (1375, 0.036794339430814185), (4027, 0.03673815595748811), (327, 0.0366843445195267), (583, 0.036667806751596185), (3414, 0.03665646380417325), (4097, 0.03665166039752713), (109, 0.036605084209668765), (844, 0.0365942719708239), (672, 0.03658248073000102), (1654, 0.03656471508599654), (361, 0.03645290674862017), (1289, 0.03641207695495972), (2785, 0.0363641552509746), (67, 0.03635763793274288), (32, 0.036351564766937516), (3704, 0.03626542574527507), (528, 0.03622690558963416), (1669, 0.03621685808101695), (4349, 0.03612339773189909), (4440, 0.036043633071927456), (1422, 0.0360402595424506), (3749, 0.03601115787385388), (2274, 0.03597463075617895), (2205, 0.035966064647322486), (2389, 0.03593296952878323), (3169, 0.035910881204514696), (2291, 0.03590504179967511), (4368, 0.03587539440034597), (1757, 0.035847263131271345), (2947, 0.03581922896505678), (3148, 0.03575590082896945), (1939, 0.035742167572545086), (746, 0.035727456620119676), (752, 0.035660929975351335), (3230, 0.03565293989462478), (4470, 0.03565262831530979), (2069, 0.03557204631647785), (1198, 0.035562242567617655), (340, 0.03555389883482937), (962, 0.03553194702966993), (3698, 0.035497841486571896), (3854, 0.035484924230236095), (226, 0.03543327671504486), (316, 0.03542828776956854), (2876, 0.035406570798710735), (1822, 0.03535953883329404), (2586, 0.03535922615559546), (1132, 0.03534933369681624), (350, 0.035339832523412634), (678, 0.035328017975567914), (3065, 0.03531243171584027), (901, 0.03526028505144588), (3018, 0.03523284328791014), (3417, 0.03522117181954636), (3204, 0.03518729676741886), (1344, 0.0351380236328762), (591, 0.03512095195422127), (2465, 0.03509382732458808), (2437, 0.035068443504179134), (3631, 0.03506261944573343), (1974, 0.03505578112612369), (1120, 0.03503572390431476), (1848, 0.03502541450484746), (3529, 0.03501755653774845), (3403, 0.034978152712894624), (4291, 0.034956411435677084), (2008, 0.034924115452924065), (859, 0.03485630414261479), (1667, 0.03483680553436773), (1052, 0.034826855694039066), (3287, 0.03482454826334567), (4003, 0.034824324349055566), (611, 0.034812731220856215), (767, 0.034788607045875525), (898, 0.03474799734592153), (3652, 0.034720463055652094), (1697, 0.03471918811386049), (2156, 0.03471185642709827), (198, 0.03471094793381693), (4155, 0.03465265451115109), (4756, 0.03464233786799953), (4700, 0.03462171565042589), (358, 0.03458561793410832), (448, 0.03457413067893966), (579, 0.03452639585717924), (1420, 0.034512793958727105), (1625, 0.034510691663247564), (4672, 0.03444647162173847), (64, 0.03444200711404886), (612, 0.03443164786559034), (1366, 0.0344122007286903), (2330, 0.03438310361437341), (3239, 0.03436258471110886), (254, 0.034310161890848345), (4222, 0.03424834720304246), (115, 0.03410918456818937), (387, 0.034065737248528766), (485, 0.03403810418776515), (1266, 0.03400277832280472), (2877, 0.03399788028710457), (1854, 0.03396891096188456), (3953, 0.03395188030854522), (2805, 0.03393249124802169), (372, 0.03390609264590609), (1206, 0.03387742598430448), (3981, 0.03385971164556224), (2648, 0.03382855330569547), (1200, 0.033812783898616305), (1352, 0.033796228052022266), (379, 0.03378871332065694), (4392, 0.03375281734125546), (3281, 0.033745186998211774), (3437, 0.033740599189272885), (4499, 0.033697217464998326), (2713, 0.033639696282893455), (1239, 0.033629020980392735), (2897, 0.033541356606583535), (4741, 0.0335303564680416), (2081, 0.033455797563874075), (2303, 0.03342046353537184), (3549, 0.033357759759166876), (3147, 0.03334098188162851), (1078, 0.03330929904052486), (1017, 0.03328411891221264), (4398, 0.033256970692086225), (899, 0.03324231042186531), (1695, 0.03321236119411986), (2752, 0.03321207299143642), (1111, 0.033188943478058355), (4302, 0.0330550603076777), (600, 0.0330018151827432), (3133, 0.0329563581146001), (743, 0.032918907989812875), (4539, 0.03289688362647776), (850, 0.03283401164867533), (494, 0.03282007809011197), (2076, 0.032759132486719494), (2214, 0.03274399829481385), (805, 0.03272337960772152), (4259, 0.0326616083563944), (681, 0.032607707772719485), (2583, 0.03257650822161241), (3087, 0.032528733684096006), (1084, 0.03251288281853315), (90, 0.03249812435707936), (1599, 0.03246381415692448), (2324, 0.03245072844447519), (2049, 0.032438485599201906), (172, 0.03243722831058432), (2831, 0.032368239053485036), (454, 0.03236799361356389), (374, 0.03234862266481514), (3024, 0.03227572609705509), (3647, 0.03226567591381721), (2706, 0.032252749247142304), (788, 0.03221811181382613), (537, 0.03217505652826232), (3424, 0.032163549490249535), (2792, 0.032154958286440494), (1603, 0.032153319287455656), (4032, 0.03211131008745895), (2636, 0.03206673712665059), (2862, 0.03206044834754397), (2845, 0.032040252379965654), (4132, 0.03195644237571216), (104, 0.0319068294238374), (1000, 0.03183068864939708), (4131, 0.031823917393008966), (324, 0.0318015917468837), (84, 0.03175483507264381), (1144, 0.03172255919587753), (190, 0.031708589696013874), (2384, 0.031669699923320305), (167, 0.03165375517780475), (3072, 0.03164657701966486), (1907, 0.03160081811650193), (1172, 0.03159726810993852), (4654, 0.031592700228396164), (3155, 0.03157420644263724), (565, 0.03147268600900532), (253, 0.03147201998701665), (4579, 0.031469684822055456), (363, 0.03145452246908621), (2235, 0.0314426233903869), (37, 0.031438265906034005), (4055, 0.03143384829496216), (1092, 0.031415094698218335), (3904, 0.03139203656224221), (3527, 0.03135542609455301), (4284, 0.03134560544069912), (1207, 0.03131072938652139), (2486, 0.03129877558705144), (564, 0.03126255240872019), (793, 0.031241441799369496), (1359, 0.031235556372960917), (3180, 0.031220508942389903), (2573, 0.031213382264957457), (1987, 0.031183891498447483), (188, 0.03116222173933493), (3505, 0.031159985365788446), (2865, 0.031158810021747446), (159, 0.031123761937237975), (2863, 0.03111566025173758), (442, 0.03111369944634787), (1097, 0.031093667614478723), (914, 0.031091909918882717), (1433, 0.031083953757647775), (3297, 0.031077648114851555), (62, 0.031070836187528754), (790, 0.031061673676952912), (205, 0.031039548215965072), (88, 0.030922847606933715), (2309, 0.030820569790677793), (3364, 0.03080483688715239), (1935, 0.030775537289504457), (1287, 0.03077437793828322), (75, 0.030756364725837756), (2669, 0.03074903862403327), (2609, 0.0307307283262577), (596, 0.030720556797463425), (3112, 0.030684936244420948), (754, 0.03066711545515088), (653, 0.030659742320026467), (450, 0.030650526336167418), (289, 0.030566891123652275), (1554, 0.030549437061890804), (3836, 0.030540151550764384), (3309, 0.030489044493855668), (1302, 0.030460879382135424), (809, 0.03045588525323366), (888, 0.030441464367419208), (1446, 0.030434843870959037), (3051, 0.030380196528952727), (777, 0.030364416710207745), (640, 0.03034582401685571), (235, 0.030340191024749844), (2653, 0.030283560712369373), (602, 0.030270339961813764), (2294, 0.03026413694125906), (3141, 0.03025053059536771), (341, 0.030245608606906838), (4351, 0.030232960253544137), (769, 0.030221133055894304), (739, 0.03020388514613258), (2878, 0.030049236259421866), (3634, 0.03004797684348728), (3966, 0.030047514283007438), (1893, 0.0300328035788593), (161, 0.03003047853525431), (2256, 0.03002475453892632), (2662, 0.02995865038199016), (479, 0.02994696849608302), (23, 0.029935833195598106), (4720, 0.029919620649080835), (1900, 0.0299124516231446), (1628, 0.029902661646286112), (489, 0.029802929255475265), (2675, 0.02978142900512131), (2751, 0.02977805639790606), (4275, 0.0297591686184051), (1082, 0.02975539742509493), (4301, 0.029743785218438953), (4679, 0.02971036924238932), (676, 0.029704237659451987), (1921, 0.029625972034088777), (332, 0.02956578138802756), (670, 0.029565415204489194), (540, 0.029548887116221518), (4245, 0.029504993803575307), (4597, 0.02944933368695175), (3626, 0.029397633609597792), (723, 0.029393349502100756), (154, 0.029315553618193158), (2556, 0.02928876982416148), (2427, 0.029265739540168426), (1786, 0.029263383548788303), (971, 0.029262099769801143), (2263, 0.029227626161221903), (2796, 0.029210103443878355), (1598, 0.02919674194942531), (143, 0.029173927134221553), (368, 0.029166847383867257), (1402, 0.02916459741357913), (1244, 0.029125691507936063), (3617, 0.029083890028527702), (1136, 0.029006308108084706), (383, 0.02900331105882725), (4069, 0.028996557725387707), (291, 0.028955337682153907), (4427, 0.028937241137087375), (1406, 0.028892261025962596), (584, 0.028853579477237594), (4004, 0.028835021794379648), (1668, 0.028830113050284364), (402, 0.028801346924587842), (1517, 0.028797955467108897), (2630, 0.028773088945824872), (3285, 0.028735144986689564), (2812, 0.02870802980961022), (2386, 0.02869157499537197), (2846, 0.028607408891255112), (2439, 0.028571786716424127), (2164, 0.02854797578359303), (3130, 0.0285068975210546), (3411, 0.028453142933400444), (698, 0.02844747711296316), (1587, 0.028444667361400257), (4678, 0.028424606739853257), (1332, 0.028413079021593676), (1291, 0.02839185744799292), (978, 0.028386904082783236), (1997, 0.02835700677410264), (1525, 0.028344510541985286), (4796, 0.028301080671077485), (3466, 0.028297379381178454), (852, 0.028297037334435872), (3656, 0.028277259947064624), (3310, 0.028237238937506064), (2001, 0.02820840003389092), (1199, 0.028197642509644058), (3821, 0.028196136948901565), (718, 0.028185123922623765), (2482, 0.0281591662690242), (4098, 0.02813206753400506), (1131, 0.02812099568775889), (4364, 0.028116159630385627), (750, 0.02804575540903754), (1747, 0.028038181787892087), (1181, 0.028031474811773958), (186, 0.028010223763318257), (1492, 0.027974025393026465), (4745, 0.027945219038938582), (1337, 0.027880441071350473), (4571, 0.02786628238678781), (668, 0.02781195167025107), (848, 0.027800869369731262), (1824, 0.02779547344227532), (3845, 0.027788739008762758), (293, 0.027757214021298462), (2652, 0.0277374643472356), (133, 0.027704956851162636), (377, 0.027687229983995497), (2743, 0.027682926782349515), (3556, 0.02759620854445655), (556, 0.02756836392486777), (1214, 0.02756158895343876), (3826, 0.027535448783999043), (2581, 0.02747796328558126), (535, 0.027433250579130975), (3776, 0.027405811187499213), (4383, 0.027395082832392358), (4244, 0.02739246072603801), (3004, 0.02734384335549953), (2923, 0.02731675397028132), (833, 0.02727066514328224), (4638, 0.027207392098199994), (1450, 0.027072144708871582), (424, 0.027052766655330646), (1993, 0.027051730694536487), (545, 0.027042128951402282), (3756, 0.027030188289188975), (4022, 0.027024168369617473), (1725, 0.02700128238873989), (571, 0.026978180220708754), (1820, 0.02695071605579213), (2521, 0.026943080195904537), (4093, 0.02693740558749652), (1073, 0.026918111835483656), (148, 0.026887515827132093), (3733, 0.026873646814352125), (1507, 0.026859841671940714), (3013, 0.02685356204801516), (100, 0.026838154738776782), (318, 0.026812210867538076), (4201, 0.0267730558093472), (1851, 0.026751938405226723), (3693, 0.02669069255046313), (375, 0.0266557885591008), (536, 0.02665214486693211), (425, 0.026644979792550698), (2266, 0.026639556162229724), (984, 0.026589886954706383), (4321, 0.026563898180976875), (4677, 0.02656311088564843), (4599, 0.026550591300449247), (4491, 0.026522906732304778), (1363, 0.026504987979003795), (299, 0.026495258558682296), (4078, 0.026473300659373377), (1124, 0.026459487282716604), (4639, 0.02645625875919596), (1103, 0.02645172766282412), (2568, 0.02644539983786652), (1731, 0.02641048040985821), (578, 0.026393291727095668), (1832, 0.026372430338737277), (2585, 0.026360572609654576), (245, 0.026358851062488982), (4726, 0.026342661908086616), (2953, 0.02629177603570598), (2241, 0.026245657909620128), (816, 0.026242581929745698), (2484, 0.02623805742479878), (2381, 0.026207824168533927), (1253, 0.02618945343857505), (2342, 0.026180699867377432), (4423, 0.026157496650651), (4542, 0.02614411445687586), (935, 0.026053293453526243), (2348, 0.026045799781289302), (347, 0.02602395673343187), (2537, 0.025957410292061965), (1754, 0.025956866759060844), (339, 0.025922215116528743), (213, 0.025908823306767487), (597, 0.02588207310494889), (3724, 0.02578806865135487), (3604, 0.02576605735977415), (4685, 0.025754542120574455), (265, 0.02573518409323606), (3751, 0.025720524709822508), (2122, 0.025718362080153212), (13, 0.02570308207162187), (3254, 0.025693695395725556), (3126, 0.025643516900428456), (2461, 0.025641448666114987), (841, 0.025626873055796216), (2115, 0.02560175285316254), (3630, 0.025535089664953027), (2023, 0.025527498776895013), (2268, 0.02551872843782565), (2457, 0.025499781627564548), (873, 0.02549179144891323), (874, 0.02548789674665016), (3511, 0.02543756203264757), (525, 0.02541793288118176), (4708, 0.025412200665091395), (2470, 0.0254001102964589), (1125, 0.02539975333776127), (1273, 0.025397232567545384), (3874, 0.025373462495899522), (2366, 0.02536497684311418), (117, 0.025350315529009355), (2250, 0.025329132332657878), (1804, 0.025318297906666086), (981, 0.025283774870749603), (11, 0.025251606325208915), (2763, 0.025234692575271313), (518, 0.025156507790050256), (1682, 0.025153825327839385), (2944, 0.025136883171390213), (3335, 0.025134483487784756), (470, 0.02513142794974709), (1655, 0.025125776619326363), (240, 0.025042904507707874), (666, 0.025020340216892097), (3543, 0.024989482288680635), (2584, 0.024983919929924884), (1670, 0.024951973170566667), (1859, 0.02492706472470283), (333, 0.024925000716944624), (2170, 0.024880307068538728), (4061, 0.024854367305259785), (2921, 0.024837156410993672), (2736, 0.02478966718451214), (4664, 0.024757205792517466), (132, 0.02475675698977233), (2349, 0.024706227683275836), (864, 0.024706064970866838), (73, 0.024696612264755967), (338, 0.024632622392614257), (3318, 0.024612423151799512), (1973, 0.024591018179051925), (1860, 0.024589891820992676), (210, 0.02455074372812779), (462, 0.024539973913555245), (2057, 0.024520257823003377), (1675, 0.024470366802796805), (3936, 0.024460566268651954), (3532, 0.024441567756108278), (4565, 0.02443451386129508), (1808, 0.024431649637694997), (3485, 0.024431106418117694), (1469, 0.024425495841664157), (2175, 0.024422695483659038), (1288, 0.024400250462529645), (1035, 0.02437599182532741), (1821, 0.024365871871677984), (1256, 0.024365454447453028), (933, 0.024361819890397297), (2644, 0.024354562333623184), (3113, 0.02434587047108016), (502, 0.024293540046354284), (1076, 0.024280315327003945), (2313, 0.02427807678041284), (3450, 0.02427128918203749), (1360, 0.02427095160788753), (2930, 0.024263262381890055), (2973, 0.024194913718123184), (4182, 0.024149513063037316), (4432, 0.0241281775983479), (2784, 0.024100576228442947), (2957, 0.02403123545979241), (2006, 0.0239820852492078), (2572, 0.023971558900494593), (2178, 0.02392883496634951), (1089, 0.023851296929553636), (1950, 0.023846980428036717), (3522, 0.02383892737226869), (4353, 0.023799266753025836), (4085, 0.023784541304810468), (3571, 0.02378022138991158), (3810, 0.023742910196425136), (4584, 0.02373670849846092), (917, 0.023727906354447048), (4378, 0.02371924226103174), (523, 0.023717814312450094), (4315, 0.0237154897328537), (3908, 0.02371511490393582), (3695, 0.023714081151003284), (3761, 0.02369799579350833), (3860, 0.023697428593257998), (3841, 0.023680861268321488), (3328, 0.023650602163641274), (211, 0.023649103903939456), (2142, 0.023624138637038293), (3056, 0.023592060823517516), (2429, 0.02359205173328791), (219, 0.02357670238542084), (1645, 0.023569121737279184), (1590, 0.023518778445536924), (475, 0.023477772040447983), (4635, 0.023471604781706054), (560, 0.02343621118831868), (1721, 0.023390510271556836), (533, 0.023335760899755472), (3402, 0.023329975855920983), (706, 0.02332578105033494), (380, 0.02331128684794491), (3650, 0.023282786336920755), (4498, 0.02325504545549551), (3393, 0.02325122062298777), (516, 0.023248389959344275), (1449, 0.023229641293320967), (2209, 0.023209273672772472), (1849, 0.023138175775414944), (1471, 0.02313769371476894), (3336, 0.02311946525939957), (259, 0.023032260779328295), (1694, 0.023029040072212965), (1278, 0.023019553368497467), (307, 0.022991457888025035), (2438, 0.022967155378235994), (2598, 0.022963311923596658), (3781, 0.022950871167011715), (3035, 0.022945949280825648), (4048, 0.022941967011794386), (2683, 0.022922478306453456), (1958, 0.022875080056193917), (4124, 0.022828544930419577), (258, 0.022801649645762), (3315, 0.02279932069301528), (4355, 0.022797919108731635), (2259, 0.022784187154091463), (1734, 0.022713626458491933), (2352, 0.02269647218265631), (2186, 0.022674916239129452), (179, 0.022666129441984165), (1018, 0.022652080878765413), (1183, 0.022603286144642895), (2685, 0.0225825870097992), (2659, 0.022564346706260546), (459, 0.022534509580308382), (937, 0.022500607201472365), (1929, 0.02246571605414313), (2244, 0.022465526162869037), (1263, 0.02246204237442307), (2827, 0.022452629624654146), (3306, 0.02240167400809992), (360, 0.022351857153757634), (1966, 0.02234143497185494), (980, 0.02231829209973949), (2, 0.02226614741545797), (86, 0.02226055005134648), (2515, 0.022257605087360258), (3420, 0.022247500562296307), (4489, 0.022238270470868213), (326, 0.022228110106648304), (1432, 0.022224874197439237), (3199, 0.022208456788786177), (57, 0.02219157454303704), (1549, 0.02214900065039134), (3390, 0.022144705971461287), (722, 0.022060338423907852), (734, 0.02204857275138551), (4583, 0.022047118221287992), (1300, 0.022023988656339435), (124, 0.022019606352323737), (4395, 0.02201642859380181), (953, 0.021998149983999033), (1091, 0.02198863989715527), (3940, 0.021982856238691152), (554, 0.021980177495142233), (827, 0.021976896199468424), (1777, 0.021947272872395243), (967, 0.021925535218589975), (4104, 0.021886938717802455), (2712, 0.02188317513187217), (396, 0.02187598656799247), (2766, 0.021860519637653144), (3994, 0.021841658583714514), (3031, 0.021832508036293642), (3501, 0.021794019638310493), (29, 0.021793139353712538), (2249, 0.021771945712008016), (690, 0.021768162033620864), (2681, 0.02175483571904798), (4585, 0.021751964765381517), (1565, 0.02173919237625829), (4266, 0.02172571561195381), (364, 0.021720652834336808), (3001, 0.021711682161306735), (4238, 0.02167443477820328), (3830, 0.0216479002416388), (4695, 0.021646482794686943), (563, 0.0216437082877992), (268, 0.021610631757445098), (3782, 0.021595222835690042), (4161, 0.02156658183093251), (2245, 0.021500629220153743), (55, 0.021486799185721443), (555, 0.021485994056257812), (894, 0.021432131800815), (1740, 0.02141000768847076), (1610, 0.0214091242827854), (451, 0.021409006725072864), (1148, 0.02139539662768073), (1264, 0.02138406406293891), (645, 0.02137894583448642), (2184, 0.021366948743264294), (758, 0.021350234031511928), (3611, 0.02128142581298524), (4240, 0.021238439024418545), (1953, 0.02116858610395183), (803, 0.021168434746423666), (3996, 0.02111415909242612), (3934, 0.021113340645045366), (2402, 0.021074033879661898), (2296, 0.021071334226997154), (999, 0.02105421480755954), (1361, 0.021046684400293246), (3224, 0.02103849984990345), (1581, 0.021005304066468174), (2307, 0.02100518579423232), (1040, 0.020987126674503448), (2603, 0.020944008254564234), (1515, 0.02092446124044719), (524, 0.020918670020264124), (139, 0.020838132508426813), (1579, 0.02082633988922893), (2651, 0.020761128042449707), (3237, 0.020747278875884848), (3684, 0.020738371368302443), (3225, 0.020733472352203963), (1143, 0.020718570583839212), (1176, 0.020716387378674622), (478, 0.02070058330038116), (2746, 0.020686414165087257), (417, 0.020651524572102516), (4620, 0.020630689049903353), (1892, 0.020577280899932583), (2545, 0.02057266852211979), (4129, 0.020563490103829615), (1488, 0.020505263152844677), (3726, 0.02049382382771167), (691, 0.020441189748591212), (4135, 0.0204359255732846), (3700, 0.020384484540028103), (3659, 0.020380512477131633), (2538, 0.020374663398587047), (3240, 0.020353958528295857), (2300, 0.02034909881829703), (3608, 0.020335213629348127), (1324, 0.020316730547381576), (808, 0.020309619320122804), (1805, 0.020306714028671638), (405, 0.02029452554142222), (2308, 0.020291556801959328), (1967, 0.020271863167013227), (2996, 0.02025743345018443), (352, 0.02024489813798474), (3857, 0.020237993556786495), (356, 0.020204360916857775), (4040, 0.020190634335467205), (3628, 0.02016929528414563), (3799, 0.02016858098898941), (1615, 0.020164398895863783), (4535, 0.020163243045060404), (3086, 0.02015064110710043), (4057, 0.02014245937991468), (2933, 0.02010582579464596), (484, 0.02010361203071555), (4081, 0.020081879194533483), (274, 0.020068316199764985), (3508, 0.020041776408004138), (3107, 0.02004137198090601), (1972, 0.020025732185973744), (2747, 0.02001397780756548), (2207, 0.020009635636501318), (1447, 0.019968578186751306), (1607, 0.01995115457730675), (2416, 0.019931084773166092), (2428, 0.01992853820797398), (1891, 0.019916747736032137), (4441, 0.019913359716149527), (2033, 0.019897370344569676), (2212, 0.019881186879126274), (3715, 0.019876067340350342), (1280, 0.019875356577616667), (3590, 0.019872776206386555), (3442, 0.01986756101779317), (594, 0.01985207449385301), (2116, 0.019844828114492036), (4277, 0.01983421812692297), (4215, 0.01982064894601465), (1038, 0.01980692694270554), (2476, 0.019806769037908966), (3152, 0.01979828883310332), (1524, 0.01979258153809159), (950, 0.019774227068791988), (1813, 0.01976035693262239), (1982, 0.01975463820645182), (435, 0.019741654510902158), (842, 0.019735917951010543), (990, 0.019678487263458926), (3737, 0.019662290926158434), (810, 0.019654759672593253), (4233, 0.01965145172275096), (2601, 0.019637489100622237), (604, 0.01958058052639601), (2222, 0.019578103194499267), (834, 0.019530716433913388), (3010, 0.019526093237175336), (742, 0.019525656945974305), (1005, 0.019505148175161496), (1836, 0.019493029758863314), (297, 0.019486097301457075), (348, 0.019481111900587378), (1349, 0.01947804894553814), (3082, 0.0194557666817606), (3584, 0.019435479348992132), (710, 0.019430801950056222), (1062, 0.01940700308133223), (2678, 0.01937978497288083), (2140, 0.019346638457202716), (1063, 0.01933567340357975), (2623, 0.01932666153436178), (1497, 0.019325235419199564), (3907, 0.0193084360176493), (694, 0.019300523369915803), (776, 0.019285818953291418), (840, 0.019273849646783005), (4269, 0.01924381829438799), (157, 0.019210517125953692), (2759, 0.019198670726203713), (2909, 0.019197948530012124), (1718, 0.0191530697205908), (4390, 0.01912657678720399), (2728, 0.01910157025750142), (820, 0.019053408360798774), (2560, 0.019052132464337904), (457, 0.019019691932440595), (1626, 0.01901025247983725), (2788, 0.01900277160020872), (1365, 0.018981523427709722), (1249, 0.018963720223905738), (664, 0.018957895964335697), (3073, 0.018940252349345096), (2882, 0.018930462938819375), (1945, 0.018930126318445904), (1368, 0.018922326623899095), (2886, 0.018913255408007153), (151, 0.018906513492427827), (2787, 0.018891585009733546), (1118, 0.018880537614174908), (4295, 0.018876997400725078), (792, 0.018833562848557424), (277, 0.018832034196391456), (881, 0.018820364361986093), (1790, 0.018799480950338184), (1509, 0.018795525826452792), (2202, 0.018791840515644212), (1580, 0.018769457758163813), (3446, 0.01876142884537629), (576, 0.018707203541887762), (513, 0.01870593251180578), (1858, 0.018679302175812207), (2159, 0.018673784217928497), (1145, 0.018651607420169282), (4309, 0.018638393664870204), (1542, 0.018631174203486194), (636, 0.018625371026087596), (89, 0.018588790417351377), (2525, 0.018579335592082864), (964, 0.018577080378008363), (285, 0.018575275182523866), (3791, 0.01856332226953239), (491, 0.0185214509547463), (3370, 0.018499274520833726), (2911, 0.01849713628513272), (1452, 0.018496340661891163), (1317, 0.01848659469026588), (3491, 0.018473133615665237), (1250, 0.018379271423993447), (866, 0.01834689658798196), (2185, 0.018330012201183986), (807, 0.018328953674604534), (2407, 0.018318300206360046), (1874, 0.018312757411556194), (1031, 0.018302280546490222), (646, 0.018294893172585296), (1203, 0.0182922468399614), (2628, 0.01829074813290826), (1708, 0.018276193991404312), (2703, 0.01827385988589618), (3793, 0.018252475259540945), (3728, 0.018241113510594518), (4106, 0.018207037840594666), (3881, 0.01820390272622601), (3252, 0.018156634841244114), (304, 0.018113931110257633), (762, 0.018102969285547707), (989, 0.018099018477087565), (3, 0.018085063202458097), (3448, 0.0180564335988475), (2724, 0.018055277548815533), (176, 0.018053880203755042), (570, 0.018045961328550998), (2221, 0.018044277835481383), (2089, 0.01803133966686376), (1100, 0.018012237009999054), (3964, 0.017990658871189176), (359, 0.017955301536700205), (152, 0.01793269360309242), (252, 0.0179317836281015), (4316, 0.017922045220985554), (3671, 0.017909637594294262), (3888, 0.01786493130178048), (4105, 0.017857625458902654), (3919, 0.017849598245798792), (2717, 0.017838644777361436), (1842, 0.017816828555618634), (862, 0.017807209268668484), (367, 0.017806406459920092), (2867, 0.017802170783208223), (134, 0.017776861775804405), (2400, 0.0177370210517764), (1719, 0.01772819941070376), (3972, 0.017712579826022597), (1483, 0.01769100611096403), (2931, 0.01768948859061399), (622, 0.017687482739059235), (3413, 0.017657145989737603), (4209, 0.017653771779179497), (2166, 0.0176386913965545), (1992, 0.01763054457179413), (1048, 0.017630106754564917), (2363, 0.017622847143983017), (736, 0.017599262736356043), (759, 0.017584226987337158), (4483, 0.017581366037424676), (1003, 0.017576860213518897), (3778, 0.017576818170275142), (2092, 0.017509231106023003), (4070, 0.017501022861531025), (2985, 0.01746742360416629), (2358, 0.017465267732185367), (1527, 0.01746489847246141), (2099, 0.017448075354888768), (3591, 0.017438569373807118), (1246, 0.0174126029151554), (3928, 0.017403942021962677), (4371, 0.01736983654604043), (2649, 0.017365571422659952), (3666, 0.017340788194715347), (4568, 0.01732002638379072), (2371, 0.017317010724056663), (1606, 0.01730782456968479), (3162, 0.017244441681003995), (1508, 0.01724094297247227), (2936, 0.01722354997653618), (2228, 0.01722311184906641), (2394, 0.017216636157109194), (708, 0.01720803333513521), (2161, 0.0171992283440692), (753, 0.01719508444088238), (2131, 0.01717742944373397), (1269, 0.017156065354382848), (2399, 0.017153652853081458), (4207, 0.017153029202035045), (1178, 0.01714516094093756), (283, 0.017141667621339174), (2007, 0.017134098036595914), (1701, 0.01712470842873294), (3211, 0.017111451154177237), (390, 0.017108962118410828), (162, 0.017086403365976104), (153, 0.01707054393964034), (313, 0.01706763996446119), (2080, 0.017063058677016588), (1825, 0.017052530929814874), (631, 0.017050671129965275), (1328, 0.017029465522701785), (4689, 0.017026437910998983), (3111, 0.017024947171713628), (648, 0.01701908629321855), (4501, 0.017008463776366726), (2108, 0.016997908244290698), (423, 0.01699494192711884), (4216, 0.016990334646209027), (1113, 0.01698398352065795), (4557, 0.016979480375548972), (4326, 0.016965701243388913), (431, 0.016921509869786553), (1816, 0.016899647820721682), (1423, 0.0168986597060419), (3353, 0.016873872774102412), (2540, 0.0168685633718288), (695, 0.01686618316455333), (2507, 0.016823616534029952), (3603, 0.016812238698965545), (3714, 0.016785261106968166), (4283, 0.0167761466199203), (2809, 0.016775112115265837), (711, 0.0167595426006479), (3528, 0.016737234125899017), (3509, 0.016706494624693934), (779, 0.016703901638606883), (546, 0.01664822294226906), (903, 0.016636332766778585), (2530, 0.016634708111976964), (3844, 0.016623073925286738), (685, 0.016616653661719286), (1519, 0.016610409311574523), (3500, 0.01660786662166204), (3692, 0.016604098991746682), (99, 0.016597868297563382), (4658, 0.016557809503875944), (2872, 0.016504566753888013), (2969, 0.016491986317748984), (1347, 0.01648785104943873), (118, 0.016474421254855764), (3720, 0.01645758918600847), (2753, 0.016440262944208604), (1058, 0.016421656339642276), (1594, 0.01642082009957256), (574, 0.01641002561161111), (4013, 0.016395097843475585), (1563, 0.01638439203672166), (946, 0.016329574071775516), (66, 0.016306083856330422), (3680, 0.016303748781060307), (3706, 0.016297578225030983), (3991, 0.016253983544089287), (2017, 0.016250503837101925), (3884, 0.016238717236848006), (1562, 0.01622176326103904), (1099, 0.016185218955425247), (2165, 0.016179293454261334), (1301, 0.016179053358354248), (2310, 0.0161527327430592), (3143, 0.016131678915336827), (1781, 0.016123913100332208), (2508, 0.01611996263185924), (1064, 0.01607572943064672), (1267, 0.01606883757564106), (3818, 0.016056252969669782), (741, 0.016041815820611975), (2940, 0.01600116612916644), (3280, 0.016000531128393114), (716, 0.01599747745742665), (3359, 0.015972074362527313), (1284, 0.015962933898311688), (416, 0.015961962136018696), (2790, 0.015924635335326197), (4348, 0.01591372033706008), (1080, 0.01590829001325788), (1930, 0.015902823049738224), (2019, 0.01589384712300608), (1570, 0.015866737250719496), (4496, 0.015865464887262988), (3489, 0.01584750039439831), (683, 0.01584748462701127), (856, 0.01583409734770906), (2040, 0.01583222664811475), (1240, 0.015825678067263795), (2968, 0.01578309488796692), (3849, 0.01576285150074149), (2206, 0.015745389377174925), (1221, 0.015731837968686123), (3741, 0.015731608075992286), (761, 0.01569804791710583), (3565, 0.01569042405533351), (638, 0.01567384420507281), (2565, 0.01567123487857895), (3076, 0.015662338373015734), (2035, 0.01565512111661422), (665, 0.01565193974112778), (930, 0.015602347023734647), (58, 0.015598351325229824), (4730, 0.015587315578767854), (2038, 0.015582097996282171), (2602, 0.015566154475408468), (4386, 0.01556086285993928), (1024, 0.015555348396620627), (1838, 0.015542172466765128), (3186, 0.015538656742374967), (391, 0.015537247380329753), (2003, 0.015522770845812335), (2189, 0.015510785907519756), (1765, 0.015478568106492282), (1514, 0.015474370035997394), (830, 0.015469630574384493), (4675, 0.015450725528653456), (407, 0.015443263208350275), (1138, 0.015440313487511556), (443, 0.015439730749152605), (3558, 0.015399792143045281), (250, 0.015392711927559671), (2469, 0.01537241229932325), (1020, 0.01536919524817538), (1364, 0.015345722494553935), (4028, 0.01534471096368257), (2203, 0.015306821961777479), (1077, 0.015303072477755301), (2611, 0.015262898377508827), (2333, 0.015262850755941648), (3837, 0.015248511465510305), (1970, 0.015236605535992485), (1657, 0.015225378167572154), (2401, 0.015222230647550145), (2823, 0.01518542269919674), (1817, 0.01512001584223053), (3861, 0.015101048414096287), (2772, 0.01509685700127316), (1732, 0.015089118862570137), (3276, 0.015086739171624557), (2042, 0.01507509473167214), (4408, 0.015070622029997757), (1397, 0.015067296427069535), (4461, 0.015048359577028006), (4648, 0.01504581764157149), (707, 0.015038315456515627), (1733, 0.015005066274893316), (3925, 0.014993038929329575), (4037, 0.014989702832971175), (433, 0.014974604571647978), (958, 0.014947912339485846), (4610, 0.014912697861880247), (4626, 0.014911005868598504), (561, 0.014910970279985069), (3683, 0.01489150890317443), (1169, 0.014883990580579513), (2646, 0.014882759665584012), (4111, 0.014806519813121546), (4546, 0.014803189191970104), (3965, 0.01479115740064991), (1190, 0.014785254581618994), (4191, 0.014777303067902078), (951, 0.014775764144947339), (1418, 0.014774378011665397), (1983, 0.01477305654677366), (4072, 0.01476505960342105), (3598, 0.014764156398689233), (3762, 0.01475654895164908), (2425, 0.014755227771329954), (1233, 0.014747316230609236), (2231, 0.014742652532998082), (1810, 0.014742532399133519), (1630, 0.01473652564058582), (4740, 0.014721696248828086), (2989, 0.014721050271132161), (2496, 0.014718597993879586), (3389, 0.014713350772634786), (4262, 0.014674718563670844), (54, 0.014653814137784707), (774, 0.014653086516739243), (21, 0.014647941436467518), (1844, 0.014623020059788114), (1969, 0.014609588185769778), (1494, 0.0145611560222109), (3599, 0.014550182509801175), (4666, 0.014534801509456137), (961, 0.014529085395917768), (1869, 0.014524247999900389), (2314, 0.01449540156899025), (3740, 0.014486660599100244), (3377, 0.014477531884514018), (2277, 0.014474771926157896), (325, 0.01447202065975736), (1978, 0.014464349279262595), (730, 0.014454734743940125), (1457, 0.014403982376355089), (4513, 0.014402570980837656), (3154, 0.01440222948084305), (2974, 0.014399943446304273), (2510, 0.01437643893641256), (4735, 0.014368406397243964), (4545, 0.014367706858369477), (288, 0.014362409730367554), (3220, 0.014353054429350446), (1227, 0.014337993491357356), (4701, 0.014330795424314802), (471, 0.014319565705177652), (3477, 0.014317749103263909), (2466, 0.014316296870641808), (1502, 0.014299924533109026), (1846, 0.01429034653735448), (2261, 0.014258763494590406), (2128, 0.014258476657025926), (4785, 0.014256761765474997), (4228, 0.01425590537687266), (1847, 0.014245887835195314), (4782, 0.014245187091530342), (3832, 0.014208120033157606), (298, 0.014181397703010294), (1962, 0.014175755492779682), (1561, 0.014170663354348304), (839, 0.014136433857148427), (4564, 0.014133881480756333), (3876, 0.014121660856712214), (3496, 0.01409936193004869), (1861, 0.014068837952939815), (3274, 0.014040539977514218), (4115, 0.014037739741064835), (4263, 0.014007468631593786), (1370, 0.014007383791075216), (49, 0.013970334850877205), (3298, 0.013967386610052425), (3886, 0.013963179395963006), (2181, 0.01395044656122595), (4402, 0.013937722009250033), (2972, 0.01393326076355859), (2915, 0.013920171561151674), (3490, 0.013912700808335718), (4189, 0.013911576959740175), (4500, 0.013907110850716735), (1403, 0.013898951367325442), (671, 0.013897565518200518), (3623, 0.013887689365126167), (821, 0.013870617171258245), (1254, 0.013858446570854291), (804, 0.01385350348617349), (1807, 0.01384969813419), (871, 0.013848262388977763), (1946, 0.013835980980076983), (3046, 0.013828821981155157), (3129, 0.013799509459945632), (4172, 0.013788828416014344), (4772, 0.013770707935314576), (4099, 0.01376636599833926), (261, 0.013752651865990664), (3763, 0.013744225945591784), (4258, 0.013741358068709835), (2730, 0.013731903141754487), (3725, 0.013726722261382659), (2849, 0.013721859099612129), (2803, 0.013715015290689258), (2275, 0.013708547261260574), (2074, 0.013697924336609841), (763, 0.01369561995744503), (1388, 0.013694763749286638), (314, 0.013671119590356398), (1665, 0.01366604537263294), (1357, 0.013654817563762021), (180, 0.013646478266324747), (3367, 0.013633876677745276), (4145, 0.013633509949375719), (824, 0.013632033385428195), (2773, 0.013631085321021679), (1773, 0.01360369424704835), (1964, 0.013596434936905887), (4256, 0.013592643264377986), (2037, 0.013571548720876438), (3943, 0.013549162107157984), (3567, 0.013542749918021488), (2552, 0.01353105182925069), (1237, 0.013523996907473388), (2326, 0.013523205157954897), (2284, 0.013510135713141268), (386, 0.01348560433613384), (119, 0.013483756934983718), (553, 0.013469865518692937), (1209, 0.013467516208476617), (2794, 0.013457838503016784), (453, 0.01345546531196257), (1382, 0.013444235245229917), (3569, 0.01343926257144024), (4534, 0.013434926976677497), (3912, 0.013357098926071821), (3376, 0.013351289691885496), (2780, 0.013350672676020064), (65, 0.013336573308551161), (1693, 0.013319843783435073), (590, 0.013298078964500509), (3392, 0.013294353414275215), (204, 0.013292232196070276), (2959, 0.013284202349264336), (3290, 0.013284076051165147), (659, 0.013279577076098345), (504, 0.01325990150393597), (3468, 0.01325952673810247), (1597, 0.013257494461088948), (3734, 0.013253951337778416), (1699, 0.013246947839507795), (3864, 0.013246295935461465), (4289, 0.013242013033721118), (2293, 0.013241076682710582), (3260, 0.013221218708192432), (1596, 0.013209033646947147), (1910, 0.013201784132067657), (1257, 0.013201019411342461), (1212, 0.01319632568220989), (3518, 0.013186995876016957), (209, 0.013154174685771191), (633, 0.013141704931935927), (3582, 0.013089888854302505), (4733, 0.013082819401018358), (4237, 0.013081183142369886), (1578, 0.013069442508334946), (2776, 0.013055922770998867), (3215, 0.013039802377824173), (2364, 0.013035736522996529), (3548, 0.013013753265756867), (3755, 0.012999471174814297), (2050, 0.012974685113978243), (4045, 0.012973103245573535), (1559, 0.012963631736455004), (4127, 0.012962574359301097), (4676, 0.01296132573301858), (1485, 0.012951864772071223), (2315, 0.0129224758053234), (828, 0.012920678280815633), (3848, 0.012918912348802627), (2321, 0.012912903599079753), (2064, 0.012909090320858572), (2197, 0.012896044720240035), (2068, 0.012888343605789825), (4727, 0.012857749410994384), (40, 0.01284986807113249), (3232, 0.012841668630961294), (2086, 0.012820574228719241), (398, 0.012819678494106538), (3293, 0.012803393618365244), (2529, 0.0127868032735696), (1868, 0.01278670891474272), (721, 0.012783517412430655), (1194, 0.012777048661452151), (1635, 0.012769548989350222), (4281, 0.012767667856258444), (3882, 0.01275400785709455), (1304, 0.012750973330695428), (702, 0.012749053934024618), (3284, 0.012747988540364274), (4554, 0.01273239296729333), (1248, 0.012730396281582575), (2270, 0.012703936154832535), (3523, 0.012693886062250073), (1486, 0.012656509580033958), (3495, 0.012638756107787853), (3103, 0.012633550166676062), (1896, 0.01262934675151077), (2054, 0.012629178717680498), (1392, 0.01262390481365238), (3040, 0.012620338966455535), (982, 0.012615514804263275), (1937, 0.012613115365781687), (2961, 0.012608596318851688), (2697, 0.012604166371363372), (1098, 0.012587490772235609), (2060, 0.012577895236071668), (3074, 0.012571804246727335), (4799, 0.012566198852994794), (1431, 0.012547226311745232), (142, 0.012539343335294297), (4694, 0.012531196044013754), (3883, 0.012509256612419169), (4479, 0.012482479936005932), (3612, 0.01247844448015797), (613, 0.012470864227098106), (3337, 0.012470695148143727), (934, 0.012453171134042632), (2459, 0.012449854046205688), (140, 0.01244589518414746), (2061, 0.012442567118693931), (4183, 0.012431202800956312), (534, 0.012429667447784645), (2238, 0.012419114414749825), (4704, 0.012410134661364699), (1856, 0.012408664842174963), (4163, 0.012407321483110596), (3707, 0.01239180352902423), (2417, 0.012387923494890048), (620, 0.012387627574037583), (2534, 0.012383375755614096), (1696, 0.012382201340697306), (1779, 0.012379930734264894), (1602, 0.012379411872383493), (135, 0.012373993858169108), (382, 0.012367907536604758), (4162, 0.012366493933172613), (3597, 0.012363663388397686), (3349, 0.012348613720315454), (295, 0.01233265034671495), (3765, 0.012326438617559575), (988, 0.01230591225169434), (3945, 0.012285752287231392), (446, 0.012279840017141235), (3806, 0.012279068523886596), (2523, 0.0122696126293878), (2491, 0.012263206263654984), (2242, 0.012237696060575575), (1313, 0.012230330390559058), (3030, 0.012201868332112474), (4250, 0.012200259367756695), (2971, 0.012193331162288455), (221, 0.012185224983715298), (1739, 0.012181289428482893), (948, 0.01217336737315158), (1985, 0.012166531027599441), (3382, 0.012133083478579288), (4017, 0.012129393325654537), (1336, 0.012113843413217635), (6, 0.012099419030122223), (4776, 0.012092993441865487), (1584, 0.01208331164543247), (1512, 0.012081306559507662), (3840, 0.012064562434096492), (1653, 0.01206414744191583), (748, 0.012057734615695358), (4243, 0.012048808620585823), (1163, 0.012048629656331546), (1753, 0.012023355911388953), (1942, 0.012015736132627795), (883, 0.012000668206616813), (1727, 0.011996378181514614), (3265, 0.011987012012533674), (418, 0.011985823849921362), (2641, 0.01198250008668521), (3021, 0.011979589989477337), (2983, 0.011965588537534105), (1137, 0.011955734451702744), (3564, 0.011940953489782052), (802, 0.011928046610174877), (766, 0.011927993149552112), (3138, 0.011924357051033266), (2404, 0.011916417995971255), (1889, 0.011900921738909005), (2797, 0.011893320877638421), (3153, 0.011888675842883315), (2055, 0.011882446398883582), (4721, 0.01187790172831521), (1503, 0.011859832063622774), (906, 0.011853687062020437), (1927, 0.011852696860495397), (2105, 0.011849029597600537), (2464, 0.011832073189859066), (3299, 0.011815873238646978), (2167, 0.011806356216448108), (4393, 0.01178520923567794), (2910, 0.011761122428821177), (3517, 0.0117477577405873), (1426, 0.011743869575330985), (2383, 0.011727854693041818), (2637, 0.011727700079827307), (3600, 0.01172632895086265), (3238, 0.011716480597803716), (3754, 0.011699625630760189), (2927, 0.011696342550080265), (3812, 0.011679007411808278), (1933, 0.01167227058986109), (2196, 0.011668306590283145), (4261, 0.011664467210731166), (2800, 0.01166416334162291), (2436, 0.01166279549221082), (1621, 0.011650404544704503), (4594, 0.011641856768314043), (910, 0.011641708623536024), (514, 0.011607440593282049), (2220, 0.011607372133137518), (1456, 0.011604001831056896), (414, 0.011589834632213846), (4197, 0.011589430229337606), (3492, 0.011570498298920078), (3469, 0.011555041540924555), (3758, 0.011547105247319037), (3144, 0.011543913388986825), (1004, 0.011541064359252885), (4460, 0.011537313191609838), (2627, 0.011536413457166762), (2795, 0.011515864547585858), (4014, 0.011508410154859861), (308, 0.011507788921238405), (4366, 0.011486994239474836), (2318, 0.011460732741917319), (2298, 0.011458783073801663), (498, 0.01145029254512124), (1741, 0.011448667945693498), (621, 0.011445373818621122), (3471, 0.011439656219964164), (1157, 0.011436904730336546), (2473, 0.011434466479519258), (144, 0.011429605688919856), (2188, 0.011428476528253028), (2162, 0.011412732472566838), (4656, 0.011393056395587587), (3673, 0.011389791529121365), (3200, 0.011380463548341694), (1994, 0.011376584510047081), (1072, 0.011367842850655481), (2857, 0.011338609449123443), (2756, 0.011326571194990014), (2028, 0.011322523161441972), (3326, 0.011311999027825096), (704, 0.011310507005357986), (2334, 0.011307882520824496), (1771, 0.011299038315944174), (1528, 0.011298129945369396), (4113, 0.01129589466190454), (2195, 0.011294406168838641), (1622, 0.01129208791980869), (2844, 0.011287173463373969), (3486, 0.011265518277616583), (1182, 0.011264877842936552), (4506, 0.011246380041017098), (2742, 0.011225948956169986), (2373, 0.011206581601581847), (1220, 0.011200803339156512), (3221, 0.01119310225342476), (1609, 0.01118679842494508), (4120, 0.011179580016747211), (783, 0.011158902138375474), (959, 0.01114183342134842), (3875, 0.011140721323698118), (3660, 0.011134681030013983), (137, 0.011133078280345179), (4211, 0.011131907396672793), (4157, 0.011125058483662537), (1897, 0.011114429520259664), (3159, 0.011108694189238485), (218, 0.011107916552586809), (202, 0.01109945028204305), (530, 0.011089272133922912), (4174, 0.011084245858349565), (4749, 0.011073262549390608), (2276, 0.011062741101258211), (1174, 0.01105923483848348), (2625, 0.011040407569372936), (1780, 0.01101030954518785), (1996, 0.010997535681326099), (1104, 0.010976925273038075), (2993, 0.010963360597674889), (4647, 0.010957301750222715), (2340, 0.010952633046549712), (551, 0.010952282410222457), (3313, 0.01094815122187397), (2435, 0.010938466190102237), (2273, 0.01093778755540378), (1315, 0.01093439124495641), (4592, 0.010904321428741532), (4084, 0.010877553061353764), (4527, 0.010862465005181865), (4559, 0.010854576302885959), (3432, 0.010850979299051093), (615, 0.010830775939682402), (515, 0.010827729662776392), (1624, 0.010826297319195616), (1616, 0.010821346418596268), (1722, 0.010792590409916817), (2704, 0.010764981571635215), (3366, 0.010720591072924536), (1114, 0.010675206168431213), (4230, 0.010643182365494885), (1585, 0.010630139682247986), (2532, 0.010613349749697857), (1986, 0.010590958579703042), (3998, 0.01058524150875549), (3447, 0.010579109471646222), (3614, 0.0105549497829715), (3766, 0.010541036199064225), (3533, 0.010533481400785824), (1478, 0.010516486066559548), (1321, 0.01050736602844419), (3263, 0.010503129594046088), (798, 0.01049436115090233), (1142, 0.010494187469882184), (130, 0.010477148428652867), (4310, 0.0104279480211872), (2789, 0.01041626542403181), (3412, 0.010401502137127809), (3955, 0.010366790079815282), (4757, 0.010365892217099491), (1014, 0.010361693477581929), (2062, 0.010361083871332659), (2777, 0.010337894773163424), (1448, 0.010323423521399519), (1496, 0.010320246818419079), (3723, 0.010306840977658204), (2370, 0.010302934487732467), (2596, 0.010301215871943473), (3399, 0.010281982173545305), (3774, 0.010273975975878088), (2478, 0.010262965863462252), (1109, 0.010247813657817666), (2111, 0.010225582577709797), (1797, 0.010225053672927429), (3131, 0.01022313964183828), (1926, 0.01022184111762387), (1834, 0.01021380200587988), (3976, 0.010211387234989832), (4553, 0.010210564341491684), (566, 0.010198067798411745), (3661, 0.010195934903953074), (4136, 0.01019490586961939), (2032, 0.010191701091347575), (1880, 0.010178572157550985), (4617, 0.010150048376645656), (3440, 0.01013863058139012), (2360, 0.010115532935470664), (1218, 0.010097096800969912), (3819, 0.010090389968936391), (4621, 0.010082458530586683), (2807, 0.010079696460747514), (353, 0.01007874146634604), (4239, 0.010076129022728798), (2674, 0.010071884487758165), (4151, 0.010071595039832914), (2682, 0.010066609606807931), (3307, 0.010064450622892015), (3123, 0.0100603897437603), (2822, 0.010053522088527063), (1795, 0.010045435746593974), (2201, 0.010043679827745436), (1550, 0.01003813719213307), (1119, 0.01003378285801347), (3926, 0.010026957238419709), (2154, 0.010018079783819578), (1920, 0.010010681495744038), (2103, 0.01000480613292988), (1115, 0.009984264392334984), (3752, 0.009975511918360285), (345, 0.00997442789334987), (3576, 0.009968063459290768), (1046, 0.009957207451853689), (3941, 0.00995651075970796), (2667, 0.009950672866798977), (1529, 0.00994171788709938), (3142, 0.009936724922986865), (1030, 0.009930780294552237), (2626, 0.009925819257882454), (573, 0.009922537554078495), (181, 0.009914882256606902), (3171, 0.009903839625882692), (3748, 0.009901948765843452), (1425, 0.00988773628310727), (178, 0.009881966067327327), (919, 0.009867785129363633), (447, 0.00986249129311068), (3332, 0.009840746117813106), (2613, 0.009840000245881686), (957, 0.009834676478253382), (4732, 0.009818000141653639), (4549, 0.00980973728249252), (3166, 0.009792273307100242), (3833, 0.009775546078662243), (1841, 0.009772233983579976), (4107, 0.009771575865988799), (2941, 0.009761664201022622), (4202, 0.009752918709204377), (1245, 0.009743575350176826), (1484, 0.009730684645886967), (1913, 0.009725706813615129), (952, 0.009720213442662167), (2836, 0.009709724057406789), (815, 0.00970651575428659), (3962, 0.009705481683396765), (1215, 0.009690892055610651), (2288, 0.00968157383012627), (2098, 0.009678817077350315), (136, 0.00967242664464103), (1604, 0.009664461218214732), (2895, 0.00964251939123327), (4328, 0.009633496962665163), (3059, 0.009622884992143371), (2356, 0.009620462200546112), (1059, 0.009599756357184743), (399, 0.009587022664800831), (1398, 0.009586525192810785), (1133, 0.009583009567574205), (2434, 0.00954095254815624), (2193, 0.009539818377938904), (4604, 0.009520058164628574), (4248, 0.009519547664236008), (458, 0.009515504219988655), (3319, 0.009509547010449357), (1679, 0.009504050011619553), (3394, 0.009492339072116045), (1362, 0.009480759225570495), (4522, 0.009477040323848678), (4504, 0.00947476907719588), (3316, 0.009471839612463118), (4317, 0.009434753090896027), (2239, 0.009430848958999113), (818, 0.009429764537929116), (3406, 0.00942904039869614), (1177, 0.009416730603174302), (2280, 0.009415197577447337), (3802, 0.009411549444026055), (517, 0.009394441457193516), (4192, 0.009367627329865893), (1659, 0.009364861673737629), (3342, 0.009360190067563685), (2487, 0.009359244384706712), (2283, 0.009358171000831982), (3689, 0.009352534016804801), (897, 0.009338189431082656), (992, 0.009330474323613905), (4573, 0.00932725952823198), (2088, 0.00932323301446147), (303, 0.009314016541150875), (1479, 0.009293905245954874), (1636, 0.009293401393167984), (2999, 0.009292944601006973), (737, 0.009291739863367348), (993, 0.009284290105506361), (1746, 0.009281016848141293), (1956, 0.009273791821967869), (2837, 0.009269979556565035), (4642, 0.009259761134459222), (1991, 0.00924913983459456), (880, 0.009229137032031792), (3077, 0.00921572816310368), (1434, 0.009203495545093402), (3859, 0.009200231686185174), (945, 0.009198515531887226), (3959, 0.009180317689262439), (2002, 0.009179826757265395), (696, 0.009179414270980575), (1311, 0.009162237906790357), (2859, 0.009160373251040625), (1096, 0.00915188411401883), (1837, 0.00914350638242709), (3472, 0.00914255160255873), (2775, 0.009136091892681206), (863, 0.00912389960911202), (3935, 0.009093545851156225), (2557, 0.00908720217518835), (1445, 0.009080527906020276), (3595, 0.009079810981328033), (1612, 0.009071015223422766), (1651, 0.009070342707777016), (2134, 0.009065913503720277), (1047, 0.00906353255811479), (2289, 0.009058583775737985), (1162, 0.009057900417469508), (3249, 0.009048108027669309), (2097, 0.009046552229607218), (1702, 0.009034242158527092), (3128, 0.00902133508921148), (2398, 0.009014113849230931), (3322, 0.009009549676610265), (4475, 0.009002732899161649), (2093, 0.009002048694267706), (3339, 0.00900028694498393), (1647, 0.008980336273666387), (408, 0.008946772662365201), (3829, 0.008945193894863493), (2527, 0.008941986563483613), (1954, 0.008941132427839981), (2579, 0.008936345142484358), (4282, 0.008931131066964425), (3842, 0.008915887787784908), (3816, 0.008902916871850169), (2329, 0.008902199535891256), (729, 0.008892411239994335), (3923, 0.008892254315253149), (4414, 0.008888308021055055), (3982, 0.008886958190785582), (2810, 0.00888106141270818), (605, 0.00888101505836841), (3820, 0.008878671730258886), (3062, 0.008864426523935213), (4562, 0.008853258824592489), (3870, 0.008850122932795114), (3267, 0.008836561141352058), (3581, 0.008834688023386363), (4422, 0.008830939984174693), (1505, 0.008821111506248838), (201, 0.008818099212684335), (1342, 0.00879372974669291), (1140, 0.008786267904683722), (2880, 0.00878497146078865), (1355, 0.008782586636719693), (4320, 0.008781519637009155), (911, 0.008768084966148127), (1195, 0.008767988086529763), (1605, 0.0087608471332826), (3463, 0.008755825691652445), (924, 0.008749193136881429), (1150, 0.008741467257960319), (248, 0.008727289300112056), (2471, 0.00869923636462203), (3092, 0.008698736666087227), (4778, 0.008686738268181515), (1763, 0.008684939372930684), (1346, 0.008677626996459723), (1815, 0.008673863938450179), (3622, 0.008662388107696827), (4649, 0.008659513537773753), (2567, 0.008642985172425894), (2684, 0.008638372402650536), (2075, 0.008636816582145424), (1021, 0.008630942266609043), (3383, 0.00862809630368218), (1540, 0.008621996670679961), (4373, 0.008619102832133397), (2858, 0.008613449487456275), (4750, 0.008609118491549512), (2123, 0.008584163932590464), (2388, 0.008576363025156797), (811, 0.00857619785848812), (2412, 0.008571354065335277), (1940, 0.008568096419240336), (3338, 0.008566039662077703), (394, 0.008551078878056178), (1749, 0.008545189954958277), (1419, 0.008540582562829108), (455, 0.00853930442600336), (1339, 0.00852004615507578), (1812, 0.008519210667187865), (2916, 0.008511544832633583), (1056, 0.008510820422541482), (2361, 0.008506945912559407), (3609, 0.0084816008113551), (2000, 0.008455436687262041), (724, 0.008450554214257739), (893, 0.008449809893273796), (4298, 0.008446803434325724), (3176, 0.008445155218435566), (1961, 0.008444417767834226), (861, 0.008442529697798002), (2102, 0.008423494891566114), (4622, 0.008417355026913237), (3286, 0.008416824329639848), (2692, 0.008412510880692585), (3360, 0.008402010435135453), (493, 0.008395564745642231), (867, 0.008395289356257536), (2230, 0.008393063150919837), (1437, 0.0083889436661961), (697, 0.008359265520735555), (1592, 0.008358348186437185), (4388, 0.008356560814315822), (598, 0.008354889146635734), (1845, 0.008346717649848498), (1661, 0.008345420738626463), (1043, 0.008339543800939717), (1416, 0.008331777996155563), (4631, 0.008320762525771899), (3606, 0.008310060969843713), (3049, 0.008299395001182513), (3020, 0.008293832377870314), (1102, 0.008285552590333178), (1123, 0.008273602404390056), (1247, 0.008273090946798286), (2558, 0.008268600386897747), (3688, 0.0082667222423366), (3067, 0.00825606796010026), (2559, 0.008253907440299892), (3865, 0.008253704019203561), (1742, 0.008252395866318043), (1884, 0.008249733380405447), (1334, 0.008246081345749888), (4668, 0.008240698821779552), (4397, 0.00823822189759228), (3824, 0.008235362063056743), (2118, 0.008234587010758453), (355, 0.008234114071725236), (1664, 0.008233930777651895), (4153, 0.008233537899632071), (3975, 0.008232819981275345), (4605, 0.008231188151308608), (3545, 0.008230735006707327), (2732, 0.008226900463976144), (3627, 0.008226450803923585), (4442, 0.008224920118238674), (1915, 0.008222097286305472), (3253, 0.008210472623637336), (1882, 0.008206669850230995), (1688, 0.008202675230291459), (1154, 0.008197828697138301), (2950, 0.008193701094571649), (1726, 0.008193138015388143), (1407, 0.008191173647573331), (2454, 0.008189788619126104), (1185, 0.008188133850469076), (1724, 0.008183203340470955), (4119, 0.008174566197913484), (823, 0.008170952647937612), (3063, 0.008170313628075177), (1573, 0.008166064665079773), (3672, 0.00816404182617325), (354, 0.00815607259541596), (1792, 0.008153475337263334), (2447, 0.008146202994453232), (2456, 0.0081384421319579), (3852, 0.008131900190275517), (468, 0.008097932380114145), (4273, 0.008085753421017852), (1791, 0.00808368281806446), (214, 0.008082753979046904), (2240, 0.008058759345356667), (869, 0.008058411212342674), (4220, 0.00805555978986909), (2026, 0.008054301700740374), (481, 0.008048825436940913), (2737, 0.008031534210129249), (2960, 0.008030516745651913), (4541, 0.008029564492848133), (2871, 0.008026678724742718), (3381, 0.008016700875116946), (2025, 0.008014077652173912), (4218, 0.008001034619693231), (1783, 0.007997572122703715), (4053, 0.007996310278140165), (747, 0.007994392007802248), (656, 0.007988282196877925), (3880, 0.00796065265439923), (3851, 0.007950012325822067), (2640, 0.007942325893186082), (2842, 0.007942002441713851), (2043, 0.007931160911633366), (947, 0.007926267137337684), (2194, 0.0079239933383168), (427, 0.00791602232087676), (3334, 0.007911036309417113), (2359, 0.007910824437432894), (3717, 0.007905126644391025), (1463, 0.007904043843823556), (3246, 0.00790359372817328), (1101, 0.00789526720064027), (2501, 0.007893258243845078), (3458, 0.007881529919028924), (4319, 0.007873495249513616), (3497, 0.007872013764260182), (4497, 0.007870485761508688), (1960, 0.007870468514209894), (3401, 0.007865865289240468), (269, 0.007863176027471292), (2200, 0.007845267144461978), (1835, 0.007834180003751448), (3008, 0.007833829093488488), (700, 0.007832757664309837), (1943, 0.007819796376566688), (337, 0.007812247338889148), (825, 0.007810587786433966), (1417, 0.007808934098245822), (1293, 0.007807785405210128), (2282, 0.007801247302857496), (2021, 0.007797004352395403), (3409, 0.007794122916844768), (1281, 0.007793231086058913), (1164, 0.007785896020870387), (3451, 0.007785280735867456), (580, 0.007768497644218922), (3170, 0.007768180112605063), (2463, 0.0077651102968915985), (1369, 0.007752446224549954), (3566, 0.007749632009986325), (1049, 0.0077469398373764065), (1041, 0.007742147232136508), (3151, 0.007738304154793351), (2830, 0.007735123268631084), (4418, 0.007727325576132122), (3629, 0.007726307054305549), (3345, 0.007725673227494394), (1255, 0.007723826738503024), (4595, 0.007715918339826339), (1904, 0.007713566106449249), (3942, 0.0077043890566097055), (2158, 0.007704033449316315), (4428, 0.007699744042628862), (4335, 0.007699270604933678), (548, 0.007695362332308584), (2452, 0.007694884459679243), (2005, 0.007666348505638711), (772, 0.007660633892536751), (2413, 0.007660096091954261), (2589, 0.007659219098867082), (321, 0.007637409335377516), (2149, 0.007636981328949709), (3985, 0.0076183905054629675), (3108, 0.007615888569108675), (896, 0.007572734528814862), (2306, 0.007567765954726692), (2225, 0.007554488843430696), (500, 0.007551991259850826), (973, 0.007536786989411741), (273, 0.007534171927164249), (4611, 0.007512849274485296), (1545, 0.007504201324137236), (2133, 0.007495710661404611), (4524, 0.007486131332148362), (3054, 0.007479370039055993), (2918, 0.0074781921299422694), (3757, 0.007477827620504929), (3257, 0.007467839473277755), (1720, 0.007467486246265504), (3358, 0.007464233770459344), (3347, 0.007457883515040828), (3592, 0.007454350564627484), (3209, 0.00745430139229084), (1589, 0.007448250999142856), (3960, 0.00743915076187922), (3259, 0.007438190455448326), (2104, 0.0074347750097815265), (1538, 0.007431119617085385), (847, 0.007430311222851117), (3101, 0.0074262734058916325), (1025, 0.007414516526518097), (3416, 0.007411620192964059), (3099, 0.0074086938261911294), (4352, 0.007394387983573135), (3931, 0.007387880225711344), (2187, 0.007361977678050819), (4293, 0.0073580271365843485), (2095, 0.007353597980799798), (2700, 0.007351420595898211), (1853, 0.007338420242281327), (1830, 0.007326297516044087), (2462, 0.007314189598304267), (4717, 0.007308971210076762), (1146, 0.007308686727917122), (244, 0.007306520491223779), (2631, 0.007276358552269254), (3924, 0.007276115981831565), (3346, 0.007270031105139563), (3621, 0.007266235932928576), (429, 0.007264728566085757), (1908, 0.007264028438938594), (2339, 0.007254034841593901), (1310, 0.007240253451007729), (2816, 0.007235686943888205), (2563, 0.00723380906661018), (3106, 0.007231895271940793), (3291, 0.007230680565121604), (1870, 0.007228729166345822), (392, 0.0072241933008427685), (1582, 0.00722289516073563), (2853, 0.00722086906078998), (1979, 0.0072164492160007926), (2260, 0.007214764188938204), (3273, 0.007210389163564323), (4198, 0.0072036274206599095), (1408, 0.007200255377442516), (2553, 0.007171590453447858), (3165, 0.007170486320547825), (3422, 0.007164405913004871), (2946, 0.007155499806861994), (4337, 0.007139820815168737), (323, 0.007128328333937945), (4287, 0.007111776028178227), (1533, 0.00710219393376906), (4208, 0.0070870777211742295), (2564, 0.0070866468882663), (4790, 0.007080818624690265), (2582, 0.007062980849840077), (558, 0.007056424615757107), (745, 0.007055848326332687), (344, 0.007025183609479718), (4696, 0.007004977761006522), (4706, 0.006992867629949468), (3117, 0.006988020800304079), (4080, 0.006959038461688077), (3266, 0.006949314467404074), (3620, 0.006924754826422296), (2647, 0.006896311826678115), (4754, 0.006896155268904171), (629, 0.006859384721625524), (2779, 0.0068364392264157366), (1556, 0.006805876955627015), (796, 0.006804965096584466), (4391, 0.00680287307680694), (3053, 0.006800774013315642), (1833, 0.006794448173918751), (1435, 0.006779542010330847), (1745, 0.0067746296670130515), (2549, 0.0067743921544748), (3866, 0.006762248604757292), (4462, 0.00675684815608846), (1231, 0.006752226138729619), (3916, 0.006749834250778211), (3546, 0.006727985341592219), (4403, 0.006726230403547337), (1551, 0.006699111508441068), (4410, 0.00668762247284797), (1916, 0.006682388280399996), (4540, 0.006661951333387193), (3983, 0.006658443044900757), (3560, 0.006642072752045378), (1876, 0.006615429564659016), (4223, 0.0065947133446001005), (4544, 0.006581921004382703), (1295, 0.006563584546884299), (2004, 0.006555379124397066), (2770, 0.0065164439172505), (915, 0.006512169576177691), (3808, 0.006506094730386828), (2148, 0.006495978062495848), (649, 0.006486672002364225), (1919, 0.006485415837059246), (3995, 0.006462605437428027), (4580, 0.00642649902791705), (4784, 0.006421192340309928), (3007, 0.006418630380108736), (2542, 0.006405144629247861), (2833, 0.006400486440765569), (1955, 0.006356621037023713), (4272, 0.006348047446873537), (4768, 0.0063429417907565466), (4550, 0.00634076288709279), (2385, 0.006326905519349248), (4164, 0.006318833695239069), (2723, 0.006258315672349541), (4253, 0.0062258835368581705), (2657, 0.006223303168602165), (3625, 0.0062183485433388785), (3768, 0.006204742667715247), (975, 0.006133483585258324), (2519, 0.0061321332011636505), (4538, 0.006124939259390865), (4798, 0.006113766971872202), (2039, 0.006109415125403047), (2460, 0.006057545314828143), (4435, 0.006039932217487641), (3691, 0.006033642235074961), (3512, 0.006026586803780156), (1663, 0.006026233034831428), (4305, 0.005989144858400296), (2472, 0.005950754923701925), (4663, 0.005924256655891325), (4543, 0.00592048112788088), (1873, 0.0059198840115629705), (1901, 0.005902048652573313), (1692, 0.005880947596201847), (3619, 0.005866150258286681), (4736, 0.005851974830786112), (4505, 0.00583526815216828), (3553, 0.0058157597199850345), (3453, 0.005773400628864737), (2622, 0.005769470115548094), (2367, 0.005767795417903664), (1593, 0.0057625645412686865), (3637, 0.005761751662912831), (1776, 0.005699948251350894), (4294, 0.005663889072025644), (2257, 0.0056588456307762785), (3340, 0.005651946591275507), (2146, 0.005627164217962046), (3116, 0.005600020029227409), (2808, 0.00558774548293856), (3957, 0.005586139337878276), (2485, 0.0055803355913655785), (3798, 0.005576383634958951), (3779, 0.0055758655585013165), (4737, 0.0055754457391722), (2793, 0.005556046167512777), (2411, 0.005530112803331423), (3452, 0.005523820195028291), (3264, 0.005521981120321394), (3110, 0.0055060821839111995), (3025, 0.005503691289136443), (2192, 0.005496029868354777), (4743, 0.005474939401106026), (4029, 0.0054673271472204885), (4241, 0.005439393947277083), (1637, 0.005435772955473496), (1516, 0.005430586453554049), (1941, 0.005418020795309487), (2503, 0.005391030540205069), (2082, 0.005347127224441459), (2928, 0.005343357133807054), (2881, 0.005325545885799249), (2070, 0.005287249018376112), (1226, 0.005269511232247655), (497, 0.005263155989891899), (2151, 0.0052240207260073465), (3217, 0.005204613428886559), (4718, 0.005181793053191069), (2031, 0.005163448754981664), (4334, 0.0051563849305695), (4159, 0.005152631398336182), (2130, 0.005148603688466372), (4705, 0.0051469808825852234), (1543, 0.005143865613568344), (1499, 0.005132218987866557), (2378, 0.005122048702253911), (3016, 0.005118825707679875), (843, 0.005117921843219383), (3289, 0.0051163924713268525), (689, 0.005107885731791163), (1381, 0.005098648272400156), (954, 0.005094692312868453), (3498, 0.0050846352757955736), (857, 0.0050695605595580265), (1614, 0.005066456552252436), (2302, 0.005061186794403589), (3745, 0.005051193382154542), (4270, 0.005047913505219428), (521, 0.005047664384608447), (4655, 0.0050401165072028005), (1520, 0.005025122733704389), (3061, 0.00501787855233719), (1704, 0.005002562118623756), (3037, 0.004990876002375944), (255, 0.004970128218650478), (3331, 0.004961267406438341), (998, 0.004959910337579497), (2290, 0.0049519655597542326), (2524, 0.004945158653198784), (2420, 0.004934054026151994), (4126, 0.0049294730120925095), (4054, 0.004909242073364647), (1196, 0.0049054208064523335), (3183, 0.004904804379844906), (1879, 0.0048959251640342105), (3302, 0.0048946191473675515), (2874, 0.004894436459781483), (2813, 0.0048806490159544), (4731, 0.004878867084769944), (3572, 0.004861654784682816), (2904, 0.004857847900490931), (1147, 0.0048416894481136934), (1107, 0.0048365778365467025), (829, 0.0048363693980510575), (2575, 0.004832610422478961), (1698, 0.0048273663270116726), (4297, 0.0048213513270825925), (3161, 0.0048188495582298626), (713, 0.004817922284019444), (1179, 0.004816470179008082), (4521, 0.004811035409244249), (1335, 0.0048109151177660086), (3464, 0.0048093979661920526), (885, 0.004808452371672707), (4659, 0.004803519049140309), (3081, 0.00479975958865265), (1840, 0.004799684063585449), (1690, 0.004794315665400724), (3457, 0.004789793790650839), (2618, 0.00478853562772969), (1857, 0.004785659255227273), (4303, 0.004782020823221502), (1205, 0.004758759209895481), (2864, 0.00475316934255882), (4227, 0.004742907084067313), (4265, 0.0047392309875226545), (4264, 0.004738580773909396), (663, 0.004731566765862879), (3178, 0.004727184719341043), (2119, 0.004727154429619664), (2480, 0.004724924830314299), (3190, 0.004722397899257472), (2497, 0.004719441808854372), (1173, 0.004716676930066305), (4359, 0.004715980129243228), (2445, 0.0046982288784282985), (3676, 0.004696074595054826), (3796, 0.004686284573178945), (3839, 0.004685250666900693), (3038, 0.004677868442361465), (3807, 0.004675616839627262), (3058, 0.0046723780829986), (4338, 0.004670756987702603), (2182, 0.00466706367195807), (4766, 0.004666779258111873), (2740, 0.004664058276777901), (562, 0.004662088268435652), (4625, 0.004660971597221454), (3507, 0.004652416002752703), (1129, 0.0046522662105567955), (1088, 0.004643795213702785), (499, 0.004631339842858071), (2409, 0.004628747650738842), (3835, 0.004625367321520546), (3771, 0.004624688870213243), (3559, 0.004614075867625608), (2125, 0.004611631708037647), (3258, 0.004611088606690399), (3767, 0.004610809570104923), (4744, 0.004609687410217937), (4110, 0.004605283426831061), (4509, 0.004603556675200307), (4221, 0.004593984847095578), (2430, 0.00458923850526415), (2020, 0.004587330147057628), (1009, 0.004581742773050015), (3641, 0.004579497706791577), (351, 0.004574277171462769), (797, 0.004571040423538242), (3140, 0.00456928587041513), (2018, 0.004566512365386669), (4412, 0.0045657672848933555), (3333, 0.004560608857105652), (3189, 0.004547743595584912), (2997, 0.004546914745784423), (2778, 0.004544528382326077), (3301, 0.004541043085544742), (2643, 0.004539902314233607), (3172, 0.00453936988074936), (4374, 0.0045345259533699535), (1917, 0.004530309218796152), (3060, 0.004525105512389581), (343, 0.0045226509998050396), (2177, 0.00451231174372347), (4613, 0.004510577994041358), (3869, 0.004509472777881949), (2748, 0.004495781020619742), (4079, 0.004489289226560277), (625, 0.0044892328518683355), (1620, 0.004484617137615514), (2979, 0.004478984622830371), (884, 0.0044752237580738), (1061, 0.004473134518305712), (927, 0.0044681814416430215), (3743, 0.004461861869723275), (4515, 0.004458632288439499), (2071, 0.004456664365264885), (3526, 0.004456512733375093), (1242, 0.004453490393107315), (3465, 0.004448864733406907), (1171, 0.004444014114460175), (892, 0.004440688347941213), (1863, 0.004440171060047701), (3682, 0.0044365348267989746), (4180, 0.0044284631933786105), (2635, 0.0044208864134585016), (2488, 0.004416727916114748), (3658, 0.0044119116326726965), (726, 0.0044090720277444335), (3535, 0.004408473840054082), (3320, 0.004407677299717946), (717, 0.004406105464398907), (1552, 0.004403371818610551), (1410, 0.0043982917612559545), (4347, 0.004389962456382976), (2147, 0.004386450424168763), (434, 0.004385509700303043), (2734, 0.004381513969560397), (1305, 0.004379368949263771), (2174, 0.004373566942009172), (3423, 0.004372363639537681), (3557, 0.004366542038964118), (974, 0.0043636047050807794), (3365, 0.0043630285315864985), (4763, 0.004360123367206512), (1819, 0.0043585935651548596), (3787, 0.004358450403127363), (3577, 0.004357783286107231), (1501, 0.004356905946376928), (1504, 0.004354689435541129), (801, 0.004353099916114727), (3173, 0.004349447670889115), (3891, 0.004343330707292007), (3801, 0.004343218126314932), (1325, 0.004341865754548473), (1952, 0.004335100670483881), (1265, 0.004333951025308221), (2799, 0.004332639509964533), (3330, 0.004331479860244347), (3850, 0.004331068698174936), (4767, 0.004323720121178281), (1641, 0.0043229599245903005), (1537, 0.004307405042423109), (2719, 0.004299744938438773), (757, 0.004294473264122379), (1087, 0.004294430548770135), (1744, 0.004293713639393947), (4170, 0.004293618225480214), (3395, 0.0042867320841340935), (3867, 0.004284094710104151), (968, 0.004277080512566655), (2511, 0.00427161730476315), (2988, 0.004257701398850881), (4088, 0.0042556972211353515), (3662, 0.004254885322706749), (1555, 0.004254818823289059), (795, 0.004252567355860067), (593, 0.004252160936846285), (2489, 0.004252078583776141), (4650, 0.004248703638250601), (1487, 0.0042439637620313875), (2615, 0.004240708446935702), (1340, 0.004237459851333563), (4508, 0.004236694942143309), (4041, 0.004231623858192945), (4006, 0.004231407477374803), (4722, 0.004222531926026859), (3005, 0.00421813546508331), (4365, 0.004214464097598804), (3234, 0.004212319913909128), (3132, 0.0042116671281819075), (1560, 0.004208781260196036), (2741, 0.0042046803262662125), (4279, 0.004192055241362086), (4536, 0.004187089919926105), (4050, 0.004185448416995152), (4367, 0.0041772479068164425), (3868, 0.0041752437618413395), (2838, 0.0041732924444233795), (3303, 0.004171880958630959), (688, 0.004171288394767553), (2204, 0.004170062392904847), (4795, 0.004163848344511257), (2048, 0.004163270356941994), (4473, 0.004160064062408257), (3160, 0.004159199657753108), (1905, 0.004155779995718359), (2415, 0.004154251269871809), (4204, 0.0041503655320282995), (3585, 0.0041488208992246315), (1307, 0.004147740507204497), (912, 0.00413512926111553), (3100, 0.00413459116895314), (3357, 0.004130059629025663), (2801, 0.004128347828834019), (1413, 0.004125696169224375), (4673, 0.004123562072316138), (2517, 0.004123437861563182), (949, 0.00412124938176212), (3822, 0.004121030526384759), (3984, 0.0041184370209128435), (4343, 0.004117594486126964), (3027, 0.0041175159695504135), (1011, 0.004115683326657049), (682, 0.004110149566633073), (879, 0.004107731634528124), (4528, 0.004106126926315103), (3444, 0.004103286707956547), (1532, 0.004099732233967834), (1526, 0.004094237204615733), (1075, 0.004093517256630583), (77, 0.004091773992685654), (3746, 0.004091080525249532), (2917, 0.004090127268533596), (1229, 0.004087698168978022), (3586, 0.004087689733301841), (4229, 0.0040865519327840695), (3088, 0.004082284136195922), (1351, 0.004077212948393789), (652, 0.004071446246337812), (2234, 0.004056842623519252), (4437, 0.004050442177925552), (789, 0.004049481381517062), (2554, 0.004047285949474405), (4572, 0.004041639481714225), (1312, 0.004039706859191509), (2441, 0.004038502797070399), (725, 0.0040366125062396285), (3479, 0.004032649314139963), (2520, 0.004027899345256994), (1323, 0.004019308792098184), (1547, 0.004017889951085792), (2786, 0.004012406116489511), (608, 0.004010351381449456), (2783, 0.004009478244729758), (4707, 0.004006973605262701), (3455, 0.004004257129514091), (1170, 0.003998196579377901), (4609, 0.003993936188568109), (3653, 0.003989123956244728), (3094, 0.003987615594623857), (3355, 0.00398535053157644), (2733, 0.003983922343873201), (4260, 0.003983451126316438), (1576, 0.003979677174348003), (2535, 0.003969832608381522), (4439, 0.003968985256801017), (3085, 0.003965966598789319), (1122, 0.003963732172029028), (2094, 0.0039609604385959325), (2376, 0.003945689519886784), (2887, 0.003945230900067439), (891, 0.003945078490891561), (1710, 0.003943787543205492), (1809, 0.003942967598992419), (1057, 0.0039418141204923055), (2090, 0.003941153600066572), (3735, 0.00393281580666214), (4052, 0.003930554287564664), (1276, 0.003924582207022954), (1944, 0.003924507159352112), (727, 0.003921759812109099), (2839, 0.003918813574184257), (2715, 0.003917314275857862), (1888, 0.0039100906243798314), (1236, 0.0039009258233668204), (2351, 0.0039003358298250255), (1442, 0.003899629791839001), (2949, 0.003899424171360278), (1116, 0.0038905350706410114), (2468, 0.0038826776199608914), (3449, 0.003881782789722657), (2919, 0.0038812839943033924), (1477, 0.0038755711483221844), (4723, 0.003873341507762537), (2982, 0.0038707159154864543), (3433, 0.0038697797937503066), (1571, 0.0038663167229338285), (886, 0.0038646358949875927), (1689, 0.003861892492294525), (4793, 0.003856378643330073), (2891, 0.003856341256341237), (890, 0.0038513788406203354), (559, 0.0038465020354961606), (3905, 0.0038462743473964725), (3245, 0.0038449515794556867), (846, 0.0038426541713827895), (3179, 0.0038422348488388147), (1957, 0.0038368766634681224), (4109, 0.0038356504477902384), (2850, 0.003831987812873954), (3120, 0.003827808141546902), (1283, 0.0038277969114712323), (3770, 0.0038258850220498236), (1828, 0.0038257326863446904), (1548, 0.003824017171048043), (3483, 0.003822296893877043), (1090, 0.0038214489849137064), (1356, 0.003820469431579441), (2562, 0.0038203013775739915), (3685, 0.003808032653411826), (1444, 0.0038048991517049854), (2426, 0.0038045559966748896), (2051, 0.00380403903656948), (1189, 0.0038030244401810786), (2938, 0.003798548959074674), (3753, 0.003798162045358554), (550, 0.003797447254806181), (1948, 0.003795673831780612), (1676, 0.0037928029674203093), (4454, 0.003789482857167977), (2395, 0.003787566480893226), (3467, 0.00378697410032842), (3784, 0.0037812946143812925), (3644, 0.003778179321201655), (1619, 0.0037755909247851075), (3769, 0.0037754569266834534), (2078, 0.0037713123405226936), (1666, 0.0037663420285875995), (1216, 0.0037656607525073265), (2725, 0.003764490443941188), (346, 0.003763413724385506), (1400, 0.0037621965411199403), (2680, 0.003759820225485618), (3474, 0.003758901873191269), (684, 0.003758618212779717), (4477, 0.0037554999776815245), (1045, 0.003750697788079752), (2044, 0.003747140744839254), (1736, 0.0037464176024801527), (1881, 0.003739880759275144), (1798, 0.003735693650337496), (378, 0.0037337061742170226), (3283, 0.0037302197950106913), (4474, 0.003726454004296289), (2483, 0.0037248803498356286), (2739, 0.003723913561034647), (4518, 0.0037221554474381447), (3794, 0.0037196730408769925), (3902, 0.0037179839174324874), (3759, 0.0037110387358299107), (1903, 0.0037108192213118306), (2624, 0.003709444800368964), (1112, 0.0037071825597527674), (2405, 0.003702766799792694), (3212, 0.003700851744406031), (3635, 0.0036983733440069597), (3454, 0.003696447919143378), (1186, 0.0036963506036700885), (1906, 0.003696192317000449), (3124, 0.0036899633794890956), (247, 0.0036882464021279525), (1472, 0.0036802298700831385), (2382, 0.003677061423305386), (1685, 0.003670666162327206), (3462, 0.0036592906224817497), (1292, 0.0036529645586798843), (4134, 0.0036512454437611246), (1632, 0.0036489087627134295), (4144, 0.003647532192833471), (2036, 0.003642156058506549), (2455, 0.0036301609643343787), (3042, 0.003626371678473962), (923, 0.0036241875113756524), (2731, 0.0036074609849995037), (2331, 0.0036064647668848293), (2431, 0.0035990358244975366), (3218, 0.003588938448799938), (1660, 0.003585823002086156), (1243, 0.003581592317583247), (527, 0.003576481348835718), (2126, 0.0035754464003744293), (1981, 0.003569202464472421), (3421, 0.0035627747578503995), (444, 0.0035620145909669096), (1656, 0.0035617614760717355), (2160, 0.0035596535083328835), (4200, 0.003536779121496603), (3719, 0.003533921479191589), (872, 0.0035332010326484206), (3879, 0.003531955052642623), (1128, 0.0035196298565517746), (918, 0.0035184715785114055), (2660, 0.003509974269716808), (2607, 0.00350864999365176), (1687, 0.0034961084217900347), (2335, 0.003493678480476027), (2083, 0.0034877884807006363), (3441, 0.003486369679973287), (851, 0.003476419538883668), (3210, 0.0034669257659520076), (3615, 0.0034599203639695004), (3588, 0.0034586061695841227), (4194, 0.003456421374795493), (4350, 0.00345629261447348), (328, 0.003444023764571431), (4340, 0.0034395649550964537), (2832, 0.003433098977503775), (2014, 0.003422545471298813), (395, 0.003422054628519267), (3648, 0.0034089909734069494), (2183, 0.0034063844665307816), (3709, 0.003397421933594449), (3570, 0.003393359671587697), (4719, 0.0033914123956206837), (3070, 0.003385656851950308), (1414, 0.003366112960490934), (1126, 0.003347850900188597), (3974, 0.003346463105662321), (2368, 0.003333618670880489), (1989, 0.0033335183940548063), (1723, 0.003332759220900513), (3277, 0.0033295900213305084), (630, 0.0033203563640364204), (3175, 0.003315073373277079), (4759, 0.0033044401220946582), (603, 0.0032694121764546874), (1161, 0.0032588964352612895), (3970, 0.003256079373625202), (2987, 0.003255413592987654), (1022, 0.0032491029808824506), (4083, 0.0032304731939783653), (4356, 0.0032165311229599937), (3256, 0.0031921732750298895), (4558, 0.0031688928875203137), (3093, 0.0031395206566315567), (4742, 0.0031313548919475204), (3418, 0.003129678603312674), (3645, 0.0030978907787313475), (4096, 0.0030345022283379997), (2954, 0.003030369508672512), (2677, 0.0030178151996741094), (4482, 0.0029900392699869103), (2138, 0.002989438329287198), (1752, 0.0029330595151596302), (4382, 0.002867796905321888), (1441, 0.002740853079431396), (3906, 0.0027023393994964322), (4274, 0.002641745604635931), (3596, 0.002543007822102884), (34, 0.0), (42, 0.0), (60, 0.0), (120, 0.0), (128, 0.0), (146, 0.0), (155, 0.0), (173, 0.0), (177, 0.0), (194, 0.0), (231, 0.0), (251, 0.0), (264, 0.0), (272, 0.0), (280, 0.0), (284, 0.0), (357, 0.0), (385, 0.0), (388, 0.0), (397, 0.0), (406, 0.0), (409, 0.0), (421, 0.0), (430, 0.0), (436, 0.0), (438, 0.0), (439, 0.0), (440, 0.0), (445, 0.0), (460, 0.0), (464, 0.0), (474, 0.0), (477, 0.0), (482, 0.0), (492, 0.0), (506, 0.0), (509, 0.0), (519, 0.0), (520, 0.0), (522, 0.0), (526, 0.0), (538, 0.0), (552, 0.0), (567, 0.0), (588, 0.0), (606, 0.0), (614, 0.0), (616, 0.0), (619, 0.0), (623, 0.0), (635, 0.0), (637, 0.0), (639, 0.0), (641, 0.0), (650, 0.0), (651, 0.0), (662, 0.0), (667, 0.0), (669, 0.0), (679, 0.0), (686, 0.0), (693, 0.0), (699, 0.0), (701, 0.0), (703, 0.0), (705, 0.0), (709, 0.0), (712, 0.0), (714, 0.0), (719, 0.0), (733, 0.0), (738, 0.0), (749, 0.0), (751, 0.0), (756, 0.0), (760, 0.0), (771, 0.0), (780, 0.0), (806, 0.0), (817, 0.0), (819, 0.0), (822, 0.0), (826, 0.0), (835, 0.0), (837, 0.0), (845, 0.0), (849, 0.0), (860, 0.0), (865, 0.0), (875, 0.0), (876, 0.0), (877, 0.0), (882, 0.0), (887, 0.0), (895, 0.0), (905, 0.0), (907, 0.0), (909, 0.0), (913, 0.0), (916, 0.0), (925, 0.0), (926, 0.0), (928, 0.0), (936, 0.0), (938, 0.0), (940, 0.0), (943, 0.0), (944, 0.0), (965, 0.0), (966, 0.0), (970, 0.0), (983, 0.0), (986, 0.0), (987, 0.0), (991, 0.0), (996, 0.0), (997, 0.0), (1010, 0.0), (1013, 0.0), (1026, 0.0), (1032, 0.0), (1033, 0.0), (1037, 0.0), (1042, 0.0), (1050, 0.0), (1051, 0.0), (1054, 0.0), (1060, 0.0), (1065, 0.0), (1066, 0.0), (1067, 0.0), (1069, 0.0), (1071, 0.0), (1081, 0.0), (1105, 0.0), (1108, 0.0), (1117, 0.0), (1121, 0.0), (1127, 0.0), (1130, 0.0), (1141, 0.0), (1149, 0.0), (1151, 0.0), (1156, 0.0), (1166, 0.0), (1167, 0.0), (1168, 0.0), (1180, 0.0), (1184, 0.0), (1197, 0.0), (1208, 0.0), (1210, 0.0), (1211, 0.0), (1219, 0.0), (1222, 0.0), (1223, 0.0), (1224, 0.0), (1225, 0.0), (1228, 0.0), (1232, 0.0), (1235, 0.0), (1241, 0.0), (1251, 0.0), (1252, 0.0), (1258, 0.0), (1260, 0.0), (1261, 0.0), (1262, 0.0), (1268, 0.0), (1297, 0.0), (1299, 0.0), (1308, 0.0), (1309, 0.0), (1314, 0.0), (1316, 0.0), (1327, 0.0), (1329, 0.0), (1330, 0.0), (1333, 0.0), (1338, 0.0), (1345, 0.0), (1353, 0.0), (1371, 0.0), (1372, 0.0), (1374, 0.0), (1376, 0.0), (1378, 0.0), (1383, 0.0), (1384, 0.0), (1385, 0.0), (1386, 0.0), (1387, 0.0), (1389, 0.0), (1391, 0.0), (1393, 0.0), (1394, 0.0), (1396, 0.0), (1401, 0.0), (1421, 0.0), (1424, 0.0), (1427, 0.0), (1429, 0.0), (1430, 0.0), (1436, 0.0), (1454, 0.0), (1455, 0.0), (1458, 0.0), (1462, 0.0), (1464, 0.0), (1466, 0.0), (1475, 0.0), (1476, 0.0), (1480, 0.0), (1489, 0.0), (1493, 0.0), (1498, 0.0), (1511, 0.0), (1521, 0.0), (1522, 0.0), (1530, 0.0), (1534, 0.0), (1536, 0.0), (1539, 0.0), (1541, 0.0), (1544, 0.0), (1553, 0.0), (1557, 0.0), (1558, 0.0), (1566, 0.0), (1567, 0.0), (1572, 0.0), (1574, 0.0), (1575, 0.0), (1588, 0.0), (1591, 0.0), (1600, 0.0), (1601, 0.0), (1613, 0.0), (1618, 0.0), (1627, 0.0), (1629, 0.0), (1631, 0.0), (1634, 0.0), (1638, 0.0), (1639, 0.0), (1640, 0.0), (1644, 0.0), (1646, 0.0), (1648, 0.0), (1673, 0.0), (1674, 0.0), (1677, 0.0), (1678, 0.0), (1681, 0.0), (1683, 0.0), (1691, 0.0), (1700, 0.0), (1703, 0.0), (1705, 0.0), (1706, 0.0), (1712, 0.0), (1714, 0.0), (1716, 0.0), (1717, 0.0), (1729, 0.0), (1730, 0.0), (1737, 0.0), (1738, 0.0), (1748, 0.0), (1755, 0.0), (1756, 0.0), (1758, 0.0), (1760, 0.0), (1766, 0.0), (1767, 0.0), (1768, 0.0), (1770, 0.0), (1772, 0.0), (1774, 0.0), (1778, 0.0), (1782, 0.0), (1784, 0.0), (1785, 0.0), (1788, 0.0), (1789, 0.0), (1793, 0.0), (1799, 0.0), (1801, 0.0), (1803, 0.0), (1806, 0.0), (1811, 0.0), (1814, 0.0), (1823, 0.0), (1829, 0.0), (1831, 0.0), (1843, 0.0), (1855, 0.0), (1862, 0.0), (1865, 0.0), (1866, 0.0), (1867, 0.0), (1871, 0.0), (1875, 0.0), (1883, 0.0), (1885, 0.0), (1886, 0.0), (1887, 0.0), (1895, 0.0), (1898, 0.0), (1909, 0.0), (1911, 0.0), (1912, 0.0), (1924, 0.0), (1925, 0.0), (1928, 0.0), (1934, 0.0), (1947, 0.0), (1949, 0.0), (1963, 0.0), (1965, 0.0), (1968, 0.0), (1971, 0.0), (1975, 0.0), (1980, 0.0), (1988, 0.0), (1998, 0.0), (2009, 0.0), (2010, 0.0), (2011, 0.0), (2012, 0.0), (2027, 0.0), (2030, 0.0), (2034, 0.0), (2041, 0.0), (2045, 0.0), (2056, 0.0), (2058, 0.0), (2059, 0.0), (2063, 0.0), (2065, 0.0), (2067, 0.0), (2073, 0.0), (2077, 0.0), (2079, 0.0), (2106, 0.0), (2107, 0.0), (2109, 0.0), (2110, 0.0), (2112, 0.0), (2113, 0.0), (2117, 0.0), (2120, 0.0), (2124, 0.0), (2132, 0.0), (2135, 0.0), (2137, 0.0), (2139, 0.0), (2141, 0.0), (2143, 0.0), (2144, 0.0), (2145, 0.0), (2150, 0.0), (2153, 0.0), (2168, 0.0), (2171, 0.0), (2172, 0.0), (2173, 0.0), (2176, 0.0), (2179, 0.0), (2180, 0.0), (2190, 0.0), (2191, 0.0), (2199, 0.0), (2208, 0.0), (2210, 0.0), (2213, 0.0), (2215, 0.0), (2216, 0.0), (2217, 0.0), (2219, 0.0), (2223, 0.0), (2224, 0.0), (2226, 0.0), (2232, 0.0), (2236, 0.0), (2243, 0.0), (2246, 0.0), (2248, 0.0), (2251, 0.0), (2252, 0.0), (2265, 0.0), (2267, 0.0), (2269, 0.0), (2271, 0.0), (2272, 0.0), (2279, 0.0), (2281, 0.0), (2286, 0.0), (2287, 0.0), (2299, 0.0), (2301, 0.0), (2304, 0.0), (2312, 0.0), (2316, 0.0), (2319, 0.0), (2322, 0.0), (2323, 0.0), (2325, 0.0), (2328, 0.0), (2332, 0.0), (2337, 0.0), (2344, 0.0), (2345, 0.0), (2347, 0.0), (2350, 0.0), (2353, 0.0), (2354, 0.0), (2355, 0.0), (2362, 0.0), (2365, 0.0), (2369, 0.0), (2374, 0.0), (2379, 0.0), (2391, 0.0), (2392, 0.0), (2393, 0.0), (2396, 0.0), (2406, 0.0), (2414, 0.0), (2418, 0.0), (2419, 0.0), (2421, 0.0), (2422, 0.0), (2423, 0.0), (2424, 0.0), (2432, 0.0), (2440, 0.0), (2446, 0.0), (2448, 0.0), (2449, 0.0), (2450, 0.0), (2451, 0.0), (2458, 0.0), (2467, 0.0), (2475, 0.0), (2477, 0.0), (2481, 0.0), (2495, 0.0), (2498, 0.0), (2500, 0.0), (2502, 0.0), (2504, 0.0), (2512, 0.0), (2513, 0.0), (2516, 0.0), (2518, 0.0), (2526, 0.0), (2528, 0.0), (2531, 0.0), (2539, 0.0), (2544, 0.0), (2548, 0.0), (2551, 0.0), (2555, 0.0), (2566, 0.0), (2569, 0.0), (2570, 0.0), (2574, 0.0), (2576, 0.0), (2580, 0.0), (2587, 0.0), (2588, 0.0), (2591, 0.0), (2593, 0.0), (2594, 0.0), (2595, 0.0), (2599, 0.0), (2600, 0.0), (2604, 0.0), (2606, 0.0), (2608, 0.0), (2610, 0.0), (2612, 0.0), (2616, 0.0), (2617, 0.0), (2619, 0.0), (2620, 0.0), (2621, 0.0), (2629, 0.0), (2632, 0.0), (2634, 0.0), (2656, 0.0), (2658, 0.0), (2661, 0.0), (2663, 0.0), (2664, 0.0), (2665, 0.0), (2666, 0.0), (2668, 0.0), (2670, 0.0), (2672, 0.0), (2673, 0.0), (2676, 0.0), (2679, 0.0), (2686, 0.0), (2687, 0.0), (2689, 0.0), (2690, 0.0), (2693, 0.0), (2694, 0.0), (2695, 0.0), (2698, 0.0), (2699, 0.0), (2701, 0.0), (2702, 0.0), (2705, 0.0), (2707, 0.0), (2709, 0.0), (2710, 0.0), (2711, 0.0), (2714, 0.0), (2716, 0.0), (2718, 0.0), (2721, 0.0), (2722, 0.0), (2729, 0.0), (2735, 0.0), (2738, 0.0), (2744, 0.0), (2745, 0.0), (2749, 0.0), (2750, 0.0), (2754, 0.0), (2760, 0.0), (2761, 0.0), (2762, 0.0), (2764, 0.0), (2765, 0.0), (2767, 0.0), (2768, 0.0), (2769, 0.0), (2771, 0.0), (2774, 0.0), (2802, 0.0), (2804, 0.0), (2811, 0.0), (2814, 0.0), (2818, 0.0), (2820, 0.0), (2821, 0.0), (2825, 0.0), (2828, 0.0), (2834, 0.0), (2840, 0.0), (2843, 0.0), (2847, 0.0), (2848, 0.0), (2852, 0.0), (2854, 0.0), (2855, 0.0), (2856, 0.0), (2861, 0.0), (2866, 0.0), (2869, 0.0), (2870, 0.0), (2873, 0.0), (2879, 0.0), (2883, 0.0), (2885, 0.0), (2889, 0.0), (2890, 0.0), (2892, 0.0), (2893, 0.0), (2896, 0.0), (2902, 0.0), (2903, 0.0), (2905, 0.0), (2906, 0.0), (2907, 0.0), (2908, 0.0), (2913, 0.0), (2920, 0.0), (2922, 0.0), (2924, 0.0), (2925, 0.0), (2926, 0.0), (2932, 0.0), (2935, 0.0), (2937, 0.0), (2939, 0.0), (2942, 0.0), (2943, 0.0), (2945, 0.0), (2948, 0.0), (2951, 0.0), (2952, 0.0), (2955, 0.0), (2956, 0.0), (2958, 0.0), (2962, 0.0), (2963, 0.0), (2970, 0.0), (2975, 0.0), (2976, 0.0), (2977, 0.0), (2981, 0.0), (2984, 0.0), (2990, 0.0), (2992, 0.0), (2998, 0.0), (3000, 0.0), (3003, 0.0), (3009, 0.0), (3015, 0.0), (3017, 0.0), (3019, 0.0), (3022, 0.0), (3023, 0.0), (3026, 0.0), (3028, 0.0), (3034, 0.0), (3036, 0.0), (3039, 0.0), (3041, 0.0), (3044, 0.0), (3047, 0.0), (3048, 0.0), (3050, 0.0), (3052, 0.0), (3057, 0.0), (3064, 0.0), (3066, 0.0), (3069, 0.0), (3071, 0.0), (3075, 0.0), (3078, 0.0), (3079, 0.0), (3080, 0.0), (3083, 0.0), (3084, 0.0), (3090, 0.0), (3091, 0.0), (3095, 0.0), (3096, 0.0), (3097, 0.0), (3102, 0.0), (3104, 0.0), (3105, 0.0), (3109, 0.0), (3114, 0.0), (3115, 0.0), (3118, 0.0), (3119, 0.0), (3121, 0.0), (3122, 0.0), (3125, 0.0), (3134, 0.0), (3135, 0.0), (3137, 0.0), (3139, 0.0), (3145, 0.0), (3146, 0.0), (3149, 0.0), (3156, 0.0), (3157, 0.0), (3164, 0.0), (3167, 0.0), (3168, 0.0), (3174, 0.0), (3181, 0.0), (3182, 0.0), (3185, 0.0), (3187, 0.0), (3188, 0.0), (3192, 0.0), (3193, 0.0), (3194, 0.0), (3196, 0.0), (3198, 0.0), (3201, 0.0), (3206, 0.0), (3207, 0.0), (3213, 0.0), (3216, 0.0), (3219, 0.0), (3222, 0.0), (3223, 0.0), (3226, 0.0), (3228, 0.0), (3235, 0.0), (3241, 0.0), (3242, 0.0), (3243, 0.0), (3244, 0.0), (3247, 0.0), (3248, 0.0), (3250, 0.0), (3255, 0.0), (3262, 0.0), (3268, 0.0), (3269, 0.0), (3271, 0.0), (3272, 0.0), (3275, 0.0), (3278, 0.0), (3282, 0.0), (3288, 0.0), (3292, 0.0), (3295, 0.0), (3300, 0.0), (3308, 0.0), (3311, 0.0), (3312, 0.0), (3314, 0.0), (3317, 0.0), (3321, 0.0), (3324, 0.0), (3325, 0.0), (3327, 0.0), (3341, 0.0), (3344, 0.0), (3348, 0.0), (3356, 0.0), (3362, 0.0), (3363, 0.0), (3369, 0.0), (3371, 0.0), (3375, 0.0), (3378, 0.0), (3379, 0.0), (3380, 0.0), (3384, 0.0), (3387, 0.0), (3388, 0.0), (3391, 0.0), (3397, 0.0), (3398, 0.0), (3400, 0.0), (3404, 0.0), (3407, 0.0), (3408, 0.0), (3410, 0.0), (3415, 0.0), (3419, 0.0), (3425, 0.0), (3426, 0.0), (3428, 0.0), (3430, 0.0), (3431, 0.0), (3435, 0.0), (3438, 0.0), (3443, 0.0), (3456, 0.0), (3459, 0.0), (3461, 0.0), (3470, 0.0), (3473, 0.0), (3475, 0.0), (3476, 0.0), (3478, 0.0), (3480, 0.0), (3481, 0.0), (3482, 0.0), (3487, 0.0), (3488, 0.0), (3493, 0.0), (3499, 0.0), (3502, 0.0), (3504, 0.0), (3506, 0.0), (3510, 0.0), (3513, 0.0), (3515, 0.0), (3519, 0.0), (3521, 0.0), (3524, 0.0), (3525, 0.0), (3530, 0.0), (3531, 0.0), (3536, 0.0), (3540, 0.0), (3541, 0.0), (3542, 0.0), (3544, 0.0), (3547, 0.0), (3550, 0.0), (3551, 0.0), (3555, 0.0), (3561, 0.0), (3562, 0.0), (3563, 0.0), (3573, 0.0), (3574, 0.0), (3575, 0.0), (3578, 0.0), (3580, 0.0), (3583, 0.0), (3587, 0.0), (3589, 0.0), (3594, 0.0), (3601, 0.0), (3602, 0.0), (3605, 0.0), (3610, 0.0), (3632, 0.0), (3633, 0.0), (3636, 0.0), (3639, 0.0), (3640, 0.0), (3643, 0.0), (3646, 0.0), (3649, 0.0), (3651, 0.0), (3655, 0.0), (3657, 0.0), (3663, 0.0), (3664, 0.0), (3665, 0.0), (3669, 0.0), (3670, 0.0), (3674, 0.0), (3675, 0.0), (3677, 0.0), (3678, 0.0), (3681, 0.0), (3686, 0.0), (3687, 0.0), (3694, 0.0), (3696, 0.0), (3697, 0.0), (3699, 0.0), (3701, 0.0), (3702, 0.0), (3703, 0.0), (3705, 0.0), (3708, 0.0), (3710, 0.0), (3711, 0.0), (3712, 0.0), (3713, 0.0), (3716, 0.0), (3718, 0.0), (3721, 0.0), (3727, 0.0), (3729, 0.0), (3731, 0.0), (3732, 0.0), (3738, 0.0), (3739, 0.0), (3742, 0.0), (3744, 0.0), (3747, 0.0), (3772, 0.0), (3773, 0.0), (3780, 0.0), (3783, 0.0), (3785, 0.0), (3786, 0.0), (3788, 0.0), (3789, 0.0), (3790, 0.0), (3792, 0.0), (3797, 0.0), (3803, 0.0), (3805, 0.0), (3809, 0.0), (3811, 0.0), (3814, 0.0), (3817, 0.0), (3823, 0.0), (3825, 0.0), (3827, 0.0), (3831, 0.0), (3834, 0.0), (3838, 0.0), (3843, 0.0), (3846, 0.0), (3847, 0.0), (3853, 0.0), (3855, 0.0), (3858, 0.0), (3862, 0.0), (3863, 0.0), (3871, 0.0), (3872, 0.0), (3877, 0.0), (3887, 0.0), (3889, 0.0), (3890, 0.0), (3892, 0.0), (3893, 0.0), (3896, 0.0), (3897, 0.0), (3898, 0.0), (3900, 0.0), (3909, 0.0), (3910, 0.0), (3911, 0.0), (3913, 0.0), (3915, 0.0), (3917, 0.0), (3918, 0.0), (3921, 0.0), (3922, 0.0), (3927, 0.0), (3930, 0.0), (3932, 0.0), (3933, 0.0), (3937, 0.0), (3938, 0.0), (3939, 0.0), (3944, 0.0), (3946, 0.0), (3947, 0.0), (3949, 0.0), (3950, 0.0), (3951, 0.0), (3952, 0.0), (3954, 0.0), (3958, 0.0), (3961, 0.0), (3963, 0.0), (3967, 0.0), (3969, 0.0), (3971, 0.0), (3973, 0.0), (3977, 0.0), (3978, 0.0), (3979, 0.0), (3980, 0.0), (3989, 0.0), (3990, 0.0), (3992, 0.0), (3997, 0.0), (3999, 0.0), (4001, 0.0), (4002, 0.0), (4005, 0.0), (4007, 0.0), (4008, 0.0), (4009, 0.0), (4010, 0.0), (4015, 0.0), (4018, 0.0), (4019, 0.0), (4020, 0.0), (4021, 0.0), (4023, 0.0), (4025, 0.0), (4026, 0.0), (4031, 0.0), (4034, 0.0), (4035, 0.0), (4036, 0.0), (4038, 0.0), (4043, 0.0), (4044, 0.0), (4046, 0.0), (4047, 0.0), (4051, 0.0), (4056, 0.0), (4058, 0.0), (4059, 0.0), (4060, 0.0), (4063, 0.0), (4064, 0.0), (4065, 0.0), (4066, 0.0), (4067, 0.0), (4068, 0.0), (4074, 0.0), (4075, 0.0), (4076, 0.0), (4082, 0.0), (4086, 0.0), (4087, 0.0), (4089, 0.0), (4090, 0.0), (4091, 0.0), (4092, 0.0), (4094, 0.0), (4095, 0.0), (4100, 0.0), (4101, 0.0), (4102, 0.0), (4112, 0.0), (4116, 0.0), (4118, 0.0), (4121, 0.0), (4122, 0.0), (4123, 0.0), (4130, 0.0), (4133, 0.0), (4137, 0.0), (4138, 0.0), (4139, 0.0), (4140, 0.0), (4141, 0.0), (4142, 0.0), (4147, 0.0), (4148, 0.0), (4150, 0.0), (4154, 0.0), (4158, 0.0), (4165, 0.0), (4166, 0.0), (4168, 0.0), (4169, 0.0), (4171, 0.0), (4177, 0.0), (4178, 0.0), (4179, 0.0), (4181, 0.0), (4184, 0.0), (4185, 0.0), (4186, 0.0), (4188, 0.0), (4190, 0.0), (4195, 0.0), (4196, 0.0), (4199, 0.0), (4203, 0.0), (4205, 0.0), (4206, 0.0), (4210, 0.0), (4212, 0.0), (4213, 0.0), (4214, 0.0), (4217, 0.0), (4219, 0.0), (4226, 0.0), (4232, 0.0), (4234, 0.0), (4235, 0.0), (4236, 0.0), (4242, 0.0), (4247, 0.0), (4249, 0.0), (4252, 0.0), (4255, 0.0), (4257, 0.0), (4268, 0.0), (4271, 0.0), (4278, 0.0), (4280, 0.0), (4285, 0.0), (4288, 0.0), (4290, 0.0), (4292, 0.0), (4296, 0.0), (4299, 0.0), (4300, 0.0), (4304, 0.0), (4306, 0.0), (4308, 0.0), (4311, 0.0), (4313, 0.0), (4314, 0.0), (4318, 0.0), (4322, 0.0), (4323, 0.0), (4324, 0.0), (4329, 0.0), (4330, 0.0), (4333, 0.0), (4336, 0.0), (4341, 0.0), (4342, 0.0), (4345, 0.0), (4346, 0.0), (4354, 0.0), (4357, 0.0), (4358, 0.0), (4360, 0.0), (4361, 0.0), (4362, 0.0), (4363, 0.0), (4370, 0.0), (4372, 0.0), (4376, 0.0), (4377, 0.0), (4384, 0.0), (4385, 0.0), (4389, 0.0), (4396, 0.0), (4400, 0.0), (4404, 0.0), (4405, 0.0), (4406, 0.0), (4407, 0.0), (4409, 0.0), (4411, 0.0), (4413, 0.0), (4415, 0.0), (4416, 0.0), (4417, 0.0), (4419, 0.0), (4420, 0.0), (4421, 0.0), (4424, 0.0), (4426, 0.0), (4429, 0.0), (4430, 0.0), (4431, 0.0), (4433, 0.0), (4434, 0.0), (4436, 0.0), (4438, 0.0), (4443, 0.0), (4444, 0.0), (4445, 0.0), (4446, 0.0), (4447, 0.0), (4449, 0.0), (4451, 0.0), (4452, 0.0), (4453, 0.0), (4455, 0.0), (4456, 0.0), (4458, 0.0), (4459, 0.0), (4463, 0.0), (4464, 0.0), (4467, 0.0), (4469, 0.0), (4471, 0.0), (4472, 0.0), (4476, 0.0), (4478, 0.0), (4481, 0.0), (4484, 0.0), (4485, 0.0), (4486, 0.0), (4488, 0.0), (4490, 0.0), (4492, 0.0), (4493, 0.0), (4494, 0.0), (4495, 0.0), (4502, 0.0), (4503, 0.0), (4510, 0.0), (4511, 0.0), (4512, 0.0), (4514, 0.0), (4517, 0.0), (4519, 0.0), (4520, 0.0), (4523, 0.0), (4525, 0.0), (4529, 0.0), (4530, 0.0), (4531, 0.0), (4532, 0.0), (4533, 0.0), (4537, 0.0), (4547, 0.0), (4548, 0.0), (4551, 0.0), (4552, 0.0), (4556, 0.0), (4560, 0.0), (4561, 0.0), (4566, 0.0), (4567, 0.0), (4569, 0.0), (4570, 0.0), (4574, 0.0), (4575, 0.0), (4576, 0.0), (4577, 0.0), (4578, 0.0), (4581, 0.0), (4582, 0.0), (4586, 0.0), (4589, 0.0), (4590, 0.0), (4591, 0.0), (4596, 0.0), (4598, 0.0), (4600, 0.0), (4602, 0.0), (4603, 0.0), (4606, 0.0), (4607, 0.0), (4612, 0.0), (4614, 0.0), (4615, 0.0), (4616, 0.0), (4618, 0.0), (4619, 0.0), (4624, 0.0), (4627, 0.0), (4628, 0.0), (4629, 0.0), (4630, 0.0), (4632, 0.0), (4633, 0.0), (4634, 0.0), (4636, 0.0), (4640, 0.0), (4641, 0.0), (4643, 0.0), (4644, 0.0), (4645, 0.0), (4652, 0.0), (4653, 0.0), (4657, 0.0), (4660, 0.0), (4662, 0.0), (4667, 0.0), (4671, 0.0), (4674, 0.0), (4680, 0.0), (4681, 0.0), (4682, 0.0), (4683, 0.0), (4684, 0.0), (4686, 0.0), (4687, 0.0), (4690, 0.0), (4692, 0.0), (4697, 0.0), (4698, 0.0), (4702, 0.0), (4703, 0.0), (4709, 0.0), (4710, 0.0), (4711, 0.0), (4712, 0.0), (4713, 0.0), (4714, 0.0), (4725, 0.0), (4729, 0.0), (4738, 0.0), (4739, 0.0), (4746, 0.0), (4747, 0.0), (4748, 0.0), (4751, 0.0), (4752, 0.0), (4753, 0.0), (4755, 0.0), (4760, 0.0), (4761, 0.0), (4762, 0.0), (4765, 0.0), (4770, 0.0), (4771, 0.0), (4773, 0.0), (4775, 0.0), (4777, 0.0), (4779, 0.0), (4780, 0.0), (4781, 0.0), (4783, 0.0), (4786, 0.0), (4789, 0.0), (4791, 0.0), (4792, 0.0), (4794, 0.0), (4797, 0.0), (4800, 0.0), (4801, 0.0), (4802, 0.0)]\n"
          ]
        }
      ]
    },
    {
      "cell_type": "code",
      "source": [
        "#print the name of similar movies based on the index\n",
        "print('Movie suggested for you: \\n')\n",
        "\n",
        "i=1\n",
        "for movie in sorted_similarity_movies:\n",
        "    index=movie[0]\n",
        "    title_from_index = movie_data[movie_data.index==index]['title'].values[0]\n",
        "    if (i<30):\n",
        "        print(i,'.',title_from_index)\n",
        "        i+=1"
      ],
      "metadata": {
        "colab": {
          "base_uri": "https://localhost:8080/"
        },
        "id": "InpKB7cyRwA5",
        "outputId": "2f82d60b-31e3-4ea0-d229-e0b1ffb05b69"
      },
      "execution_count": 35,
      "outputs": [
        {
          "output_type": "stream",
          "name": "stdout",
          "text": [
            "Movie suggested for you: \n",
            "\n",
            "1 . Avatar\n",
            "2 . Cargo\n",
            "3 . Space Dogs\n",
            "4 . Aliens\n",
            "5 . Jason X\n",
            "6 . Space Cowboys\n",
            "7 . Alien\n",
            "8 . Zathura: A Space Adventure\n",
            "9 . Gravity\n",
            "10 . Guardians of the Galaxy\n",
            "11 . Trekkies\n",
            "12 . Pocahontas\n",
            "13 . Moonraker\n",
            "14 . The Terminator\n",
            "15 . Space Chimps\n",
            "16 . Lost in Space\n",
            "17 . Star Trek\n",
            "18 . Planet of the Apes\n",
            "19 . Muppets from Space\n",
            "20 . Wing Commander\n",
            "21 . The Astronaut's Wife\n",
            "22 . In the Shadow of the Moon\n",
            "23 . Event Horizon\n",
            "24 . Crocodile Dundee\n",
            "25 . Lockout\n",
            "26 . Silent Running\n",
            "27 . Titan A.E.\n",
            "28 . John Carter\n",
            "29 . Terminator Genisys\n"
          ]
        }
      ]
    },
    {
      "cell_type": "markdown",
      "source": [
        "# **Building the Movie Recommender System**"
      ],
      "metadata": {
        "id": "9SUtbcKzR8Og"
      }
    },
    {
      "cell_type": "code",
      "source": [
        "movie_name = input(\"Enter your feature movie name: \")"
      ],
      "metadata": {
        "colab": {
          "base_uri": "https://localhost:8080/"
        },
        "id": "COBpYHvwR4o6",
        "outputId": "9da147ed-90d8-447f-dd8e-94ef9a2688a0"
      },
      "execution_count": 36,
      "outputs": [
        {
          "name": "stdout",
          "output_type": "stream",
          "text": [
            "Enter your feature movie name: iron man\n"
          ]
        }
      ]
    },
    {
      "cell_type": "code",
      "source": [
        "list_of_all_title = movie_data['title'].tolist()"
      ],
      "metadata": {
        "id": "_BVvRB1ASKYT"
      },
      "execution_count": 37,
      "outputs": []
    },
    {
      "cell_type": "code",
      "source": [
        "find_close_match = difflib.get_close_matches(movie_name,list_of_all_title)"
      ],
      "metadata": {
        "id": "e7WxermySLgi"
      },
      "execution_count": 38,
      "outputs": []
    },
    {
      "cell_type": "code",
      "source": [
        "close_match=find_close_match[0]"
      ],
      "metadata": {
        "id": "xxG3BymRSO0q"
      },
      "execution_count": 39,
      "outputs": []
    },
    {
      "cell_type": "code",
      "source": [
        "index_of_the_movie = movie_data[movie_data.title == close_match]['index'].values[0]\n"
      ],
      "metadata": {
        "id": "hoHu4yGpSRrr"
      },
      "execution_count": 40,
      "outputs": []
    },
    {
      "cell_type": "code",
      "source": [
        "\n",
        "similarity_score = list(enumerate(similarity[index_of_the_movie]))\n"
      ],
      "metadata": {
        "id": "XctbvkNnSWbj"
      },
      "execution_count": 41,
      "outputs": []
    },
    {
      "cell_type": "code",
      "source": [
        "sorted_similarity_movies = sorted(similarity_score, key = lambda x:x[1], reverse=True )"
      ],
      "metadata": {
        "id": "ar8wsDu1SaO0"
      },
      "execution_count": 42,
      "outputs": []
    },
    {
      "cell_type": "code",
      "source": [
        "#print the name of similar movies based on the index\n",
        "print('Movie suggested for you: \\n')\n",
        "\n",
        "i=1\n",
        "for movie in sorted_similarity_movies:\n",
        "    index=movie[0]\n",
        "    title_from_index = movie_data[movie_data.index==index]['title'].values[0]\n",
        "    if (i<11):\n",
        "        print(i,'.',title_from_index)\n",
        "        i+=1"
      ],
      "metadata": {
        "colab": {
          "base_uri": "https://localhost:8080/"
        },
        "id": "C2VXuIiKSdx6",
        "outputId": "687337ac-8cec-43e6-8139-11ec77de0449"
      },
      "execution_count": 43,
      "outputs": [
        {
          "output_type": "stream",
          "name": "stdout",
          "text": [
            "Movie suggested for you: \n",
            "\n",
            "1 . Iron Man\n",
            "2 . Iron Man 2\n",
            "3 . Iron Man 3\n",
            "4 . Ant-Man\n",
            "5 . X-Men\n",
            "6 . Captain America: The Winter Soldier\n",
            "7 . The Avengers\n",
            "8 . Made\n",
            "9 . X-Men: Apocalypse\n",
            "10 . Avengers: Age of Ultron\n"
          ]
        }
      ]
    },
    {
      "cell_type": "markdown",
      "source": [
        "# THE END\n",
        "\n",
        "---\n",
        "\n",
        "\n",
        "\n",
        "\n"
      ],
      "metadata": {
        "id": "gkVMtALMSki5"
      }
    }
  ]
}